{
 "cells": [
  {
   "cell_type": "markdown",
   "id": "a396ebe4-b665-4d4d-8d76-f620c42164f1",
   "metadata": {},
   "source": [
    "## Preparing the environment"
   ]
  },
  {
   "cell_type": "code",
   "execution_count": null,
   "id": "0893dd4a-4f5e-4e63-932d-df0940388756",
   "metadata": {},
   "outputs": [],
   "source": [
    "!pip install sagemaker"
   ]
  },
  {
   "cell_type": "code",
   "execution_count": null,
   "id": "81494b91-5f5d-410d-986c-9ebf3a69cf3c",
   "metadata": {},
   "outputs": [],
   "source": [
    "# Install the fmeval package\n",
    "\n",
    "!rm -Rf ~/.cache/pip/*\n",
    "!pip install fmeval --upgrade-strategy only-if-needed --force-reinstall\n"
   ]
  },
  {
   "cell_type": "code",
   "execution_count": null,
   "id": "3273b25d-441b-4397-94c4-be2cdd16baec",
   "metadata": {},
   "outputs": [],
   "source": [
    "!rm /opt/conda/lib/python3.10/site-packages/pytz-2023.3.post1.dist-info -r\n",
    "!rm /opt/conda/lib/python3.10/site-packages/pytz-2023.3.dist-info -r"
   ]
  },
  {
   "cell_type": "code",
   "execution_count": null,
   "id": "7fd075d2-be20-45f4-b9f3-5e6e7e5a10af",
   "metadata": {},
   "outputs": [],
   "source": [
    "!pip3 install --force-reinstall pandas==2.1.4"
   ]
  },
  {
   "cell_type": "code",
   "execution_count": null,
   "id": "8351c413-f750-442f-9f27-9d0d01f1df1d",
   "metadata": {},
   "outputs": [],
   "source": []
  }
 ],
 "metadata": {
  "kernelspec": {
   "display_name": "Python 3 (ipykernel)",
   "language": "python",
   "name": "python3"
  },
  "language_info": {
   "codemirror_mode": {
    "name": "ipython",
    "version": 3
   },
   "file_extension": ".py",
   "mimetype": "text/x-python",
   "name": "python",
   "nbconvert_exporter": "python",
   "pygments_lexer": "ipython3",
   "version": "3.10.13"
  }
 },
 "nbformat": 4,
 "nbformat_minor": 5
}
