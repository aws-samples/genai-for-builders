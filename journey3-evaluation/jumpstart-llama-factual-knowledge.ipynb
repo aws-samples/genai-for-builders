{
 "cells": [
  {
   "cell_type": "markdown",
   "id": "4f06733e-e31b-428e-ab4f-d02e4b9f1ef8",
   "metadata": {},
   "source": [
    "### Evaluate Model - TBD"
   ]
  },
  {
   "cell_type": "markdown",
   "id": "6e40358f-65d1-40d4-8464-f7ace0559715",
   "metadata": {},
   "source": [
    "**Environment**\n",
    "\n",
    "- Base Python 3.0 kernel\n",
    "- Studio Notebook instance type: ml.m5.xlarge"
   ]
  },
  {
   "cell_type": "markdown",
   "id": "f11c5f22-e1cd-40c4-83ea-f0b8466d8300",
   "metadata": {},
   "source": [
    "### Setup"
   ]
  },
  {
   "cell_type": "code",
   "execution_count": 19,
   "id": "7a8cc2b5-e090-4e95-a20a-217d32c2fb49",
   "metadata": {
    "tags": []
   },
   "outputs": [
    {
     "name": "stdout",
     "output_type": "stream",
     "text": [
      "Collecting fmeval\n",
      "  Downloading fmeval-0.3.0-py3-none-any.whl.metadata (5.7 kB)\n",
      "Collecting IPython (from fmeval)\n",
      "  Downloading ipython-8.20.0-py3-none-any.whl.metadata (5.9 kB)\n",
      "Collecting bert-score<0.4.0,>=0.3.13 (from fmeval)\n",
      "  Downloading bert_score-0.3.13-py3-none-any.whl (61 kB)\n",
      "\u001b[2K     \u001b[90m━━━━━━━━━━━━━━━━━━━━━━━━━━━━━━━━━━━━━━━\u001b[0m \u001b[32m61.1/61.1 kB\u001b[0m \u001b[31m804.7 kB/s\u001b[0m eta \u001b[36m0:00:00\u001b[0ma \u001b[36m0:00:01\u001b[0m\n",
      "\u001b[?25hCollecting detoxify<0.6.0,>=0.5.1 (from fmeval)\n",
      "  Downloading detoxify-0.5.1-py3-none-any.whl (12 kB)\n",
      "Collecting evaluate<0.5.0,>=0.4.0 (from fmeval)\n",
      "  Downloading evaluate-0.4.1-py3-none-any.whl.metadata (9.4 kB)\n",
      "Collecting ipykernel<7.0.0,>=6.26.0 (from fmeval)\n",
      "  Downloading ipykernel-6.28.0-py3-none-any.whl.metadata (6.0 kB)\n",
      "Collecting jiwer<4.0.0,>=3.0.3 (from fmeval)\n",
      "  Downloading jiwer-3.0.3-py3-none-any.whl.metadata (2.6 kB)\n",
      "Collecting markdown (from fmeval)\n",
      "  Downloading Markdown-3.5.1-py3-none-any.whl.metadata (7.1 kB)\n",
      "Collecting matplotlib<4.0.0,>=3.8.0 (from fmeval)\n",
      "  Downloading matplotlib-3.8.2-cp310-cp310-manylinux_2_17_x86_64.manylinux2014_x86_64.whl.metadata (5.8 kB)\n",
      "Collecting mypy-boto3-bedrock<2.0.0,>=1.33.2 (from fmeval)\n",
      "  Downloading mypy_boto3_bedrock-1.34.0-py3-none-any.whl.metadata (13 kB)\n",
      "Collecting nltk<4.0.0,>=3.8.1 (from fmeval)\n",
      "  Downloading nltk-3.8.1-py3-none-any.whl (1.5 MB)\n",
      "\u001b[2K     \u001b[90m━━━━━━━━━━━━━━━━━━━━━━━━━━━━━━━━━━━━━━━━\u001b[0m \u001b[32m1.5/1.5 MB\u001b[0m \u001b[31m13.3 MB/s\u001b[0m eta \u001b[36m0:00:00\u001b[0m:00:01\u001b[0m\n",
      "\u001b[?25hCollecting pandas (from fmeval)\n",
      "  Downloading pandas-2.1.4-cp310-cp310-manylinux_2_17_x86_64.manylinux2014_x86_64.whl.metadata (18 kB)\n",
      "Collecting pyarrow (from fmeval)\n",
      "  Downloading pyarrow-14.0.2-cp310-cp310-manylinux_2_28_x86_64.whl.metadata (3.0 kB)\n",
      "Collecting pyfunctional==1.4.3 (from fmeval)\n",
      "  Downloading PyFunctional-1.4.3-py3-none-any.whl (49 kB)\n",
      "\u001b[2K     \u001b[90m━━━━━━━━━━━━━━━━━━━━━━━━━━━━━━━━━━━━━━━\u001b[0m \u001b[32m49.5/49.5 kB\u001b[0m \u001b[31m706.9 kB/s\u001b[0m eta \u001b[36m0:00:00\u001b[0ma \u001b[36m0:00:01\u001b[0m\n",
      "\u001b[?25hCollecting ray==2.7.1 (from fmeval)\n",
      "  Downloading ray-2.7.1-cp310-cp310-manylinux2014_x86_64.whl.metadata (13 kB)\n",
      "Collecting rouge-score<0.2.0,>=0.1.2 (from fmeval)\n",
      "  Downloading rouge_score-0.1.2.tar.gz (17 kB)\n",
      "  Preparing metadata (setup.py) ... \u001b[?25ldone\n",
      "\u001b[?25hCollecting sagemaker<3.0.0,>=2.199.0 (from fmeval)\n",
      "  Downloading sagemaker-2.203.0-py3-none-any.whl.metadata (13 kB)\n",
      "Collecting scikit-learn<2.0.0,>=1.3.1 (from fmeval)\n",
      "  Downloading scikit_learn-1.3.2-cp310-cp310-manylinux_2_17_x86_64.manylinux2014_x86_64.whl.metadata (11 kB)\n",
      "Collecting semantic-version==2.10.0 (from fmeval)\n",
      "  Downloading semantic_version-2.10.0-py2.py3-none-any.whl (15 kB)\n",
      "Collecting testbook<0.5.0,>=0.4.2 (from fmeval)\n",
      "  Downloading testbook-0.4.2-py3-none-any.whl (11 kB)\n",
      "Collecting torch!=2.0.1,!=2.1.0,>=2.0.0 (from fmeval)\n",
      "  Downloading torch-2.1.2-cp310-cp310-manylinux1_x86_64.whl.metadata (25 kB)\n",
      "Collecting transformers==4.22.1 (from fmeval)\n",
      "  Downloading transformers-4.22.1-py3-none-any.whl (4.9 MB)\n",
      "\u001b[2K     \u001b[90m━━━━━━━━━━━━━━━━━━━━━━━━━━━━━━━━━━━━━━━━\u001b[0m \u001b[32m4.9/4.9 MB\u001b[0m \u001b[31m31.8 MB/s\u001b[0m eta \u001b[36m0:00:00\u001b[0m:00:01\u001b[0m\n",
      "\u001b[?25hCollecting urllib3==1.26.18 (from fmeval)\n",
      "  Downloading urllib3-1.26.18-py2.py3-none-any.whl.metadata (48 kB)\n",
      "\u001b[2K     \u001b[90m━━━━━━━━━━━━━━━━━━━━━━━━━━━━━━━━━━━━━━━\u001b[0m \u001b[32m48.9/48.9 kB\u001b[0m \u001b[31m621.9 kB/s\u001b[0m eta \u001b[36m0:00:00\u001b[0ma \u001b[36m0:00:01\u001b[0m\n",
      "\u001b[?25hCollecting dill>=0.2.5 (from pyfunctional==1.4.3->fmeval)\n",
      "  Downloading dill-0.3.7-py3-none-any.whl.metadata (9.9 kB)\n",
      "Collecting tabulate<=1.0.0 (from pyfunctional==1.4.3->fmeval)\n",
      "  Downloading tabulate-0.9.0-py3-none-any.whl (35 kB)\n",
      "Collecting click>=7.0 (from ray==2.7.1->fmeval)\n",
      "  Downloading click-8.1.7-py3-none-any.whl.metadata (3.0 kB)\n",
      "Collecting filelock (from ray==2.7.1->fmeval)\n",
      "  Downloading filelock-3.13.1-py3-none-any.whl.metadata (2.8 kB)\n",
      "Collecting jsonschema (from ray==2.7.1->fmeval)\n",
      "  Downloading jsonschema-4.20.0-py3-none-any.whl.metadata (8.1 kB)\n",
      "Collecting msgpack<2.0.0,>=1.0.0 (from ray==2.7.1->fmeval)\n",
      "  Downloading msgpack-1.0.7-cp310-cp310-manylinux_2_17_x86_64.manylinux2014_x86_64.whl.metadata (9.1 kB)\n",
      "Collecting packaging (from ray==2.7.1->fmeval)\n",
      "  Downloading packaging-23.2-py3-none-any.whl.metadata (3.2 kB)\n",
      "Collecting protobuf!=3.19.5,>=3.15.3 (from ray==2.7.1->fmeval)\n",
      "  Downloading protobuf-4.25.1-cp37-abi3-manylinux2014_x86_64.whl.metadata (541 bytes)\n",
      "Collecting pyyaml (from ray==2.7.1->fmeval)\n",
      "  Downloading PyYAML-6.0.1-cp310-cp310-manylinux_2_17_x86_64.manylinux2014_x86_64.whl.metadata (2.1 kB)\n",
      "Collecting aiosignal (from ray==2.7.1->fmeval)\n",
      "  Downloading aiosignal-1.3.1-py3-none-any.whl (7.6 kB)\n",
      "Collecting frozenlist (from ray==2.7.1->fmeval)\n",
      "  Downloading frozenlist-1.4.1-cp310-cp310-manylinux_2_5_x86_64.manylinux1_x86_64.manylinux_2_17_x86_64.manylinux2014_x86_64.whl.metadata (12 kB)\n",
      "Collecting requests (from ray==2.7.1->fmeval)\n",
      "  Downloading requests-2.31.0-py3-none-any.whl.metadata (4.6 kB)\n",
      "Collecting numpy>=1.19.3 (from ray==2.7.1->fmeval)\n",
      "  Downloading numpy-1.26.3-cp310-cp310-manylinux_2_17_x86_64.manylinux2014_x86_64.whl.metadata (61 kB)\n",
      "\u001b[2K     \u001b[90m━━━━━━━━━━━━━━━━━━━━━━━━━━━━━━━━━━━━━━━\u001b[0m \u001b[32m61.2/61.2 kB\u001b[0m \u001b[31m991.9 kB/s\u001b[0m eta \u001b[36m0:00:00\u001b[0ma \u001b[36m0:00:01\u001b[0m\n",
      "\u001b[?25hCollecting huggingface-hub<1.0,>=0.9.0 (from transformers==4.22.1->fmeval)\n",
      "  Downloading huggingface_hub-0.20.2-py3-none-any.whl.metadata (12 kB)\n",
      "Collecting regex!=2019.12.17 (from transformers==4.22.1->fmeval)\n",
      "  Downloading regex-2023.12.25-cp310-cp310-manylinux_2_17_x86_64.manylinux2014_x86_64.whl.metadata (40 kB)\n",
      "\u001b[2K     \u001b[90m━━━━━━━━━━━━━━━━━━━━━━━━━━━━━━━━━━━━━━━\u001b[0m \u001b[32m40.9/40.9 kB\u001b[0m \u001b[31m543.5 kB/s\u001b[0m eta \u001b[36m0:00:00\u001b[0ma \u001b[36m0:00:01\u001b[0m\n",
      "\u001b[?25hCollecting tokenizers!=0.11.3,<0.13,>=0.11.1 (from transformers==4.22.1->fmeval)\n",
      "  Downloading tokenizers-0.12.1-cp310-cp310-manylinux_2_12_x86_64.manylinux2010_x86_64.whl (6.6 MB)\n",
      "\u001b[2K     \u001b[90m━━━━━━━━━━━━━━━━━━━━━━━━━━━━━━━━━━━━━━━━\u001b[0m \u001b[32m6.6/6.6 MB\u001b[0m \u001b[31m39.3 MB/s\u001b[0m eta \u001b[36m0:00:00\u001b[0m:00:01\u001b[0m\n",
      "\u001b[?25hCollecting tqdm>=4.27 (from transformers==4.22.1->fmeval)\n",
      "  Downloading tqdm-4.66.1-py3-none-any.whl.metadata (57 kB)\n",
      "\u001b[2K     \u001b[90m━━━━━━━━━━━━━━━━━━━━━━━━━━━━━━━━━━━━━━━\u001b[0m \u001b[32m57.6/57.6 kB\u001b[0m \u001b[31m986.5 kB/s\u001b[0m eta \u001b[36m0:00:00\u001b[0ma \u001b[36m0:00:01\u001b[0m\n",
      "\u001b[?25hCollecting sentencepiece>=0.1.94 (from detoxify<0.6.0,>=0.5.1->fmeval)\n",
      "  Downloading sentencepiece-0.1.99-cp310-cp310-manylinux_2_17_x86_64.manylinux2014_x86_64.whl (1.3 MB)\n",
      "\u001b[2K     \u001b[90m━━━━━━━━━━━━━━━━━━━━━━━━━━━━━━━━━━━━━━━━\u001b[0m \u001b[32m1.3/1.3 MB\u001b[0m \u001b[31m12.8 MB/s\u001b[0m eta \u001b[36m0:00:00\u001b[0m:00:01\u001b[0m\n",
      "\u001b[?25hCollecting datasets>=2.0.0 (from evaluate<0.5.0,>=0.4.0->fmeval)\n",
      "  Downloading datasets-2.16.1-py3-none-any.whl.metadata (20 kB)\n",
      "Collecting xxhash (from evaluate<0.5.0,>=0.4.0->fmeval)\n",
      "  Downloading xxhash-3.4.1-cp310-cp310-manylinux_2_17_x86_64.manylinux2014_x86_64.whl.metadata (12 kB)\n",
      "Collecting multiprocess (from evaluate<0.5.0,>=0.4.0->fmeval)\n",
      "  Downloading multiprocess-0.70.15-py310-none-any.whl.metadata (7.2 kB)\n",
      "Collecting fsspec>=2021.05.0 (from fsspec[http]>=2021.05.0->evaluate<0.5.0,>=0.4.0->fmeval)\n",
      "  Downloading fsspec-2023.12.2-py3-none-any.whl.metadata (6.8 kB)\n",
      "Collecting responses<0.19 (from evaluate<0.5.0,>=0.4.0->fmeval)\n",
      "  Downloading responses-0.18.0-py3-none-any.whl (38 kB)\n",
      "Collecting comm>=0.1.1 (from ipykernel<7.0.0,>=6.26.0->fmeval)\n",
      "  Downloading comm-0.2.1-py3-none-any.whl.metadata (3.7 kB)\n",
      "Collecting debugpy>=1.6.5 (from ipykernel<7.0.0,>=6.26.0->fmeval)\n",
      "  Downloading debugpy-1.8.0-cp310-cp310-manylinux_2_17_x86_64.manylinux2014_x86_64.whl.metadata (1.0 kB)\n",
      "Collecting jupyter-client>=6.1.12 (from ipykernel<7.0.0,>=6.26.0->fmeval)\n",
      "  Downloading jupyter_client-8.6.0-py3-none-any.whl.metadata (8.3 kB)\n",
      "Collecting jupyter-core!=5.0.*,>=4.12 (from ipykernel<7.0.0,>=6.26.0->fmeval)\n",
      "  Downloading jupyter_core-5.7.1-py3-none-any.whl.metadata (3.4 kB)\n",
      "Collecting matplotlib-inline>=0.1 (from ipykernel<7.0.0,>=6.26.0->fmeval)\n",
      "  Downloading matplotlib_inline-0.1.6-py3-none-any.whl (9.4 kB)\n",
      "Collecting nest-asyncio (from ipykernel<7.0.0,>=6.26.0->fmeval)\n",
      "  Downloading nest_asyncio-1.5.8-py3-none-any.whl.metadata (2.8 kB)\n",
      "Collecting psutil (from ipykernel<7.0.0,>=6.26.0->fmeval)\n",
      "  Downloading psutil-5.9.7-cp36-abi3-manylinux_2_12_x86_64.manylinux2010_x86_64.manylinux_2_17_x86_64.manylinux2014_x86_64.whl.metadata (21 kB)\n",
      "Collecting pyzmq>=24 (from ipykernel<7.0.0,>=6.26.0->fmeval)\n",
      "  Downloading pyzmq-25.1.2-cp310-cp310-manylinux_2_28_x86_64.whl.metadata (4.9 kB)\n",
      "Collecting tornado>=6.1 (from ipykernel<7.0.0,>=6.26.0->fmeval)\n",
      "  Downloading tornado-6.4-cp38-abi3-manylinux_2_5_x86_64.manylinux1_x86_64.manylinux_2_17_x86_64.manylinux2014_x86_64.whl.metadata (2.5 kB)\n",
      "Collecting traitlets>=5.4.0 (from ipykernel<7.0.0,>=6.26.0->fmeval)\n",
      "  Downloading traitlets-5.14.1-py3-none-any.whl.metadata (10 kB)\n",
      "Collecting decorator (from IPython->fmeval)\n",
      "  Downloading decorator-5.1.1-py3-none-any.whl (9.1 kB)\n",
      "Collecting jedi>=0.16 (from IPython->fmeval)\n",
      "  Downloading jedi-0.19.1-py2.py3-none-any.whl.metadata (22 kB)\n",
      "Collecting prompt-toolkit<3.1.0,>=3.0.41 (from IPython->fmeval)\n",
      "  Downloading prompt_toolkit-3.0.43-py3-none-any.whl.metadata (6.5 kB)\n",
      "Collecting pygments>=2.4.0 (from IPython->fmeval)\n",
      "  Downloading pygments-2.17.2-py3-none-any.whl.metadata (2.6 kB)\n",
      "Collecting stack-data (from IPython->fmeval)\n",
      "  Downloading stack_data-0.6.3-py3-none-any.whl.metadata (18 kB)\n",
      "Collecting exceptiongroup (from IPython->fmeval)\n",
      "  Downloading exceptiongroup-1.2.0-py3-none-any.whl.metadata (6.6 kB)\n",
      "Collecting pexpect>4.3 (from IPython->fmeval)\n",
      "  Downloading pexpect-4.9.0-py2.py3-none-any.whl.metadata (2.5 kB)\n",
      "Collecting rapidfuzz<4,>=3 (from jiwer<4.0.0,>=3.0.3->fmeval)\n",
      "  Downloading rapidfuzz-3.6.1-cp310-cp310-manylinux_2_17_x86_64.manylinux2014_x86_64.whl.metadata (11 kB)\n",
      "Collecting contourpy>=1.0.1 (from matplotlib<4.0.0,>=3.8.0->fmeval)\n",
      "  Downloading contourpy-1.2.0-cp310-cp310-manylinux_2_17_x86_64.manylinux2014_x86_64.whl.metadata (5.8 kB)\n",
      "Collecting cycler>=0.10 (from matplotlib<4.0.0,>=3.8.0->fmeval)\n",
      "  Downloading cycler-0.12.1-py3-none-any.whl.metadata (3.8 kB)\n",
      "Collecting fonttools>=4.22.0 (from matplotlib<4.0.0,>=3.8.0->fmeval)\n",
      "  Downloading fonttools-4.47.0-cp310-cp310-manylinux_2_17_x86_64.manylinux2014_x86_64.whl.metadata (157 kB)\n",
      "\u001b[2K     \u001b[90m━━━━━━━━━━━━━━━━━━━━━━━━━━━━━━━━━━━━━━━\u001b[0m \u001b[32m157.2/157.2 kB\u001b[0m \u001b[31m2.1 MB/s\u001b[0m eta \u001b[36m0:00:00\u001b[0m00:01\u001b[0m\n",
      "\u001b[?25hCollecting kiwisolver>=1.3.1 (from matplotlib<4.0.0,>=3.8.0->fmeval)\n",
      "  Downloading kiwisolver-1.4.5-cp310-cp310-manylinux_2_12_x86_64.manylinux2010_x86_64.whl.metadata (6.4 kB)\n",
      "Collecting pillow>=8 (from matplotlib<4.0.0,>=3.8.0->fmeval)\n",
      "  Downloading pillow-10.2.0-cp310-cp310-manylinux_2_28_x86_64.whl.metadata (9.7 kB)\n",
      "Collecting pyparsing>=2.3.1 (from matplotlib<4.0.0,>=3.8.0->fmeval)\n",
      "  Downloading pyparsing-3.1.1-py3-none-any.whl.metadata (5.1 kB)\n",
      "Collecting python-dateutil>=2.7 (from matplotlib<4.0.0,>=3.8.0->fmeval)\n",
      "  Downloading python_dateutil-2.8.2-py2.py3-none-any.whl (247 kB)\n",
      "\u001b[2K     \u001b[90m━━━━━━━━━━━━━━━━━━━━━━━━━━━━━━━━━━━━━━━\u001b[0m \u001b[32m247.7/247.7 kB\u001b[0m \u001b[31m3.6 MB/s\u001b[0m eta \u001b[36m0:00:00\u001b[0m00:01\u001b[0m\n",
      "\u001b[?25hCollecting typing-extensions>=4.1.0 (from mypy-boto3-bedrock<2.0.0,>=1.33.2->fmeval)\n",
      "  Downloading typing_extensions-4.9.0-py3-none-any.whl.metadata (3.0 kB)\n",
      "Collecting joblib (from nltk<4.0.0,>=3.8.1->fmeval)\n",
      "  Downloading joblib-1.3.2-py3-none-any.whl.metadata (5.4 kB)\n",
      "Collecting pytz>=2020.1 (from pandas->fmeval)\n",
      "  Downloading pytz-2023.3.post1-py2.py3-none-any.whl.metadata (22 kB)\n",
      "Collecting tzdata>=2022.1 (from pandas->fmeval)\n",
      "  Downloading tzdata-2023.4-py2.py3-none-any.whl.metadata (1.4 kB)\n",
      "Collecting absl-py (from rouge-score<0.2.0,>=0.1.2->fmeval)\n",
      "  Downloading absl_py-2.0.0-py3-none-any.whl.metadata (2.3 kB)\n",
      "Collecting six>=1.14.0 (from rouge-score<0.2.0,>=0.1.2->fmeval)\n",
      "  Downloading six-1.16.0-py2.py3-none-any.whl (11 kB)\n",
      "Collecting attrs<24,>=23.1.0 (from sagemaker<3.0.0,>=2.199.0->fmeval)\n",
      "  Downloading attrs-23.2.0-py3-none-any.whl.metadata (9.5 kB)\n",
      "Collecting boto3<2.0,>=1.33.3 (from sagemaker<3.0.0,>=2.199.0->fmeval)\n",
      "  Downloading boto3-1.34.15-py3-none-any.whl.metadata (6.6 kB)\n",
      "Collecting cloudpickle==2.2.1 (from sagemaker<3.0.0,>=2.199.0->fmeval)\n",
      "  Downloading cloudpickle-2.2.1-py3-none-any.whl (25 kB)\n",
      "Collecting google-pasta (from sagemaker<3.0.0,>=2.199.0->fmeval)\n",
      "  Downloading google_pasta-0.2.0-py3-none-any.whl (57 kB)\n",
      "\u001b[2K     \u001b[90m━━━━━━━━━━━━━━━━━━━━━━━━━━━━━━━━━━━━━━━\u001b[0m \u001b[32m57.5/57.5 kB\u001b[0m \u001b[31m841.6 kB/s\u001b[0m eta \u001b[36m0:00:00\u001b[0ma \u001b[36m0:00:01\u001b[0m\n",
      "\u001b[?25hCollecting smdebug-rulesconfig==1.0.1 (from sagemaker<3.0.0,>=2.199.0->fmeval)\n",
      "  Downloading smdebug_rulesconfig-1.0.1-py2.py3-none-any.whl (20 kB)\n",
      "Collecting importlib-metadata<7.0,>=1.4.0 (from sagemaker<3.0.0,>=2.199.0->fmeval)\n",
      "  Downloading importlib_metadata-6.11.0-py3-none-any.whl.metadata (4.9 kB)\n",
      "Collecting pathos (from sagemaker<3.0.0,>=2.199.0->fmeval)\n",
      "  Downloading pathos-0.3.1-py3-none-any.whl.metadata (11 kB)\n",
      "Collecting schema (from sagemaker<3.0.0,>=2.199.0->fmeval)\n",
      "  Downloading schema-0.7.5-py2.py3-none-any.whl (17 kB)\n",
      "Collecting platformdirs (from sagemaker<3.0.0,>=2.199.0->fmeval)\n",
      "  Downloading platformdirs-4.1.0-py3-none-any.whl.metadata (11 kB)\n",
      "Collecting tblib<3,>=1.7.0 (from sagemaker<3.0.0,>=2.199.0->fmeval)\n",
      "  Downloading tblib-2.0.0-py3-none-any.whl.metadata (25 kB)\n",
      "Collecting uvicorn==0.22.0 (from sagemaker<3.0.0,>=2.199.0->fmeval)\n",
      "  Downloading uvicorn-0.22.0-py3-none-any.whl (58 kB)\n",
      "\u001b[2K     \u001b[90m━━━━━━━━━━━━━━━━━━━━━━━━━━━━━━━━━━━━━━━\u001b[0m \u001b[32m58.3/58.3 kB\u001b[0m \u001b[31m883.4 kB/s\u001b[0m eta \u001b[36m0:00:00\u001b[0ma \u001b[36m0:00:01\u001b[0m\n",
      "\u001b[?25hCollecting fastapi==0.95.2 (from sagemaker<3.0.0,>=2.199.0->fmeval)\n",
      "  Downloading fastapi-0.95.2-py3-none-any.whl.metadata (24 kB)\n",
      "Collecting docker (from sagemaker<3.0.0,>=2.199.0->fmeval)\n",
      "  Downloading docker-7.0.0-py3-none-any.whl.metadata (3.5 kB)\n",
      "Collecting pydantic!=1.7,!=1.7.1,!=1.7.2,!=1.7.3,!=1.8,!=1.8.1,<2.0.0,>=1.6.2 (from fastapi==0.95.2->sagemaker<3.0.0,>=2.199.0->fmeval)\n",
      "  Downloading pydantic-1.10.13-cp310-cp310-manylinux_2_17_x86_64.manylinux2014_x86_64.whl.metadata (149 kB)\n",
      "\u001b[2K     \u001b[90m━━━━━━━━━━━━━━━━━━━━━━━━━━━━━━━━━━━━━━━\u001b[0m \u001b[32m149.6/149.6 kB\u001b[0m \u001b[31m2.1 MB/s\u001b[0m eta \u001b[36m0:00:00\u001b[0ma \u001b[36m0:00:01\u001b[0m\n",
      "\u001b[?25hCollecting starlette<0.28.0,>=0.27.0 (from fastapi==0.95.2->sagemaker<3.0.0,>=2.199.0->fmeval)\n",
      "  Downloading starlette-0.27.0-py3-none-any.whl.metadata (5.8 kB)\n",
      "Collecting h11>=0.8 (from uvicorn==0.22.0->sagemaker<3.0.0,>=2.199.0->fmeval)\n",
      "  Downloading h11-0.14.0-py3-none-any.whl (58 kB)\n",
      "\u001b[2K     \u001b[90m━━━━━━━━━━━━━━━━━━━━━━━━━━━━━━━━━━━━━━━\u001b[0m \u001b[32m58.3/58.3 kB\u001b[0m \u001b[31m973.2 kB/s\u001b[0m eta \u001b[36m0:00:00\u001b[0ma \u001b[36m0:00:01\u001b[0m\n",
      "\u001b[?25hCollecting scipy>=1.5.0 (from scikit-learn<2.0.0,>=1.3.1->fmeval)\n",
      "  Downloading scipy-1.11.4-cp310-cp310-manylinux_2_17_x86_64.manylinux2014_x86_64.whl.metadata (60 kB)\n",
      "\u001b[2K     \u001b[90m━━━━━━━━━━━━━━━━━━━━━━━━━━━━━━━━━━━━━━━\u001b[0m \u001b[32m60.4/60.4 kB\u001b[0m \u001b[31m996.0 kB/s\u001b[0m eta \u001b[36m0:00:00\u001b[0ma \u001b[36m0:00:01\u001b[0m\n",
      "\u001b[?25hCollecting threadpoolctl>=2.0.0 (from scikit-learn<2.0.0,>=1.3.1->fmeval)\n",
      "  Downloading threadpoolctl-3.2.0-py3-none-any.whl.metadata (10.0 kB)\n",
      "Collecting nbformat>=5.0.4 (from testbook<0.5.0,>=0.4.2->fmeval)\n",
      "  Downloading nbformat-5.9.2-py3-none-any.whl.metadata (3.4 kB)\n",
      "Collecting nbclient>=0.4.0 (from testbook<0.5.0,>=0.4.2->fmeval)\n",
      "  Downloading nbclient-0.9.0-py3-none-any.whl.metadata (7.8 kB)\n",
      "Collecting sympy (from torch!=2.0.1,!=2.1.0,>=2.0.0->fmeval)\n",
      "  Downloading sympy-1.12-py3-none-any.whl (5.7 MB)\n",
      "\u001b[2K     \u001b[90m━━━━━━━━━━━━━━━━━━━━━━━━━━━━━━━━━━━━━━━━\u001b[0m \u001b[32m5.7/5.7 MB\u001b[0m \u001b[31m40.7 MB/s\u001b[0m eta \u001b[36m0:00:00\u001b[0m:00:01\u001b[0m\n",
      "\u001b[?25hCollecting networkx (from torch!=2.0.1,!=2.1.0,>=2.0.0->fmeval)\n",
      "  Downloading networkx-3.2.1-py3-none-any.whl.metadata (5.2 kB)\n",
      "Collecting jinja2 (from torch!=2.0.1,!=2.1.0,>=2.0.0->fmeval)\n",
      "  Downloading Jinja2-3.1.2-py3-none-any.whl (133 kB)\n",
      "\u001b[2K     \u001b[90m━━━━━━━━━━━━━━━━━━━━━━━━━━━━━━━━━━━━━━━\u001b[0m \u001b[32m133.1/133.1 kB\u001b[0m \u001b[31m1.7 MB/s\u001b[0m eta \u001b[36m0:00:00\u001b[0ma \u001b[36m0:00:01\u001b[0m\n",
      "\u001b[?25hCollecting nvidia-cuda-nvrtc-cu12==12.1.105 (from torch!=2.0.1,!=2.1.0,>=2.0.0->fmeval)\n",
      "  Downloading nvidia_cuda_nvrtc_cu12-12.1.105-py3-none-manylinux1_x86_64.whl (23.7 MB)\n",
      "\u001b[2K     \u001b[90m━━━━━━━━━━━━━━━━━━━━━━━━━━━━━━━━━━━━━━━━\u001b[0m \u001b[32m23.7/23.7 MB\u001b[0m \u001b[31m35.0 MB/s\u001b[0m eta \u001b[36m0:00:00\u001b[0m00:01\u001b[0m00:01\u001b[0m\n",
      "\u001b[?25hCollecting nvidia-cuda-runtime-cu12==12.1.105 (from torch!=2.0.1,!=2.1.0,>=2.0.0->fmeval)\n",
      "  Downloading nvidia_cuda_runtime_cu12-12.1.105-py3-none-manylinux1_x86_64.whl (823 kB)\n",
      "\u001b[2K     \u001b[90m━━━━━━━━━━━━━━━━━━━━━━━━━━━━━━━━━━━━━━\u001b[0m \u001b[32m823.6/823.6 kB\u001b[0m \u001b[31m10.0 MB/s\u001b[0m eta \u001b[36m0:00:00\u001b[0m00:01\u001b[0m\n",
      "\u001b[?25hCollecting nvidia-cuda-cupti-cu12==12.1.105 (from torch!=2.0.1,!=2.1.0,>=2.0.0->fmeval)\n",
      "  Downloading nvidia_cuda_cupti_cu12-12.1.105-py3-none-manylinux1_x86_64.whl (14.1 MB)\n",
      "\u001b[2K     \u001b[90m━━━━━━━━━━━━━━━━━━━━━━━━━━━━━━━━━━━━━━━━\u001b[0m \u001b[32m14.1/14.1 MB\u001b[0m \u001b[31m43.6 MB/s\u001b[0m eta \u001b[36m0:00:00\u001b[0m00:01\u001b[0m00:01\u001b[0m\n",
      "\u001b[?25hCollecting nvidia-cudnn-cu12==8.9.2.26 (from torch!=2.0.1,!=2.1.0,>=2.0.0->fmeval)\n",
      "  Downloading nvidia_cudnn_cu12-8.9.2.26-py3-none-manylinux1_x86_64.whl.metadata (1.6 kB)\n",
      "Collecting nvidia-cublas-cu12==12.1.3.1 (from torch!=2.0.1,!=2.1.0,>=2.0.0->fmeval)\n",
      "  Downloading nvidia_cublas_cu12-12.1.3.1-py3-none-manylinux1_x86_64.whl (410.6 MB)\n",
      "\u001b[2K     \u001b[90m━━━━━━━━━━━━━━━━━━━━━━━━━━━━━━━━━━━━━━━\u001b[0m \u001b[32m410.6/410.6 MB\u001b[0m \u001b[31m2.4 MB/s\u001b[0m eta \u001b[36m0:00:00\u001b[0m00:01\u001b[0m00:01\u001b[0m\n",
      "\u001b[?25hCollecting nvidia-cufft-cu12==11.0.2.54 (from torch!=2.0.1,!=2.1.0,>=2.0.0->fmeval)\n",
      "  Downloading nvidia_cufft_cu12-11.0.2.54-py3-none-manylinux1_x86_64.whl (121.6 MB)\n",
      "\u001b[2K     \u001b[90m━━━━━━━━━━━━━━━━━━━━━━━━━━━━━━━━━━━━━━\u001b[0m \u001b[32m121.6/121.6 MB\u001b[0m \u001b[31m17.4 MB/s\u001b[0m eta \u001b[36m0:00:00\u001b[0m00:01\u001b[0m00:01\u001b[0m\n",
      "\u001b[?25hCollecting nvidia-curand-cu12==10.3.2.106 (from torch!=2.0.1,!=2.1.0,>=2.0.0->fmeval)\n",
      "  Downloading nvidia_curand_cu12-10.3.2.106-py3-none-manylinux1_x86_64.whl (56.5 MB)\n",
      "\u001b[2K     \u001b[90m━━━━━━━━━━━━━━━━━━━━━━━━━━━━━━━━━━━━━━━━\u001b[0m \u001b[32m56.5/56.5 MB\u001b[0m \u001b[31m29.3 MB/s\u001b[0m eta \u001b[36m0:00:00\u001b[0m00:01\u001b[0m00:01\u001b[0m\n",
      "\u001b[?25hCollecting nvidia-cusolver-cu12==11.4.5.107 (from torch!=2.0.1,!=2.1.0,>=2.0.0->fmeval)\n",
      "  Downloading nvidia_cusolver_cu12-11.4.5.107-py3-none-manylinux1_x86_64.whl (124.2 MB)\n",
      "\u001b[2K     \u001b[90m━━━━━━━━━━━━━━━━━━━━━━━━━━━━━━━━━━━━━━━\u001b[0m \u001b[32m124.2/124.2 MB\u001b[0m \u001b[31m6.0 MB/s\u001b[0m eta \u001b[36m0:00:00\u001b[0m00:01\u001b[0m00:01\u001b[0m\n",
      "\u001b[?25hCollecting nvidia-cusparse-cu12==12.1.0.106 (from torch!=2.0.1,!=2.1.0,>=2.0.0->fmeval)\n",
      "  Downloading nvidia_cusparse_cu12-12.1.0.106-py3-none-manylinux1_x86_64.whl (196.0 MB)\n",
      "\u001b[2K     \u001b[90m━━━━━━━━━━━━━━━━━━━━━━━━━━━━━━━━━━━━━━━\u001b[0m \u001b[32m196.0/196.0 MB\u001b[0m \u001b[31m5.7 MB/s\u001b[0m eta \u001b[36m0:00:00\u001b[0m00:01\u001b[0m00:01\u001b[0m\n",
      "\u001b[?25hCollecting nvidia-nccl-cu12==2.18.1 (from torch!=2.0.1,!=2.1.0,>=2.0.0->fmeval)\n",
      "  Downloading nvidia_nccl_cu12-2.18.1-py3-none-manylinux1_x86_64.whl (209.8 MB)\n",
      "\u001b[2K     \u001b[90m━━━━━━━━━━━━━━━━━━━━━━━━━━━━━━━━━━━━━━━\u001b[0m \u001b[32m209.8/209.8 MB\u001b[0m \u001b[31m5.4 MB/s\u001b[0m eta \u001b[36m0:00:00\u001b[0m00:01\u001b[0m00:01\u001b[0m\n",
      "\u001b[?25hCollecting nvidia-nvtx-cu12==12.1.105 (from torch!=2.0.1,!=2.1.0,>=2.0.0->fmeval)\n",
      "  Downloading nvidia_nvtx_cu12-12.1.105-py3-none-manylinux1_x86_64.whl (99 kB)\n",
      "\u001b[2K     \u001b[90m━━━━━━━━━━━━━━━━━━━━━━━━━━━━━━━━━━━━━━━━\u001b[0m \u001b[32m99.1/99.1 kB\u001b[0m \u001b[31m1.3 MB/s\u001b[0m eta \u001b[36m0:00:00\u001b[0mta \u001b[36m0:00:01\u001b[0m\n",
      "\u001b[?25hCollecting triton==2.1.0 (from torch!=2.0.1,!=2.1.0,>=2.0.0->fmeval)\n",
      "  Downloading triton-2.1.0-0-cp310-cp310-manylinux2014_x86_64.manylinux_2_17_x86_64.whl.metadata (1.3 kB)\n",
      "Collecting nvidia-nvjitlink-cu12 (from nvidia-cusolver-cu12==11.4.5.107->torch!=2.0.1,!=2.1.0,>=2.0.0->fmeval)\n",
      "  Downloading nvidia_nvjitlink_cu12-12.3.101-py3-none-manylinux1_x86_64.whl.metadata (1.5 kB)\n",
      "Collecting botocore<1.35.0,>=1.34.15 (from boto3<2.0,>=1.33.3->sagemaker<3.0.0,>=2.199.0->fmeval)\n",
      "  Downloading botocore-1.34.15-py3-none-any.whl.metadata (5.6 kB)\n",
      "Collecting jmespath<2.0.0,>=0.7.1 (from boto3<2.0,>=1.33.3->sagemaker<3.0.0,>=2.199.0->fmeval)\n",
      "  Downloading jmespath-1.0.1-py3-none-any.whl (20 kB)\n",
      "Collecting s3transfer<0.11.0,>=0.10.0 (from boto3<2.0,>=1.33.3->sagemaker<3.0.0,>=2.199.0->fmeval)\n",
      "  Downloading s3transfer-0.10.0-py3-none-any.whl.metadata (1.7 kB)\n",
      "Collecting pyarrow-hotfix (from datasets>=2.0.0->evaluate<0.5.0,>=0.4.0->fmeval)\n",
      "  Downloading pyarrow_hotfix-0.6-py3-none-any.whl.metadata (3.6 kB)\n",
      "Collecting fsspec>=2021.05.0 (from fsspec[http]>=2021.05.0->evaluate<0.5.0,>=0.4.0->fmeval)\n",
      "  Downloading fsspec-2023.10.0-py3-none-any.whl.metadata (6.8 kB)\n",
      "Collecting aiohttp (from datasets>=2.0.0->evaluate<0.5.0,>=0.4.0->fmeval)\n",
      "  Downloading aiohttp-3.9.1-cp310-cp310-manylinux_2_17_x86_64.manylinux2014_x86_64.whl.metadata (7.4 kB)\n",
      "Collecting zipp>=0.5 (from importlib-metadata<7.0,>=1.4.0->sagemaker<3.0.0,>=2.199.0->fmeval)\n",
      "  Downloading zipp-3.17.0-py3-none-any.whl.metadata (3.7 kB)\n",
      "Collecting parso<0.9.0,>=0.8.3 (from jedi>=0.16->IPython->fmeval)\n",
      "  Downloading parso-0.8.3-py2.py3-none-any.whl (100 kB)\n",
      "\u001b[2K     \u001b[90m━━━━━━━━━━━━━━━━━━━━━━━━━━━━━━━━━━━━━━━\u001b[0m \u001b[32m100.8/100.8 kB\u001b[0m \u001b[31m1.4 MB/s\u001b[0m eta \u001b[36m0:00:00\u001b[0ma \u001b[36m0:00:01\u001b[0m\n",
      "\u001b[?25hCollecting fastjsonschema (from nbformat>=5.0.4->testbook<0.5.0,>=0.4.2->fmeval)\n",
      "  Downloading fastjsonschema-2.19.1-py3-none-any.whl.metadata (2.1 kB)\n",
      "Collecting jsonschema-specifications>=2023.03.6 (from jsonschema->ray==2.7.1->fmeval)\n",
      "  Downloading jsonschema_specifications-2023.12.1-py3-none-any.whl.metadata (3.0 kB)\n",
      "Collecting referencing>=0.28.4 (from jsonschema->ray==2.7.1->fmeval)\n",
      "  Downloading referencing-0.32.1-py3-none-any.whl.metadata (2.7 kB)\n",
      "Collecting rpds-py>=0.7.1 (from jsonschema->ray==2.7.1->fmeval)\n",
      "  Downloading rpds_py-0.16.2-cp310-cp310-manylinux_2_17_x86_64.manylinux2014_x86_64.whl.metadata (4.1 kB)\n",
      "Collecting ptyprocess>=0.5 (from pexpect>4.3->IPython->fmeval)\n",
      "  Downloading ptyprocess-0.7.0-py2.py3-none-any.whl (13 kB)\n",
      "Collecting wcwidth (from prompt-toolkit<3.1.0,>=3.0.41->IPython->fmeval)\n",
      "  Downloading wcwidth-0.2.13-py2.py3-none-any.whl.metadata (14 kB)\n",
      "Collecting charset-normalizer<4,>=2 (from requests->ray==2.7.1->fmeval)\n",
      "  Downloading charset_normalizer-3.3.2-cp310-cp310-manylinux_2_17_x86_64.manylinux2014_x86_64.whl.metadata (33 kB)\n",
      "Collecting idna<4,>=2.5 (from requests->ray==2.7.1->fmeval)\n",
      "  Downloading idna-3.6-py3-none-any.whl.metadata (9.9 kB)\n",
      "Collecting certifi>=2017.4.17 (from requests->ray==2.7.1->fmeval)\n",
      "  Downloading certifi-2023.11.17-py3-none-any.whl.metadata (2.2 kB)\n",
      "Collecting MarkupSafe>=2.0 (from jinja2->torch!=2.0.1,!=2.1.0,>=2.0.0->fmeval)\n",
      "  Downloading MarkupSafe-2.1.3-cp310-cp310-manylinux_2_17_x86_64.manylinux2014_x86_64.whl.metadata (3.0 kB)\n",
      "Collecting ppft>=1.7.6.7 (from pathos->sagemaker<3.0.0,>=2.199.0->fmeval)\n",
      "  Downloading ppft-1.7.6.7-py3-none-any.whl.metadata (12 kB)\n",
      "Collecting pox>=0.3.3 (from pathos->sagemaker<3.0.0,>=2.199.0->fmeval)\n",
      "  Downloading pox-0.3.3-py3-none-any.whl.metadata (8.0 kB)\n",
      "Collecting contextlib2>=0.5.5 (from schema->sagemaker<3.0.0,>=2.199.0->fmeval)\n",
      "  Downloading contextlib2-21.6.0-py2.py3-none-any.whl (13 kB)\n",
      "Collecting executing>=1.2.0 (from stack-data->IPython->fmeval)\n",
      "  Downloading executing-2.0.1-py2.py3-none-any.whl.metadata (9.0 kB)\n",
      "Collecting asttokens>=2.1.0 (from stack-data->IPython->fmeval)\n",
      "  Downloading asttokens-2.4.1-py2.py3-none-any.whl.metadata (5.2 kB)\n",
      "Collecting pure-eval (from stack-data->IPython->fmeval)\n",
      "  Downloading pure_eval-0.2.2-py3-none-any.whl (11 kB)\n",
      "Collecting mpmath>=0.19 (from sympy->torch!=2.0.1,!=2.1.0,>=2.0.0->fmeval)\n",
      "  Downloading mpmath-1.3.0-py3-none-any.whl (536 kB)\n",
      "\u001b[2K     \u001b[90m━━━━━━━━━━━━━━━━━━━━━━━━━━━━━━━━━━━━━━━\u001b[0m \u001b[32m536.2/536.2 kB\u001b[0m \u001b[31m6.2 MB/s\u001b[0m eta \u001b[36m0:00:00\u001b[0m00:01\u001b[0m\n",
      "\u001b[?25hCollecting multidict<7.0,>=4.5 (from aiohttp->datasets>=2.0.0->evaluate<0.5.0,>=0.4.0->fmeval)\n",
      "  Downloading multidict-6.0.4-cp310-cp310-manylinux_2_17_x86_64.manylinux2014_x86_64.whl (114 kB)\n",
      "\u001b[2K     \u001b[90m━━━━━━━━━━━━━━━━━━━━━━━━━━━━━━━━━━━━━━━\u001b[0m \u001b[32m114.5/114.5 kB\u001b[0m \u001b[31m1.4 MB/s\u001b[0m eta \u001b[36m0:00:00\u001b[0m00:01\u001b[0m\n",
      "\u001b[?25hCollecting yarl<2.0,>=1.0 (from aiohttp->datasets>=2.0.0->evaluate<0.5.0,>=0.4.0->fmeval)\n",
      "  Downloading yarl-1.9.4-cp310-cp310-manylinux_2_17_x86_64.manylinux2014_x86_64.whl.metadata (31 kB)\n",
      "Collecting async-timeout<5.0,>=4.0 (from aiohttp->datasets>=2.0.0->evaluate<0.5.0,>=0.4.0->fmeval)\n",
      "  Downloading async_timeout-4.0.3-py3-none-any.whl.metadata (4.2 kB)\n",
      "Collecting anyio<5,>=3.4.0 (from starlette<0.28.0,>=0.27.0->fastapi==0.95.2->sagemaker<3.0.0,>=2.199.0->fmeval)\n",
      "  Downloading anyio-4.2.0-py3-none-any.whl.metadata (4.6 kB)\n",
      "Collecting sniffio>=1.1 (from anyio<5,>=3.4.0->starlette<0.28.0,>=0.27.0->fastapi==0.95.2->sagemaker<3.0.0,>=2.199.0->fmeval)\n",
      "  Downloading sniffio-1.3.0-py3-none-any.whl (10 kB)\n",
      "Downloading fmeval-0.3.0-py3-none-any.whl (103 kB)\n",
      "\u001b[2K   \u001b[90m━━━━━━━━━━━━━━━━━━━━━━━━━━━━━━━━━━━━━━━━\u001b[0m \u001b[32m103.9/103.9 kB\u001b[0m \u001b[31m1.5 MB/s\u001b[0m eta \u001b[36m0:00:00\u001b[0m:00:01\u001b[0m\n",
      "\u001b[?25hDownloading ray-2.7.1-cp310-cp310-manylinux2014_x86_64.whl (62.4 MB)\n",
      "\u001b[2K   \u001b[90m━━━━━━━━━━━━━━━━━━━━━━━━━━━━━━━━━━━━━━━━\u001b[0m \u001b[32m62.4/62.4 MB\u001b[0m \u001b[31m26.9 MB/s\u001b[0m eta \u001b[36m0:00:00\u001b[0m:00:01\u001b[0m00:01\u001b[0m\n",
      "\u001b[?25hDownloading urllib3-1.26.18-py2.py3-none-any.whl (143 kB)\n",
      "\u001b[2K   \u001b[90m━━━━━━━━━━━━━━━━━━━━━━━━━━━━━━━━━━━━━━━━\u001b[0m \u001b[32m143.8/143.8 kB\u001b[0m \u001b[31m1.8 MB/s\u001b[0m eta \u001b[36m0:00:00\u001b[0m:00:01\u001b[0m\n",
      "\u001b[?25hDownloading evaluate-0.4.1-py3-none-any.whl (84 kB)\n",
      "\u001b[2K   \u001b[90m━━━━━━━━━━━━━━━━━━━━━━━━━━━━━━━━━━━━━━━━\u001b[0m \u001b[32m84.1/84.1 kB\u001b[0m \u001b[31m1.1 MB/s\u001b[0m eta \u001b[36m0:00:00\u001b[0meta \u001b[36m0:00:01\u001b[0m\n",
      "\u001b[?25hDownloading ipykernel-6.28.0-py3-none-any.whl (114 kB)\n",
      "\u001b[2K   \u001b[90m━━━━━━━━━━━━━━━━━━━━━━━━━━━━━━━━━━━━━━━━\u001b[0m \u001b[32m114.1/114.1 kB\u001b[0m \u001b[31m1.8 MB/s\u001b[0m eta \u001b[36m0:00:00\u001b[0m:00:01\u001b[0m\n",
      "\u001b[?25hDownloading ipython-8.20.0-py3-none-any.whl (809 kB)\n",
      "\u001b[2K   \u001b[90m━━━━━━━━━━━━━━━━━━━━━━━━━━━━━━━━━━━━━━━━\u001b[0m \u001b[32m809.2/809.2 kB\u001b[0m \u001b[31m10.1 MB/s\u001b[0m eta \u001b[36m0:00:00\u001b[0m00:01\u001b[0m\n",
      "\u001b[?25hDownloading jiwer-3.0.3-py3-none-any.whl (21 kB)\n",
      "Downloading matplotlib-3.8.2-cp310-cp310-manylinux_2_17_x86_64.manylinux2014_x86_64.whl (11.6 MB)\n",
      "\u001b[2K   \u001b[90m━━━━━━━━━━━━━━━━━━━━━━━━━━━━━━━━━━━━━━━━\u001b[0m \u001b[32m11.6/11.6 MB\u001b[0m \u001b[31m50.3 MB/s\u001b[0m eta \u001b[36m0:00:00\u001b[0m:00:01\u001b[0m0:01\u001b[0m\n",
      "\u001b[?25hDownloading mypy_boto3_bedrock-1.34.0-py3-none-any.whl (27 kB)\n",
      "Downloading pandas-2.1.4-cp310-cp310-manylinux_2_17_x86_64.manylinux2014_x86_64.whl (12.3 MB)\n",
      "\u001b[2K   \u001b[90m━━━━━━━━━━━━━━━━━━━━━━━━━━━━━━━━━━━━━━━━\u001b[0m \u001b[32m12.3/12.3 MB\u001b[0m \u001b[31m50.1 MB/s\u001b[0m eta \u001b[36m0:00:00\u001b[0m:00:01\u001b[0m0:01\u001b[0m\n",
      "\u001b[?25hDownloading sagemaker-2.203.0-py3-none-any.whl (1.4 MB)\n",
      "\u001b[2K   \u001b[90m━━━━━━━━━━━━━━━━━━━━━━━━━━━━━━━━━━━━━━━━\u001b[0m \u001b[32m1.4/1.4 MB\u001b[0m \u001b[31m14.9 MB/s\u001b[0m eta \u001b[36m0:00:00\u001b[0m:00:01\u001b[0m\n",
      "\u001b[?25hDownloading fastapi-0.95.2-py3-none-any.whl (56 kB)\n",
      "\u001b[2K   \u001b[90m━━━━━━━━━━━━━━━━━━━━━━━━━━━━━━━━━━━━━━━━\u001b[0m \u001b[32m57.0/57.0 kB\u001b[0m \u001b[31m1.0 MB/s\u001b[0m eta \u001b[36m0:00:00\u001b[0meta \u001b[36m0:00:01\u001b[0m\n",
      "\u001b[?25hDownloading scikit_learn-1.3.2-cp310-cp310-manylinux_2_17_x86_64.manylinux2014_x86_64.whl (10.8 MB)\n",
      "\u001b[2K   \u001b[90m━━━━━━━━━━━━━━━━━━━━━━━━━━━━━━━━━━━━━━━━\u001b[0m \u001b[32m10.8/10.8 MB\u001b[0m \u001b[31m47.8 MB/s\u001b[0m eta \u001b[36m0:00:00\u001b[0m:00:01\u001b[0m0:01\u001b[0m\n",
      "\u001b[?25hDownloading torch-2.1.2-cp310-cp310-manylinux1_x86_64.whl (670.2 MB)\n",
      "\u001b[2K   \u001b[90m━━━━━━━━━━━━━━━━━━━━━━━━━━━━━━━━━━━━━━━━\u001b[0m \u001b[32m670.2/670.2 MB\u001b[0m \u001b[31m1.6 MB/s\u001b[0m eta \u001b[36m0:00:00\u001b[0m:00:01\u001b[0m00:01\u001b[0m\n",
      "\u001b[?25hDownloading nvidia_cudnn_cu12-8.9.2.26-py3-none-manylinux1_x86_64.whl (731.7 MB)\n",
      "\u001b[2K   \u001b[90m━━━━━━━━━━━━━━━━━━━━━━━━━━━━━━━━━━━━━━━━\u001b[0m \u001b[32m731.7/731.7 MB\u001b[0m \u001b[31m1.4 MB/s\u001b[0m eta \u001b[36m0:00:00\u001b[0m:00:01\u001b[0m00:01\u001b[0m\n",
      "\u001b[?25hDownloading triton-2.1.0-0-cp310-cp310-manylinux2014_x86_64.manylinux_2_17_x86_64.whl (89.2 MB)\n",
      "\u001b[2K   \u001b[90m━━━━━━━━━━━━━━━━━━━━━━━━━━━━━━━━━━━━━━━━\u001b[0m \u001b[32m89.2/89.2 MB\u001b[0m \u001b[31m22.1 MB/s\u001b[0m eta \u001b[36m0:00:00\u001b[0m:00:01\u001b[0m00:01\u001b[0m\n",
      "\u001b[?25hDownloading Markdown-3.5.1-py3-none-any.whl (102 kB)\n",
      "\u001b[2K   \u001b[90m━━━━━━━━━━━━━━━━━━━━━━━━━━━━━━━━━━━━━━━━\u001b[0m \u001b[32m102.2/102.2 kB\u001b[0m \u001b[31m1.6 MB/s\u001b[0m eta \u001b[36m0:00:00\u001b[0mta \u001b[36m0:00:01\u001b[0m\n",
      "\u001b[?25hDownloading pyarrow-14.0.2-cp310-cp310-manylinux_2_28_x86_64.whl (38.0 MB)\n",
      "\u001b[2K   \u001b[90m━━━━━━━━━━━━━━━━━━━━━━━━━━━━━━━━━━━━━━━━\u001b[0m \u001b[32m38.0/38.0 MB\u001b[0m \u001b[31m35.9 MB/s\u001b[0m eta \u001b[36m0:00:00\u001b[0m:00:01\u001b[0m00:01\u001b[0m\n",
      "\u001b[?25hDownloading attrs-23.2.0-py3-none-any.whl (60 kB)\n",
      "\u001b[2K   \u001b[90m━━━━━━━━━━━━━━━━━━━━━━━━━━━━━━━━━━━━━━━━\u001b[0m \u001b[32m60.8/60.8 kB\u001b[0m \u001b[31m899.7 kB/s\u001b[0m eta \u001b[36m0:00:00\u001b[0ma \u001b[36m0:00:01\u001b[0m\n",
      "\u001b[?25hDownloading boto3-1.34.15-py3-none-any.whl (139 kB)\n",
      "\u001b[2K   \u001b[90m━━━━━━━━━━━━━━━━━━━━━━━━━━━━━━━━━━━━━━━━\u001b[0m \u001b[32m139.3/139.3 kB\u001b[0m \u001b[31m1.9 MB/s\u001b[0m eta \u001b[36m0:00:00\u001b[0mta \u001b[36m0:00:01\u001b[0m\n",
      "\u001b[?25hDownloading click-8.1.7-py3-none-any.whl (97 kB)\n",
      "\u001b[2K   \u001b[90m━━━━━━━━━━━━━━━━━━━━━━━━━━━━━━━━━━━━━━━━\u001b[0m \u001b[32m97.9/97.9 kB\u001b[0m \u001b[31m1.5 MB/s\u001b[0m eta \u001b[36m0:00:00\u001b[0meta \u001b[36m0:00:01\u001b[0m\n",
      "\u001b[?25hDownloading comm-0.2.1-py3-none-any.whl (7.2 kB)\n",
      "Downloading contourpy-1.2.0-cp310-cp310-manylinux_2_17_x86_64.manylinux2014_x86_64.whl (310 kB)\n",
      "\u001b[2K   \u001b[90m━━━━━━━━━━━━━━━━━━━━━━━━━━━━━━━━━━━━━━━━\u001b[0m \u001b[32m310.7/310.7 kB\u001b[0m \u001b[31m4.2 MB/s\u001b[0m eta \u001b[36m0:00:00\u001b[0m:00:01\u001b[0m\n",
      "\u001b[?25hDownloading cycler-0.12.1-py3-none-any.whl (8.3 kB)\n",
      "Downloading datasets-2.16.1-py3-none-any.whl (507 kB)\n",
      "\u001b[2K   \u001b[90m━━━━━━━━━━━━━━━━━━━━━━━━━━━━━━━━━━━━━━━━\u001b[0m \u001b[32m507.1/507.1 kB\u001b[0m \u001b[31m6.5 MB/s\u001b[0m eta \u001b[36m0:00:00\u001b[0m:00:01\u001b[0m\n",
      "\u001b[?25hDownloading debugpy-1.8.0-cp310-cp310-manylinux_2_17_x86_64.manylinux2014_x86_64.whl (3.3 MB)\n",
      "\u001b[2K   \u001b[90m━━━━━━━━━━━━━━━━━━━━━━━━━━━━━━━━━━━━━━━━\u001b[0m \u001b[32m3.3/3.3 MB\u001b[0m \u001b[31m27.4 MB/s\u001b[0m eta \u001b[36m0:00:00\u001b[0m:00:01\u001b[0m\n",
      "\u001b[?25hDownloading dill-0.3.7-py3-none-any.whl (115 kB)\n",
      "\u001b[2K   \u001b[90m━━━━━━━━━━━━━━━━━━━━━━━━━━━━━━━━━━━━━━━━\u001b[0m \u001b[32m115.3/115.3 kB\u001b[0m \u001b[31m1.8 MB/s\u001b[0m eta \u001b[36m0:00:00\u001b[0m:00:01\u001b[0m\n",
      "\u001b[?25hDownloading fonttools-4.47.0-cp310-cp310-manylinux_2_17_x86_64.manylinux2014_x86_64.whl (4.6 MB)\n",
      "\u001b[2K   \u001b[90m━━━━━━━━━━━━━━━━━━━━━━━━━━━━━━━━━━━━━━━━\u001b[0m \u001b[32m4.6/4.6 MB\u001b[0m \u001b[31m36.9 MB/s\u001b[0m eta \u001b[36m0:00:00\u001b[0m:00:01\u001b[0m\n",
      "\u001b[?25hDownloading fsspec-2023.10.0-py3-none-any.whl (166 kB)\n",
      "\u001b[2K   \u001b[90m━━━━━━━━━━━━━━━━━━━━━━━━━━━━━━━━━━━━━━━━\u001b[0m \u001b[32m166.4/166.4 kB\u001b[0m \u001b[31m2.5 MB/s\u001b[0m eta \u001b[36m0:00:00\u001b[0m:00:01\u001b[0m\n",
      "\u001b[?25hDownloading huggingface_hub-0.20.2-py3-none-any.whl (330 kB)\n",
      "\u001b[2K   \u001b[90m━━━━━━━━━━━━━━━━━━━━━━━━━━━━━━━━━━━━━━━━\u001b[0m \u001b[32m330.3/330.3 kB\u001b[0m \u001b[31m4.8 MB/s\u001b[0m eta \u001b[36m0:00:00\u001b[0m:00:01\u001b[0m\n",
      "\u001b[?25hDownloading importlib_metadata-6.11.0-py3-none-any.whl (23 kB)\n",
      "Downloading jedi-0.19.1-py2.py3-none-any.whl (1.6 MB)\n",
      "\u001b[2K   \u001b[90m━━━━━━━━━━━━━━━━━━━━━━━━━━━━━━━━━━━━━━━━\u001b[0m \u001b[32m1.6/1.6 MB\u001b[0m \u001b[31m18.1 MB/s\u001b[0m eta \u001b[36m0:00:00\u001b[0m:00:01\u001b[0m\n",
      "\u001b[?25hDownloading joblib-1.3.2-py3-none-any.whl (302 kB)\n",
      "\u001b[2K   \u001b[90m━━━━━━━━━━━━━━━━━━━━━━━━━━━━━━━━━━━━━━━━\u001b[0m \u001b[32m302.2/302.2 kB\u001b[0m \u001b[31m4.2 MB/s\u001b[0m eta \u001b[36m0:00:00\u001b[0m:00:01\u001b[0m\n",
      "\u001b[?25hDownloading jupyter_client-8.6.0-py3-none-any.whl (105 kB)\n",
      "\u001b[2K   \u001b[90m━━━━━━━━━━━━━━━━━━━━━━━━━━━━━━━━━━━━━━━━\u001b[0m \u001b[32m105.9/105.9 kB\u001b[0m \u001b[31m1.5 MB/s\u001b[0m eta \u001b[36m0:00:00\u001b[0mta \u001b[36m0:00:01\u001b[0m\n",
      "\u001b[?25hDownloading jupyter_core-5.7.1-py3-none-any.whl (28 kB)\n",
      "Downloading kiwisolver-1.4.5-cp310-cp310-manylinux_2_12_x86_64.manylinux2010_x86_64.whl (1.6 MB)\n",
      "\u001b[2K   \u001b[90m━━━━━━━━━━━━━━━━━━━━━━━━━━━━━━━━━━━━━━━━\u001b[0m \u001b[32m1.6/1.6 MB\u001b[0m \u001b[31m17.7 MB/s\u001b[0m eta \u001b[36m0:00:00\u001b[0m:00:01\u001b[0m\n",
      "\u001b[?25hDownloading msgpack-1.0.7-cp310-cp310-manylinux_2_17_x86_64.manylinux2014_x86_64.whl (530 kB)\n",
      "\u001b[2K   \u001b[90m━━━━━━━━━━━━━━━━━━━━━━━━━━━━━━━━━━━━━━━━\u001b[0m \u001b[32m530.8/530.8 kB\u001b[0m \u001b[31m7.3 MB/s\u001b[0m eta \u001b[36m0:00:00\u001b[0m:00:01\u001b[0m\n",
      "\u001b[?25hDownloading nbclient-0.9.0-py3-none-any.whl (24 kB)\n",
      "Downloading nbformat-5.9.2-py3-none-any.whl (77 kB)\n",
      "\u001b[2K   \u001b[90m━━━━━━━━━━━━━━━━━━━━━━━━━━━━━━━━━━━━━━━━\u001b[0m \u001b[32m77.6/77.6 kB\u001b[0m \u001b[31m1.1 MB/s\u001b[0m eta \u001b[36m0:00:00\u001b[0meta \u001b[36m0:00:01\u001b[0m\n",
      "\u001b[?25hDownloading jsonschema-4.20.0-py3-none-any.whl (84 kB)\n",
      "\u001b[2K   \u001b[90m━━━━━━━━━━━━━━━━━━━━━━━━━━━━━━━━━━━━━━━━\u001b[0m \u001b[32m84.7/84.7 kB\u001b[0m \u001b[31m1.1 MB/s\u001b[0m eta \u001b[36m0:00:00\u001b[0meta \u001b[36m0:00:01\u001b[0m\n",
      "\u001b[?25hDownloading numpy-1.26.3-cp310-cp310-manylinux_2_17_x86_64.manylinux2014_x86_64.whl (18.2 MB)\n",
      "\u001b[2K   \u001b[90m━━━━━━━━━━━━━━━━━━━━━━━━━━━━━━━━━━━━━━━━\u001b[0m \u001b[32m18.2/18.2 MB\u001b[0m \u001b[31m48.4 MB/s\u001b[0m eta \u001b[36m0:00:00\u001b[0m:00:01\u001b[0m00:01\u001b[0m\n",
      "\u001b[?25hDownloading packaging-23.2-py3-none-any.whl (53 kB)\n",
      "\u001b[2K   \u001b[90m━━━━━━━━━━━━━━━━━━━━━━━━━━━━━━━━━━━━━━━━\u001b[0m \u001b[32m53.0/53.0 kB\u001b[0m \u001b[31m764.9 kB/s\u001b[0m eta \u001b[36m0:00:00\u001b[0ma \u001b[36m0:00:01\u001b[0m\n",
      "\u001b[?25hDownloading pexpect-4.9.0-py2.py3-none-any.whl (63 kB)\n",
      "\u001b[2K   \u001b[90m━━━━━━━━━━━━━━━━━━━━━━━━━━━━━━━━━━━━━━━━\u001b[0m \u001b[32m63.8/63.8 kB\u001b[0m \u001b[31m1.1 MB/s\u001b[0m eta \u001b[36m0:00:00\u001b[0meta \u001b[36m0:00:01\u001b[0m\n",
      "\u001b[?25hDownloading pillow-10.2.0-cp310-cp310-manylinux_2_28_x86_64.whl (4.5 MB)\n",
      "\u001b[2K   \u001b[90m━━━━━━━━━━━━━━━━━━━━━━━━━━━━━━━━━━━━━━━━\u001b[0m \u001b[32m4.5/4.5 MB\u001b[0m \u001b[31m34.3 MB/s\u001b[0m eta \u001b[36m0:00:00\u001b[0m:00:01\u001b[0m\n",
      "\u001b[?25hDownloading platformdirs-4.1.0-py3-none-any.whl (17 kB)\n",
      "Downloading prompt_toolkit-3.0.43-py3-none-any.whl (386 kB)\n",
      "\u001b[2K   \u001b[90m━━━━━━━━━━━━━━━━━━━━━━━━━━━━━━━━━━━━━━━━\u001b[0m \u001b[32m386.1/386.1 kB\u001b[0m \u001b[31m5.6 MB/s\u001b[0m eta \u001b[36m0:00:00\u001b[0m:00:01\u001b[0m\n",
      "\u001b[?25hDownloading protobuf-4.25.1-cp37-abi3-manylinux2014_x86_64.whl (294 kB)\n",
      "\u001b[2K   \u001b[90m━━━━━━━━━━━━━━━━━━━━━━━━━━━━━━━━━━━━━━━━\u001b[0m \u001b[32m294.6/294.6 kB\u001b[0m \u001b[31m3.8 MB/s\u001b[0m eta \u001b[36m0:00:00\u001b[0mta \u001b[36m0:00:01\u001b[0m\n",
      "\u001b[?25hDownloading pygments-2.17.2-py3-none-any.whl (1.2 MB)\n",
      "\u001b[2K   \u001b[90m━━━━━━━━━━━━━━━━━━━━━━━━━━━━━━━━━━━━━━━━\u001b[0m \u001b[32m1.2/1.2 MB\u001b[0m \u001b[31m14.3 MB/s\u001b[0m eta \u001b[36m0:00:00\u001b[0m:00:01\u001b[0m\n",
      "\u001b[?25hDownloading pyparsing-3.1.1-py3-none-any.whl (103 kB)\n",
      "\u001b[2K   \u001b[90m━━━━━━━━━━━━━━━━━━━━━━━━━━━━━━━━━━━━━━━━\u001b[0m \u001b[32m103.1/103.1 kB\u001b[0m \u001b[31m1.5 MB/s\u001b[0m eta \u001b[36m0:00:00\u001b[0m:00:01\u001b[0m\n",
      "\u001b[?25hDownloading pytz-2023.3.post1-py2.py3-none-any.whl (502 kB)\n",
      "\u001b[2K   \u001b[90m━━━━━━━━━━━━━━━━━━━━━━━━━━━━━━━━━━━━━━━━\u001b[0m \u001b[32m502.5/502.5 kB\u001b[0m \u001b[31m6.5 MB/s\u001b[0m eta \u001b[36m0:00:00\u001b[0m:00:01\u001b[0m\n",
      "\u001b[?25hDownloading PyYAML-6.0.1-cp310-cp310-manylinux_2_17_x86_64.manylinux2014_x86_64.whl (705 kB)\n",
      "\u001b[2K   \u001b[90m━━━━━━━━━━━━━━━━━━━━━━━━━━━━━━━━━━━━━━━━\u001b[0m \u001b[32m705.5/705.5 kB\u001b[0m \u001b[31m8.7 MB/s\u001b[0m eta \u001b[36m0:00:00\u001b[0m:00:01\u001b[0m\n",
      "\u001b[?25hDownloading pyzmq-25.1.2-cp310-cp310-manylinux_2_28_x86_64.whl (1.1 MB)\n",
      "\u001b[2K   \u001b[90m━━━━━━━━━━━━━━━━━━━━━━━━━━━━━━━━━━━━━━━━\u001b[0m \u001b[32m1.1/1.1 MB\u001b[0m \u001b[31m11.9 MB/s\u001b[0m eta \u001b[36m0:00:00\u001b[0m:00:01\u001b[0m\n",
      "\u001b[?25hDownloading rapidfuzz-3.6.1-cp310-cp310-manylinux_2_17_x86_64.manylinux2014_x86_64.whl (3.4 MB)\n",
      "\u001b[2K   \u001b[90m━━━━━━━━━━━━━━━━━━━━━━━━━━━━━━━━━━━━━━━━\u001b[0m \u001b[32m3.4/3.4 MB\u001b[0m \u001b[31m31.2 MB/s\u001b[0m eta \u001b[36m0:00:00\u001b[0m:00:01\u001b[0m\n",
      "\u001b[?25hDownloading regex-2023.12.25-cp310-cp310-manylinux_2_17_x86_64.manylinux2014_x86_64.whl (773 kB)\n",
      "\u001b[2K   \u001b[90m━━━━━━━━━━━━━━━━━━━━━━━━━━━━━━━━━━━━━━━━\u001b[0m \u001b[32m774.0/774.0 kB\u001b[0m \u001b[31m10.1 MB/s\u001b[0m eta \u001b[36m0:00:00\u001b[0m00:01\u001b[0m\n",
      "\u001b[?25hDownloading requests-2.31.0-py3-none-any.whl (62 kB)\n",
      "\u001b[2K   \u001b[90m━━━━━━━━━━━━━━━━━━━━━━━━━━━━━━━━━━━━━━━━\u001b[0m \u001b[32m62.6/62.6 kB\u001b[0m \u001b[31m1.0 MB/s\u001b[0m eta \u001b[36m0:00:00\u001b[0m0:00:01\u001b[0m\n",
      "\u001b[?25hDownloading scipy-1.11.4-cp310-cp310-manylinux_2_17_x86_64.manylinux2014_x86_64.whl (36.4 MB)\n",
      "\u001b[2K   \u001b[90m━━━━━━━━━━━━━━━━━━━━━━━━━━━━━━━━━━━━━━━━\u001b[0m \u001b[32m36.4/36.4 MB\u001b[0m \u001b[31m33.6 MB/s\u001b[0m eta \u001b[36m0:00:00\u001b[0m:00:01\u001b[0m00:01\u001b[0m\n",
      "\u001b[?25hDownloading tblib-2.0.0-py3-none-any.whl (11 kB)\n",
      "Downloading threadpoolctl-3.2.0-py3-none-any.whl (15 kB)\n",
      "Downloading tornado-6.4-cp38-abi3-manylinux_2_5_x86_64.manylinux1_x86_64.manylinux_2_17_x86_64.manylinux2014_x86_64.whl (435 kB)\n",
      "\u001b[2K   \u001b[90m━━━━━━━━━━━━━━━━━━━━━━━━━━━━━━━━━━━━━━━━\u001b[0m \u001b[32m435.4/435.4 kB\u001b[0m \u001b[31m5.5 MB/s\u001b[0m eta \u001b[36m0:00:00\u001b[0m:00:01\u001b[0m\n",
      "\u001b[?25hDownloading tqdm-4.66.1-py3-none-any.whl (78 kB)\n",
      "\u001b[2K   \u001b[90m━━━━━━━━━━━━━━━━━━━━━━━━━━━━━━━━━━━━━━━━\u001b[0m \u001b[32m78.3/78.3 kB\u001b[0m \u001b[31m1.2 MB/s\u001b[0m eta \u001b[36m0:00:00\u001b[0meta \u001b[36m0:00:01\u001b[0m\n",
      "\u001b[?25hDownloading traitlets-5.14.1-py3-none-any.whl (85 kB)\n",
      "\u001b[2K   \u001b[90m━━━━━━━━━━━━━━━━━━━━━━━━━━━━━━━━━━━━━━━━\u001b[0m \u001b[32m85.4/85.4 kB\u001b[0m \u001b[31m1.3 MB/s\u001b[0m eta \u001b[36m0:00:00\u001b[0meta \u001b[36m0:00:01\u001b[0m\n",
      "\u001b[?25hDownloading typing_extensions-4.9.0-py3-none-any.whl (32 kB)\n",
      "Downloading tzdata-2023.4-py2.py3-none-any.whl (346 kB)\n",
      "\u001b[2K   \u001b[90m━━━━━━━━━━━━━━━━━━━━━━━━━━━━━━━━━━━━━━━━\u001b[0m \u001b[32m346.6/346.6 kB\u001b[0m \u001b[31m4.6 MB/s\u001b[0m eta \u001b[36m0:00:00\u001b[0m:00:01\u001b[0m\n",
      "\u001b[?25hDownloading absl_py-2.0.0-py3-none-any.whl (130 kB)\n",
      "\u001b[2K   \u001b[90m━━━━━━━━━━━━━━━━━━━━━━━━━━━━━━━━━━━━━━━━\u001b[0m \u001b[32m130.2/130.2 kB\u001b[0m \u001b[31m2.1 MB/s\u001b[0m eta \u001b[36m0:00:00\u001b[0mta \u001b[36m0:00:01\u001b[0m\n",
      "\u001b[?25hDownloading frozenlist-1.4.1-cp310-cp310-manylinux_2_5_x86_64.manylinux1_x86_64.manylinux_2_17_x86_64.manylinux2014_x86_64.whl (239 kB)\n",
      "\u001b[2K   \u001b[90m━━━━━━━━━━━━━━━━━━━━━━━━━━━━━━━━━━━━━━━━\u001b[0m \u001b[32m239.5/239.5 kB\u001b[0m \u001b[31m3.6 MB/s\u001b[0m eta \u001b[36m0:00:00\u001b[0m:00:01\u001b[0m\n",
      "\u001b[?25hDownloading docker-7.0.0-py3-none-any.whl (147 kB)\n",
      "\u001b[2K   \u001b[90m━━━━━━━━━━━━━━━━━━━━━━━━━━━━━━━━━━━━━━━━\u001b[0m \u001b[32m147.6/147.6 kB\u001b[0m \u001b[31m2.0 MB/s\u001b[0m eta \u001b[36m0:00:00\u001b[0mta \u001b[36m0:00:01\u001b[0m\n",
      "\u001b[?25hDownloading exceptiongroup-1.2.0-py3-none-any.whl (16 kB)\n",
      "Downloading filelock-3.13.1-py3-none-any.whl (11 kB)\n",
      "Downloading multiprocess-0.70.15-py310-none-any.whl (134 kB)\n",
      "\u001b[2K   \u001b[90m━━━━━━━━━━━━━━━━━━━━━━━━━━━━━━━━━━━━━━━━\u001b[0m \u001b[32m134.8/134.8 kB\u001b[0m \u001b[31m1.9 MB/s\u001b[0m eta \u001b[36m0:00:00\u001b[0m:00:01\u001b[0m\n",
      "\u001b[?25hDownloading nest_asyncio-1.5.8-py3-none-any.whl (5.3 kB)\n",
      "Downloading networkx-3.2.1-py3-none-any.whl (1.6 MB)\n",
      "\u001b[2K   \u001b[90m━━━━━━━━━━━━━━━━━━━━━━━━━━━━━━━━━━━━━━━━\u001b[0m \u001b[32m1.6/1.6 MB\u001b[0m \u001b[31m16.9 MB/s\u001b[0m eta \u001b[36m0:00:00\u001b[0m:00:01\u001b[0m\n",
      "\u001b[?25hDownloading pathos-0.3.1-py3-none-any.whl (82 kB)\n",
      "\u001b[2K   \u001b[90m━━━━━━━━━━━━━━━━━━━━━━━━━━━━━━━━━━━━━━━━\u001b[0m \u001b[32m82.1/82.1 kB\u001b[0m \u001b[31m1.0 MB/s\u001b[0m eta \u001b[36m0:00:00\u001b[0m0:00:01\u001b[0m\n",
      "\u001b[?25hDownloading psutil-5.9.7-cp36-abi3-manylinux_2_12_x86_64.manylinux2010_x86_64.manylinux_2_17_x86_64.manylinux2014_x86_64.whl (285 kB)\n",
      "\u001b[2K   \u001b[90m━━━━━━━━━━━━━━━━━━━━━━━━━━━━━━━━━━━━━━━━\u001b[0m \u001b[32m285.5/285.5 kB\u001b[0m \u001b[31m3.4 MB/s\u001b[0m eta \u001b[36m0:00:00\u001b[0mta \u001b[36m0:00:01\u001b[0m\n",
      "\u001b[?25hDownloading stack_data-0.6.3-py3-none-any.whl (24 kB)\n",
      "Downloading xxhash-3.4.1-cp310-cp310-manylinux_2_17_x86_64.manylinux2014_x86_64.whl (194 kB)\n",
      "\u001b[2K   \u001b[90m━━━━━━━━━━━━━━━━━━━━━━━━━━━━━━━━━━━━━━━━\u001b[0m \u001b[32m194.1/194.1 kB\u001b[0m \u001b[31m2.8 MB/s\u001b[0m eta \u001b[36m0:00:00\u001b[0mta \u001b[36m0:00:01\u001b[0m\n",
      "\u001b[?25hDownloading aiohttp-3.9.1-cp310-cp310-manylinux_2_17_x86_64.manylinux2014_x86_64.whl (1.2 MB)\n",
      "\u001b[2K   \u001b[90m━━━━━━━━━━━━━━━━━━━━━━━━━━━━━━━━━━━━━━━━\u001b[0m \u001b[32m1.2/1.2 MB\u001b[0m \u001b[31m13.3 MB/s\u001b[0m eta \u001b[36m0:00:00\u001b[0m:00:01\u001b[0m\n",
      "\u001b[?25hDownloading asttokens-2.4.1-py2.py3-none-any.whl (27 kB)\n",
      "Downloading botocore-1.34.15-py3-none-any.whl (11.9 MB)\n",
      "\u001b[2K   \u001b[90m━━━━━━━━━━━━━━━━━━━━━━━━━━━━━━━━━━━━━━━━\u001b[0m \u001b[32m11.9/11.9 MB\u001b[0m \u001b[31m52.3 MB/s\u001b[0m eta \u001b[36m0:00:00\u001b[0m:00:01\u001b[0m0:01\u001b[0m\n",
      "\u001b[?25hDownloading certifi-2023.11.17-py3-none-any.whl (162 kB)\n",
      "\u001b[2K   \u001b[90m━━━━━━━━━━━━━━━━━━━━━━━━━━━━━━━━━━━━━━━━\u001b[0m \u001b[32m162.5/162.5 kB\u001b[0m \u001b[31m2.3 MB/s\u001b[0m eta \u001b[36m0:00:00\u001b[0mta \u001b[36m0:00:01\u001b[0m\n",
      "\u001b[?25hDownloading charset_normalizer-3.3.2-cp310-cp310-manylinux_2_17_x86_64.manylinux2014_x86_64.whl (142 kB)\n",
      "\u001b[2K   \u001b[90m━━━━━━━━━━━━━━━━━━━━━━━━━━━━━━━━━━━━━━━━\u001b[0m \u001b[32m142.1/142.1 kB\u001b[0m \u001b[31m2.2 MB/s\u001b[0m eta \u001b[36m0:00:00\u001b[0mta \u001b[36m0:00:01\u001b[0m\n",
      "\u001b[?25hDownloading executing-2.0.1-py2.py3-none-any.whl (24 kB)\n",
      "Downloading idna-3.6-py3-none-any.whl (61 kB)\n",
      "\u001b[2K   \u001b[90m━━━━━━━━━━━━━━━━━━━━━━━━━━━━━━━━━━━━━━━━\u001b[0m \u001b[32m61.6/61.6 kB\u001b[0m \u001b[31m1.0 MB/s\u001b[0m eta \u001b[36m0:00:00\u001b[0m0:00:01\u001b[0m\n",
      "\u001b[?25hDownloading jsonschema_specifications-2023.12.1-py3-none-any.whl (18 kB)\n",
      "Downloading MarkupSafe-2.1.3-cp310-cp310-manylinux_2_17_x86_64.manylinux2014_x86_64.whl (25 kB)\n",
      "Downloading pox-0.3.3-py3-none-any.whl (29 kB)\n",
      "Downloading ppft-1.7.6.7-py3-none-any.whl (56 kB)\n",
      "\u001b[2K   \u001b[90m━━━━━━━━━━━━━━━━━━━━━━━━━━━━━━━━━━━━━━━━\u001b[0m \u001b[32m56.8/56.8 kB\u001b[0m \u001b[31m900.4 kB/s\u001b[0m eta \u001b[36m0:00:00\u001b[0ma \u001b[36m0:00:01\u001b[0m\n",
      "\u001b[?25hDownloading pydantic-1.10.13-cp310-cp310-manylinux_2_17_x86_64.manylinux2014_x86_64.whl (3.1 MB)\n",
      "\u001b[2K   \u001b[90m━━━━━━━━━━━━━━━━━━━━━━━━━━━━━━━━━━━━━━━━\u001b[0m \u001b[32m3.1/3.1 MB\u001b[0m \u001b[31m28.1 MB/s\u001b[0m eta \u001b[36m0:00:00\u001b[0m:00:01\u001b[0m\n",
      "\u001b[?25hDownloading referencing-0.32.1-py3-none-any.whl (26 kB)\n",
      "Downloading rpds_py-0.16.2-cp310-cp310-manylinux_2_17_x86_64.manylinux2014_x86_64.whl (1.2 MB)\n",
      "\u001b[2K   \u001b[90m━━━━━━━━━━━━━━━━━━━━━━━━━━━━━━━━━━━━━━━━\u001b[0m \u001b[32m1.2/1.2 MB\u001b[0m \u001b[31m13.9 MB/s\u001b[0m eta \u001b[36m0:00:00\u001b[0m:00:01\u001b[0m\n",
      "\u001b[?25hDownloading s3transfer-0.10.0-py3-none-any.whl (82 kB)\n",
      "\u001b[2K   \u001b[90m━━━━━━━━━━━━━━━━━━━━━━━━━━━━━━━━━━━━━━━━\u001b[0m \u001b[32m82.1/82.1 kB\u001b[0m \u001b[31m1.0 MB/s\u001b[0m eta \u001b[36m0:00:00\u001b[0m0:00:01\u001b[0m\n",
      "\u001b[?25hDownloading starlette-0.27.0-py3-none-any.whl (66 kB)\n",
      "\u001b[2K   \u001b[90m━━━━━━━━━━━━━━━━━━━━━━━━━━━━━━━━━━━━━━━━\u001b[0m \u001b[32m67.0/67.0 kB\u001b[0m \u001b[31m861.0 kB/s\u001b[0m eta \u001b[36m0:00:00\u001b[0ma \u001b[36m0:00:01\u001b[0m\n",
      "\u001b[?25hDownloading zipp-3.17.0-py3-none-any.whl (7.4 kB)\n",
      "Downloading fastjsonschema-2.19.1-py3-none-any.whl (23 kB)\n",
      "Downloading nvidia_nvjitlink_cu12-12.3.101-py3-none-manylinux1_x86_64.whl (20.5 MB)\n",
      "\u001b[2K   \u001b[90m━━━━━━━━━━━━━━━━━━━━━━━━━━━━━━━━━━━━━━━━\u001b[0m \u001b[32m20.5/20.5 MB\u001b[0m \u001b[31m46.4 MB/s\u001b[0m eta \u001b[36m0:00:00\u001b[0m:00:01\u001b[0m00:01\u001b[0m\n",
      "\u001b[?25hDownloading pyarrow_hotfix-0.6-py3-none-any.whl (7.9 kB)\n",
      "Downloading wcwidth-0.2.13-py2.py3-none-any.whl (34 kB)\n",
      "Downloading anyio-4.2.0-py3-none-any.whl (85 kB)\n",
      "\u001b[2K   \u001b[90m━━━━━━━━━━━━━━━━━━━━━━━━━━━━━━━━━━━━━━━━\u001b[0m \u001b[32m85.5/85.5 kB\u001b[0m \u001b[31m1.3 MB/s\u001b[0m eta \u001b[36m0:00:00\u001b[0meta \u001b[36m0:00:01\u001b[0m\n",
      "\u001b[?25hDownloading async_timeout-4.0.3-py3-none-any.whl (5.7 kB)\n",
      "Downloading yarl-1.9.4-cp310-cp310-manylinux_2_17_x86_64.manylinux2014_x86_64.whl (301 kB)\n",
      "\u001b[2K   \u001b[90m━━━━━━━━━━━━━━━━━━━━━━━━━━━━━━━━━━━━━━━━\u001b[0m \u001b[32m301.6/301.6 kB\u001b[0m \u001b[31m4.1 MB/s\u001b[0m eta \u001b[36m0:00:00\u001b[0m:00:01\u001b[0m\n",
      "\u001b[?25hBuilding wheels for collected packages: rouge-score\n",
      "  Building wheel for rouge-score (setup.py) ... \u001b[?25ldone\n",
      "\u001b[?25h  Created wheel for rouge-score: filename=rouge_score-0.1.2-py3-none-any.whl size=24933 sha256=71f71c15a3190f0624eaf0e4a728f256e8440867763c4ad4179155e669bb272c\n",
      "  Stored in directory: /root/.cache/pip/wheels/5f/dd/89/461065a73be61a532ff8599a28e9beef17985c9e9c31e541b4\n",
      "Successfully built rouge-score\n",
      "Installing collected packages: wcwidth, tokenizers, sentencepiece, pytz, pure-eval, ptyprocess, mpmath, fastjsonschema, zipp, xxhash, urllib3, tzdata, typing-extensions, traitlets, tqdm, tornado, threadpoolctl, tblib, tabulate, sympy, sniffio, smdebug-rulesconfig, six, semantic-version, rpds-py, regex, rapidfuzz, pyzmq, pyyaml, pyparsing, pygments, pyarrow-hotfix, psutil, protobuf, prompt-toolkit, ppft, pox, platformdirs, pillow, pexpect, parso, packaging, nvidia-nvtx-cu12, nvidia-nvjitlink-cu12, nvidia-nccl-cu12, nvidia-curand-cu12, nvidia-cufft-cu12, nvidia-cuda-runtime-cu12, nvidia-cuda-nvrtc-cu12, nvidia-cuda-cupti-cu12, nvidia-cublas-cu12, numpy, networkx, nest-asyncio, multidict, msgpack, MarkupSafe, markdown, kiwisolver, joblib, jmespath, idna, h11, fsspec, frozenlist, fonttools, filelock, executing, exceptiongroup, dill, decorator, debugpy, cycler, contextlib2, cloudpickle, click, charset-normalizer, certifi, attrs, async-timeout, absl-py, yarl, uvicorn, triton, scipy, schema, requests, referencing, python-dateutil, pyfunctional, pydantic, pyarrow, nvidia-cusparse-cu12, nvidia-cudnn-cu12, nltk, mypy-boto3-bedrock, multiprocess, matplotlib-inline, jupyter-core, jiwer, jinja2, jedi, importlib-metadata, google-pasta, contourpy, comm, asttokens, anyio, aiosignal, starlette, stack-data, scikit-learn, rouge-score, responses, pathos, pandas, nvidia-cusolver-cu12, matplotlib, jupyter-client, jsonschema-specifications, huggingface-hub, docker, botocore, aiohttp, transformers, torch, s3transfer, jsonschema, IPython, fastapi, ray, nbformat, ipykernel, detoxify, datasets, boto3, bert-score, sagemaker, nbclient, evaluate, testbook, fmeval\n",
      "  Attempting uninstall: wcwidth\n",
      "    Found existing installation: wcwidth 0.2.5\n",
      "    Uninstalling wcwidth-0.2.5:\n",
      "      Successfully uninstalled wcwidth-0.2.5\n",
      "  Attempting uninstall: pytz\n",
      "    Found existing installation: pytz 2022.1\n",
      "    Uninstalling pytz-2022.1:\n",
      "      Successfully uninstalled pytz-2022.1\n",
      "  Attempting uninstall: pure-eval\n",
      "    Found existing installation: pure-eval 0.2.2\n",
      "    Uninstalling pure-eval-0.2.2:\n",
      "      Successfully uninstalled pure-eval-0.2.2\n",
      "  Attempting uninstall: ptyprocess\n",
      "    Found existing installation: ptyprocess 0.7.0\n",
      "    Uninstalling ptyprocess-0.7.0:\n",
      "      Successfully uninstalled ptyprocess-0.7.0\n",
      "  Attempting uninstall: mpmath\n",
      "    Found existing installation: mpmath 1.3.0\n",
      "    Uninstalling mpmath-1.3.0:\n",
      "      Successfully uninstalled mpmath-1.3.0\n",
      "  Attempting uninstall: fastjsonschema\n",
      "    Found existing installation: fastjsonschema 2.16.2\n",
      "    Uninstalling fastjsonschema-2.16.2:\n",
      "      Successfully uninstalled fastjsonschema-2.16.2\n",
      "  Attempting uninstall: zipp\n",
      "    Found existing installation: zipp 3.8.0\n",
      "    Uninstalling zipp-3.8.0:\n",
      "      Successfully uninstalled zipp-3.8.0\n",
      "  Attempting uninstall: urllib3\n",
      "    Found existing installation: urllib3 2.1.0\n",
      "    Uninstalling urllib3-2.1.0:\n",
      "      Successfully uninstalled urllib3-2.1.0\n",
      "  Attempting uninstall: tzdata\n",
      "    Found existing installation: tzdata 2023.3\n",
      "    Uninstalling tzdata-2023.3:\n",
      "      Successfully uninstalled tzdata-2023.3\n",
      "  Attempting uninstall: typing-extensions\n",
      "    Found existing installation: typing_extensions 4.3.0\n",
      "    Uninstalling typing_extensions-4.3.0:\n",
      "      Successfully uninstalled typing_extensions-4.3.0\n",
      "  Attempting uninstall: traitlets\n",
      "    Found existing installation: traitlets 5.14.0\n",
      "    Uninstalling traitlets-5.14.0:\n",
      "      Successfully uninstalled traitlets-5.14.0\n",
      "  Attempting uninstall: tqdm\n",
      "    Found existing installation: tqdm 4.64.1\n",
      "    Uninstalling tqdm-4.64.1:\n",
      "      Successfully uninstalled tqdm-4.64.1\n",
      "  Attempting uninstall: tornado\n",
      "    Found existing installation: tornado 6.4\n",
      "    Uninstalling tornado-6.4:\n",
      "      Successfully uninstalled tornado-6.4\n",
      "  Attempting uninstall: threadpoolctl\n",
      "    Found existing installation: threadpoolctl 2.2.0\n",
      "    Uninstalling threadpoolctl-2.2.0:\n",
      "      Successfully uninstalled threadpoolctl-2.2.0\n",
      "  Attempting uninstall: tblib\n",
      "    Found existing installation: tblib 1.7.0\n",
      "    Uninstalling tblib-1.7.0:\n",
      "      Successfully uninstalled tblib-1.7.0\n",
      "  Attempting uninstall: tabulate\n",
      "    Found existing installation: tabulate 0.8.10\n",
      "    Uninstalling tabulate-0.8.10:\n",
      "      Successfully uninstalled tabulate-0.8.10\n",
      "  Attempting uninstall: sympy\n",
      "    Found existing installation: sympy 1.10.1\n",
      "    Uninstalling sympy-1.10.1:\n",
      "      Successfully uninstalled sympy-1.10.1\n",
      "  Attempting uninstall: sniffio\n",
      "    Found existing installation: sniffio 1.2.0\n",
      "    Uninstalling sniffio-1.2.0:\n",
      "      Successfully uninstalled sniffio-1.2.0\n",
      "  Attempting uninstall: smdebug-rulesconfig\n",
      "    Found existing installation: smdebug-rulesconfig 1.0.1\n",
      "    Uninstalling smdebug-rulesconfig-1.0.1:\n",
      "      Successfully uninstalled smdebug-rulesconfig-1.0.1\n",
      "  Attempting uninstall: six\n",
      "    Found existing installation: six 1.16.0\n",
      "    Uninstalling six-1.16.0:\n",
      "      Successfully uninstalled six-1.16.0\n",
      "  Attempting uninstall: rpds-py\n",
      "    Found existing installation: rpds-py 0.13.2\n",
      "    Uninstalling rpds-py-0.13.2:\n",
      "      Successfully uninstalled rpds-py-0.13.2\n",
      "  Attempting uninstall: regex\n",
      "    Found existing installation: regex 2022.7.9\n",
      "    Uninstalling regex-2022.7.9:\n",
      "      Successfully uninstalled regex-2022.7.9\n",
      "  Attempting uninstall: pyzmq\n",
      "    Found existing installation: pyzmq 25.1.2\n",
      "    Uninstalling pyzmq-25.1.2:\n",
      "      Successfully uninstalled pyzmq-25.1.2\n",
      "  Attempting uninstall: pyyaml\n",
      "    Found existing installation: PyYAML 6.0\n",
      "    Uninstalling PyYAML-6.0:\n",
      "\u001b[33m      WARNING: Cannot remove entries from nonexistent file /opt/conda/lib/python3.10/site-packages/easy-install.pth\u001b[0m\u001b[33m\n",
      "\u001b[0m      Successfully uninstalled PyYAML-6.0\n",
      "  Attempting uninstall: pyparsing\n",
      "    Found existing installation: pyparsing 3.0.9\n",
      "    Uninstalling pyparsing-3.0.9:\n",
      "      Successfully uninstalled pyparsing-3.0.9\n",
      "  Attempting uninstall: pygments\n",
      "    Found existing installation: Pygments 2.17.2\n",
      "    Uninstalling Pygments-2.17.2:\n",
      "      Successfully uninstalled Pygments-2.17.2\n",
      "  Attempting uninstall: psutil\n",
      "    Found existing installation: psutil 5.9.0\n",
      "    Uninstalling psutil-5.9.0:\n",
      "      Successfully uninstalled psutil-5.9.0\n",
      "  Attempting uninstall: protobuf\n",
      "    Found existing installation: protobuf 4.25.1\n",
      "    Uninstalling protobuf-4.25.1:\n",
      "      Successfully uninstalled protobuf-4.25.1\n",
      "  Attempting uninstall: prompt-toolkit\n",
      "    Found existing installation: prompt-toolkit 3.0.41\n",
      "    Uninstalling prompt-toolkit-3.0.41:\n",
      "      Successfully uninstalled prompt-toolkit-3.0.41\n",
      "  Attempting uninstall: ppft\n",
      "    Found existing installation: ppft 1.7.6.7\n",
      "    Uninstalling ppft-1.7.6.7:\n",
      "      Successfully uninstalled ppft-1.7.6.7\n",
      "  Attempting uninstall: pox\n",
      "    Found existing installation: pox 0.3.3\n",
      "    Uninstalling pox-0.3.3:\n",
      "      Successfully uninstalled pox-0.3.3\n",
      "  Attempting uninstall: platformdirs\n",
      "    Found existing installation: platformdirs 2.5.2\n",
      "    Uninstalling platformdirs-2.5.2:\n",
      "      Successfully uninstalled platformdirs-2.5.2\n",
      "  Attempting uninstall: pillow\n",
      "    Found existing installation: Pillow 10.1.0\n",
      "    Uninstalling Pillow-10.1.0:\n",
      "      Successfully uninstalled Pillow-10.1.0\n",
      "  Attempting uninstall: pexpect\n",
      "    Found existing installation: pexpect 4.8.0\n",
      "    Uninstalling pexpect-4.8.0:\n",
      "      Successfully uninstalled pexpect-4.8.0\n",
      "  Attempting uninstall: parso\n",
      "    Found existing installation: parso 0.8.3\n",
      "    Uninstalling parso-0.8.3:\n",
      "      Successfully uninstalled parso-0.8.3\n",
      "  Attempting uninstall: packaging\n",
      "    Found existing installation: packaging 21.3\n",
      "    Uninstalling packaging-21.3:\n",
      "      Successfully uninstalled packaging-21.3\n",
      "  Attempting uninstall: numpy\n",
      "    Found existing installation: numpy 1.26.2\n",
      "    Uninstalling numpy-1.26.2:\n",
      "      Successfully uninstalled numpy-1.26.2\n",
      "  Attempting uninstall: networkx\n",
      "    Found existing installation: networkx 2.8.4\n",
      "    Uninstalling networkx-2.8.4:\n",
      "      Successfully uninstalled networkx-2.8.4\n",
      "  Attempting uninstall: nest-asyncio\n",
      "    Found existing installation: nest-asyncio 1.5.5\n",
      "    Uninstalling nest-asyncio-1.5.5:\n",
      "      Successfully uninstalled nest-asyncio-1.5.5\n",
      "  Attempting uninstall: msgpack\n",
      "    Found existing installation: msgpack 1.0.3\n",
      "    Uninstalling msgpack-1.0.3:\n",
      "      Successfully uninstalled msgpack-1.0.3\n",
      "  Attempting uninstall: MarkupSafe\n",
      "    Found existing installation: MarkupSafe 2.1.3\n",
      "    Uninstalling MarkupSafe-2.1.3:\n",
      "      Successfully uninstalled MarkupSafe-2.1.3\n",
      "  Attempting uninstall: markdown\n",
      "    Found existing installation: Markdown 3.3.4\n",
      "    Uninstalling Markdown-3.3.4:\n",
      "      Successfully uninstalled Markdown-3.3.4\n",
      "  Attempting uninstall: kiwisolver\n",
      "    Found existing installation: kiwisolver 1.4.2\n",
      "    Uninstalling kiwisolver-1.4.2:\n",
      "      Successfully uninstalled kiwisolver-1.4.2\n",
      "  Attempting uninstall: joblib\n",
      "    Found existing installation: joblib 1.3.2\n",
      "    Uninstalling joblib-1.3.2:\n",
      "      Successfully uninstalled joblib-1.3.2\n",
      "  Attempting uninstall: jmespath\n",
      "    Found existing installation: jmespath 0.10.0\n",
      "    Uninstalling jmespath-0.10.0:\n",
      "      Successfully uninstalled jmespath-0.10.0\n",
      "  Attempting uninstall: idna\n",
      "    Found existing installation: idna 3.3\n",
      "    Uninstalling idna-3.3:\n",
      "      Successfully uninstalled idna-3.3\n",
      "  Attempting uninstall: h11\n",
      "    Found existing installation: h11 0.14.0\n",
      "    Uninstalling h11-0.14.0:\n",
      "      Successfully uninstalled h11-0.14.0\n",
      "  Attempting uninstall: fsspec\n",
      "    Found existing installation: fsspec 2022.7.1\n",
      "    Uninstalling fsspec-2022.7.1:\n",
      "      Successfully uninstalled fsspec-2022.7.1\n",
      "  Attempting uninstall: fonttools\n",
      "    Found existing installation: fonttools 4.25.0\n",
      "    Uninstalling fonttools-4.25.0:\n",
      "      Successfully uninstalled fonttools-4.25.0\n",
      "  Attempting uninstall: filelock\n",
      "    Found existing installation: filelock 3.6.0\n",
      "    Uninstalling filelock-3.6.0:\n",
      "      Successfully uninstalled filelock-3.6.0\n",
      "  Attempting uninstall: executing\n",
      "    Found existing installation: executing 2.0.1\n",
      "    Uninstalling executing-2.0.1:\n",
      "      Successfully uninstalled executing-2.0.1\n",
      "  Attempting uninstall: exceptiongroup\n",
      "    Found existing installation: exceptiongroup 1.2.0\n",
      "    Uninstalling exceptiongroup-1.2.0:\n",
      "      Successfully uninstalled exceptiongroup-1.2.0\n",
      "  Attempting uninstall: dill\n",
      "    Found existing installation: dill 0.3.7\n",
      "    Uninstalling dill-0.3.7:\n",
      "      Successfully uninstalled dill-0.3.7\n",
      "  Attempting uninstall: decorator\n",
      "    Found existing installation: decorator 5.1.1\n",
      "    Uninstalling decorator-5.1.1:\n",
      "      Successfully uninstalled decorator-5.1.1\n",
      "  Attempting uninstall: debugpy\n",
      "    Found existing installation: debugpy 1.5.1\n",
      "    Uninstalling debugpy-1.5.1:\n",
      "      Successfully uninstalled debugpy-1.5.1\n",
      "  Attempting uninstall: cycler\n",
      "    Found existing installation: cycler 0.11.0\n",
      "    Uninstalling cycler-0.11.0:\n",
      "      Successfully uninstalled cycler-0.11.0\n",
      "  Attempting uninstall: contextlib2\n",
      "    Found existing installation: contextlib2 21.6.0\n",
      "    Uninstalling contextlib2-21.6.0:\n",
      "      Successfully uninstalled contextlib2-21.6.0\n",
      "  Attempting uninstall: cloudpickle\n",
      "    Found existing installation: cloudpickle 2.2.1\n",
      "    Uninstalling cloudpickle-2.2.1:\n",
      "      Successfully uninstalled cloudpickle-2.2.1\n",
      "  Attempting uninstall: click\n",
      "    Found existing installation: click 8.1.7\n",
      "    Uninstalling click-8.1.7:\n",
      "      Successfully uninstalled click-8.1.7\n",
      "  Attempting uninstall: charset-normalizer\n",
      "    Found existing installation: charset-normalizer 2.0.4\n",
      "    Uninstalling charset-normalizer-2.0.4:\n",
      "      Successfully uninstalled charset-normalizer-2.0.4\n",
      "  Attempting uninstall: certifi\n",
      "    Found existing installation: certifi 2023.11.17\n",
      "    Uninstalling certifi-2023.11.17:\n",
      "      Successfully uninstalled certifi-2023.11.17\n",
      "  Attempting uninstall: attrs\n",
      "    Found existing installation: attrs 23.1.0\n",
      "    Uninstalling attrs-23.1.0:\n",
      "      Successfully uninstalled attrs-23.1.0\n",
      "  Attempting uninstall: uvicorn\n",
      "    Found existing installation: uvicorn 0.22.0\n",
      "    Uninstalling uvicorn-0.22.0:\n",
      "      Successfully uninstalled uvicorn-0.22.0\n",
      "  Attempting uninstall: scipy\n",
      "    Found existing installation: scipy 1.11.4\n",
      "    Uninstalling scipy-1.11.4:\n",
      "      Successfully uninstalled scipy-1.11.4\n",
      "  Attempting uninstall: schema\n",
      "    Found existing installation: schema 0.7.5\n",
      "    Uninstalling schema-0.7.5:\n",
      "      Successfully uninstalled schema-0.7.5\n",
      "  Attempting uninstall: requests\n",
      "    Found existing installation: requests 2.31.0\n",
      "    Uninstalling requests-2.31.0:\n",
      "      Successfully uninstalled requests-2.31.0\n",
      "  Attempting uninstall: referencing\n",
      "    Found existing installation: referencing 0.31.1\n",
      "    Uninstalling referencing-0.31.1:\n",
      "      Successfully uninstalled referencing-0.31.1\n",
      "  Attempting uninstall: python-dateutil\n",
      "    Found existing installation: python-dateutil 2.8.2\n",
      "    Uninstalling python-dateutil-2.8.2:\n",
      "      Successfully uninstalled python-dateutil-2.8.2\n",
      "  Attempting uninstall: pyfunctional\n",
      "    Found existing installation: pyfunctional 1.4.3\n",
      "    Uninstalling pyfunctional-1.4.3:\n",
      "      Successfully uninstalled pyfunctional-1.4.3\n",
      "  Attempting uninstall: pydantic\n",
      "    Found existing installation: pydantic 1.10.13\n",
      "    Uninstalling pydantic-1.10.13:\n",
      "      Successfully uninstalled pydantic-1.10.13\n",
      "  Attempting uninstall: pyarrow\n",
      "    Found existing installation: pyarrow 14.0.1\n",
      "    Uninstalling pyarrow-14.0.1:\n",
      "      Successfully uninstalled pyarrow-14.0.1\n",
      "  Attempting uninstall: nltk\n",
      "    Found existing installation: nltk 3.7\n",
      "    Uninstalling nltk-3.7:\n",
      "      Successfully uninstalled nltk-3.7\n",
      "  Attempting uninstall: multiprocess\n",
      "    Found existing installation: multiprocess 0.70.15\n",
      "    Uninstalling multiprocess-0.70.15:\n",
      "      Successfully uninstalled multiprocess-0.70.15\n",
      "  Attempting uninstall: matplotlib-inline\n",
      "    Found existing installation: matplotlib-inline 0.1.6\n",
      "    Uninstalling matplotlib-inline-0.1.6:\n",
      "      Successfully uninstalled matplotlib-inline-0.1.6\n",
      "  Attempting uninstall: jupyter-core\n",
      "    Found existing installation: jupyter_core 5.5.0\n",
      "    Uninstalling jupyter_core-5.5.0:\n",
      "      Successfully uninstalled jupyter_core-5.5.0\n",
      "  Attempting uninstall: jinja2\n",
      "    Found existing installation: Jinja2 3.1.2\n",
      "    Uninstalling Jinja2-3.1.2:\n",
      "      Successfully uninstalled Jinja2-3.1.2\n",
      "  Attempting uninstall: jedi\n",
      "    Found existing installation: jedi 0.18.1\n",
      "    Uninstalling jedi-0.18.1:\n",
      "      Successfully uninstalled jedi-0.18.1\n",
      "  Attempting uninstall: importlib-metadata\n",
      "    Found existing installation: importlib-metadata 4.11.3\n",
      "    Uninstalling importlib-metadata-4.11.3:\n",
      "      Successfully uninstalled importlib-metadata-4.11.3\n",
      "  Attempting uninstall: google-pasta\n",
      "    Found existing installation: google-pasta 0.2.0\n",
      "    Uninstalling google-pasta-0.2.0:\n",
      "      Successfully uninstalled google-pasta-0.2.0\n",
      "  Attempting uninstall: contourpy\n",
      "    Found existing installation: contourpy 1.2.0\n",
      "    Uninstalling contourpy-1.2.0:\n",
      "      Successfully uninstalled contourpy-1.2.0\n",
      "  Attempting uninstall: comm\n",
      "    Found existing installation: comm 0.1.1\n",
      "    Uninstalling comm-0.1.1:\n",
      "      Successfully uninstalled comm-0.1.1\n",
      "  Attempting uninstall: asttokens\n",
      "    Found existing installation: asttokens 2.4.1\n",
      "    Uninstalling asttokens-2.4.1:\n",
      "      Successfully uninstalled asttokens-2.4.1\n",
      "  Attempting uninstall: anyio\n",
      "    Found existing installation: anyio 3.5.0\n",
      "    Uninstalling anyio-3.5.0:\n",
      "      Successfully uninstalled anyio-3.5.0\n",
      "  Attempting uninstall: starlette\n",
      "    Found existing installation: starlette 0.27.0\n",
      "    Uninstalling starlette-0.27.0:\n",
      "      Successfully uninstalled starlette-0.27.0\n",
      "  Attempting uninstall: stack-data\n",
      "    Found existing installation: stack-data 0.6.3\n",
      "    Uninstalling stack-data-0.6.3:\n",
      "      Successfully uninstalled stack-data-0.6.3\n",
      "  Attempting uninstall: scikit-learn\n",
      "    Found existing installation: scikit-learn 1.3.2\n",
      "    Uninstalling scikit-learn-1.3.2:\n",
      "      Successfully uninstalled scikit-learn-1.3.2\n",
      "  Attempting uninstall: pathos\n",
      "    Found existing installation: pathos 0.3.1\n",
      "    Uninstalling pathos-0.3.1:\n",
      "      Successfully uninstalled pathos-0.3.1\n",
      "  Attempting uninstall: pandas\n",
      "    Found existing installation: pandas 2.1.3\n",
      "    Uninstalling pandas-2.1.3:\n",
      "      Successfully uninstalled pandas-2.1.3\n",
      "  Attempting uninstall: matplotlib\n",
      "    Found existing installation: matplotlib 3.5.2\n",
      "    Uninstalling matplotlib-3.5.2:\n",
      "      Successfully uninstalled matplotlib-3.5.2\n",
      "  Attempting uninstall: jupyter-client\n",
      "    Found existing installation: jupyter_client 8.6.0\n",
      "    Uninstalling jupyter_client-8.6.0:\n",
      "      Successfully uninstalled jupyter_client-8.6.0\n",
      "  Attempting uninstall: jsonschema-specifications\n",
      "    Found existing installation: jsonschema-specifications 2023.11.2\n",
      "    Uninstalling jsonschema-specifications-2023.11.2:\n",
      "      Successfully uninstalled jsonschema-specifications-2023.11.2\n",
      "  Attempting uninstall: docker\n",
      "    Found existing installation: docker 6.1.3\n",
      "    Uninstalling docker-6.1.3:\n",
      "      Successfully uninstalled docker-6.1.3\n",
      "  Attempting uninstall: botocore\n",
      "    Found existing installation: botocore 1.33.9\n",
      "    Uninstalling botocore-1.33.9:\n",
      "      Successfully uninstalled botocore-1.33.9\n",
      "  Attempting uninstall: s3transfer\n",
      "    Found existing installation: s3transfer 0.8.2\n",
      "    Uninstalling s3transfer-0.8.2:\n",
      "      Successfully uninstalled s3transfer-0.8.2\n",
      "  Attempting uninstall: jsonschema\n",
      "    Found existing installation: jsonschema 4.20.0\n",
      "    Uninstalling jsonschema-4.20.0:\n",
      "      Successfully uninstalled jsonschema-4.20.0\n",
      "  Attempting uninstall: IPython\n",
      "    Found existing installation: ipython 8.18.1\n",
      "    Uninstalling ipython-8.18.1:\n",
      "      Successfully uninstalled ipython-8.18.1\n",
      "  Attempting uninstall: fastapi\n",
      "    Found existing installation: fastapi 0.95.2\n",
      "    Uninstalling fastapi-0.95.2:\n",
      "      Successfully uninstalled fastapi-0.95.2\n",
      "  Attempting uninstall: nbformat\n",
      "    Found existing installation: nbformat 5.9.2\n",
      "    Uninstalling nbformat-5.9.2:\n",
      "      Successfully uninstalled nbformat-5.9.2\n",
      "  Attempting uninstall: ipykernel\n",
      "    Found existing installation: ipykernel 6.20.2\n",
      "    Uninstalling ipykernel-6.20.2:\n",
      "      Successfully uninstalled ipykernel-6.20.2\n",
      "  Attempting uninstall: boto3\n",
      "    Found existing installation: boto3 1.33.9\n",
      "    Uninstalling boto3-1.33.9:\n",
      "      Successfully uninstalled boto3-1.33.9\n",
      "  Attempting uninstall: sagemaker\n",
      "    Found existing installation: sagemaker 2.199.0\n",
      "    Uninstalling sagemaker-2.199.0:\n",
      "      Successfully uninstalled sagemaker-2.199.0\n",
      "  Attempting uninstall: nbclient\n",
      "    Found existing installation: nbclient 0.5.13\n",
      "    Uninstalling nbclient-0.5.13:\n",
      "      Successfully uninstalled nbclient-0.5.13\n",
      "\u001b[31mERROR: pip's dependency resolver does not currently take into account all the packages that are installed. This behaviour is the source of the following dependency conflicts.\n",
      "daal4py 2021.6.0 requires daal==2021.4.0, which is not installed.\n",
      "spyder 5.3.3 requires pyqt5<5.16, which is not installed.\n",
      "spyder 5.3.3 requires pyqtwebengine<5.16, which is not installed.\n",
      "awscli 1.31.9 requires botocore==1.33.9, but you have botocore 1.34.15 which is incompatible.\n",
      "awscli 1.31.9 requires s3transfer<0.9.0,>=0.8.0, but you have s3transfer 0.10.0 which is incompatible.\n",
      "distributed 2022.7.0 requires tornado<6.2,>=6.0.3, but you have tornado 6.4 which is incompatible.\n",
      "jupyterlab 3.4.4 requires jupyter-server~=1.16, but you have jupyter-server 2.12.1 which is incompatible.\n",
      "jupyterlab-server 2.10.3 requires jupyter-server~=1.4, but you have jupyter-server 2.12.1 which is incompatible.\n",
      "notebook 6.5.6 requires jupyter-client<8,>=5.3.4, but you have jupyter-client 8.6.0 which is incompatible.\n",
      "notebook 6.5.6 requires pyzmq<25,>=17, but you have pyzmq 25.1.2 which is incompatible.\n",
      "numba 0.55.1 requires numpy<1.22,>=1.18, but you have numpy 1.26.3 which is incompatible.\n",
      "panel 0.13.1 requires bokeh<2.5.0,>=2.4.0, but you have bokeh 3.3.2 which is incompatible.\n",
      "python-lsp-server 1.5.0 requires jedi<0.19.0,>=0.17.2, but you have jedi 0.19.1 which is incompatible.\n",
      "sagemaker-datawrangler 0.4.3 requires sagemaker-data-insights==0.4.0, but you have sagemaker-data-insights 0.3.3 which is incompatible.\n",
      "sparkmagic 0.20.4 requires nest-asyncio==1.5.5, but you have nest-asyncio 1.5.8 which is incompatible.\n",
      "spyder 5.3.3 requires ipython<8.0.0,>=7.31.1, but you have ipython 8.20.0 which is incompatible.\n",
      "spyder 5.3.3 requires jedi<0.19.0,>=0.17.2, but you have jedi 0.19.1 which is incompatible.\n",
      "spyder 5.3.3 requires pylint<3.0,>=2.5.0, but you have pylint 3.0.2 which is incompatible.\n",
      "spyder-kernels 2.3.3 requires ipython<8,>=7.31.1; python_version >= \"3\", but you have ipython 8.20.0 which is incompatible.\n",
      "spyder-kernels 2.3.3 requires jupyter-client<8,>=7.3.4; python_version >= \"3\", but you have jupyter-client 8.6.0 which is incompatible.\u001b[0m\u001b[31m\n",
      "\u001b[0mSuccessfully installed IPython-8.20.0 MarkupSafe-2.1.3 absl-py-2.0.0 aiohttp-3.9.1 aiosignal-1.3.1 anyio-4.2.0 asttokens-2.4.1 async-timeout-4.0.3 attrs-23.2.0 bert-score-0.3.13 boto3-1.34.15 botocore-1.34.15 certifi-2023.11.17 charset-normalizer-3.3.2 click-8.1.7 cloudpickle-2.2.1 comm-0.2.1 contextlib2-21.6.0 contourpy-1.2.0 cycler-0.12.1 datasets-2.16.1 debugpy-1.8.0 decorator-5.1.1 detoxify-0.5.1 dill-0.3.7 docker-7.0.0 evaluate-0.4.1 exceptiongroup-1.2.0 executing-2.0.1 fastapi-0.95.2 fastjsonschema-2.19.1 filelock-3.13.1 fmeval-0.3.0 fonttools-4.47.0 frozenlist-1.4.1 fsspec-2023.10.0 google-pasta-0.2.0 h11-0.14.0 huggingface-hub-0.20.2 idna-3.6 importlib-metadata-6.11.0 ipykernel-6.28.0 jedi-0.19.1 jinja2-3.1.2 jiwer-3.0.3 jmespath-1.0.1 joblib-1.3.2 jsonschema-4.20.0 jsonschema-specifications-2023.12.1 jupyter-client-8.6.0 jupyter-core-5.7.1 kiwisolver-1.4.5 markdown-3.5.1 matplotlib-3.8.2 matplotlib-inline-0.1.6 mpmath-1.3.0 msgpack-1.0.7 multidict-6.0.4 multiprocess-0.70.15 mypy-boto3-bedrock-1.34.0 nbclient-0.9.0 nbformat-5.9.2 nest-asyncio-1.5.8 networkx-3.2.1 nltk-3.8.1 numpy-1.26.3 nvidia-cublas-cu12-12.1.3.1 nvidia-cuda-cupti-cu12-12.1.105 nvidia-cuda-nvrtc-cu12-12.1.105 nvidia-cuda-runtime-cu12-12.1.105 nvidia-cudnn-cu12-8.9.2.26 nvidia-cufft-cu12-11.0.2.54 nvidia-curand-cu12-10.3.2.106 nvidia-cusolver-cu12-11.4.5.107 nvidia-cusparse-cu12-12.1.0.106 nvidia-nccl-cu12-2.18.1 nvidia-nvjitlink-cu12-12.3.101 nvidia-nvtx-cu12-12.1.105 packaging-23.2 pandas-2.1.4 parso-0.8.3 pathos-0.3.1 pexpect-4.9.0 pillow-10.2.0 platformdirs-4.1.0 pox-0.3.3 ppft-1.7.6.7 prompt-toolkit-3.0.43 protobuf-4.25.1 psutil-5.9.7 ptyprocess-0.7.0 pure-eval-0.2.2 pyarrow-14.0.2 pyarrow-hotfix-0.6 pydantic-1.10.13 pyfunctional-1.4.3 pygments-2.17.2 pyparsing-3.1.1 python-dateutil-2.8.2 pytz-2023.3.post1 pyyaml-6.0.1 pyzmq-25.1.2 rapidfuzz-3.6.1 ray-2.7.1 referencing-0.32.1 regex-2023.12.25 requests-2.31.0 responses-0.18.0 rouge-score-0.1.2 rpds-py-0.16.2 s3transfer-0.10.0 sagemaker-2.203.0 schema-0.7.5 scikit-learn-1.3.2 scipy-1.11.4 semantic-version-2.10.0 sentencepiece-0.1.99 six-1.16.0 smdebug-rulesconfig-1.0.1 sniffio-1.3.0 stack-data-0.6.3 starlette-0.27.0 sympy-1.12 tabulate-0.9.0 tblib-2.0.0 testbook-0.4.2 threadpoolctl-3.2.0 tokenizers-0.12.1 torch-2.1.2 tornado-6.4 tqdm-4.66.1 traitlets-5.14.1 transformers-4.22.1 triton-2.1.0 typing-extensions-4.9.0 tzdata-2023.4 urllib3-1.26.18 uvicorn-0.22.0 wcwidth-0.2.13 xxhash-3.4.1 yarl-1.9.4 zipp-3.17.0\n",
      "\u001b[33mWARNING: Running pip as the 'root' user can result in broken permissions and conflicting behaviour with the system package manager. It is recommended to use a virtual environment instead: https://pip.pypa.io/warnings/venv\u001b[0m\u001b[33m\n",
      "\u001b[0m\n",
      "\u001b[1m[\u001b[0m\u001b[34;49mnotice\u001b[0m\u001b[1;39;49m]\u001b[0m\u001b[39;49m A new release of pip is available: \u001b[0m\u001b[31;49m23.3.1\u001b[0m\u001b[39;49m -> \u001b[0m\u001b[32;49m23.3.2\u001b[0m\n",
      "\u001b[1m[\u001b[0m\u001b[34;49mnotice\u001b[0m\u001b[1;39;49m]\u001b[0m\u001b[39;49m To update, run: \u001b[0m\u001b[32;49mpip install --upgrade pip\u001b[0m\n"
     ]
    }
   ],
   "source": [
    "# Install the fmeval package\n",
    "\n",
    "!rm -Rf ~/.cache/pip/*\n",
    "!pip3 install fmeval --upgrade-strategy only-if-needed --force-reinstall\n"
   ]
  },
  {
   "cell_type": "code",
   "execution_count": null,
   "id": "5592b433-d712-4184-9f45-4d1d0a11e748",
   "metadata": {
    "tags": []
   },
   "outputs": [],
   "source": [
    "!pip3 install sagemaker"
   ]
  },
  {
   "cell_type": "markdown",
   "id": "3d0207e0-76f3-4b29-b02d-5efaa826b529",
   "metadata": {},
   "source": [
    "### JumpStart Endpoint Creation"
   ]
  },
  {
   "cell_type": "markdown",
   "id": "4109e3ef-50e5-447e-acfc-d70dca807365",
   "metadata": {},
   "source": [
    "First we will deploy the Llama-2 model as a SageMaker endpoint. To train/deploy 13B and 70B models, please change model_id to \"meta-textgeneration-llama-2-7b\" and \"meta-textgeneration-llama-2-70b\" respectively.\n",
    "\n"
   ]
  },
  {
   "cell_type": "code",
   "execution_count": 20,
   "id": "cc4c57b7-12a1-43a6-be06-c19fe254d6e5",
   "metadata": {
    "tags": []
   },
   "outputs": [],
   "source": [
    "import sagemaker\n",
    "from sagemaker.jumpstart.model import JumpStartModel\n",
    "\n",
    "# These are needed, even if you use an existing endpoint, by a cell later in this notebook.\n",
    "model_id, model_version = \"meta-textgeneration-llama-2-7b-f\", \"*\"\n"
   ]
  },
  {
   "cell_type": "code",
   "execution_count": 21,
   "id": "b33d7856-10a2-40cd-b1ea-cc4e4b4d8155",
   "metadata": {
    "tags": []
   },
   "outputs": [
    {
     "name": "stderr",
     "output_type": "stream",
     "text": [
      "Using model 'meta-textgeneration-llama-2-7b-f' with wildcard version identifier '*'. You can pin to version '3.0.2' for more stable results. Note that models may have different input/output signatures after a major version upgrade.\n",
      "WARNING:sagemaker.jumpstart:Using model 'meta-textgeneration-llama-2-7b-f' with wildcard version identifier '*'. You can pin to version '3.0.2' for more stable results. Note that models may have different input/output signatures after a major version upgrade.\n"
     ]
    },
    {
     "name": "stdout",
     "output_type": "stream",
     "text": [
      "---------!"
     ]
    }
   ],
   "source": [
    "pretrained_model = JumpStartModel(model_id=model_id)\n",
    "predictor = pretrained_model.deploy(accept_eula=True)"
   ]
  },
  {
   "cell_type": "code",
   "execution_count": 3,
   "id": "56eb75a4-b1f7-4cbf-a109-8f0a6f7d4371",
   "metadata": {
    "tags": []
   },
   "outputs": [],
   "source": [
    "# Uncomment the lines below and fill in the endpoint name if you have an existing endpoint.\n",
    "# endpoint_name = \"meta-textgeneration-llama-2-7b-2024-01-09-18-10-40-222\"\n",
    "# predictor = sagemaker.predictor.Predictor(\n",
    "#     endpoint_name=endpoint_name,\n",
    "#     serializer=sagemaker.serializers.JSONSerializer(),\n",
    "#     deserializer = sagemaker.deserializers.JSONDeserializer()\n",
    "# )\n"
   ]
  },
  {
   "cell_type": "markdown",
   "id": "cdcfccb0-7d6f-4175-8fa8-d73485024cc5",
   "metadata": {},
   "source": [
    "### Sample endpoint invocation"
   ]
  },
  {
   "cell_type": "code",
   "execution_count": 22,
   "id": "9a116cc2-1038-45a7-b6ed-a39a9df267cc",
   "metadata": {
    "tags": []
   },
   "outputs": [
    {
     "name": "stdout",
     "output_type": "stream",
     "text": [
      "{'generated_text': ' England and the United Kingdom, located in the southeastern part of the island of Great Britain. It is a global financial and cultural hub, known for its iconic landmarks, rich history, and diverse culture. London has a population of over 8.9 million people, making it one of the most populous cities in Europe.\\n\\nLondon is home to many famous landmarks, including Buckingham Palace, the official residence of the British monarch; the Houses of Parliament, which houses the British Parliament; and Westminster Abbey, a UNESCO World Heritage Site and one of the most iconic churches in the world. The city is also known for its vibrant cultural scene, with over 200 museums, galleries, and theaters, including the British Museum, the National Gallery, and the Royal Opera House.\\n\\nLondon has a long history, dating back to the Roman era, and has played a significant role in'}\n",
      "CPU times: user 21.4 ms, sys: 5.36 ms, total: 26.7 ms\n",
      "Wall time: 6.34 s\n"
     ]
    }
   ],
   "source": [
    "%%time\n",
    "\n",
    "prompt = \"London is the capital of\"\n",
    "payload = {\n",
    "    \"inputs\": prompt,\n",
    "    \"parameters\": {\n",
    "        \"top_p\": 0.9,\n",
    "        \"temperature\": 0.9,\n",
    "        \"max_new_tokens\": 200,\n",
    "    },\n",
    "}\n",
    "\n",
    "response = predictor.predict(payload)\n",
    "print(response[0])"
   ]
  },
  {
   "cell_type": "markdown",
   "id": "ed25bb84-d491-4c15-9ab2-7d30bc263293",
   "metadata": {},
   "source": [
    "### FMEval Setup"
   ]
  },
  {
   "cell_type": "code",
   "execution_count": 23,
   "id": "e906bf1a-d0a9-40f8-bd71-cf776b67bbd3",
   "metadata": {
    "tags": []
   },
   "outputs": [],
   "source": [
    "from fmeval.data_loaders.data_config import DataConfig\n",
    "from fmeval.constants import MIME_TYPE_JSONLINES\n",
    "from fmeval.model_runners.sm_jumpstart_model_runner import JumpStartModelRunner\n",
    "from fmeval.eval_algorithms.factual_knowledge import FactualKnowledge, FactualKnowledgeConfig"
   ]
  },
  {
   "cell_type": "markdown",
   "id": "c2d23755-df4a-4b89-854b-54b29bc955b2",
   "metadata": {},
   "source": [
    "### Evaluate the model on a single sample"
   ]
  },
  {
   "cell_type": "code",
   "execution_count": 24,
   "id": "57ad32a2-afbf-4a34-a582-d88451f4e9c1",
   "metadata": {
    "tags": []
   },
   "outputs": [
    {
     "name": "stdout",
     "output_type": "stream",
     "text": [
      " England and the United Kingdom. It is a global city, known for its history, culture, and entertainment. London has a population of over 8 million people and is home to many famous landmarks, such as Buckingham Palace, the Tower of London, and Big Ben.\n",
      "London has a rich history, dating back to Roman times. The city has been the capital of England since the 11th century and has played a significant role in many historical events, including the\n"
     ]
    },
    {
     "data": {
      "text/plain": [
       "[EvalScore(name='factual_knowledge', value=1)]"
      ]
     },
     "execution_count": 24,
     "metadata": {},
     "output_type": "execute_result"
    }
   ],
   "source": [
    "eval_algo = FactualKnowledge(FactualKnowledgeConfig(\"<OR>\"))\n",
    "\n",
    "prompt = \"London is the capital of\"\n",
    "payload = {\n",
    "    \"inputs\": prompt,\n",
    "    \"parameters\": {\n",
    "        \"top_p\": 0.9,\n",
    "        \"temperature\": 0.8,\n",
    "        \"max_new_tokens\": 100,\n",
    "    },\n",
    "}\n",
    "\n",
    "model_output = predictor.predict(payload)[0][\"generated_text\"]\n",
    "print(model_output)\n",
    "\n",
    "eval_algo.evaluate_sample(target_output=\"UK<OR>England<OR>United Kingdom\", model_output=model_output)"
   ]
  },
  {
   "cell_type": "markdown",
   "id": "6c358f4e-e594-4df1-92cc-516951555344",
   "metadata": {},
   "source": [
    "### Evaluate the model using a dataset"
   ]
  },
  {
   "cell_type": "markdown",
   "id": "3bdabc05-3f81-4c4a-950d-70456fcd6f7f",
   "metadata": {},
   "source": [
    "## Data Config Setup\n",
    "\n",
    "Below, we create a DataConfig for the local dataset file, trex_sample.jsonl.\n",
    "\n",
    "- `dataset_name` is just an identifier for your own reference\n",
    "- `dataset_uri` is either a local path to a file or an S3 URI\n",
    "- `dataset_mime_type` is the MIME type of the dataset. Currently, JSON and JSON Lines are supported.\n",
    "- `model_input_location` and `target_output_location` are JMESPath queries used to find the model inputs and target outputs within the dataset. category_location similarly is used to find information about the category that the sample belongs to. The values that you specify here depend on the structure of the dataset itself. Take a look at trex_sample.jsonl to see where \"question\", \"answers\", and \"knowledge_category\" show up."
   ]
  },
  {
   "cell_type": "code",
   "execution_count": 25,
   "id": "0d90f248-033b-425f-9939-222b5b82c572",
   "metadata": {
    "tags": []
   },
   "outputs": [],
   "source": [
    "config = DataConfig(\n",
    "    dataset_name=\"trex_sample\",\n",
    "    dataset_uri=\"trex_sample.jsonl\",\n",
    "    dataset_mime_type=MIME_TYPE_JSONLINES,\n",
    "    model_input_location=\"question\",\n",
    "    target_output_location=\"answers\",\n",
    "    category_location=\"knowledge_category\",\n",
    ")"
   ]
  },
  {
   "cell_type": "markdown",
   "id": "eee8b92f-a563-4cf0-b5f7-ac6bfaaf774d",
   "metadata": {},
   "source": [
    "### Model Runner setup"
   ]
  },
  {
   "cell_type": "code",
   "execution_count": 26,
   "id": "796bcf81-d092-458b-97c9-c7ff3cb8086c",
   "metadata": {
    "tags": []
   },
   "outputs": [
    {
     "name": "stderr",
     "output_type": "stream",
     "text": [
      "Using model 'meta-textgeneration-llama-2-7b-f' with wildcard version identifier '*'. You can pin to version '3.0.2' for more stable results. Note that models may have different input/output signatures after a major version upgrade.\n",
      "WARNING:sagemaker.jumpstart:Using model 'meta-textgeneration-llama-2-7b-f' with wildcard version identifier '*'. You can pin to version '3.0.2' for more stable results. Note that models may have different input/output signatures after a major version upgrade.\n"
     ]
    }
   ],
   "source": [
    "js_model_runner = JumpStartModelRunner(\n",
    "    endpoint_name=endpoint_name,\n",
    "    model_id=model_id,\n",
    "    model_version=model_version,\n",
    "    output='[0].generated_text',\n",
    "    # log_probability='[0].details.prefill[*].logprob',\n",
    "    content_template='{\"inputs\": $prompt, \"parameters\": { \"top_p\": 0.9, \"temperature\": 0.8, \"max_new_tokens\": 200}}',\n",
    ")"
   ]
  },
  {
   "cell_type": "markdown",
   "id": "aa27201b-cb41-4542-8307-e3bd991e1086",
   "metadata": {
    "tags": []
   },
   "source": [
    "### Run Evaluation"
   ]
  },
  {
   "cell_type": "code",
   "execution_count": 27,
   "id": "86f07c3f-86fe-4447-b13a-0164084f5192",
   "metadata": {
    "tags": []
   },
   "outputs": [
    {
     "name": "stderr",
     "output_type": "stream",
     "text": [
      "2024-01-09 19:49:40,875\tINFO read_api.py:406 -- To satisfy the requested parallelism of 8, each read task output is split into 8 smaller blocks.\n"
     ]
    },
    {
     "data": {
      "application/vnd.jupyter.widget-view+json": {
       "model_id": "",
       "version_major": 2,
       "version_minor": 0
      },
      "text/plain": [
       "Read progress 0:   0%|          | 0/1 [00:00<?, ?it/s]"
      ]
     },
     "metadata": {},
     "output_type": "display_data"
    },
    {
     "data": {
      "application/vnd.jupyter.widget-view+json": {
       "model_id": "",
       "version_major": 2,
       "version_minor": 0
      },
      "text/plain": [
       "Read progress 0:   0%|          | 0/1 [00:00<?, ?it/s]"
      ]
     },
     "metadata": {},
     "output_type": "display_data"
    },
    {
     "name": "stderr",
     "output_type": "stream",
     "text": [
      "/opt/conda/lib/python3.10/site-packages/ray/data/_internal/arrow_block.py:128: FutureWarning: promote has been superseded by mode='default'.\n",
      "  return transform_pyarrow.concat(tables)\n",
      "2024-01-09 19:49:40,938\tINFO streaming_executor.py:93 -- Executing DAG InputDataBuffer[Input] -> AllToAllOperator[Repartition]\n",
      "2024-01-09 19:49:40,939\tINFO streaming_executor.py:94 -- Execution config: ExecutionOptions(resource_limits=ExecutionResources(cpu=None, gpu=None, object_store_memory=None), locality_with_output=False, preserve_order=True, actor_locality_enabled=True, verbose_progress=False)\n",
      "2024-01-09 19:49:40,939\tINFO streaming_executor.py:96 -- Tip: For detailed progress reporting, run `ray.data.DataContext.get_current().execution_options.verbose_progress = True`\n"
     ]
    },
    {
     "data": {
      "application/vnd.jupyter.widget-view+json": {
       "model_id": "",
       "version_major": 2,
       "version_minor": 0
      },
      "text/plain": [
       "- Repartition 1:   0%|          | 0/15 [00:00<?, ?it/s]"
      ]
     },
     "metadata": {},
     "output_type": "display_data"
    },
    {
     "data": {
      "application/vnd.jupyter.widget-view+json": {
       "model_id": "",
       "version_major": 2,
       "version_minor": 0
      },
      "text/plain": [
       "Split Repartition 2:   0%|          | 0/15 [00:00<?, ?it/s]"
      ]
     },
     "metadata": {},
     "output_type": "display_data"
    },
    {
     "data": {
      "application/vnd.jupyter.widget-view+json": {
       "model_id": "",
       "version_major": 2,
       "version_minor": 0
      },
      "text/plain": [
       "Running 0:   0%|          | 0/15 [00:00<?, ?it/s]"
      ]
     },
     "metadata": {},
     "output_type": "display_data"
    },
    {
     "name": "stderr",
     "output_type": "stream",
     "text": [
      "2024-01-09 19:49:41,033\tINFO streaming_executor.py:93 -- Executing DAG InputDataBuffer[Input] -> TaskPoolMapOperator[MapBatches(process_batch)]\n",
      "2024-01-09 19:49:41,034\tINFO streaming_executor.py:94 -- Execution config: ExecutionOptions(resource_limits=ExecutionResources(cpu=None, gpu=None, object_store_memory=None), locality_with_output=False, preserve_order=True, actor_locality_enabled=True, verbose_progress=False)\n",
      "2024-01-09 19:49:41,035\tINFO streaming_executor.py:96 -- Tip: For detailed progress reporting, run `ray.data.DataContext.get_current().execution_options.verbose_progress = True`\n"
     ]
    },
    {
     "data": {
      "application/vnd.jupyter.widget-view+json": {
       "model_id": "",
       "version_major": 2,
       "version_minor": 0
      },
      "text/plain": [
       "Running 0:   0%|          | 0/15 [00:00<?, ?it/s]"
      ]
     },
     "metadata": {},
     "output_type": "display_data"
    },
    {
     "name": "stderr",
     "output_type": "stream",
     "text": [
      "2024-01-09 19:49:41,140\tINFO streaming_executor.py:93 -- Executing DAG InputDataBuffer[Input] -> ActorPoolMapOperator[Map(ModelRunnerWrapper)]\n",
      "2024-01-09 19:49:41,140\tINFO streaming_executor.py:94 -- Execution config: ExecutionOptions(resource_limits=ExecutionResources(cpu=None, gpu=None, object_store_memory=None), locality_with_output=False, preserve_order=True, actor_locality_enabled=True, verbose_progress=False)\n",
      "2024-01-09 19:49:41,141\tINFO streaming_executor.py:96 -- Tip: For detailed progress reporting, run `ray.data.DataContext.get_current().execution_options.verbose_progress = True`\n",
      "2024-01-09 19:49:41,163\tINFO actor_pool_map_operator.py:106 -- Map(ModelRunnerWrapper): Waiting for 3 pool actors to start...\n"
     ]
    },
    {
     "name": "stdout",
     "output_type": "stream",
     "text": [
      "\u001b[2m\u001b[36m(_MapWorker pid=1516)\u001b[0m sagemaker.config INFO - Not applying SDK defaults from location: /etc/xdg/sagemaker/config.yaml\n",
      "\u001b[2m\u001b[36m(_MapWorker pid=1516)\u001b[0m sagemaker.config INFO - Not applying SDK defaults from location: /root/.config/sagemaker/config.yaml\n"
     ]
    },
    {
     "name": "stderr",
     "output_type": "stream",
     "text": [
      "\u001b[2m\u001b[36m(_MapWorker pid=1516)\u001b[0m Using model 'meta-textgeneration-llama-2-7b-f' with wildcard version identifier '*'. You can pin to version '3.0.2' for more stable results. Note that models may have different input/output signatures after a major version upgrade.\n"
     ]
    },
    {
     "data": {
      "application/vnd.jupyter.widget-view+json": {
       "model_id": "",
       "version_major": 2,
       "version_minor": 0
      },
      "text/plain": [
       "Running 0:   0%|          | 0/15 [00:00<?, ?it/s]"
      ]
     },
     "metadata": {},
     "output_type": "display_data"
    },
    {
     "name": "stderr",
     "output_type": "stream",
     "text": [
      "\u001b[2m\u001b[36m(MapWorker(Map(ModelRunnerWrapper)) pid=1516)\u001b[0m Unable to fetch log_probability from model response: Extractor cannot extract log_probability as log_probability_jmespath_expression is not provided\n",
      "\u001b[2m\u001b[36m(_MapWorker pid=1518)\u001b[0m Using model 'meta-textgeneration-llama-2-7b-f' with wildcard version identifier '*'. You can pin to version '3.0.2' for more stable results. Note that models may have different input/output signatures after a major version upgrade.\u001b[32m [repeated 2x across cluster]\u001b[0m\n",
      "\u001b[2m\u001b[36m(MapWorker(Map(ModelRunnerWrapper)) pid=1516)\u001b[0m Unable to fetch log_probability from model response: Extractor cannot extract log_probability as log_probability_jmespath_expression is not provided\u001b[32m [repeated 3x across cluster]\u001b[0m\n",
      "\u001b[2m\u001b[36m(MapWorker(Map(ModelRunnerWrapper)) pid=1516)\u001b[0m Unable to fetch log_probability from model response: Extractor cannot extract log_probability as log_probability_jmespath_expression is not provided\u001b[32m [repeated 3x across cluster]\u001b[0m\n",
      "\u001b[2m\u001b[36m(MapWorker(Map(ModelRunnerWrapper)) pid=1517)\u001b[0m Unable to fetch log_probability from model response: Extractor cannot extract log_probability as log_probability_jmespath_expression is not provided\u001b[32m [repeated 3x across cluster]\u001b[0m\n",
      "\u001b[2m\u001b[36m(MapWorker(Map(ModelRunnerWrapper)) pid=1517)\u001b[0m Unable to fetch log_probability from model response: Extractor cannot extract log_probability as log_probability_jmespath_expression is not provided\u001b[32m [repeated 3x across cluster]\u001b[0m\n",
      "\u001b[2m\u001b[36m(MapWorker(Map(ModelRunnerWrapper)) pid=1517)\u001b[0m Unable to fetch log_probability from model response: Extractor cannot extract log_probability as log_probability_jmespath_expression is not provided\u001b[32m [repeated 3x across cluster]\u001b[0m\n",
      "\u001b[2m\u001b[36m(MapWorker(Map(ModelRunnerWrapper)) pid=1517)\u001b[0m Unable to fetch log_probability from model response: Extractor cannot extract log_probability as log_probability_jmespath_expression is not provided\u001b[32m [repeated 3x across cluster]\u001b[0m\n",
      "\u001b[2m\u001b[36m(MapWorker(Map(ModelRunnerWrapper)) pid=1517)\u001b[0m Unable to fetch log_probability from model response: Extractor cannot extract log_probability as log_probability_jmespath_expression is not provided\u001b[32m [repeated 3x across cluster]\u001b[0m\n",
      "\u001b[2m\u001b[36m(MapWorker(Map(ModelRunnerWrapper)) pid=1517)\u001b[0m Unable to fetch log_probability from model response: Extractor cannot extract log_probability as log_probability_jmespath_expression is not provided\u001b[32m [repeated 3x across cluster]\u001b[0m\n",
      "\u001b[2m\u001b[36m(MapWorker(Map(ModelRunnerWrapper)) pid=1517)\u001b[0m Unable to fetch log_probability from model response: Extractor cannot extract log_probability as log_probability_jmespath_expression is not provided\u001b[32m [repeated 3x across cluster]\u001b[0m\n",
      "\u001b[2m\u001b[36m(MapWorker(Map(ModelRunnerWrapper)) pid=1517)\u001b[0m Unable to fetch log_probability from model response: Extractor cannot extract log_probability as log_probability_jmespath_expression is not provided\u001b[32m [repeated 3x across cluster]\u001b[0m\n",
      "\u001b[2m\u001b[36m(MapWorker(Map(ModelRunnerWrapper)) pid=1517)\u001b[0m Unable to fetch log_probability from model response: Extractor cannot extract log_probability as log_probability_jmespath_expression is not provided\u001b[32m [repeated 3x across cluster]\u001b[0m\n",
      "\u001b[2m\u001b[36m(MapWorker(Map(ModelRunnerWrapper)) pid=1517)\u001b[0m Unable to fetch log_probability from model response: Extractor cannot extract log_probability as log_probability_jmespath_expression is not provided\u001b[32m [repeated 3x across cluster]\u001b[0m\n",
      "\u001b[2m\u001b[36m(MapWorker(Map(ModelRunnerWrapper)) pid=1517)\u001b[0m Unable to fetch log_probability from model response: Extractor cannot extract log_probability as log_probability_jmespath_expression is not provided\u001b[32m [repeated 3x across cluster]\u001b[0m\n",
      "\u001b[2m\u001b[36m(MapWorker(Map(ModelRunnerWrapper)) pid=1517)\u001b[0m Unable to fetch log_probability from model response: Extractor cannot extract log_probability as log_probability_jmespath_expression is not provided\u001b[32m [repeated 3x across cluster]\u001b[0m\n",
      "\u001b[2m\u001b[36m(MapWorker(Map(ModelRunnerWrapper)) pid=1516)\u001b[0m Unable to fetch log_probability from model response: Extractor cannot extract log_probability as log_probability_jmespath_expression is not provided\u001b[32m [repeated 3x across cluster]\u001b[0m\n",
      "\u001b[2m\u001b[36m(MapWorker(Map(ModelRunnerWrapper)) pid=1518)\u001b[0m Unable to fetch log_probability from model response: Extractor cannot extract log_probability as log_probability_jmespath_expression is not provided\u001b[32m [repeated 2x across cluster]\u001b[0m\n",
      "\u001b[2m\u001b[36m(MapWorker(Map(ModelRunnerWrapper)) pid=1518)\u001b[0m Unable to fetch log_probability from model response: Extractor cannot extract log_probability as log_probability_jmespath_expression is not provided\n",
      "2024-01-09 19:51:46,901\tINFO streaming_executor.py:93 -- Executing DAG InputDataBuffer[Input] -> TaskPoolMapOperator[Map(_generate_eval_scores)] -> AllToAllOperator[Aggregate] -> LimitOperator[limit=1]\n",
      "2024-01-09 19:51:46,902\tINFO streaming_executor.py:94 -- Execution config: ExecutionOptions(resource_limits=ExecutionResources(cpu=None, gpu=None, object_store_memory=None), locality_with_output=False, preserve_order=True, actor_locality_enabled=True, verbose_progress=False)\n",
      "2024-01-09 19:51:46,903\tINFO streaming_executor.py:96 -- Tip: For detailed progress reporting, run `ray.data.DataContext.get_current().execution_options.verbose_progress = True`\n"
     ]
    },
    {
     "data": {
      "application/vnd.jupyter.widget-view+json": {
       "model_id": "",
       "version_major": 2,
       "version_minor": 0
      },
      "text/plain": [
       "- Aggregate 1:   0%|          | 0/15 [00:00<?, ?it/s]"
      ]
     },
     "metadata": {},
     "output_type": "display_data"
    },
    {
     "name": "stderr",
     "output_type": "stream",
     "text": [
      "\u001b[2m\u001b[36m(MapWorker(Map(ModelRunnerWrapper)) pid=1518)\u001b[0m Unable to fetch log_probability from model response: Extractor cannot extract log_probability as log_probability_jmespath_expression is not provided\n"
     ]
    },
    {
     "data": {
      "application/vnd.jupyter.widget-view+json": {
       "model_id": "",
       "version_major": 2,
       "version_minor": 0
      },
      "text/plain": [
       "Shuffle Map 2:   0%|          | 0/15 [00:00<?, ?it/s]"
      ]
     },
     "metadata": {},
     "output_type": "display_data"
    },
    {
     "data": {
      "application/vnd.jupyter.widget-view+json": {
       "model_id": "",
       "version_major": 2,
       "version_minor": 0
      },
      "text/plain": [
       "Shuffle Reduce 3:   0%|          | 0/15 [00:00<?, ?it/s]"
      ]
     },
     "metadata": {},
     "output_type": "display_data"
    },
    {
     "data": {
      "application/vnd.jupyter.widget-view+json": {
       "model_id": "",
       "version_major": 2,
       "version_minor": 0
      },
      "text/plain": [
       "Running 0:   0%|          | 0/1 [00:00<?, ?it/s]"
      ]
     },
     "metadata": {},
     "output_type": "display_data"
    },
    {
     "name": "stdout",
     "output_type": "stream",
     "text": [
      "\u001b[2m\u001b[36m(Map(_generate_eval_scores) pid=1607)\u001b[0m sagemaker.config INFO - Not applying SDK defaults from location: /etc/xdg/sagemaker/config.yaml\u001b[32m [repeated 3x across cluster]\u001b[0m\n",
      "\u001b[2m\u001b[36m(Map(_generate_eval_scores) pid=1607)\u001b[0m sagemaker.config INFO - Not applying SDK defaults from location: /root/.config/sagemaker/config.yaml\u001b[32m [repeated 3x across cluster]\u001b[0m\n"
     ]
    },
    {
     "name": "stderr",
     "output_type": "stream",
     "text": [
      "2024-01-09 19:51:49,390\tINFO streaming_executor.py:93 -- Executing DAG InputDataBuffer[Input] -> TaskPoolMapOperator[Map(_generate_eval_scores)] -> LimitOperator[limit=1]\n",
      "2024-01-09 19:51:49,391\tINFO streaming_executor.py:94 -- Execution config: ExecutionOptions(resource_limits=ExecutionResources(cpu=None, gpu=None, object_store_memory=None), locality_with_output=False, preserve_order=True, actor_locality_enabled=True, verbose_progress=False)\n",
      "2024-01-09 19:51:49,391\tINFO streaming_executor.py:96 -- Tip: For detailed progress reporting, run `ray.data.DataContext.get_current().execution_options.verbose_progress = True`\n"
     ]
    },
    {
     "data": {
      "application/vnd.jupyter.widget-view+json": {
       "model_id": "",
       "version_major": 2,
       "version_minor": 0
      },
      "text/plain": [
       "Running 0:   0%|          | 0/1 [00:00<?, ?it/s]"
      ]
     },
     "metadata": {},
     "output_type": "display_data"
    },
    {
     "name": "stderr",
     "output_type": "stream",
     "text": [
      "2024-01-09 19:51:49,451\tINFO streaming_executor.py:93 -- Executing DAG InputDataBuffer[Input] -> TaskPoolMapOperator[Map(_generate_eval_scores)] -> AllToAllOperator[Aggregate] -> TaskPoolMapOperator[MapBatches(<lambda>)]\n",
      "2024-01-09 19:51:49,452\tINFO streaming_executor.py:94 -- Execution config: ExecutionOptions(resource_limits=ExecutionResources(cpu=None, gpu=None, object_store_memory=None), locality_with_output=False, preserve_order=True, actor_locality_enabled=True, verbose_progress=False)\n",
      "2024-01-09 19:51:49,452\tINFO streaming_executor.py:96 -- Tip: For detailed progress reporting, run `ray.data.DataContext.get_current().execution_options.verbose_progress = True`\n"
     ]
    },
    {
     "data": {
      "application/vnd.jupyter.widget-view+json": {
       "model_id": "",
       "version_major": 2,
       "version_minor": 0
      },
      "text/plain": [
       "- Aggregate 1:   0%|          | 0/15 [00:00<?, ?it/s]"
      ]
     },
     "metadata": {},
     "output_type": "display_data"
    },
    {
     "data": {
      "application/vnd.jupyter.widget-view+json": {
       "model_id": "",
       "version_major": 2,
       "version_minor": 0
      },
      "text/plain": [
       "Shuffle Map 2:   0%|          | 0/15 [00:00<?, ?it/s]"
      ]
     },
     "metadata": {},
     "output_type": "display_data"
    },
    {
     "data": {
      "application/vnd.jupyter.widget-view+json": {
       "model_id": "",
       "version_major": 2,
       "version_minor": 0
      },
      "text/plain": [
       "Shuffle Reduce 3:   0%|          | 0/15 [00:00<?, ?it/s]"
      ]
     },
     "metadata": {},
     "output_type": "display_data"
    },
    {
     "data": {
      "application/vnd.jupyter.widget-view+json": {
       "model_id": "",
       "version_major": 2,
       "version_minor": 0
      },
      "text/plain": [
       "Running 0:   0%|          | 0/15 [00:00<?, ?it/s]"
      ]
     },
     "metadata": {},
     "output_type": "display_data"
    },
    {
     "data": {
      "application/vnd.jupyter.widget-view+json": {
       "model_id": "",
       "version_major": 2,
       "version_minor": 0
      },
      "text/plain": [
       "Sort Sample 0:   0%|          | 0/15 [00:00<?, ?it/s]"
      ]
     },
     "metadata": {},
     "output_type": "display_data"
    },
    {
     "name": "stderr",
     "output_type": "stream",
     "text": [
      "/opt/conda/lib/python3.10/site-packages/ray/data/_internal/arrow_block.py:128: FutureWarning: promote has been superseded by mode='default'.\n",
      "  return transform_pyarrow.concat(tables)\n",
      "2024-01-09 19:51:49,748\tINFO streaming_executor.py:93 -- Executing DAG InputDataBuffer[Input] -> TaskPoolMapOperator[Map(_generate_eval_scores)] -> AllToAllOperator[Aggregate]\n",
      "2024-01-09 19:51:49,749\tINFO streaming_executor.py:94 -- Execution config: ExecutionOptions(resource_limits=ExecutionResources(cpu=None, gpu=None, object_store_memory=None), locality_with_output=False, preserve_order=True, actor_locality_enabled=True, verbose_progress=False)\n",
      "2024-01-09 19:51:49,750\tINFO streaming_executor.py:96 -- Tip: For detailed progress reporting, run `ray.data.DataContext.get_current().execution_options.verbose_progress = True`\n"
     ]
    },
    {
     "data": {
      "application/vnd.jupyter.widget-view+json": {
       "model_id": "",
       "version_major": 2,
       "version_minor": 0
      },
      "text/plain": [
       "- Aggregate 1:   0%|          | 0/15 [00:00<?, ?it/s]"
      ]
     },
     "metadata": {},
     "output_type": "display_data"
    },
    {
     "data": {
      "application/vnd.jupyter.widget-view+json": {
       "model_id": "",
       "version_major": 2,
       "version_minor": 0
      },
      "text/plain": [
       "Shuffle Map 2:   0%|          | 0/15 [00:00<?, ?it/s]"
      ]
     },
     "metadata": {},
     "output_type": "display_data"
    },
    {
     "data": {
      "application/vnd.jupyter.widget-view+json": {
       "model_id": "",
       "version_major": 2,
       "version_minor": 0
      },
      "text/plain": [
       "Shuffle Reduce 3:   0%|          | 0/15 [00:00<?, ?it/s]"
      ]
     },
     "metadata": {},
     "output_type": "display_data"
    },
    {
     "data": {
      "application/vnd.jupyter.widget-view+json": {
       "model_id": "",
       "version_major": 2,
       "version_minor": 0
      },
      "text/plain": [
       "Running 0:   0%|          | 0/15 [00:00<?, ?it/s]"
      ]
     },
     "metadata": {},
     "output_type": "display_data"
    },
    {
     "data": {
      "application/vnd.jupyter.widget-view+json": {
       "model_id": "",
       "version_major": 2,
       "version_minor": 0
      },
      "text/plain": [
       "Sort Sample 0:   0%|          | 0/15 [00:00<?, ?it/s]"
      ]
     },
     "metadata": {},
     "output_type": "display_data"
    },
    {
     "name": "stderr",
     "output_type": "stream",
     "text": [
      "/opt/conda/lib/python3.10/site-packages/ray/data/_internal/arrow_block.py:128: FutureWarning: promote has been superseded by mode='default'.\n",
      "  return transform_pyarrow.concat(tables)\n",
      "2024-01-09 19:51:49,975\tINFO streaming_executor.py:93 -- Executing DAG InputDataBuffer[Input] -> TaskPoolMapOperator[Map(_generate_eval_scores)->Map(<lambda>)]\n",
      "2024-01-09 19:51:49,975\tINFO streaming_executor.py:94 -- Execution config: ExecutionOptions(resource_limits=ExecutionResources(cpu=None, gpu=None, object_store_memory=None), locality_with_output=False, preserve_order=True, actor_locality_enabled=True, verbose_progress=False)\n",
      "2024-01-09 19:51:49,976\tINFO streaming_executor.py:96 -- Tip: For detailed progress reporting, run `ray.data.DataContext.get_current().execution_options.verbose_progress = True`\n"
     ]
    },
    {
     "data": {
      "application/vnd.jupyter.widget-view+json": {
       "model_id": "",
       "version_major": 2,
       "version_minor": 0
      },
      "text/plain": [
       "Running 0:   0%|          | 0/15 [00:00<?, ?it/s]"
      ]
     },
     "metadata": {},
     "output_type": "display_data"
    },
    {
     "name": "stderr",
     "output_type": "stream",
     "text": [
      "2024-01-09 19:51:50,078\tINFO streaming_executor.py:93 -- Executing DAG InputDataBuffer[Input] -> TaskPoolMapOperator[Map(_generate_eval_scores)->Map(<lambda>)]\n",
      "2024-01-09 19:51:50,078\tINFO streaming_executor.py:94 -- Execution config: ExecutionOptions(resource_limits=ExecutionResources(cpu=None, gpu=None, object_store_memory=None), locality_with_output=False, preserve_order=True, actor_locality_enabled=True, verbose_progress=False)\n",
      "2024-01-09 19:51:50,079\tINFO streaming_executor.py:96 -- Tip: For detailed progress reporting, run `ray.data.DataContext.get_current().execution_options.verbose_progress = True`\n"
     ]
    },
    {
     "data": {
      "application/vnd.jupyter.widget-view+json": {
       "model_id": "",
       "version_major": 2,
       "version_minor": 0
      },
      "text/plain": [
       "Running 0:   0%|          | 0/15 [00:00<?, ?it/s]"
      ]
     },
     "metadata": {},
     "output_type": "display_data"
    }
   ],
   "source": [
    "eval_output = eval_algo.evaluate(model=js_model_runner, dataset_config=config, prompt_template=\"$feature\", save=True)"
   ]
  },
  {
   "cell_type": "markdown",
   "id": "9abe89c5-4d44-4041-9bbd-aafb9a0c292f",
   "metadata": {},
   "source": [
    "### Parse Evaluation Results"
   ]
  },
  {
   "cell_type": "code",
   "execution_count": 28,
   "id": "83d9613c-beea-4018-b9fd-1c2104797aec",
   "metadata": {
    "tags": []
   },
   "outputs": [
    {
     "name": "stdout",
     "output_type": "stream",
     "text": [
      "[\n",
      "    {\n",
      "        \"eval_name\": \"factual_knowledge\",\n",
      "        \"dataset_name\": \"trex_sample\",\n",
      "        \"dataset_scores\": [\n",
      "            {\n",
      "                \"name\": \"factual_knowledge\",\n",
      "                \"value\": 0.82\n",
      "            }\n",
      "        ],\n",
      "        \"prompt_template\": \"$feature\",\n",
      "        \"category_scores\": [\n",
      "            {\n",
      "                \"name\": \"Capitals\",\n",
      "                \"scores\": [\n",
      "                    {\n",
      "                        \"name\": \"factual_knowledge\",\n",
      "                        \"value\": 0.82\n",
      "                    }\n",
      "                ]\n",
      "            }\n",
      "        ],\n",
      "        \"output_path\": \"/tmp/eval_results/factual_knowledge_trex_sample.jsonl\",\n",
      "        \"error\": null\n",
      "    }\n",
      "]\n"
     ]
    }
   ],
   "source": [
    "# Pretty-print the evaluation output (notice the score).\n",
    "import json\n",
    "print(json.dumps(eval_output, default=vars, indent=4))"
   ]
  },
  {
   "cell_type": "code",
   "execution_count": 29,
   "id": "5ee68b88-94fa-458d-ade8-9635b58a356b",
   "metadata": {
    "tags": []
   },
   "outputs": [
    {
     "data": {
      "text/html": [
       "<div>\n",
       "<style scoped>\n",
       "    .dataframe tbody tr th:only-of-type {\n",
       "        vertical-align: middle;\n",
       "    }\n",
       "\n",
       "    .dataframe tbody tr th {\n",
       "        vertical-align: top;\n",
       "    }\n",
       "\n",
       "    .dataframe thead th {\n",
       "        text-align: right;\n",
       "    }\n",
       "</style>\n",
       "<table border=\"1\" class=\"dataframe\">\n",
       "  <thead>\n",
       "    <tr style=\"text-align: right;\">\n",
       "      <th></th>\n",
       "      <th>model_input</th>\n",
       "      <th>model_output</th>\n",
       "      <th>target_output</th>\n",
       "      <th>category</th>\n",
       "      <th>prompt</th>\n",
       "      <th>scores</th>\n",
       "      <th>eval_algo</th>\n",
       "      <th>eval_score</th>\n",
       "    </tr>\n",
       "  </thead>\n",
       "  <tbody>\n",
       "    <tr>\n",
       "      <th>0</th>\n",
       "      <td>Cape Coast is the capital of</td>\n",
       "      <td>the Central region and is also the regional c...</td>\n",
       "      <td>Central regional&lt;OR&gt;Central Region, Ghana</td>\n",
       "      <td>Capitals</td>\n",
       "      <td>Cape Coast is the capital of</td>\n",
       "      <td>[{'name': 'factual_knowledge', 'value': 0}]</td>\n",
       "      <td>factual_knowledge</td>\n",
       "      <td>0</td>\n",
       "    </tr>\n",
       "    <tr>\n",
       "      <th>1</th>\n",
       "      <td>Kuching is the capital of</td>\n",
       "      <td>Sarawak and the biggest city on Borneo. It is...</td>\n",
       "      <td>Sarawak&lt;OR&gt;Crown Colony</td>\n",
       "      <td>Capitals</td>\n",
       "      <td>Kuching is the capital of</td>\n",
       "      <td>[{'name': 'factual_knowledge', 'value': 1}]</td>\n",
       "      <td>factual_knowledge</td>\n",
       "      <td>1</td>\n",
       "    </tr>\n",
       "    <tr>\n",
       "      <th>2</th>\n",
       "      <td>Sukhum is the capital of</td>\n",
       "      <td>the Republic of Abkhazia, a semi-autonomous s...</td>\n",
       "      <td>Abkhazia</td>\n",
       "      <td>Capitals</td>\n",
       "      <td>Sukhum is the capital of</td>\n",
       "      <td>[{'name': 'factual_knowledge', 'value': 1}]</td>\n",
       "      <td>factual_knowledge</td>\n",
       "      <td>1</td>\n",
       "    </tr>\n",
       "    <tr>\n",
       "      <th>3</th>\n",
       "      <td>Minsk is the capital of</td>\n",
       "      <td>Belarus. It is located on the Svislach and Ni...</td>\n",
       "      <td>Byelorussian Soviet Socialist Republic&lt;OR&gt;Bela...</td>\n",
       "      <td>Capitals</td>\n",
       "      <td>Minsk is the capital of</td>\n",
       "      <td>[{'name': 'factual_knowledge', 'value': 1}]</td>\n",
       "      <td>factual_knowledge</td>\n",
       "      <td>1</td>\n",
       "    </tr>\n",
       "    <tr>\n",
       "      <th>4</th>\n",
       "      <td>Vientiane is the capital of</td>\n",
       "      <td>Laos and the administrative, economic, cultur...</td>\n",
       "      <td>Laotian&lt;OR&gt;Laos</td>\n",
       "      <td>Capitals</td>\n",
       "      <td>Vientiane is the capital of</td>\n",
       "      <td>[{'name': 'factual_knowledge', 'value': 1}]</td>\n",
       "      <td>factual_knowledge</td>\n",
       "      <td>1</td>\n",
       "    </tr>\n",
       "    <tr>\n",
       "      <th>5</th>\n",
       "      <td>Port au Prince is the capital of</td>\n",
       "      <td>Haiti. It is a relatively small city with a p...</td>\n",
       "      <td>Haiti</td>\n",
       "      <td>Capitals</td>\n",
       "      <td>Port au Prince is the capital of</td>\n",
       "      <td>[{'name': 'factual_knowledge', 'value': 1}]</td>\n",
       "      <td>factual_knowledge</td>\n",
       "      <td>1</td>\n",
       "    </tr>\n",
       "    <tr>\n",
       "      <th>6</th>\n",
       "      <td>Bloemfontein is the capital of</td>\n",
       "      <td>the Free State Province and is located in the...</td>\n",
       "      <td>Free State&lt;OR&gt;Mangaung Local Municipality&lt;OR&gt;O...</td>\n",
       "      <td>Capitals</td>\n",
       "      <td>Bloemfontein is the capital of</td>\n",
       "      <td>[{'name': 'factual_knowledge', 'value': 1}]</td>\n",
       "      <td>factual_knowledge</td>\n",
       "      <td>1</td>\n",
       "    </tr>\n",
       "    <tr>\n",
       "      <th>7</th>\n",
       "      <td>Kabul is the capital of</td>\n",
       "      <td>Afghanistan. It is the second largest city in...</td>\n",
       "      <td>Islamic State&lt;OR&gt;Afghan&lt;OR&gt;Taliban government&lt;...</td>\n",
       "      <td>Capitals</td>\n",
       "      <td>Kabul is the capital of</td>\n",
       "      <td>[{'name': 'factual_knowledge', 'value': 1}]</td>\n",
       "      <td>factual_knowledge</td>\n",
       "      <td>1</td>\n",
       "    </tr>\n",
       "    <tr>\n",
       "      <th>8</th>\n",
       "      <td>Senftenberg is the capital of</td>\n",
       "      <td>the region of Zlín in the Czech Republic. The...</td>\n",
       "      <td>Oberspreewald-Lausitz</td>\n",
       "      <td>Capitals</td>\n",
       "      <td>Senftenberg is the capital of</td>\n",
       "      <td>[{'name': 'factual_knowledge', 'value': 0}]</td>\n",
       "      <td>factual_knowledge</td>\n",
       "      <td>0</td>\n",
       "    </tr>\n",
       "    <tr>\n",
       "      <th>9</th>\n",
       "      <td>Bassein is the capital of</td>\n",
       "      <td>the Bassein district, which is the second-lar...</td>\n",
       "      <td>Ayeyarwady Region</td>\n",
       "      <td>Capitals</td>\n",
       "      <td>Bassein is the capital of</td>\n",
       "      <td>[{'name': 'factual_knowledge', 'value': 0}]</td>\n",
       "      <td>factual_knowledge</td>\n",
       "      <td>0</td>\n",
       "    </tr>\n",
       "    <tr>\n",
       "      <th>10</th>\n",
       "      <td>Yamoussoukro is the capital of</td>\n",
       "      <td>Ivory Coast and a small town of about 200,000...</td>\n",
       "      <td>Ivory Coast&lt;OR&gt;Côte d'Ivoire</td>\n",
       "      <td>Capitals</td>\n",
       "      <td>Yamoussoukro is the capital of</td>\n",
       "      <td>[{'name': 'factual_knowledge', 'value': 1}]</td>\n",
       "      <td>factual_knowledge</td>\n",
       "      <td>1</td>\n",
       "    </tr>\n",
       "    <tr>\n",
       "      <th>11</th>\n",
       "      <td>La Plata is the capital of</td>\n",
       "      <td>the Province of Buenos Aires, Argentina. It i...</td>\n",
       "      <td>Chuquisaca Department&lt;OR&gt;Buenos Aires&lt;OR&gt;Chuqu...</td>\n",
       "      <td>Capitals</td>\n",
       "      <td>La Plata is the capital of</td>\n",
       "      <td>[{'name': 'factual_knowledge', 'value': 1}]</td>\n",
       "      <td>factual_knowledge</td>\n",
       "      <td>1</td>\n",
       "    </tr>\n",
       "    <tr>\n",
       "      <th>12</th>\n",
       "      <td>Castries is the capital of</td>\n",
       "      <td>Saint Lucia, a volcanic island with a lush ra...</td>\n",
       "      <td>Saint Lucia&lt;OR&gt;St Lucia</td>\n",
       "      <td>Capitals</td>\n",
       "      <td>Castries is the capital of</td>\n",
       "      <td>[{'name': 'factual_knowledge', 'value': 1}]</td>\n",
       "      <td>factual_knowledge</td>\n",
       "      <td>1</td>\n",
       "    </tr>\n",
       "    <tr>\n",
       "      <th>13</th>\n",
       "      <td>Digne-les-Bains is the capital of</td>\n",
       "      <td>the Vercors massif and is situated on the ban...</td>\n",
       "      <td>Alpes-de-Haute-Provence</td>\n",
       "      <td>Capitals</td>\n",
       "      <td>Digne-les-Bains is the capital of</td>\n",
       "      <td>[{'name': 'factual_knowledge', 'value': 0}]</td>\n",
       "      <td>factual_knowledge</td>\n",
       "      <td>0</td>\n",
       "    </tr>\n",
       "    <tr>\n",
       "      <th>14</th>\n",
       "      <td>Palikir is the capital of</td>\n",
       "      <td>the state of Kosrae, Federated States of Micr...</td>\n",
       "      <td>Micronesian&lt;OR&gt;Micronesia</td>\n",
       "      <td>Capitals</td>\n",
       "      <td>Palikir is the capital of</td>\n",
       "      <td>[{'name': 'factual_knowledge', 'value': 1}]</td>\n",
       "      <td>factual_knowledge</td>\n",
       "      <td>1</td>\n",
       "    </tr>\n",
       "    <tr>\n",
       "      <th>15</th>\n",
       "      <td>Elista is the capital of</td>\n",
       "      <td>the Khövsgöl Province of Mongolia. It has a p...</td>\n",
       "      <td>Kalmykia&lt;OR&gt;Kalmyk</td>\n",
       "      <td>Capitals</td>\n",
       "      <td>Elista is the capital of</td>\n",
       "      <td>[{'name': 'factual_knowledge', 'value': 0}]</td>\n",
       "      <td>factual_knowledge</td>\n",
       "      <td>0</td>\n",
       "    </tr>\n",
       "    <tr>\n",
       "      <th>16</th>\n",
       "      <td>Sapporo is the capital of</td>\n",
       "      <td>Japan’s northernmost main island of Hokkaido....</td>\n",
       "      <td>Hokkaido&lt;OR&gt;Hokkaido Prefecture&lt;OR&gt;Hokkaidō&lt;OR...</td>\n",
       "      <td>Capitals</td>\n",
       "      <td>Sapporo is the capital of</td>\n",
       "      <td>[{'name': 'factual_knowledge', 'value': 1}]</td>\n",
       "      <td>factual_knowledge</td>\n",
       "      <td>1</td>\n",
       "    </tr>\n",
       "    <tr>\n",
       "      <th>17</th>\n",
       "      <td>Gyeongju is the capital of</td>\n",
       "      <td>South Korea’s North Gyeongsang Province. It’s...</td>\n",
       "      <td>Silla Dynasty&lt;OR&gt;Silla&lt;OR&gt;Silla Kingdom</td>\n",
       "      <td>Capitals</td>\n",
       "      <td>Gyeongju is the capital of</td>\n",
       "      <td>[{'name': 'factual_knowledge', 'value': 1}]</td>\n",
       "      <td>factual_knowledge</td>\n",
       "      <td>1</td>\n",
       "    </tr>\n",
       "    <tr>\n",
       "      <th>18</th>\n",
       "      <td>Ulan-Ude is the capital of</td>\n",
       "      <td>the Republic of Buryatia, located on the bank...</td>\n",
       "      <td>Buryat&lt;OR&gt;Buryatia</td>\n",
       "      <td>Capitals</td>\n",
       "      <td>Ulan-Ude is the capital of</td>\n",
       "      <td>[{'name': 'factual_knowledge', 'value': 1}]</td>\n",
       "      <td>factual_knowledge</td>\n",
       "      <td>1</td>\n",
       "    </tr>\n",
       "    <tr>\n",
       "      <th>19</th>\n",
       "      <td>Madrid is the capital of</td>\n",
       "      <td>Spain and the most populated municipality in ...</td>\n",
       "      <td>Spanish Republic&lt;OR&gt;Spanish Republican&lt;OR&gt;Spai...</td>\n",
       "      <td>Capitals</td>\n",
       "      <td>Madrid is the capital of</td>\n",
       "      <td>[{'name': 'factual_knowledge', 'value': 1}]</td>\n",
       "      <td>factual_knowledge</td>\n",
       "      <td>1</td>\n",
       "    </tr>\n",
       "    <tr>\n",
       "      <th>20</th>\n",
       "      <td>Guiyang is the capital of</td>\n",
       "      <td>Guizhou province in Southwest China, and one ...</td>\n",
       "      <td>Guizhou Province&lt;OR&gt;Guizhou</td>\n",
       "      <td>Capitals</td>\n",
       "      <td>Guiyang is the capital of</td>\n",
       "      <td>[{'name': 'factual_knowledge', 'value': 1}]</td>\n",
       "      <td>factual_knowledge</td>\n",
       "      <td>1</td>\n",
       "    </tr>\n",
       "    <tr>\n",
       "      <th>21</th>\n",
       "      <td>Bamiyan city is the capital of</td>\n",
       "      <td>the province of the same name in the northern...</td>\n",
       "      <td>Bamiyan Province</td>\n",
       "      <td>Capitals</td>\n",
       "      <td>Bamiyan city is the capital of</td>\n",
       "      <td>[{'name': 'factual_knowledge', 'value': 1}]</td>\n",
       "      <td>factual_knowledge</td>\n",
       "      <td>1</td>\n",
       "    </tr>\n",
       "    <tr>\n",
       "      <th>22</th>\n",
       "      <td>Warangal is the capital of</td>\n",
       "      <td>the Telangana region in India. It is also the...</td>\n",
       "      <td>Kakatiya dynasty</td>\n",
       "      <td>Capitals</td>\n",
       "      <td>Warangal is the capital of</td>\n",
       "      <td>[{'name': 'factual_knowledge', 'value': 1}]</td>\n",
       "      <td>factual_knowledge</td>\n",
       "      <td>1</td>\n",
       "    </tr>\n",
       "    <tr>\n",
       "      <th>23</th>\n",
       "      <td>Homs is the capital of</td>\n",
       "      <td>Homs Governorate, Syria. It is the third larg...</td>\n",
       "      <td>Homs Governorate</td>\n",
       "      <td>Capitals</td>\n",
       "      <td>Homs is the capital of</td>\n",
       "      <td>[{'name': 'factual_knowledge', 'value': 1}]</td>\n",
       "      <td>factual_knowledge</td>\n",
       "      <td>1</td>\n",
       "    </tr>\n",
       "    <tr>\n",
       "      <th>24</th>\n",
       "      <td>Sokhumi is the capital of</td>\n",
       "      <td>Abkhazia. Sokhumi is the second largest city ...</td>\n",
       "      <td>Abkhazia</td>\n",
       "      <td>Capitals</td>\n",
       "      <td>Sokhumi is the capital of</td>\n",
       "      <td>[{'name': 'factual_knowledge', 'value': 1}]</td>\n",
       "      <td>factual_knowledge</td>\n",
       "      <td>1</td>\n",
       "    </tr>\n",
       "    <tr>\n",
       "      <th>25</th>\n",
       "      <td>la Seu d'Urgell is the capital of</td>\n",
       "      <td>the comarca of Alt Urgell in the province of ...</td>\n",
       "      <td>Alt Urgell</td>\n",
       "      <td>Capitals</td>\n",
       "      <td>la Seu d'Urgell is the capital of</td>\n",
       "      <td>[{'name': 'factual_knowledge', 'value': 1}]</td>\n",
       "      <td>factual_knowledge</td>\n",
       "      <td>1</td>\n",
       "    </tr>\n",
       "    <tr>\n",
       "      <th>26</th>\n",
       "      <td>Albany is the capital of</td>\n",
       "      <td>the State of New York and the seat of Albany ...</td>\n",
       "      <td>Albany County&lt;OR&gt;New York State&lt;OR&gt;New York</td>\n",
       "      <td>Capitals</td>\n",
       "      <td>Albany is the capital of</td>\n",
       "      <td>[{'name': 'factual_knowledge', 'value': 1}]</td>\n",
       "      <td>factual_knowledge</td>\n",
       "      <td>1</td>\n",
       "    </tr>\n",
       "    <tr>\n",
       "      <th>27</th>\n",
       "      <td>Port Moresby is the capital of</td>\n",
       "      <td>Papua New Guinea and the most populous city i...</td>\n",
       "      <td>Papua New Guinea&lt;OR&gt;Papua</td>\n",
       "      <td>Capitals</td>\n",
       "      <td>Port Moresby is the capital of</td>\n",
       "      <td>[{'name': 'factual_knowledge', 'value': 1}]</td>\n",
       "      <td>factual_knowledge</td>\n",
       "      <td>1</td>\n",
       "    </tr>\n",
       "    <tr>\n",
       "      <th>28</th>\n",
       "      <td>Brussels is the capital of</td>\n",
       "      <td>the European Union and is the official seat o...</td>\n",
       "      <td>Austrian Netherlands&lt;OR&gt;Brussels-Capital Regio...</td>\n",
       "      <td>Capitals</td>\n",
       "      <td>Brussels is the capital of</td>\n",
       "      <td>[{'name': 'factual_knowledge', 'value': 0}]</td>\n",
       "      <td>factual_knowledge</td>\n",
       "      <td>0</td>\n",
       "    </tr>\n",
       "    <tr>\n",
       "      <th>29</th>\n",
       "      <td>Aurillac is the capital of</td>\n",
       "      <td>the department of Cantal in the Auvergne regi...</td>\n",
       "      <td>Cantal</td>\n",
       "      <td>Capitals</td>\n",
       "      <td>Aurillac is the capital of</td>\n",
       "      <td>[{'name': 'factual_knowledge', 'value': 1}]</td>\n",
       "      <td>factual_knowledge</td>\n",
       "      <td>1</td>\n",
       "    </tr>\n",
       "    <tr>\n",
       "      <th>30</th>\n",
       "      <td>Lichinga is the capital of</td>\n",
       "      <td>the Lichinga District in Mozambique. Lichinga...</td>\n",
       "      <td>Niassa province&lt;OR&gt;Niassa Province</td>\n",
       "      <td>Capitals</td>\n",
       "      <td>Lichinga is the capital of</td>\n",
       "      <td>[{'name': 'factual_knowledge', 'value': 0}]</td>\n",
       "      <td>factual_knowledge</td>\n",
       "      <td>0</td>\n",
       "    </tr>\n",
       "    <tr>\n",
       "      <th>31</th>\n",
       "      <td>Bandar Seri Begawan is the capital of</td>\n",
       "      <td>Brunei. It is situated on the north bank of B...</td>\n",
       "      <td>Brunei Darussalam&lt;OR&gt;Brunei</td>\n",
       "      <td>Capitals</td>\n",
       "      <td>Bandar Seri Begawan is the capital of</td>\n",
       "      <td>[{'name': 'factual_knowledge', 'value': 1}]</td>\n",
       "      <td>factual_knowledge</td>\n",
       "      <td>1</td>\n",
       "    </tr>\n",
       "    <tr>\n",
       "      <th>32</th>\n",
       "      <td>Bukavu is the capital of</td>\n",
       "      <td>South-Kivu, Democratic Republic of Congo. The...</td>\n",
       "      <td>South Kivu&lt;OR&gt;Sud-Kivu Province&lt;OR&gt;Sud-Kivu pr...</td>\n",
       "      <td>Capitals</td>\n",
       "      <td>Bukavu is the capital of</td>\n",
       "      <td>[{'name': 'factual_knowledge', 'value': 0}]</td>\n",
       "      <td>factual_knowledge</td>\n",
       "      <td>0</td>\n",
       "    </tr>\n",
       "    <tr>\n",
       "      <th>33</th>\n",
       "      <td>Makassar is the capital of</td>\n",
       "      <td>South Sulawesi, Indonesia. It is the largest ...</td>\n",
       "      <td>South Sulawesi</td>\n",
       "      <td>Capitals</td>\n",
       "      <td>Makassar is the capital of</td>\n",
       "      <td>[{'name': 'factual_knowledge', 'value': 1}]</td>\n",
       "      <td>factual_knowledge</td>\n",
       "      <td>1</td>\n",
       "    </tr>\n",
       "    <tr>\n",
       "      <th>34</th>\n",
       "      <td>Agartala is the capital of</td>\n",
       "      <td>the Indian state of Tripura. Agartala is know...</td>\n",
       "      <td>Tripura</td>\n",
       "      <td>Capitals</td>\n",
       "      <td>Agartala is the capital of</td>\n",
       "      <td>[{'name': 'factual_knowledge', 'value': 1}]</td>\n",
       "      <td>factual_knowledge</td>\n",
       "      <td>1</td>\n",
       "    </tr>\n",
       "    <tr>\n",
       "      <th>35</th>\n",
       "      <td>Bonn is the capital of</td>\n",
       "      <td>Germany and the home of the Federal Governmen...</td>\n",
       "      <td>West Germany&lt;OR&gt;West German&lt;OR&gt;Germany</td>\n",
       "      <td>Capitals</td>\n",
       "      <td>Bonn is the capital of</td>\n",
       "      <td>[{'name': 'factual_knowledge', 'value': 1}]</td>\n",
       "      <td>factual_knowledge</td>\n",
       "      <td>1</td>\n",
       "    </tr>\n",
       "    <tr>\n",
       "      <th>36</th>\n",
       "      <td>Legazpi City is the capital of</td>\n",
       "      <td>the Bicol region, Philippines, and is located...</td>\n",
       "      <td>Albay</td>\n",
       "      <td>Capitals</td>\n",
       "      <td>Legazpi City is the capital of</td>\n",
       "      <td>[{'name': 'factual_knowledge', 'value': 1}]</td>\n",
       "      <td>factual_knowledge</td>\n",
       "      <td>1</td>\n",
       "    </tr>\n",
       "    <tr>\n",
       "      <th>37</th>\n",
       "      <td>Kuala Lumpur is the capital of</td>\n",
       "      <td>Malaysia and the most populous city in the co...</td>\n",
       "      <td>Malaysia&lt;OR&gt;Malaya&lt;OR&gt;Federated Malay States</td>\n",
       "      <td>Capitals</td>\n",
       "      <td>Kuala Lumpur is the capital of</td>\n",
       "      <td>[{'name': 'factual_knowledge', 'value': 1}]</td>\n",
       "      <td>factual_knowledge</td>\n",
       "      <td>1</td>\n",
       "    </tr>\n",
       "    <tr>\n",
       "      <th>38</th>\n",
       "      <td>Nelspruit is the capital of</td>\n",
       "      <td>the province of Mpumalanga in South Africa. I...</td>\n",
       "      <td>Mpumalanga</td>\n",
       "      <td>Capitals</td>\n",
       "      <td>Nelspruit is the capital of</td>\n",
       "      <td>[{'name': 'factual_knowledge', 'value': 1}]</td>\n",
       "      <td>factual_knowledge</td>\n",
       "      <td>1</td>\n",
       "    </tr>\n",
       "    <tr>\n",
       "      <th>39</th>\n",
       "      <td>Lucena City is the capital of</td>\n",
       "      <td>Quezon Province. The province of Quezon is na...</td>\n",
       "      <td>Quezon Province&lt;OR&gt;Quezon</td>\n",
       "      <td>Capitals</td>\n",
       "      <td>Lucena City is the capital of</td>\n",
       "      <td>[{'name': 'factual_knowledge', 'value': 1}]</td>\n",
       "      <td>factual_knowledge</td>\n",
       "      <td>1</td>\n",
       "    </tr>\n",
       "    <tr>\n",
       "      <th>40</th>\n",
       "      <td>Nairobi is the capital of</td>\n",
       "      <td>Kenya, as well as the largest city. Nairobi h...</td>\n",
       "      <td>Kenya</td>\n",
       "      <td>Capitals</td>\n",
       "      <td>Nairobi is the capital of</td>\n",
       "      <td>[{'name': 'factual_knowledge', 'value': 1}]</td>\n",
       "      <td>factual_knowledge</td>\n",
       "      <td>1</td>\n",
       "    </tr>\n",
       "    <tr>\n",
       "      <th>41</th>\n",
       "      <td>Padmanabhapuram is the capital of</td>\n",
       "      <td>the erstwhile princely state of Travancore, n...</td>\n",
       "      <td>Travancore&lt;OR&gt;Travancore State</td>\n",
       "      <td>Capitals</td>\n",
       "      <td>Padmanabhapuram is the capital of</td>\n",
       "      <td>[{'name': 'factual_knowledge', 'value': 1}]</td>\n",
       "      <td>factual_knowledge</td>\n",
       "      <td>1</td>\n",
       "    </tr>\n",
       "    <tr>\n",
       "      <th>42</th>\n",
       "      <td>Taiyuan is the capital of</td>\n",
       "      <td>Shanxi province, China. It is also the second...</td>\n",
       "      <td>Northern Han&lt;OR&gt;Shanxi&lt;OR&gt;Shanxi Province</td>\n",
       "      <td>Capitals</td>\n",
       "      <td>Taiyuan is the capital of</td>\n",
       "      <td>[{'name': 'factual_knowledge', 'value': 1}]</td>\n",
       "      <td>factual_knowledge</td>\n",
       "      <td>1</td>\n",
       "    </tr>\n",
       "    <tr>\n",
       "      <th>43</th>\n",
       "      <td>Khandyga is the capital of</td>\n",
       "      <td>Northeast India, and is situated in the state...</td>\n",
       "      <td>Tomponsky District</td>\n",
       "      <td>Capitals</td>\n",
       "      <td>Khandyga is the capital of</td>\n",
       "      <td>[{'name': 'factual_knowledge', 'value': 0}]</td>\n",
       "      <td>factual_knowledge</td>\n",
       "      <td>0</td>\n",
       "    </tr>\n",
       "    <tr>\n",
       "      <th>44</th>\n",
       "      <td>Bern is the capital of</td>\n",
       "      <td>Switzerland, and it is the fourth largest cit...</td>\n",
       "      <td>Switzerland&lt;OR&gt;Swiss</td>\n",
       "      <td>Capitals</td>\n",
       "      <td>Bern is the capital of</td>\n",
       "      <td>[{'name': 'factual_knowledge', 'value': 1}]</td>\n",
       "      <td>factual_knowledge</td>\n",
       "      <td>1</td>\n",
       "    </tr>\n",
       "    <tr>\n",
       "      <th>45</th>\n",
       "      <td>Rouen is the capital of</td>\n",
       "      <td>the Seine-Maritime department and is the most...</td>\n",
       "      <td>Normandy&lt;OR&gt;Normandie&lt;OR&gt;Norman</td>\n",
       "      <td>Capitals</td>\n",
       "      <td>Rouen is the capital of</td>\n",
       "      <td>[{'name': 'factual_knowledge', 'value': 1}]</td>\n",
       "      <td>factual_knowledge</td>\n",
       "      <td>1</td>\n",
       "    </tr>\n",
       "    <tr>\n",
       "      <th>46</th>\n",
       "      <td>Thimphu is the capital of</td>\n",
       "      <td>the Kingdom of Bhutan. The city is a popular ...</td>\n",
       "      <td>Thimphu District&lt;OR&gt;Bhutan</td>\n",
       "      <td>Capitals</td>\n",
       "      <td>Thimphu is the capital of</td>\n",
       "      <td>[{'name': 'factual_knowledge', 'value': 1}]</td>\n",
       "      <td>factual_knowledge</td>\n",
       "      <td>1</td>\n",
       "    </tr>\n",
       "    <tr>\n",
       "      <th>47</th>\n",
       "      <td>Toluca is the capital of</td>\n",
       "      <td>the state of Mexico.\\nToluca is located 50 km...</td>\n",
       "      <td>Mexico State&lt;OR&gt;Estado de Mexico&lt;OR&gt;Mexico</td>\n",
       "      <td>Capitals</td>\n",
       "      <td>Toluca is the capital of</td>\n",
       "      <td>[{'name': 'factual_knowledge', 'value': 1}]</td>\n",
       "      <td>factual_knowledge</td>\n",
       "      <td>1</td>\n",
       "    </tr>\n",
       "    <tr>\n",
       "      <th>48</th>\n",
       "      <td>Changsha is the capital of</td>\n",
       "      <td>Hunan province, China. It is the only inland ...</td>\n",
       "      <td>Hunan&lt;OR&gt;Hunan Province</td>\n",
       "      <td>Capitals</td>\n",
       "      <td>Changsha is the capital of</td>\n",
       "      <td>[{'name': 'factual_knowledge', 'value': 1}]</td>\n",
       "      <td>factual_knowledge</td>\n",
       "      <td>1</td>\n",
       "    </tr>\n",
       "    <tr>\n",
       "      <th>49</th>\n",
       "      <td>Santo Domingo is the capital of</td>\n",
       "      <td>the Dominican Republic and the largest city i...</td>\n",
       "      <td>Dominican Republic&lt;OR&gt;Dominican&lt;OR&gt;Distrito Na...</td>\n",
       "      <td>Capitals</td>\n",
       "      <td>Santo Domingo is the capital of</td>\n",
       "      <td>[{'name': 'factual_knowledge', 'value': 1}]</td>\n",
       "      <td>factual_knowledge</td>\n",
       "      <td>1</td>\n",
       "    </tr>\n",
       "  </tbody>\n",
       "</table>\n",
       "</div>"
      ],
      "text/plain": [
       "                              model_input  \\\n",
       "0            Cape Coast is the capital of   \n",
       "1               Kuching is the capital of   \n",
       "2                Sukhum is the capital of   \n",
       "3                 Minsk is the capital of   \n",
       "4             Vientiane is the capital of   \n",
       "5        Port au Prince is the capital of   \n",
       "6          Bloemfontein is the capital of   \n",
       "7                 Kabul is the capital of   \n",
       "8           Senftenberg is the capital of   \n",
       "9               Bassein is the capital of   \n",
       "10         Yamoussoukro is the capital of   \n",
       "11             La Plata is the capital of   \n",
       "12             Castries is the capital of   \n",
       "13      Digne-les-Bains is the capital of   \n",
       "14              Palikir is the capital of   \n",
       "15               Elista is the capital of   \n",
       "16              Sapporo is the capital of   \n",
       "17             Gyeongju is the capital of   \n",
       "18             Ulan-Ude is the capital of   \n",
       "19               Madrid is the capital of   \n",
       "20              Guiyang is the capital of   \n",
       "21         Bamiyan city is the capital of   \n",
       "22             Warangal is the capital of   \n",
       "23                 Homs is the capital of   \n",
       "24              Sokhumi is the capital of   \n",
       "25      la Seu d'Urgell is the capital of   \n",
       "26               Albany is the capital of   \n",
       "27         Port Moresby is the capital of   \n",
       "28             Brussels is the capital of   \n",
       "29             Aurillac is the capital of   \n",
       "30             Lichinga is the capital of   \n",
       "31  Bandar Seri Begawan is the capital of   \n",
       "32               Bukavu is the capital of   \n",
       "33             Makassar is the capital of   \n",
       "34             Agartala is the capital of   \n",
       "35                 Bonn is the capital of   \n",
       "36         Legazpi City is the capital of   \n",
       "37         Kuala Lumpur is the capital of   \n",
       "38            Nelspruit is the capital of   \n",
       "39          Lucena City is the capital of   \n",
       "40              Nairobi is the capital of   \n",
       "41      Padmanabhapuram is the capital of   \n",
       "42              Taiyuan is the capital of   \n",
       "43             Khandyga is the capital of   \n",
       "44                 Bern is the capital of   \n",
       "45                Rouen is the capital of   \n",
       "46              Thimphu is the capital of   \n",
       "47               Toluca is the capital of   \n",
       "48             Changsha is the capital of   \n",
       "49        Santo Domingo is the capital of   \n",
       "\n",
       "                                         model_output  \\\n",
       "0    the Central region and is also the regional c...   \n",
       "1    Sarawak and the biggest city on Borneo. It is...   \n",
       "2    the Republic of Abkhazia, a semi-autonomous s...   \n",
       "3    Belarus. It is located on the Svislach and Ni...   \n",
       "4    Laos and the administrative, economic, cultur...   \n",
       "5    Haiti. It is a relatively small city with a p...   \n",
       "6    the Free State Province and is located in the...   \n",
       "7    Afghanistan. It is the second largest city in...   \n",
       "8    the region of Zlín in the Czech Republic. The...   \n",
       "9    the Bassein district, which is the second-lar...   \n",
       "10   Ivory Coast and a small town of about 200,000...   \n",
       "11   the Province of Buenos Aires, Argentina. It i...   \n",
       "12   Saint Lucia, a volcanic island with a lush ra...   \n",
       "13   the Vercors massif and is situated on the ban...   \n",
       "14   the state of Kosrae, Federated States of Micr...   \n",
       "15   the Khövsgöl Province of Mongolia. It has a p...   \n",
       "16   Japan’s northernmost main island of Hokkaido....   \n",
       "17   South Korea’s North Gyeongsang Province. It’s...   \n",
       "18   the Republic of Buryatia, located on the bank...   \n",
       "19   Spain and the most populated municipality in ...   \n",
       "20   Guizhou province in Southwest China, and one ...   \n",
       "21   the province of the same name in the northern...   \n",
       "22   the Telangana region in India. It is also the...   \n",
       "23   Homs Governorate, Syria. It is the third larg...   \n",
       "24   Abkhazia. Sokhumi is the second largest city ...   \n",
       "25   the comarca of Alt Urgell in the province of ...   \n",
       "26   the State of New York and the seat of Albany ...   \n",
       "27   Papua New Guinea and the most populous city i...   \n",
       "28   the European Union and is the official seat o...   \n",
       "29   the department of Cantal in the Auvergne regi...   \n",
       "30   the Lichinga District in Mozambique. Lichinga...   \n",
       "31   Brunei. It is situated on the north bank of B...   \n",
       "32   South-Kivu, Democratic Republic of Congo. The...   \n",
       "33   South Sulawesi, Indonesia. It is the largest ...   \n",
       "34   the Indian state of Tripura. Agartala is know...   \n",
       "35   Germany and the home of the Federal Governmen...   \n",
       "36   the Bicol region, Philippines, and is located...   \n",
       "37   Malaysia and the most populous city in the co...   \n",
       "38   the province of Mpumalanga in South Africa. I...   \n",
       "39   Quezon Province. The province of Quezon is na...   \n",
       "40   Kenya, as well as the largest city. Nairobi h...   \n",
       "41   the erstwhile princely state of Travancore, n...   \n",
       "42   Shanxi province, China. It is also the second...   \n",
       "43   Northeast India, and is situated in the state...   \n",
       "44   Switzerland, and it is the fourth largest cit...   \n",
       "45   the Seine-Maritime department and is the most...   \n",
       "46   the Kingdom of Bhutan. The city is a popular ...   \n",
       "47   the state of Mexico.\\nToluca is located 50 km...   \n",
       "48   Hunan province, China. It is the only inland ...   \n",
       "49   the Dominican Republic and the largest city i...   \n",
       "\n",
       "                                        target_output  category  \\\n",
       "0           Central regional<OR>Central Region, Ghana  Capitals   \n",
       "1                             Sarawak<OR>Crown Colony  Capitals   \n",
       "2                                            Abkhazia  Capitals   \n",
       "3   Byelorussian Soviet Socialist Republic<OR>Bela...  Capitals   \n",
       "4                                     Laotian<OR>Laos  Capitals   \n",
       "5                                               Haiti  Capitals   \n",
       "6   Free State<OR>Mangaung Local Municipality<OR>O...  Capitals   \n",
       "7   Islamic State<OR>Afghan<OR>Taliban government<...  Capitals   \n",
       "8                               Oberspreewald-Lausitz  Capitals   \n",
       "9                                   Ayeyarwady Region  Capitals   \n",
       "10                       Ivory Coast<OR>Côte d'Ivoire  Capitals   \n",
       "11  Chuquisaca Department<OR>Buenos Aires<OR>Chuqu...  Capitals   \n",
       "12                            Saint Lucia<OR>St Lucia  Capitals   \n",
       "13                            Alpes-de-Haute-Provence  Capitals   \n",
       "14                          Micronesian<OR>Micronesia  Capitals   \n",
       "15                                 Kalmykia<OR>Kalmyk  Capitals   \n",
       "16  Hokkaido<OR>Hokkaido Prefecture<OR>Hokkaidō<OR...  Capitals   \n",
       "17            Silla Dynasty<OR>Silla<OR>Silla Kingdom  Capitals   \n",
       "18                                 Buryat<OR>Buryatia  Capitals   \n",
       "19  Spanish Republic<OR>Spanish Republican<OR>Spai...  Capitals   \n",
       "20                        Guizhou Province<OR>Guizhou  Capitals   \n",
       "21                                   Bamiyan Province  Capitals   \n",
       "22                                   Kakatiya dynasty  Capitals   \n",
       "23                                   Homs Governorate  Capitals   \n",
       "24                                           Abkhazia  Capitals   \n",
       "25                                         Alt Urgell  Capitals   \n",
       "26        Albany County<OR>New York State<OR>New York  Capitals   \n",
       "27                          Papua New Guinea<OR>Papua  Capitals   \n",
       "28  Austrian Netherlands<OR>Brussels-Capital Regio...  Capitals   \n",
       "29                                             Cantal  Capitals   \n",
       "30                 Niassa province<OR>Niassa Province  Capitals   \n",
       "31                        Brunei Darussalam<OR>Brunei  Capitals   \n",
       "32  South Kivu<OR>Sud-Kivu Province<OR>Sud-Kivu pr...  Capitals   \n",
       "33                                     South Sulawesi  Capitals   \n",
       "34                                            Tripura  Capitals   \n",
       "35             West Germany<OR>West German<OR>Germany  Capitals   \n",
       "36                                              Albay  Capitals   \n",
       "37       Malaysia<OR>Malaya<OR>Federated Malay States  Capitals   \n",
       "38                                         Mpumalanga  Capitals   \n",
       "39                          Quezon Province<OR>Quezon  Capitals   \n",
       "40                                              Kenya  Capitals   \n",
       "41                     Travancore<OR>Travancore State  Capitals   \n",
       "42          Northern Han<OR>Shanxi<OR>Shanxi Province  Capitals   \n",
       "43                                 Tomponsky District  Capitals   \n",
       "44                               Switzerland<OR>Swiss  Capitals   \n",
       "45                    Normandy<OR>Normandie<OR>Norman  Capitals   \n",
       "46                         Thimphu District<OR>Bhutan  Capitals   \n",
       "47         Mexico State<OR>Estado de Mexico<OR>Mexico  Capitals   \n",
       "48                            Hunan<OR>Hunan Province  Capitals   \n",
       "49  Dominican Republic<OR>Dominican<OR>Distrito Na...  Capitals   \n",
       "\n",
       "                                   prompt  \\\n",
       "0            Cape Coast is the capital of   \n",
       "1               Kuching is the capital of   \n",
       "2                Sukhum is the capital of   \n",
       "3                 Minsk is the capital of   \n",
       "4             Vientiane is the capital of   \n",
       "5        Port au Prince is the capital of   \n",
       "6          Bloemfontein is the capital of   \n",
       "7                 Kabul is the capital of   \n",
       "8           Senftenberg is the capital of   \n",
       "9               Bassein is the capital of   \n",
       "10         Yamoussoukro is the capital of   \n",
       "11             La Plata is the capital of   \n",
       "12             Castries is the capital of   \n",
       "13      Digne-les-Bains is the capital of   \n",
       "14              Palikir is the capital of   \n",
       "15               Elista is the capital of   \n",
       "16              Sapporo is the capital of   \n",
       "17             Gyeongju is the capital of   \n",
       "18             Ulan-Ude is the capital of   \n",
       "19               Madrid is the capital of   \n",
       "20              Guiyang is the capital of   \n",
       "21         Bamiyan city is the capital of   \n",
       "22             Warangal is the capital of   \n",
       "23                 Homs is the capital of   \n",
       "24              Sokhumi is the capital of   \n",
       "25      la Seu d'Urgell is the capital of   \n",
       "26               Albany is the capital of   \n",
       "27         Port Moresby is the capital of   \n",
       "28             Brussels is the capital of   \n",
       "29             Aurillac is the capital of   \n",
       "30             Lichinga is the capital of   \n",
       "31  Bandar Seri Begawan is the capital of   \n",
       "32               Bukavu is the capital of   \n",
       "33             Makassar is the capital of   \n",
       "34             Agartala is the capital of   \n",
       "35                 Bonn is the capital of   \n",
       "36         Legazpi City is the capital of   \n",
       "37         Kuala Lumpur is the capital of   \n",
       "38            Nelspruit is the capital of   \n",
       "39          Lucena City is the capital of   \n",
       "40              Nairobi is the capital of   \n",
       "41      Padmanabhapuram is the capital of   \n",
       "42              Taiyuan is the capital of   \n",
       "43             Khandyga is the capital of   \n",
       "44                 Bern is the capital of   \n",
       "45                Rouen is the capital of   \n",
       "46              Thimphu is the capital of   \n",
       "47               Toluca is the capital of   \n",
       "48             Changsha is the capital of   \n",
       "49        Santo Domingo is the capital of   \n",
       "\n",
       "                                         scores          eval_algo  eval_score  \n",
       "0   [{'name': 'factual_knowledge', 'value': 0}]  factual_knowledge           0  \n",
       "1   [{'name': 'factual_knowledge', 'value': 1}]  factual_knowledge           1  \n",
       "2   [{'name': 'factual_knowledge', 'value': 1}]  factual_knowledge           1  \n",
       "3   [{'name': 'factual_knowledge', 'value': 1}]  factual_knowledge           1  \n",
       "4   [{'name': 'factual_knowledge', 'value': 1}]  factual_knowledge           1  \n",
       "5   [{'name': 'factual_knowledge', 'value': 1}]  factual_knowledge           1  \n",
       "6   [{'name': 'factual_knowledge', 'value': 1}]  factual_knowledge           1  \n",
       "7   [{'name': 'factual_knowledge', 'value': 1}]  factual_knowledge           1  \n",
       "8   [{'name': 'factual_knowledge', 'value': 0}]  factual_knowledge           0  \n",
       "9   [{'name': 'factual_knowledge', 'value': 0}]  factual_knowledge           0  \n",
       "10  [{'name': 'factual_knowledge', 'value': 1}]  factual_knowledge           1  \n",
       "11  [{'name': 'factual_knowledge', 'value': 1}]  factual_knowledge           1  \n",
       "12  [{'name': 'factual_knowledge', 'value': 1}]  factual_knowledge           1  \n",
       "13  [{'name': 'factual_knowledge', 'value': 0}]  factual_knowledge           0  \n",
       "14  [{'name': 'factual_knowledge', 'value': 1}]  factual_knowledge           1  \n",
       "15  [{'name': 'factual_knowledge', 'value': 0}]  factual_knowledge           0  \n",
       "16  [{'name': 'factual_knowledge', 'value': 1}]  factual_knowledge           1  \n",
       "17  [{'name': 'factual_knowledge', 'value': 1}]  factual_knowledge           1  \n",
       "18  [{'name': 'factual_knowledge', 'value': 1}]  factual_knowledge           1  \n",
       "19  [{'name': 'factual_knowledge', 'value': 1}]  factual_knowledge           1  \n",
       "20  [{'name': 'factual_knowledge', 'value': 1}]  factual_knowledge           1  \n",
       "21  [{'name': 'factual_knowledge', 'value': 1}]  factual_knowledge           1  \n",
       "22  [{'name': 'factual_knowledge', 'value': 1}]  factual_knowledge           1  \n",
       "23  [{'name': 'factual_knowledge', 'value': 1}]  factual_knowledge           1  \n",
       "24  [{'name': 'factual_knowledge', 'value': 1}]  factual_knowledge           1  \n",
       "25  [{'name': 'factual_knowledge', 'value': 1}]  factual_knowledge           1  \n",
       "26  [{'name': 'factual_knowledge', 'value': 1}]  factual_knowledge           1  \n",
       "27  [{'name': 'factual_knowledge', 'value': 1}]  factual_knowledge           1  \n",
       "28  [{'name': 'factual_knowledge', 'value': 0}]  factual_knowledge           0  \n",
       "29  [{'name': 'factual_knowledge', 'value': 1}]  factual_knowledge           1  \n",
       "30  [{'name': 'factual_knowledge', 'value': 0}]  factual_knowledge           0  \n",
       "31  [{'name': 'factual_knowledge', 'value': 1}]  factual_knowledge           1  \n",
       "32  [{'name': 'factual_knowledge', 'value': 0}]  factual_knowledge           0  \n",
       "33  [{'name': 'factual_knowledge', 'value': 1}]  factual_knowledge           1  \n",
       "34  [{'name': 'factual_knowledge', 'value': 1}]  factual_knowledge           1  \n",
       "35  [{'name': 'factual_knowledge', 'value': 1}]  factual_knowledge           1  \n",
       "36  [{'name': 'factual_knowledge', 'value': 1}]  factual_knowledge           1  \n",
       "37  [{'name': 'factual_knowledge', 'value': 1}]  factual_knowledge           1  \n",
       "38  [{'name': 'factual_knowledge', 'value': 1}]  factual_knowledge           1  \n",
       "39  [{'name': 'factual_knowledge', 'value': 1}]  factual_knowledge           1  \n",
       "40  [{'name': 'factual_knowledge', 'value': 1}]  factual_knowledge           1  \n",
       "41  [{'name': 'factual_knowledge', 'value': 1}]  factual_knowledge           1  \n",
       "42  [{'name': 'factual_knowledge', 'value': 1}]  factual_knowledge           1  \n",
       "43  [{'name': 'factual_knowledge', 'value': 0}]  factual_knowledge           0  \n",
       "44  [{'name': 'factual_knowledge', 'value': 1}]  factual_knowledge           1  \n",
       "45  [{'name': 'factual_knowledge', 'value': 1}]  factual_knowledge           1  \n",
       "46  [{'name': 'factual_knowledge', 'value': 1}]  factual_knowledge           1  \n",
       "47  [{'name': 'factual_knowledge', 'value': 1}]  factual_knowledge           1  \n",
       "48  [{'name': 'factual_knowledge', 'value': 1}]  factual_knowledge           1  \n",
       "49  [{'name': 'factual_knowledge', 'value': 1}]  factual_knowledge           1  "
      ]
     },
     "execution_count": 29,
     "metadata": {},
     "output_type": "execute_result"
    }
   ],
   "source": [
    "# Create a Pandas DataFrame to visualize the results\n",
    "import pandas as pd\n",
    "\n",
    "data = []\n",
    "\n",
    "# We obtain the path to the results file from \"output_path\" in the cell above\n",
    "with open(\"/tmp/eval_results/factual_knowledge_trex_sample.jsonl\", \"r\") as file:\n",
    "    for line in file:\n",
    "        data.append(json.loads(line))\n",
    "df = pd.DataFrame(data)\n",
    "df['eval_algo'] = df['scores'].apply(lambda x: x[0]['name'])\n",
    "df['eval_score'] = df['scores'].apply(lambda x: x[0]['value'])\n",
    "df"
   ]
  },
  {
   "cell_type": "markdown",
   "id": "bd5b28c5-dfd7-4276-9a97-18bc9c3ab59b",
   "metadata": {},
   "source": [
    "### Dolly dataset evaluation"
   ]
  },
  {
   "cell_type": "code",
   "execution_count": 30,
   "id": "d5ca7bb7-ed17-4cce-b9ec-1cf4b496c4ab",
   "metadata": {
    "tags": []
   },
   "outputs": [],
   "source": [
    "config = DataConfig(\n",
    "    dataset_name=\"dolly_qa\",\n",
    "    dataset_uri=\"dataset_qa_eval.jsonl\",\n",
    "    dataset_mime_type=MIME_TYPE_JSONLINES,\n",
    "    model_input_location=\"model_input\",\n",
    "    target_output_location=\"target_output\",\n",
    ")"
   ]
  },
  {
   "cell_type": "code",
   "execution_count": 31,
   "id": "b474c533-53de-4d26-8531-c130e265159d",
   "metadata": {
    "tags": []
   },
   "outputs": [
    {
     "name": "stderr",
     "output_type": "stream",
     "text": [
      "Using model 'meta-textgeneration-llama-2-7b-f' with wildcard version identifier '*'. You can pin to version '3.0.2' for more stable results. Note that models may have different input/output signatures after a major version upgrade.\n",
      "WARNING:sagemaker.jumpstart:Using model 'meta-textgeneration-llama-2-7b-f' with wildcard version identifier '*'. You can pin to version '3.0.2' for more stable results. Note that models may have different input/output signatures after a major version upgrade.\n"
     ]
    }
   ],
   "source": [
    "js_model_runner = JumpStartModelRunner(\n",
    "    endpoint_name=endpoint_name,\n",
    "    model_id=model_id,\n",
    "    model_version=model_version,\n",
    "    output='[0].generated_text',\n",
    "    log_probability='[0].details.prefill[*].logprob',\n",
    "    content_template='{\"inputs\": $prompt, \"parameters\": { \"top_p\": 0.9, \"temperature\": 0.8, \"max_new_tokens\": 200}}',\n",
    ")"
   ]
  },
  {
   "cell_type": "code",
   "execution_count": 32,
   "id": "bcff720e-a1cd-44a5-b154-06739e1d9ba3",
   "metadata": {
    "tags": []
   },
   "outputs": [
    {
     "name": "stderr",
     "output_type": "stream",
     "text": [
      "2024-01-09 19:52:22,272\tINFO read_api.py:406 -- To satisfy the requested parallelism of 8, each read task output is split into 8 smaller blocks.\n"
     ]
    },
    {
     "data": {
      "application/vnd.jupyter.widget-view+json": {
       "model_id": "",
       "version_major": 2,
       "version_minor": 0
      },
      "text/plain": [
       "Read progress 0:   0%|          | 0/1 [00:00<?, ?it/s]"
      ]
     },
     "metadata": {},
     "output_type": "display_data"
    },
    {
     "data": {
      "application/vnd.jupyter.widget-view+json": {
       "model_id": "",
       "version_major": 2,
       "version_minor": 0
      },
      "text/plain": [
       "Read progress 0:   0%|          | 0/1 [00:00<?, ?it/s]"
      ]
     },
     "metadata": {},
     "output_type": "display_data"
    },
    {
     "name": "stderr",
     "output_type": "stream",
     "text": [
      "/opt/conda/lib/python3.10/site-packages/ray/data/_internal/arrow_block.py:128: FutureWarning: promote has been superseded by mode='default'.\n",
      "  return transform_pyarrow.concat(tables)\n",
      "2024-01-09 19:52:22,363\tINFO streaming_executor.py:93 -- Executing DAG InputDataBuffer[Input] -> AllToAllOperator[Repartition]\n",
      "2024-01-09 19:52:22,363\tINFO streaming_executor.py:94 -- Execution config: ExecutionOptions(resource_limits=ExecutionResources(cpu=None, gpu=None, object_store_memory=None), locality_with_output=False, preserve_order=True, actor_locality_enabled=True, verbose_progress=False)\n",
      "2024-01-09 19:52:22,364\tINFO streaming_executor.py:96 -- Tip: For detailed progress reporting, run `ray.data.DataContext.get_current().execution_options.verbose_progress = True`\n"
     ]
    },
    {
     "data": {
      "application/vnd.jupyter.widget-view+json": {
       "model_id": "",
       "version_major": 2,
       "version_minor": 0
      },
      "text/plain": [
       "- Repartition 1:   0%|          | 0/15 [00:00<?, ?it/s]"
      ]
     },
     "metadata": {},
     "output_type": "display_data"
    },
    {
     "data": {
      "application/vnd.jupyter.widget-view+json": {
       "model_id": "",
       "version_major": 2,
       "version_minor": 0
      },
      "text/plain": [
       "Split Repartition 2:   0%|          | 0/15 [00:00<?, ?it/s]"
      ]
     },
     "metadata": {},
     "output_type": "display_data"
    },
    {
     "data": {
      "application/vnd.jupyter.widget-view+json": {
       "model_id": "",
       "version_major": 2,
       "version_minor": 0
      },
      "text/plain": [
       "Running 0:   0%|          | 0/15 [00:00<?, ?it/s]"
      ]
     },
     "metadata": {},
     "output_type": "display_data"
    },
    {
     "name": "stderr",
     "output_type": "stream",
     "text": [
      "2024-01-09 19:52:22,463\tINFO streaming_executor.py:93 -- Executing DAG InputDataBuffer[Input] -> TaskPoolMapOperator[MapBatches(process_batch)]\n",
      "2024-01-09 19:52:22,463\tINFO streaming_executor.py:94 -- Execution config: ExecutionOptions(resource_limits=ExecutionResources(cpu=None, gpu=None, object_store_memory=None), locality_with_output=False, preserve_order=True, actor_locality_enabled=True, verbose_progress=False)\n",
      "2024-01-09 19:52:22,464\tINFO streaming_executor.py:96 -- Tip: For detailed progress reporting, run `ray.data.DataContext.get_current().execution_options.verbose_progress = True`\n"
     ]
    },
    {
     "data": {
      "application/vnd.jupyter.widget-view+json": {
       "model_id": "",
       "version_major": 2,
       "version_minor": 0
      },
      "text/plain": [
       "Running 0:   0%|          | 0/15 [00:00<?, ?it/s]"
      ]
     },
     "metadata": {},
     "output_type": "display_data"
    },
    {
     "name": "stderr",
     "output_type": "stream",
     "text": [
      "2024-01-09 19:52:22,581\tINFO streaming_executor.py:93 -- Executing DAG InputDataBuffer[Input] -> ActorPoolMapOperator[Map(ModelRunnerWrapper)]\n",
      "2024-01-09 19:52:22,582\tINFO streaming_executor.py:94 -- Execution config: ExecutionOptions(resource_limits=ExecutionResources(cpu=None, gpu=None, object_store_memory=None), locality_with_output=False, preserve_order=True, actor_locality_enabled=True, verbose_progress=False)\n",
      "2024-01-09 19:52:22,583\tINFO streaming_executor.py:96 -- Tip: For detailed progress reporting, run `ray.data.DataContext.get_current().execution_options.verbose_progress = True`\n",
      "2024-01-09 19:52:22,604\tINFO actor_pool_map_operator.py:106 -- Map(ModelRunnerWrapper): Waiting for 3 pool actors to start...\n"
     ]
    },
    {
     "name": "stdout",
     "output_type": "stream",
     "text": [
      "\u001b[2m\u001b[36m(_MapWorker pid=1732)\u001b[0m sagemaker.config INFO - Not applying SDK defaults from location: /etc/xdg/sagemaker/config.yaml\n",
      "\u001b[2m\u001b[36m(_MapWorker pid=1732)\u001b[0m sagemaker.config INFO - Not applying SDK defaults from location: /root/.config/sagemaker/config.yaml\n"
     ]
    },
    {
     "name": "stderr",
     "output_type": "stream",
     "text": [
      "\u001b[2m\u001b[36m(_MapWorker pid=1732)\u001b[0m Using model 'meta-textgeneration-llama-2-7b-f' with wildcard version identifier '*'. You can pin to version '3.0.2' for more stable results. Note that models may have different input/output signatures after a major version upgrade.\n"
     ]
    },
    {
     "data": {
      "application/vnd.jupyter.widget-view+json": {
       "model_id": "",
       "version_major": 2,
       "version_minor": 0
      },
      "text/plain": [
       "Running 0:   0%|          | 0/15 [00:00<?, ?it/s]"
      ]
     },
     "metadata": {},
     "output_type": "display_data"
    },
    {
     "name": "stderr",
     "output_type": "stream",
     "text": [
      "\u001b[2m\u001b[36m(MapWorker(Map(ModelRunnerWrapper)) pid=1734)\u001b[0m Unable to fetch log_probability from model response: JMESpath [0].details.prefill[*].logprob could not find any data\n",
      "\u001b[2m\u001b[36m(MapWorker(Map(ModelRunnerWrapper)) pid=1734)\u001b[0m Unable to fetch log_probability from model response: JMESpath [0].details.prefill[*].logprob could not find any data\n",
      "\u001b[2m\u001b[36m(_MapWorker pid=1733)\u001b[0m Using model 'meta-textgeneration-llama-2-7b-f' with wildcard version identifier '*'. You can pin to version '3.0.2' for more stable results. Note that models may have different input/output signatures after a major version upgrade.\u001b[32m [repeated 2x across cluster]\u001b[0m\n",
      "\u001b[2m\u001b[36m(MapWorker(Map(ModelRunnerWrapper)) pid=1733)\u001b[0m Unable to fetch log_probability from model response: JMESpath [0].details.prefill[*].logprob could not find any data\u001b[32m [repeated 2x across cluster]\u001b[0m\n",
      "\u001b[2m\u001b[36m(MapWorker(Map(ModelRunnerWrapper)) pid=1733)\u001b[0m Unable to fetch log_probability from model response: JMESpath [0].details.prefill[*].logprob could not find any data\u001b[32m [repeated 4x across cluster]\u001b[0m\n",
      "\u001b[2m\u001b[36m(MapWorker(Map(ModelRunnerWrapper)) pid=1733)\u001b[0m Unable to fetch log_probability from model response: JMESpath [0].details.prefill[*].logprob could not find any data\u001b[32m [repeated 3x across cluster]\u001b[0m\n",
      "\u001b[2m\u001b[36m(MapWorker(Map(ModelRunnerWrapper)) pid=1734)\u001b[0m Unable to fetch log_probability from model response: JMESpath [0].details.prefill[*].logprob could not find any data\u001b[32m [repeated 6x across cluster]\u001b[0m\n",
      "\u001b[2m\u001b[36m(MapWorker(Map(ModelRunnerWrapper)) pid=1734)\u001b[0m Unable to fetch log_probability from model response: JMESpath [0].details.prefill[*].logprob could not find any data\u001b[32m [repeated 3x across cluster]\u001b[0m\n",
      "\u001b[2m\u001b[36m(MapWorker(Map(ModelRunnerWrapper)) pid=1734)\u001b[0m Unable to fetch log_probability from model response: JMESpath [0].details.prefill[*].logprob could not find any data\u001b[32m [repeated 5x across cluster]\u001b[0m\n",
      "\u001b[2m\u001b[36m(MapWorker(Map(ModelRunnerWrapper)) pid=1734)\u001b[0m Unable to fetch log_probability from model response: JMESpath [0].details.prefill[*].logprob could not find any data\u001b[32m [repeated 4x across cluster]\u001b[0m\n",
      "\u001b[2m\u001b[36m(MapWorker(Map(ModelRunnerWrapper)) pid=1734)\u001b[0m Unable to fetch log_probability from model response: JMESpath [0].details.prefill[*].logprob could not find any data\u001b[32m [repeated 5x across cluster]\u001b[0m\n",
      "\u001b[2m\u001b[36m(MapWorker(Map(ModelRunnerWrapper)) pid=1733)\u001b[0m Unable to fetch log_probability from model response: JMESpath [0].details.prefill[*].logprob could not find any data\u001b[32m [repeated 5x across cluster]\u001b[0m\n",
      "\u001b[2m\u001b[36m(MapWorker(Map(ModelRunnerWrapper)) pid=1733)\u001b[0m Unable to fetch log_probability from model response: JMESpath [0].details.prefill[*].logprob could not find any data\u001b[32m [repeated 3x across cluster]\u001b[0m\n",
      "\u001b[2m\u001b[36m(MapWorker(Map(ModelRunnerWrapper)) pid=1733)\u001b[0m Unable to fetch log_probability from model response: JMESpath [0].details.prefill[*].logprob could not find any data\u001b[32m [repeated 4x across cluster]\u001b[0m\n",
      "\u001b[2m\u001b[36m(MapWorker(Map(ModelRunnerWrapper)) pid=1732)\u001b[0m Unable to fetch log_probability from model response: JMESpath [0].details.prefill[*].logprob could not find any data\u001b[32m [repeated 6x across cluster]\u001b[0m\n",
      "\u001b[2m\u001b[36m(MapWorker(Map(ModelRunnerWrapper)) pid=1732)\u001b[0m Unable to fetch log_probability from model response: JMESpath [0].details.prefill[*].logprob could not find any data\u001b[32m [repeated 6x across cluster]\u001b[0m\n",
      "\u001b[2m\u001b[36m(MapWorker(Map(ModelRunnerWrapper)) pid=1733)\u001b[0m Unable to fetch log_probability from model response: JMESpath [0].details.prefill[*].logprob could not find any data\n",
      "\u001b[2m\u001b[36m(MapWorker(Map(ModelRunnerWrapper)) pid=1734)\u001b[0m Unable to fetch log_probability from model response: JMESpath [0].details.prefill[*].logprob could not find any data\n",
      "\u001b[2m\u001b[36m(MapWorker(Map(ModelRunnerWrapper)) pid=1733)\u001b[0m Unable to fetch log_probability from model response: JMESpath [0].details.prefill[*].logprob could not find any data\u001b[32m [repeated 6x across cluster]\u001b[0m\n",
      "\u001b[2m\u001b[36m(MapWorker(Map(ModelRunnerWrapper)) pid=1733)\u001b[0m Unable to fetch log_probability from model response: JMESpath [0].details.prefill[*].logprob could not find any data\u001b[32m [repeated 3x across cluster]\u001b[0m\n",
      "\u001b[2m\u001b[36m(MapWorker(Map(ModelRunnerWrapper)) pid=1733)\u001b[0m Unable to fetch log_probability from model response: JMESpath [0].details.prefill[*].logprob could not find any data\u001b[32m [repeated 4x across cluster]\u001b[0m\n",
      "\u001b[2m\u001b[36m(MapWorker(Map(ModelRunnerWrapper)) pid=1733)\u001b[0m Unable to fetch log_probability from model response: JMESpath [0].details.prefill[*].logprob could not find any data\u001b[32m [repeated 3x across cluster]\u001b[0m\n",
      "\u001b[2m\u001b[36m(MapWorker(Map(ModelRunnerWrapper)) pid=1734)\u001b[0m Unable to fetch log_probability from model response: JMESpath [0].details.prefill[*].logprob could not find any data\u001b[32m [repeated 6x across cluster]\u001b[0m\n",
      "\u001b[2m\u001b[36m(MapWorker(Map(ModelRunnerWrapper)) pid=1734)\u001b[0m Unable to fetch log_probability from model response: JMESpath [0].details.prefill[*].logprob could not find any data\u001b[32m [repeated 3x across cluster]\u001b[0m\n",
      "\u001b[2m\u001b[36m(MapWorker(Map(ModelRunnerWrapper)) pid=1734)\u001b[0m Unable to fetch log_probability from model response: JMESpath [0].details.prefill[*].logprob could not find any data\u001b[32m [repeated 3x across cluster]\u001b[0m\n",
      "\u001b[2m\u001b[36m(MapWorker(Map(ModelRunnerWrapper)) pid=1734)\u001b[0m Unable to fetch log_probability from model response: JMESpath [0].details.prefill[*].logprob could not find any data\u001b[32m [repeated 3x across cluster]\u001b[0m\n",
      "\u001b[2m\u001b[36m(MapWorker(Map(ModelRunnerWrapper)) pid=1734)\u001b[0m Unable to fetch log_probability from model response: JMESpath [0].details.prefill[*].logprob could not find any data\u001b[32m [repeated 4x across cluster]\u001b[0m\n",
      "\u001b[2m\u001b[36m(MapWorker(Map(ModelRunnerWrapper)) pid=1732)\u001b[0m Unable to fetch log_probability from model response: JMESpath [0].details.prefill[*].logprob could not find any data\u001b[32m [repeated 4x across cluster]\u001b[0m\n",
      "\u001b[2m\u001b[36m(MapWorker(Map(ModelRunnerWrapper)) pid=1732)\u001b[0m Unable to fetch log_probability from model response: JMESpath [0].details.prefill[*].logprob could not find any data\u001b[32m [repeated 8x across cluster]\u001b[0m\n",
      "\u001b[2m\u001b[36m(MapWorker(Map(ModelRunnerWrapper)) pid=1732)\u001b[0m Unable to fetch log_probability from model response: JMESpath [0].details.prefill[*].logprob could not find any data\u001b[32m [repeated 3x across cluster]\u001b[0m\n",
      "\u001b[2m\u001b[36m(MapWorker(Map(ModelRunnerWrapper)) pid=1732)\u001b[0m Unable to fetch log_probability from model response: JMESpath [0].details.prefill[*].logprob could not find any data\u001b[32m [repeated 6x across cluster]\u001b[0m\n",
      "\u001b[2m\u001b[36m(MapWorker(Map(ModelRunnerWrapper)) pid=1734)\u001b[0m Unable to fetch log_probability from model response: JMESpath [0].details.prefill[*].logprob could not find any data\u001b[32m [repeated 2x across cluster]\u001b[0m\n",
      "\u001b[2m\u001b[36m(MapWorker(Map(ModelRunnerWrapper)) pid=1734)\u001b[0m Unable to fetch log_probability from model response: JMESpath [0].details.prefill[*].logprob could not find any data\u001b[32m [repeated 3x across cluster]\u001b[0m\n",
      "\u001b[2m\u001b[36m(MapWorker(Map(ModelRunnerWrapper)) pid=1734)\u001b[0m Unable to fetch log_probability from model response: JMESpath [0].details.prefill[*].logprob could not find any data\u001b[32m [repeated 4x across cluster]\u001b[0m\n",
      "\u001b[2m\u001b[36m(MapWorker(Map(ModelRunnerWrapper)) pid=1732)\u001b[0m Unable to fetch log_probability from model response: JMESpath [0].details.prefill[*].logprob could not find any data\u001b[32m [repeated 3x across cluster]\u001b[0m\n",
      "\u001b[2m\u001b[36m(MapWorker(Map(ModelRunnerWrapper)) pid=1734)\u001b[0m Unable to fetch log_probability from model response: JMESpath [0].details.prefill[*].logprob could not find any data\u001b[32m [repeated 5x across cluster]\u001b[0m\n",
      "\u001b[2m\u001b[36m(MapWorker(Map(ModelRunnerWrapper)) pid=1734)\u001b[0m Unable to fetch log_probability from model response: JMESpath [0].details.prefill[*].logprob could not find any data\u001b[32m [repeated 5x across cluster]\u001b[0m\n",
      "\u001b[2m\u001b[36m(MapWorker(Map(ModelRunnerWrapper)) pid=1734)\u001b[0m Unable to fetch log_probability from model response: JMESpath [0].details.prefill[*].logprob could not find any data\u001b[32m [repeated 4x across cluster]\u001b[0m\n",
      "\u001b[2m\u001b[36m(MapWorker(Map(ModelRunnerWrapper)) pid=1734)\u001b[0m Unable to fetch log_probability from model response: JMESpath [0].details.prefill[*].logprob could not find any data\u001b[32m [repeated 6x across cluster]\u001b[0m\n",
      "\u001b[2m\u001b[36m(MapWorker(Map(ModelRunnerWrapper)) pid=1734)\u001b[0m Unable to fetch log_probability from model response: JMESpath [0].details.prefill[*].logprob could not find any data\u001b[32m [repeated 3x across cluster]\u001b[0m\n",
      "\u001b[2m\u001b[36m(MapWorker(Map(ModelRunnerWrapper)) pid=1734)\u001b[0m Unable to fetch log_probability from model response: JMESpath [0].details.prefill[*].logprob could not find any data\u001b[32m [repeated 3x across cluster]\u001b[0m\n",
      "\u001b[2m\u001b[36m(MapWorker(Map(ModelRunnerWrapper)) pid=1734)\u001b[0m Unable to fetch log_probability from model response: JMESpath [0].details.prefill[*].logprob could not find any data\u001b[32m [repeated 6x across cluster]\u001b[0m\n",
      "\u001b[2m\u001b[36m(MapWorker(Map(ModelRunnerWrapper)) pid=1732)\u001b[0m Unable to fetch log_probability from model response: JMESpath [0].details.prefill[*].logprob could not find any data\u001b[32m [repeated 2x across cluster]\u001b[0m\n",
      "\u001b[2m\u001b[36m(MapWorker(Map(ModelRunnerWrapper)) pid=1733)\u001b[0m Unable to fetch log_probability from model response: JMESpath [0].details.prefill[*].logprob could not find any data\u001b[32m [repeated 3x across cluster]\u001b[0m\n",
      "\u001b[2m\u001b[36m(MapWorker(Map(ModelRunnerWrapper)) pid=1732)\u001b[0m Unable to fetch log_probability from model response: JMESpath [0].details.prefill[*].logprob could not find any data\u001b[32m [repeated 5x across cluster]\u001b[0m\n",
      "\u001b[2m\u001b[36m(MapWorker(Map(ModelRunnerWrapper)) pid=1732)\u001b[0m Unable to fetch log_probability from model response: JMESpath [0].details.prefill[*].logprob could not find any data\u001b[32m [repeated 5x across cluster]\u001b[0m\n",
      "\u001b[2m\u001b[36m(MapWorker(Map(ModelRunnerWrapper)) pid=1733)\u001b[0m Unable to fetch log_probability from model response: JMESpath [0].details.prefill[*].logprob could not find any data\u001b[32m [repeated 6x across cluster]\u001b[0m\n",
      "\u001b[2m\u001b[36m(MapWorker(Map(ModelRunnerWrapper)) pid=1734)\u001b[0m Unable to fetch log_probability from model response: JMESpath [0].details.prefill[*].logprob could not find any data\u001b[32m [repeated 5x across cluster]\u001b[0m\n",
      "\u001b[2m\u001b[36m(MapWorker(Map(ModelRunnerWrapper)) pid=1734)\u001b[0m Unable to fetch log_probability from model response: JMESpath [0].details.prefill[*].logprob could not find any data\u001b[32m [repeated 4x across cluster]\u001b[0m\n",
      "\u001b[2m\u001b[36m(MapWorker(Map(ModelRunnerWrapper)) pid=1734)\u001b[0m Unable to fetch log_probability from model response: JMESpath [0].details.prefill[*].logprob could not find any data\u001b[32m [repeated 4x across cluster]\u001b[0m\n",
      "\u001b[2m\u001b[36m(MapWorker(Map(ModelRunnerWrapper)) pid=1734)\u001b[0m Unable to fetch log_probability from model response: JMESpath [0].details.prefill[*].logprob could not find any data\u001b[32m [repeated 3x across cluster]\u001b[0m\n",
      "\u001b[2m\u001b[36m(MapWorker(Map(ModelRunnerWrapper)) pid=1734)\u001b[0m Unable to fetch log_probability from model response: JMESpath [0].details.prefill[*].logprob could not find any data\u001b[32m [repeated 4x across cluster]\u001b[0m\n",
      "\u001b[2m\u001b[36m(MapWorker(Map(ModelRunnerWrapper)) pid=1733)\u001b[0m Unable to fetch log_probability from model response: JMESpath [0].details.prefill[*].logprob could not find any data\u001b[32m [repeated 3x across cluster]\u001b[0m\n",
      "\u001b[2m\u001b[36m(MapWorker(Map(ModelRunnerWrapper)) pid=1733)\u001b[0m Unable to fetch log_probability from model response: JMESpath [0].details.prefill[*].logprob could not find any data\u001b[32m [repeated 6x across cluster]\u001b[0m\n",
      "\u001b[2m\u001b[36m(MapWorker(Map(ModelRunnerWrapper)) pid=1733)\u001b[0m Unable to fetch log_probability from model response: JMESpath [0].details.prefill[*].logprob could not find any data\u001b[32m [repeated 4x across cluster]\u001b[0m\n",
      "\u001b[2m\u001b[36m(MapWorker(Map(ModelRunnerWrapper)) pid=1733)\u001b[0m Unable to fetch log_probability from model response: JMESpath [0].details.prefill[*].logprob could not find any data\u001b[32m [repeated 3x across cluster]\u001b[0m\n",
      "\u001b[2m\u001b[36m(MapWorker(Map(ModelRunnerWrapper)) pid=1734)\u001b[0m Unable to fetch log_probability from model response: JMESpath [0].details.prefill[*].logprob could not find any data\u001b[32m [repeated 9x across cluster]\u001b[0m\n",
      "\u001b[2m\u001b[36m(MapWorker(Map(ModelRunnerWrapper)) pid=1732)\u001b[0m Unable to fetch log_probability from model response: JMESpath [0].details.prefill[*].logprob could not find any data\u001b[32m [repeated 6x across cluster]\u001b[0m\n",
      "\u001b[2m\u001b[36m(MapWorker(Map(ModelRunnerWrapper)) pid=1732)\u001b[0m Unable to fetch log_probability from model response: JMESpath [0].details.prefill[*].logprob could not find any data\u001b[32m [repeated 3x across cluster]\u001b[0m\n",
      "\u001b[2m\u001b[36m(MapWorker(Map(ModelRunnerWrapper)) pid=1732)\u001b[0m Unable to fetch log_probability from model response: JMESpath [0].details.prefill[*].logprob could not find any data\u001b[32m [repeated 5x across cluster]\u001b[0m\n",
      "\u001b[2m\u001b[36m(MapWorker(Map(ModelRunnerWrapper)) pid=1732)\u001b[0m Unable to fetch log_probability from model response: JMESpath [0].details.prefill[*].logprob could not find any data\u001b[32m [repeated 5x across cluster]\u001b[0m\n",
      "\u001b[2m\u001b[36m(MapWorker(Map(ModelRunnerWrapper)) pid=1734)\u001b[0m Unable to fetch log_probability from model response: JMESpath [0].details.prefill[*].logprob could not find any data\u001b[32m [repeated 2x across cluster]\u001b[0m\n",
      "\u001b[2m\u001b[36m(MapWorker(Map(ModelRunnerWrapper)) pid=1734)\u001b[0m Unable to fetch log_probability from model response: JMESpath [0].details.prefill[*].logprob could not find any data\u001b[32m [repeated 6x across cluster]\u001b[0m\n",
      "\u001b[2m\u001b[36m(MapWorker(Map(ModelRunnerWrapper)) pid=1734)\u001b[0m Unable to fetch log_probability from model response: JMESpath [0].details.prefill[*].logprob could not find any data\u001b[32m [repeated 5x across cluster]\u001b[0m\n",
      "\u001b[2m\u001b[36m(MapWorker(Map(ModelRunnerWrapper)) pid=1733)\u001b[0m Unable to fetch log_probability from model response: JMESpath [0].details.prefill[*].logprob could not find any data\u001b[32m [repeated 7x across cluster]\u001b[0m\n",
      "\u001b[2m\u001b[36m(MapWorker(Map(ModelRunnerWrapper)) pid=1733)\u001b[0m Unable to fetch log_probability from model response: JMESpath [0].details.prefill[*].logprob could not find any data\u001b[32m [repeated 3x across cluster]\u001b[0m\n",
      "\u001b[2m\u001b[36m(MapWorker(Map(ModelRunnerWrapper)) pid=1732)\u001b[0m Unable to fetch log_probability from model response: JMESpath [0].details.prefill[*].logprob could not find any data\u001b[32m [repeated 8x across cluster]\u001b[0m\n",
      "\u001b[2m\u001b[36m(MapWorker(Map(ModelRunnerWrapper)) pid=1733)\u001b[0m Unable to fetch log_probability from model response: JMESpath [0].details.prefill[*].logprob could not find any data\u001b[32m [repeated 5x across cluster]\u001b[0m\n",
      "\u001b[2m\u001b[36m(MapWorker(Map(ModelRunnerWrapper)) pid=1733)\u001b[0m Unable to fetch log_probability from model response: JMESpath [0].details.prefill[*].logprob could not find any data\u001b[32m [repeated 3x across cluster]\u001b[0m\n",
      "\u001b[2m\u001b[36m(MapWorker(Map(ModelRunnerWrapper)) pid=1733)\u001b[0m Unable to fetch log_probability from model response: JMESpath [0].details.prefill[*].logprob could not find any data\u001b[32m [repeated 2x across cluster]\u001b[0m\n",
      "\u001b[2m\u001b[36m(MapWorker(Map(ModelRunnerWrapper)) pid=1733)\u001b[0m Unable to fetch log_probability from model response: JMESpath [0].details.prefill[*].logprob could not find any data\u001b[32m [repeated 3x across cluster]\u001b[0m\n",
      "\u001b[2m\u001b[36m(MapWorker(Map(ModelRunnerWrapper)) pid=1733)\u001b[0m Unable to fetch log_probability from model response: JMESpath [0].details.prefill[*].logprob could not find any data\u001b[32m [repeated 3x across cluster]\u001b[0m\n",
      "\u001b[2m\u001b[36m(MapWorker(Map(ModelRunnerWrapper)) pid=1732)\u001b[0m Unable to fetch log_probability from model response: JMESpath [0].details.prefill[*].logprob could not find any data\u001b[32m [repeated 2x across cluster]\u001b[0m\n",
      "\u001b[2m\u001b[36m(MapWorker(Map(ModelRunnerWrapper)) pid=1733)\u001b[0m Unable to fetch log_probability from model response: JMESpath [0].details.prefill[*].logprob could not find any data\u001b[32m [repeated 3x across cluster]\u001b[0m\n",
      "\u001b[2m\u001b[36m(MapWorker(Map(ModelRunnerWrapper)) pid=1733)\u001b[0m Unable to fetch log_probability from model response: JMESpath [0].details.prefill[*].logprob could not find any data\u001b[32m [repeated 2x across cluster]\u001b[0m\n",
      "2024-01-09 20:00:48,908\tINFO streaming_executor.py:93 -- Executing DAG InputDataBuffer[Input] -> TaskPoolMapOperator[Map(_generate_eval_scores)] -> AllToAllOperator[Aggregate] -> LimitOperator[limit=1]\n",
      "2024-01-09 20:00:48,908\tINFO streaming_executor.py:94 -- Execution config: ExecutionOptions(resource_limits=ExecutionResources(cpu=None, gpu=None, object_store_memory=None), locality_with_output=False, preserve_order=True, actor_locality_enabled=True, verbose_progress=False)\n",
      "2024-01-09 20:00:48,909\tINFO streaming_executor.py:96 -- Tip: For detailed progress reporting, run `ray.data.DataContext.get_current().execution_options.verbose_progress = True`\n"
     ]
    },
    {
     "data": {
      "application/vnd.jupyter.widget-view+json": {
       "model_id": "",
       "version_major": 2,
       "version_minor": 0
      },
      "text/plain": [
       "- Aggregate 1:   0%|          | 0/15 [00:00<?, ?it/s]"
      ]
     },
     "metadata": {},
     "output_type": "display_data"
    },
    {
     "data": {
      "application/vnd.jupyter.widget-view+json": {
       "model_id": "",
       "version_major": 2,
       "version_minor": 0
      },
      "text/plain": [
       "Shuffle Map 2:   0%|          | 0/15 [00:00<?, ?it/s]"
      ]
     },
     "metadata": {},
     "output_type": "display_data"
    },
    {
     "data": {
      "application/vnd.jupyter.widget-view+json": {
       "model_id": "",
       "version_major": 2,
       "version_minor": 0
      },
      "text/plain": [
       "Shuffle Reduce 3:   0%|          | 0/15 [00:00<?, ?it/s]"
      ]
     },
     "metadata": {},
     "output_type": "display_data"
    },
    {
     "data": {
      "application/vnd.jupyter.widget-view+json": {
       "model_id": "",
       "version_major": 2,
       "version_minor": 0
      },
      "text/plain": [
       "Running 0:   0%|          | 0/1 [00:00<?, ?it/s]"
      ]
     },
     "metadata": {},
     "output_type": "display_data"
    },
    {
     "name": "stdout",
     "output_type": "stream",
     "text": [
      "\u001b[2m\u001b[36m(Map(_generate_eval_scores) pid=1848)\u001b[0m sagemaker.config INFO - Not applying SDK defaults from location: /etc/xdg/sagemaker/config.yaml\u001b[32m [repeated 3x across cluster]\u001b[0m\n",
      "\u001b[2m\u001b[36m(Map(_generate_eval_scores) pid=1848)\u001b[0m sagemaker.config INFO - Not applying SDK defaults from location: /root/.config/sagemaker/config.yaml\u001b[32m [repeated 3x across cluster]\u001b[0m\n"
     ]
    },
    {
     "name": "stderr",
     "output_type": "stream",
     "text": [
      "2024-01-09 20:00:51,621\tINFO streaming_executor.py:93 -- Executing DAG InputDataBuffer[Input] -> TaskPoolMapOperator[Map(_generate_eval_scores)] -> LimitOperator[limit=1]\n",
      "2024-01-09 20:00:51,621\tINFO streaming_executor.py:94 -- Execution config: ExecutionOptions(resource_limits=ExecutionResources(cpu=None, gpu=None, object_store_memory=None), locality_with_output=False, preserve_order=True, actor_locality_enabled=True, verbose_progress=False)\n",
      "2024-01-09 20:00:51,622\tINFO streaming_executor.py:96 -- Tip: For detailed progress reporting, run `ray.data.DataContext.get_current().execution_options.verbose_progress = True`\n"
     ]
    },
    {
     "data": {
      "application/vnd.jupyter.widget-view+json": {
       "model_id": "",
       "version_major": 2,
       "version_minor": 0
      },
      "text/plain": [
       "Running 0:   0%|          | 0/1 [00:00<?, ?it/s]"
      ]
     },
     "metadata": {},
     "output_type": "display_data"
    },
    {
     "name": "stderr",
     "output_type": "stream",
     "text": [
      "2024-01-09 20:00:51,694\tINFO streaming_executor.py:93 -- Executing DAG InputDataBuffer[Input] -> TaskPoolMapOperator[Map(_generate_eval_scores)->Map(<lambda>)]\n",
      "2024-01-09 20:00:51,695\tINFO streaming_executor.py:94 -- Execution config: ExecutionOptions(resource_limits=ExecutionResources(cpu=None, gpu=None, object_store_memory=None), locality_with_output=False, preserve_order=True, actor_locality_enabled=True, verbose_progress=False)\n",
      "2024-01-09 20:00:51,695\tINFO streaming_executor.py:96 -- Tip: For detailed progress reporting, run `ray.data.DataContext.get_current().execution_options.verbose_progress = True`\n"
     ]
    },
    {
     "data": {
      "application/vnd.jupyter.widget-view+json": {
       "model_id": "",
       "version_major": 2,
       "version_minor": 0
      },
      "text/plain": [
       "Running 0:   0%|          | 0/15 [00:00<?, ?it/s]"
      ]
     },
     "metadata": {},
     "output_type": "display_data"
    },
    {
     "name": "stderr",
     "output_type": "stream",
     "text": [
      "2024-01-09 20:00:51,816\tINFO streaming_executor.py:93 -- Executing DAG InputDataBuffer[Input] -> TaskPoolMapOperator[Map(_generate_eval_scores)->Map(<lambda>)]\n",
      "2024-01-09 20:00:51,817\tINFO streaming_executor.py:94 -- Execution config: ExecutionOptions(resource_limits=ExecutionResources(cpu=None, gpu=None, object_store_memory=None), locality_with_output=False, preserve_order=True, actor_locality_enabled=True, verbose_progress=False)\n",
      "2024-01-09 20:00:51,818\tINFO streaming_executor.py:96 -- Tip: For detailed progress reporting, run `ray.data.DataContext.get_current().execution_options.verbose_progress = True`\n"
     ]
    },
    {
     "data": {
      "application/vnd.jupyter.widget-view+json": {
       "model_id": "",
       "version_major": 2,
       "version_minor": 0
      },
      "text/plain": [
       "Running 0:   0%|          | 0/15 [00:00<?, ?it/s]"
      ]
     },
     "metadata": {},
     "output_type": "display_data"
    }
   ],
   "source": [
    "eval_output = eval_algo.evaluate(model=js_model_runner, dataset_config=config, prompt_template=\"$feature\", save=True)"
   ]
  },
  {
   "cell_type": "code",
   "execution_count": 15,
   "id": "578dd87f-d223-4626-b399-8e717a72b756",
   "metadata": {},
   "outputs": [
    {
     "name": "stdout",
     "output_type": "stream",
     "text": [
      "[\n",
      "    {\n",
      "        \"eval_name\": \"factual_knowledge\",\n",
      "        \"dataset_name\": \"dolly_qa\",\n",
      "        \"dataset_scores\": [\n",
      "            {\n",
      "                \"name\": \"factual_knowledge\",\n",
      "                \"value\": 0.04666666666666667\n",
      "            }\n",
      "        ],\n",
      "        \"prompt_template\": \"$feature\",\n",
      "        \"category_scores\": null,\n",
      "        \"output_path\": \"/tmp/eval_results/factual_knowledge_dolly_qa.jsonl\",\n",
      "        \"error\": null\n",
      "    }\n",
      "]\n"
     ]
    }
   ],
   "source": [
    "# Pretty-print the evaluation output (notice the score).\n",
    "import json\n",
    "print(json.dumps(eval_output, default=vars, indent=4))"
   ]
  },
  {
   "cell_type": "code",
   "execution_count": null,
   "id": "3c63159e-f45d-4bc6-9918-331042020782",
   "metadata": {},
   "outputs": [],
   "source": []
  }
 ],
 "metadata": {
  "availableInstances": [
   {
    "_defaultOrder": 0,
    "_isFastLaunch": true,
    "category": "General purpose",
    "gpuNum": 0,
    "hideHardwareSpecs": false,
    "memoryGiB": 4,
    "name": "ml.t3.medium",
    "vcpuNum": 2
   },
   {
    "_defaultOrder": 1,
    "_isFastLaunch": false,
    "category": "General purpose",
    "gpuNum": 0,
    "hideHardwareSpecs": false,
    "memoryGiB": 8,
    "name": "ml.t3.large",
    "vcpuNum": 2
   },
   {
    "_defaultOrder": 2,
    "_isFastLaunch": false,
    "category": "General purpose",
    "gpuNum": 0,
    "hideHardwareSpecs": false,
    "memoryGiB": 16,
    "name": "ml.t3.xlarge",
    "vcpuNum": 4
   },
   {
    "_defaultOrder": 3,
    "_isFastLaunch": false,
    "category": "General purpose",
    "gpuNum": 0,
    "hideHardwareSpecs": false,
    "memoryGiB": 32,
    "name": "ml.t3.2xlarge",
    "vcpuNum": 8
   },
   {
    "_defaultOrder": 4,
    "_isFastLaunch": true,
    "category": "General purpose",
    "gpuNum": 0,
    "hideHardwareSpecs": false,
    "memoryGiB": 8,
    "name": "ml.m5.large",
    "vcpuNum": 2
   },
   {
    "_defaultOrder": 5,
    "_isFastLaunch": false,
    "category": "General purpose",
    "gpuNum": 0,
    "hideHardwareSpecs": false,
    "memoryGiB": 16,
    "name": "ml.m5.xlarge",
    "vcpuNum": 4
   },
   {
    "_defaultOrder": 6,
    "_isFastLaunch": false,
    "category": "General purpose",
    "gpuNum": 0,
    "hideHardwareSpecs": false,
    "memoryGiB": 32,
    "name": "ml.m5.2xlarge",
    "vcpuNum": 8
   },
   {
    "_defaultOrder": 7,
    "_isFastLaunch": false,
    "category": "General purpose",
    "gpuNum": 0,
    "hideHardwareSpecs": false,
    "memoryGiB": 64,
    "name": "ml.m5.4xlarge",
    "vcpuNum": 16
   },
   {
    "_defaultOrder": 8,
    "_isFastLaunch": false,
    "category": "General purpose",
    "gpuNum": 0,
    "hideHardwareSpecs": false,
    "memoryGiB": 128,
    "name": "ml.m5.8xlarge",
    "vcpuNum": 32
   },
   {
    "_defaultOrder": 9,
    "_isFastLaunch": false,
    "category": "General purpose",
    "gpuNum": 0,
    "hideHardwareSpecs": false,
    "memoryGiB": 192,
    "name": "ml.m5.12xlarge",
    "vcpuNum": 48
   },
   {
    "_defaultOrder": 10,
    "_isFastLaunch": false,
    "category": "General purpose",
    "gpuNum": 0,
    "hideHardwareSpecs": false,
    "memoryGiB": 256,
    "name": "ml.m5.16xlarge",
    "vcpuNum": 64
   },
   {
    "_defaultOrder": 11,
    "_isFastLaunch": false,
    "category": "General purpose",
    "gpuNum": 0,
    "hideHardwareSpecs": false,
    "memoryGiB": 384,
    "name": "ml.m5.24xlarge",
    "vcpuNum": 96
   },
   {
    "_defaultOrder": 12,
    "_isFastLaunch": false,
    "category": "General purpose",
    "gpuNum": 0,
    "hideHardwareSpecs": false,
    "memoryGiB": 8,
    "name": "ml.m5d.large",
    "vcpuNum": 2
   },
   {
    "_defaultOrder": 13,
    "_isFastLaunch": false,
    "category": "General purpose",
    "gpuNum": 0,
    "hideHardwareSpecs": false,
    "memoryGiB": 16,
    "name": "ml.m5d.xlarge",
    "vcpuNum": 4
   },
   {
    "_defaultOrder": 14,
    "_isFastLaunch": false,
    "category": "General purpose",
    "gpuNum": 0,
    "hideHardwareSpecs": false,
    "memoryGiB": 32,
    "name": "ml.m5d.2xlarge",
    "vcpuNum": 8
   },
   {
    "_defaultOrder": 15,
    "_isFastLaunch": false,
    "category": "General purpose",
    "gpuNum": 0,
    "hideHardwareSpecs": false,
    "memoryGiB": 64,
    "name": "ml.m5d.4xlarge",
    "vcpuNum": 16
   },
   {
    "_defaultOrder": 16,
    "_isFastLaunch": false,
    "category": "General purpose",
    "gpuNum": 0,
    "hideHardwareSpecs": false,
    "memoryGiB": 128,
    "name": "ml.m5d.8xlarge",
    "vcpuNum": 32
   },
   {
    "_defaultOrder": 17,
    "_isFastLaunch": false,
    "category": "General purpose",
    "gpuNum": 0,
    "hideHardwareSpecs": false,
    "memoryGiB": 192,
    "name": "ml.m5d.12xlarge",
    "vcpuNum": 48
   },
   {
    "_defaultOrder": 18,
    "_isFastLaunch": false,
    "category": "General purpose",
    "gpuNum": 0,
    "hideHardwareSpecs": false,
    "memoryGiB": 256,
    "name": "ml.m5d.16xlarge",
    "vcpuNum": 64
   },
   {
    "_defaultOrder": 19,
    "_isFastLaunch": false,
    "category": "General purpose",
    "gpuNum": 0,
    "hideHardwareSpecs": false,
    "memoryGiB": 384,
    "name": "ml.m5d.24xlarge",
    "vcpuNum": 96
   },
   {
    "_defaultOrder": 20,
    "_isFastLaunch": false,
    "category": "General purpose",
    "gpuNum": 0,
    "hideHardwareSpecs": true,
    "memoryGiB": 0,
    "name": "ml.geospatial.interactive",
    "supportedImageNames": [
     "sagemaker-geospatial-v1-0"
    ],
    "vcpuNum": 0
   },
   {
    "_defaultOrder": 21,
    "_isFastLaunch": true,
    "category": "Compute optimized",
    "gpuNum": 0,
    "hideHardwareSpecs": false,
    "memoryGiB": 4,
    "name": "ml.c5.large",
    "vcpuNum": 2
   },
   {
    "_defaultOrder": 22,
    "_isFastLaunch": false,
    "category": "Compute optimized",
    "gpuNum": 0,
    "hideHardwareSpecs": false,
    "memoryGiB": 8,
    "name": "ml.c5.xlarge",
    "vcpuNum": 4
   },
   {
    "_defaultOrder": 23,
    "_isFastLaunch": false,
    "category": "Compute optimized",
    "gpuNum": 0,
    "hideHardwareSpecs": false,
    "memoryGiB": 16,
    "name": "ml.c5.2xlarge",
    "vcpuNum": 8
   },
   {
    "_defaultOrder": 24,
    "_isFastLaunch": false,
    "category": "Compute optimized",
    "gpuNum": 0,
    "hideHardwareSpecs": false,
    "memoryGiB": 32,
    "name": "ml.c5.4xlarge",
    "vcpuNum": 16
   },
   {
    "_defaultOrder": 25,
    "_isFastLaunch": false,
    "category": "Compute optimized",
    "gpuNum": 0,
    "hideHardwareSpecs": false,
    "memoryGiB": 72,
    "name": "ml.c5.9xlarge",
    "vcpuNum": 36
   },
   {
    "_defaultOrder": 26,
    "_isFastLaunch": false,
    "category": "Compute optimized",
    "gpuNum": 0,
    "hideHardwareSpecs": false,
    "memoryGiB": 96,
    "name": "ml.c5.12xlarge",
    "vcpuNum": 48
   },
   {
    "_defaultOrder": 27,
    "_isFastLaunch": false,
    "category": "Compute optimized",
    "gpuNum": 0,
    "hideHardwareSpecs": false,
    "memoryGiB": 144,
    "name": "ml.c5.18xlarge",
    "vcpuNum": 72
   },
   {
    "_defaultOrder": 28,
    "_isFastLaunch": false,
    "category": "Compute optimized",
    "gpuNum": 0,
    "hideHardwareSpecs": false,
    "memoryGiB": 192,
    "name": "ml.c5.24xlarge",
    "vcpuNum": 96
   },
   {
    "_defaultOrder": 29,
    "_isFastLaunch": true,
    "category": "Accelerated computing",
    "gpuNum": 1,
    "hideHardwareSpecs": false,
    "memoryGiB": 16,
    "name": "ml.g4dn.xlarge",
    "vcpuNum": 4
   },
   {
    "_defaultOrder": 30,
    "_isFastLaunch": false,
    "category": "Accelerated computing",
    "gpuNum": 1,
    "hideHardwareSpecs": false,
    "memoryGiB": 32,
    "name": "ml.g4dn.2xlarge",
    "vcpuNum": 8
   },
   {
    "_defaultOrder": 31,
    "_isFastLaunch": false,
    "category": "Accelerated computing",
    "gpuNum": 1,
    "hideHardwareSpecs": false,
    "memoryGiB": 64,
    "name": "ml.g4dn.4xlarge",
    "vcpuNum": 16
   },
   {
    "_defaultOrder": 32,
    "_isFastLaunch": false,
    "category": "Accelerated computing",
    "gpuNum": 1,
    "hideHardwareSpecs": false,
    "memoryGiB": 128,
    "name": "ml.g4dn.8xlarge",
    "vcpuNum": 32
   },
   {
    "_defaultOrder": 33,
    "_isFastLaunch": false,
    "category": "Accelerated computing",
    "gpuNum": 4,
    "hideHardwareSpecs": false,
    "memoryGiB": 192,
    "name": "ml.g4dn.12xlarge",
    "vcpuNum": 48
   },
   {
    "_defaultOrder": 34,
    "_isFastLaunch": false,
    "category": "Accelerated computing",
    "gpuNum": 1,
    "hideHardwareSpecs": false,
    "memoryGiB": 256,
    "name": "ml.g4dn.16xlarge",
    "vcpuNum": 64
   },
   {
    "_defaultOrder": 35,
    "_isFastLaunch": false,
    "category": "Accelerated computing",
    "gpuNum": 1,
    "hideHardwareSpecs": false,
    "memoryGiB": 61,
    "name": "ml.p3.2xlarge",
    "vcpuNum": 8
   },
   {
    "_defaultOrder": 36,
    "_isFastLaunch": false,
    "category": "Accelerated computing",
    "gpuNum": 4,
    "hideHardwareSpecs": false,
    "memoryGiB": 244,
    "name": "ml.p3.8xlarge",
    "vcpuNum": 32
   },
   {
    "_defaultOrder": 37,
    "_isFastLaunch": false,
    "category": "Accelerated computing",
    "gpuNum": 8,
    "hideHardwareSpecs": false,
    "memoryGiB": 488,
    "name": "ml.p3.16xlarge",
    "vcpuNum": 64
   },
   {
    "_defaultOrder": 38,
    "_isFastLaunch": false,
    "category": "Accelerated computing",
    "gpuNum": 8,
    "hideHardwareSpecs": false,
    "memoryGiB": 768,
    "name": "ml.p3dn.24xlarge",
    "vcpuNum": 96
   },
   {
    "_defaultOrder": 39,
    "_isFastLaunch": false,
    "category": "Memory Optimized",
    "gpuNum": 0,
    "hideHardwareSpecs": false,
    "memoryGiB": 16,
    "name": "ml.r5.large",
    "vcpuNum": 2
   },
   {
    "_defaultOrder": 40,
    "_isFastLaunch": false,
    "category": "Memory Optimized",
    "gpuNum": 0,
    "hideHardwareSpecs": false,
    "memoryGiB": 32,
    "name": "ml.r5.xlarge",
    "vcpuNum": 4
   },
   {
    "_defaultOrder": 41,
    "_isFastLaunch": false,
    "category": "Memory Optimized",
    "gpuNum": 0,
    "hideHardwareSpecs": false,
    "memoryGiB": 64,
    "name": "ml.r5.2xlarge",
    "vcpuNum": 8
   },
   {
    "_defaultOrder": 42,
    "_isFastLaunch": false,
    "category": "Memory Optimized",
    "gpuNum": 0,
    "hideHardwareSpecs": false,
    "memoryGiB": 128,
    "name": "ml.r5.4xlarge",
    "vcpuNum": 16
   },
   {
    "_defaultOrder": 43,
    "_isFastLaunch": false,
    "category": "Memory Optimized",
    "gpuNum": 0,
    "hideHardwareSpecs": false,
    "memoryGiB": 256,
    "name": "ml.r5.8xlarge",
    "vcpuNum": 32
   },
   {
    "_defaultOrder": 44,
    "_isFastLaunch": false,
    "category": "Memory Optimized",
    "gpuNum": 0,
    "hideHardwareSpecs": false,
    "memoryGiB": 384,
    "name": "ml.r5.12xlarge",
    "vcpuNum": 48
   },
   {
    "_defaultOrder": 45,
    "_isFastLaunch": false,
    "category": "Memory Optimized",
    "gpuNum": 0,
    "hideHardwareSpecs": false,
    "memoryGiB": 512,
    "name": "ml.r5.16xlarge",
    "vcpuNum": 64
   },
   {
    "_defaultOrder": 46,
    "_isFastLaunch": false,
    "category": "Memory Optimized",
    "gpuNum": 0,
    "hideHardwareSpecs": false,
    "memoryGiB": 768,
    "name": "ml.r5.24xlarge",
    "vcpuNum": 96
   },
   {
    "_defaultOrder": 47,
    "_isFastLaunch": false,
    "category": "Accelerated computing",
    "gpuNum": 1,
    "hideHardwareSpecs": false,
    "memoryGiB": 16,
    "name": "ml.g5.xlarge",
    "vcpuNum": 4
   },
   {
    "_defaultOrder": 48,
    "_isFastLaunch": false,
    "category": "Accelerated computing",
    "gpuNum": 1,
    "hideHardwareSpecs": false,
    "memoryGiB": 32,
    "name": "ml.g5.2xlarge",
    "vcpuNum": 8
   },
   {
    "_defaultOrder": 49,
    "_isFastLaunch": false,
    "category": "Accelerated computing",
    "gpuNum": 1,
    "hideHardwareSpecs": false,
    "memoryGiB": 64,
    "name": "ml.g5.4xlarge",
    "vcpuNum": 16
   },
   {
    "_defaultOrder": 50,
    "_isFastLaunch": false,
    "category": "Accelerated computing",
    "gpuNum": 1,
    "hideHardwareSpecs": false,
    "memoryGiB": 128,
    "name": "ml.g5.8xlarge",
    "vcpuNum": 32
   },
   {
    "_defaultOrder": 51,
    "_isFastLaunch": false,
    "category": "Accelerated computing",
    "gpuNum": 1,
    "hideHardwareSpecs": false,
    "memoryGiB": 256,
    "name": "ml.g5.16xlarge",
    "vcpuNum": 64
   },
   {
    "_defaultOrder": 52,
    "_isFastLaunch": false,
    "category": "Accelerated computing",
    "gpuNum": 4,
    "hideHardwareSpecs": false,
    "memoryGiB": 192,
    "name": "ml.g5.12xlarge",
    "vcpuNum": 48
   },
   {
    "_defaultOrder": 53,
    "_isFastLaunch": false,
    "category": "Accelerated computing",
    "gpuNum": 4,
    "hideHardwareSpecs": false,
    "memoryGiB": 384,
    "name": "ml.g5.24xlarge",
    "vcpuNum": 96
   },
   {
    "_defaultOrder": 54,
    "_isFastLaunch": false,
    "category": "Accelerated computing",
    "gpuNum": 8,
    "hideHardwareSpecs": false,
    "memoryGiB": 768,
    "name": "ml.g5.48xlarge",
    "vcpuNum": 192
   },
   {
    "_defaultOrder": 55,
    "_isFastLaunch": false,
    "category": "Accelerated computing",
    "gpuNum": 8,
    "hideHardwareSpecs": false,
    "memoryGiB": 1152,
    "name": "ml.p4d.24xlarge",
    "vcpuNum": 96
   },
   {
    "_defaultOrder": 56,
    "_isFastLaunch": false,
    "category": "Accelerated computing",
    "gpuNum": 8,
    "hideHardwareSpecs": false,
    "memoryGiB": 1152,
    "name": "ml.p4de.24xlarge",
    "vcpuNum": 96
   },
   {
    "_defaultOrder": 57,
    "_isFastLaunch": false,
    "category": "Accelerated computing",
    "gpuNum": 0,
    "hideHardwareSpecs": false,
    "memoryGiB": 32,
    "name": "ml.trn1.2xlarge",
    "vcpuNum": 8
   },
   {
    "_defaultOrder": 58,
    "_isFastLaunch": false,
    "category": "Accelerated computing",
    "gpuNum": 0,
    "hideHardwareSpecs": false,
    "memoryGiB": 512,
    "name": "ml.trn1.32xlarge",
    "vcpuNum": 128
   },
   {
    "_defaultOrder": 59,
    "_isFastLaunch": false,
    "category": "Accelerated computing",
    "gpuNum": 0,
    "hideHardwareSpecs": false,
    "memoryGiB": 512,
    "name": "ml.trn1n.32xlarge",
    "vcpuNum": 128
   }
  ],
  "instance_type": "ml.m5.xlarge",
  "kernelspec": {
   "display_name": "Python 3 (Data Science 3.0)",
   "language": "python",
   "name": "python3__SAGEMAKER_INTERNAL__arn:aws:sagemaker:us-east-1:081325390199:image/sagemaker-data-science-310-v1"
  },
  "language_info": {
   "codemirror_mode": {
    "name": "ipython",
    "version": 3
   },
   "file_extension": ".py",
   "mimetype": "text/x-python",
   "name": "python",
   "nbconvert_exporter": "python",
   "pygments_lexer": "ipython3",
   "version": "3.10.6"
  }
 },
 "nbformat": 4,
 "nbformat_minor": 5
}
