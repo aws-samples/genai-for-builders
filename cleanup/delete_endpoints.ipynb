{
 "cells": [
  {
   "cell_type": "markdown",
   "id": "59b90c33-8f29-4d9a-be49-7e3f680f0dd2",
   "metadata": {},
   "source": [
    "### This notebook deletes all the endpoints in your current region in SageMaker. If you want to not delete all the endpoints then delete the endpoints you want to delete manually from SageMaker Console or using delete_endpoint API call"
   ]
  },
  {
   "cell_type": "code",
   "execution_count": null,
   "id": "f6ba9a84-2b55-48cd-a434-de3f21f4aa80",
   "metadata": {},
   "outputs": [],
   "source": [
    "import boto3\n",
    "\n",
    "# Specify your AWS Region\n",
    "aws_session=boto3.session.Session()\n",
    "aws_region = aws_session.region_name\n",
    "\n",
    "# # Create a low-level SageMaker service client.\n",
    "sagemaker_client = boto3.client('sagemaker', region_name=aws_region)\n"
   ]
  },
  {
   "cell_type": "code",
   "execution_count": null,
   "id": "10898c35-9ee5-43bb-818c-989b53621781",
   "metadata": {},
   "outputs": [],
   "source": [
    "response = sagemaker_client.list_endpoints(\n",
    "    MaxResults=20,   \n",
    "    StatusEquals='InService'\n",
    ")"
   ]
  },
  {
   "cell_type": "markdown",
   "id": "ec93745a-3b75-4fce-85d3-36f7934b780a",
   "metadata": {},
   "source": [
    "#### Use the following cell if you want to delete all endpoints."
   ]
  },
  {
   "cell_type": "code",
   "execution_count": null,
   "id": "2e226b6e-83f5-4e16-bbf6-88d689ce3c44",
   "metadata": {},
   "outputs": [],
   "source": [
    "\n",
    "for endpoint in response['Endpoints']:\n",
    "    endpoint_name = endpoint['EndpointName']\n",
    "    sagemaker_client.delete_endpoint(EndpointName=endpoint_name)\n",
    "    print('Deleting endpoint:', endpoint['EndpointName'], '...')"
   ]
  },
  {
   "cell_type": "markdown",
   "id": "46f4ca00-cbd9-4a54-8832-1d17582335ac",
   "metadata": {},
   "source": [
    "#### Uncomment and sse the following cell if you want to delete specific endpoints. Fill in the end point names one by one"
   ]
  },
  {
   "cell_type": "code",
   "execution_count": null,
   "id": "712d21d8-f233-481b-a03a-89b3ec5e441e",
   "metadata": {},
   "outputs": [],
   "source": [
    "#sagemaker_client.delete_endpoint(EndpointName=\"<YOUR ENDPOINT NAME\">)"
   ]
  }
 ],
 "metadata": {
  "kernelspec": {
   "display_name": "Python 3 (ipykernel)",
   "language": "python",
   "name": "python3"
  },
  "language_info": {
   "codemirror_mode": {
    "name": "ipython",
    "version": 3
   },
   "file_extension": ".py",
   "mimetype": "text/x-python",
   "name": "python",
   "nbconvert_exporter": "python",
   "pygments_lexer": "ipython3",
   "version": "3.10.13"
  }
 },
 "nbformat": 4,
 "nbformat_minor": 5
}
