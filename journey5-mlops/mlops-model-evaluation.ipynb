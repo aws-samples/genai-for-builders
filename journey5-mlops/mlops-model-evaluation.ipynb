{
 "cells": [
  {
   "cell_type": "markdown",
   "id": "1bd4cbe6-a20b-457f-a019-aae403938c0c",
   "metadata": {
    "tags": []
   },
   "source": [
    "## Journey 5: Orchestrate with MLOps\n",
    "\n",
    "After completing Journey 1-4, Kaitlin has identified the right model to use for her application, and customized the model to produce accurate text summaries. \n",
    "In the future, Kaitlin would prefer not to go through the entire journey again, one step at a time, when a new FM is available in Jumpstart or a new fine-tuning dataset is available. \n",
    "She instead wants to codify her journey into a repeatable end-to-end ML workflow that can be executed later either as a user-initiated or an event-triggered workflow.    \n",
    "  \n",
    "The goal of this notebook is to provide an implementation of a multi-step SageMaker pipeline that will take care of multiple models evaluation, selection and registration into the SageMaker model registry.  \n",
    "For running this example we will use **LLama-2-7b** models that will be used with default weights or after a finetuning. All the models will be instantiated and finetuned by using [Amazon Sagemaker Jumpstart SDK](https://aws.amazon.com/sagemaker/jumpstart/).  \n",
    "\n",
    "This notebook is also using other Amazon SageMaker components:  \n",
    "\n",
    "[SageMaker Pipelines](https://aws.amazon.com/sagemaker/pipelines/) is a purpose-built workflow orchestration service to automate all phases of machine learning (ML) from data pre-processing to model monitoring. With an intuitive UI and Python SDK you can manage repeatable end-to-end ML pipelines at scale. The native integration with multiple AWS services allows you to customize the ML lifecycle based on your MLOps requirements.\n",
    "SageMaker Model Registry\n",
    "\n",
    "[Amazon SageMaker Model Registry](https://docs.aws.amazon.com/sagemaker/latest/dg/model-registry.html) is a purpose-built metadata store to manage the entire lifecycle of ML models from training to inference. Whether you prefer to store your model artifacts (model framework files, container image) in AWS (Amazon ECR) or outside of AWS in any third party Docker repository, you can now track them all in Amazon SageMaker Model Registry. You also have the flexibility to register a model without read/write permissions to the associated container image. If you want to track an ML model in a private repository, set the optional ‘SkipModelValidation’ parameter to ‘All’ at the time of registration. Later you can also deploy these models for inference in Amazon SageMaker.\n",
    "\n",
    "[Amazon SageMaker Clarify](https://aws.amazon.com/sagemaker/clarify/) provides purpose-built tools to gain greater insights into your ML models and data, based on metrics such as accuracy, robustness, toxicity, and bias to improve model quality and support responsible AI initiative. With the rise of generative AI, data scientists and ML engineers can leverage publicly available foundation models (FMs) to accelerate speed-to-market. To remove the heavy lifting of evaluating and selecting the right FM for your use case, Amazon SageMaker Clarify supports FM evaluation to help you quickly evaluate, compare, and select the best FM for your use case based on a variety of criteria across different tasks within minutes. It allows you to adopt FMs faster and with confidence.\n",
    "To perform evaluation we are using the open source library [FMEval](https://github.com/aws/fmeval) that empowers SageMaker Clarify FM model evaluation.\n",
    "\n",
    "This example is built by following the best practices explained in the blog post [Operationalize LLM Evaluation at Scale using Amazon SageMaker Clarify and MLOps services](https://aws.amazon.com/blogs/machine-learning/operationalize-llm-evaluation-at-scale-using-amazon-sagemaker-clarify-and-mlops-services/). "
   ]
  },
  {
   "cell_type": "markdown",
   "id": "342165dc-1709-456a-ad8f-ec7a5a6e2c05",
   "metadata": {
    "tags": []
   },
   "source": [
    "### Environment setup\n",
    "You need to select `Data Science 3.0 kernel` with `ml.t3.medium` instance to run this notebook.\n",
    "\n",
    "First we need to install required dependencies and import required libraries.  \n",
    "We also make sagemaker SDK aware of the configuration file *config.yml*. \n",
    "This file *config.yml* contains general pipeline parameters like the default pipeline container instance type and the path to the file *dependencies.txt* with the required dependencies.\n",
    "These dependencies will be automatically downloaded from the pipeline container at the start of each pipeline step. We will create *requirements.txt* file later in the notebook."
   ]
  },
  {
   "cell_type": "code",
   "execution_count": 29,
   "id": "971e8e6ca28a3752",
   "metadata": {
    "collapsed": false,
    "tags": []
   },
   "outputs": [
    {
     "name": "stdout",
     "output_type": "stream",
     "text": [
      "Requirement already satisfied: fmeval==0.4.0 in /home/sagemaker-user/.conda/envs/mlflow-2.10.2/lib/python3.10/site-packages (0.4.0)\n",
      "Requirement already satisfied: IPython in /home/sagemaker-user/.conda/envs/mlflow-2.10.2/lib/python3.10/site-packages (from fmeval==0.4.0) (8.22.2)\n",
      "Requirement already satisfied: aiohttp<4.0.0,>=3.9.2 in /home/sagemaker-user/.conda/envs/mlflow-2.10.2/lib/python3.10/site-packages (from fmeval==0.4.0) (3.9.3)\n",
      "Requirement already satisfied: bert-score<0.4.0,>=0.3.13 in /home/sagemaker-user/.conda/envs/mlflow-2.10.2/lib/python3.10/site-packages (from fmeval==0.4.0) (0.3.13)\n",
      "Requirement already satisfied: evaluate<0.5.0,>=0.4.0 in /home/sagemaker-user/.conda/envs/mlflow-2.10.2/lib/python3.10/site-packages (from fmeval==0.4.0) (0.4.1)\n",
      "Requirement already satisfied: grpcio<2.0.0,>=1.60.0 in /home/sagemaker-user/.conda/envs/mlflow-2.10.2/lib/python3.10/site-packages (from fmeval==0.4.0) (1.62.1)\n",
      "Requirement already satisfied: ipykernel<7.0.0,>=6.26.0 in /home/sagemaker-user/.conda/envs/mlflow-2.10.2/lib/python3.10/site-packages (from fmeval==0.4.0) (6.29.3)\n",
      "Requirement already satisfied: jiwer<4.0.0,>=3.0.3 in /home/sagemaker-user/.conda/envs/mlflow-2.10.2/lib/python3.10/site-packages (from fmeval==0.4.0) (3.0.3)\n",
      "Requirement already satisfied: markdown in /home/sagemaker-user/.conda/envs/mlflow-2.10.2/lib/python3.10/site-packages (from fmeval==0.4.0) (3.6)\n",
      "Requirement already satisfied: matplotlib<4.0.0,>=3.8.0 in /home/sagemaker-user/.conda/envs/mlflow-2.10.2/lib/python3.10/site-packages (from fmeval==0.4.0) (3.8.3)\n",
      "Requirement already satisfied: mypy-boto3-bedrock<2.0.0,>=1.33.2 in /home/sagemaker-user/.conda/envs/mlflow-2.10.2/lib/python3.10/site-packages (from fmeval==0.4.0) (1.34.0)\n",
      "Requirement already satisfied: nltk<4.0.0,>=3.8.1 in /home/sagemaker-user/.conda/envs/mlflow-2.10.2/lib/python3.10/site-packages (from fmeval==0.4.0) (3.8.1)\n",
      "Requirement already satisfied: pandas==2.1.4 in /home/sagemaker-user/.conda/envs/mlflow-2.10.2/lib/python3.10/site-packages (from fmeval==0.4.0) (2.1.4)\n",
      "Requirement already satisfied: pyarrow in /home/sagemaker-user/.conda/envs/mlflow-2.10.2/lib/python3.10/site-packages (from fmeval==0.4.0) (15.0.2)\n",
      "Requirement already satisfied: pyfunctional==1.4.3 in /home/sagemaker-user/.conda/envs/mlflow-2.10.2/lib/python3.10/site-packages (from fmeval==0.4.0) (1.4.3)\n",
      "Requirement already satisfied: ray==2.9.1 in /home/sagemaker-user/.conda/envs/mlflow-2.10.2/lib/python3.10/site-packages (from fmeval==0.4.0) (2.9.1)\n",
      "Requirement already satisfied: rouge-score<0.2.0,>=0.1.2 in /home/sagemaker-user/.conda/envs/mlflow-2.10.2/lib/python3.10/site-packages (from fmeval==0.4.0) (0.1.2)\n",
      "Requirement already satisfied: sagemaker<3.0.0,>=2.199.0 in /home/sagemaker-user/.conda/envs/mlflow-2.10.2/lib/python3.10/site-packages (from fmeval==0.4.0) (2.208.0)\n",
      "Requirement already satisfied: scikit-learn<2.0.0,>=1.3.1 in /home/sagemaker-user/.conda/envs/mlflow-2.10.2/lib/python3.10/site-packages (from fmeval==0.4.0) (1.4.1.post1)\n",
      "Requirement already satisfied: semantic-version==2.10.0 in /home/sagemaker-user/.conda/envs/mlflow-2.10.2/lib/python3.10/site-packages (from fmeval==0.4.0) (2.10.0)\n",
      "Requirement already satisfied: testbook<0.5.0,>=0.4.2 in /home/sagemaker-user/.conda/envs/mlflow-2.10.2/lib/python3.10/site-packages (from fmeval==0.4.0) (0.4.2)\n",
      "Requirement already satisfied: torch!=2.0.1,!=2.1.0,>=2.0.0 in /home/sagemaker-user/.conda/envs/mlflow-2.10.2/lib/python3.10/site-packages (from fmeval==0.4.0) (2.2.1)\n",
      "Requirement already satisfied: transformers<5.0.0,>=4.36.0 in /home/sagemaker-user/.conda/envs/mlflow-2.10.2/lib/python3.10/site-packages (from fmeval==0.4.0) (4.39.3)\n",
      "Requirement already satisfied: urllib3==1.26.18 in /home/sagemaker-user/.conda/envs/mlflow-2.10.2/lib/python3.10/site-packages (from fmeval==0.4.0) (1.26.18)\n",
      "Requirement already satisfied: numpy<2,>=1.22.4 in /home/sagemaker-user/.conda/envs/mlflow-2.10.2/lib/python3.10/site-packages (from pandas==2.1.4->fmeval==0.4.0) (1.26.4)\n",
      "Requirement already satisfied: python-dateutil>=2.8.2 in /home/sagemaker-user/.conda/envs/mlflow-2.10.2/lib/python3.10/site-packages (from pandas==2.1.4->fmeval==0.4.0) (2.9.0)\n",
      "Requirement already satisfied: pytz>=2020.1 in /home/sagemaker-user/.conda/envs/mlflow-2.10.2/lib/python3.10/site-packages (from pandas==2.1.4->fmeval==0.4.0) (2023.4)\n",
      "Requirement already satisfied: tzdata>=2022.1 in /home/sagemaker-user/.conda/envs/mlflow-2.10.2/lib/python3.10/site-packages (from pandas==2.1.4->fmeval==0.4.0) (2024.1)\n",
      "Requirement already satisfied: dill>=0.2.5 in /home/sagemaker-user/.conda/envs/mlflow-2.10.2/lib/python3.10/site-packages (from pyfunctional==1.4.3->fmeval==0.4.0) (0.3.8)\n",
      "Requirement already satisfied: tabulate<=1.0.0 in /home/sagemaker-user/.conda/envs/mlflow-2.10.2/lib/python3.10/site-packages (from pyfunctional==1.4.3->fmeval==0.4.0) (0.9.0)\n",
      "Requirement already satisfied: click>=7.0 in /home/sagemaker-user/.conda/envs/mlflow-2.10.2/lib/python3.10/site-packages (from ray==2.9.1->fmeval==0.4.0) (8.1.7)\n",
      "Requirement already satisfied: filelock in /home/sagemaker-user/.conda/envs/mlflow-2.10.2/lib/python3.10/site-packages (from ray==2.9.1->fmeval==0.4.0) (3.13.2)\n",
      "Requirement already satisfied: jsonschema in /home/sagemaker-user/.conda/envs/mlflow-2.10.2/lib/python3.10/site-packages (from ray==2.9.1->fmeval==0.4.0) (4.21.1)\n",
      "Requirement already satisfied: msgpack<2.0.0,>=1.0.0 in /home/sagemaker-user/.conda/envs/mlflow-2.10.2/lib/python3.10/site-packages (from ray==2.9.1->fmeval==0.4.0) (1.0.8)\n",
      "Requirement already satisfied: packaging in /home/sagemaker-user/.conda/envs/mlflow-2.10.2/lib/python3.10/site-packages (from ray==2.9.1->fmeval==0.4.0) (23.2)\n",
      "Requirement already satisfied: protobuf!=3.19.5,>=3.15.3 in /home/sagemaker-user/.conda/envs/mlflow-2.10.2/lib/python3.10/site-packages (from ray==2.9.1->fmeval==0.4.0) (4.25.3)\n",
      "Requirement already satisfied: pyyaml in /home/sagemaker-user/.conda/envs/mlflow-2.10.2/lib/python3.10/site-packages (from ray==2.9.1->fmeval==0.4.0) (6.0.1)\n",
      "Requirement already satisfied: aiosignal in /home/sagemaker-user/.conda/envs/mlflow-2.10.2/lib/python3.10/site-packages (from ray==2.9.1->fmeval==0.4.0) (1.3.1)\n",
      "Requirement already satisfied: frozenlist in /home/sagemaker-user/.conda/envs/mlflow-2.10.2/lib/python3.10/site-packages (from ray==2.9.1->fmeval==0.4.0) (1.4.1)\n",
      "Requirement already satisfied: requests in /home/sagemaker-user/.conda/envs/mlflow-2.10.2/lib/python3.10/site-packages (from ray==2.9.1->fmeval==0.4.0) (2.31.0)\n",
      "Requirement already satisfied: attrs>=17.3.0 in /home/sagemaker-user/.conda/envs/mlflow-2.10.2/lib/python3.10/site-packages (from aiohttp<4.0.0,>=3.9.2->fmeval==0.4.0) (23.2.0)\n",
      "Requirement already satisfied: multidict<7.0,>=4.5 in /home/sagemaker-user/.conda/envs/mlflow-2.10.2/lib/python3.10/site-packages (from aiohttp<4.0.0,>=3.9.2->fmeval==0.4.0) (6.0.5)\n",
      "Requirement already satisfied: yarl<2.0,>=1.0 in /home/sagemaker-user/.conda/envs/mlflow-2.10.2/lib/python3.10/site-packages (from aiohttp<4.0.0,>=3.9.2->fmeval==0.4.0) (1.9.4)\n",
      "Requirement already satisfied: async-timeout<5.0,>=4.0 in /home/sagemaker-user/.conda/envs/mlflow-2.10.2/lib/python3.10/site-packages (from aiohttp<4.0.0,>=3.9.2->fmeval==0.4.0) (4.0.3)\n",
      "Requirement already satisfied: tqdm>=4.31.1 in /home/sagemaker-user/.conda/envs/mlflow-2.10.2/lib/python3.10/site-packages (from bert-score<0.4.0,>=0.3.13->fmeval==0.4.0) (4.66.2)\n",
      "Requirement already satisfied: datasets>=2.0.0 in /home/sagemaker-user/.conda/envs/mlflow-2.10.2/lib/python3.10/site-packages (from evaluate<0.5.0,>=0.4.0->fmeval==0.4.0) (2.18.0)\n",
      "Requirement already satisfied: xxhash in /home/sagemaker-user/.conda/envs/mlflow-2.10.2/lib/python3.10/site-packages (from evaluate<0.5.0,>=0.4.0->fmeval==0.4.0) (3.4.1)\n",
      "Requirement already satisfied: multiprocess in /home/sagemaker-user/.conda/envs/mlflow-2.10.2/lib/python3.10/site-packages (from evaluate<0.5.0,>=0.4.0->fmeval==0.4.0) (0.70.16)\n",
      "Requirement already satisfied: fsspec>=2021.05.0 in /home/sagemaker-user/.conda/envs/mlflow-2.10.2/lib/python3.10/site-packages (from fsspec[http]>=2021.05.0->evaluate<0.5.0,>=0.4.0->fmeval==0.4.0) (2024.2.0)\n",
      "Requirement already satisfied: huggingface-hub>=0.7.0 in /home/sagemaker-user/.conda/envs/mlflow-2.10.2/lib/python3.10/site-packages (from evaluate<0.5.0,>=0.4.0->fmeval==0.4.0) (0.22.2)\n",
      "Requirement already satisfied: responses<0.19 in /home/sagemaker-user/.conda/envs/mlflow-2.10.2/lib/python3.10/site-packages (from evaluate<0.5.0,>=0.4.0->fmeval==0.4.0) (0.18.0)\n",
      "Requirement already satisfied: comm>=0.1.1 in /home/sagemaker-user/.conda/envs/mlflow-2.10.2/lib/python3.10/site-packages (from ipykernel<7.0.0,>=6.26.0->fmeval==0.4.0) (0.2.2)\n",
      "Requirement already satisfied: debugpy>=1.6.5 in /home/sagemaker-user/.conda/envs/mlflow-2.10.2/lib/python3.10/site-packages (from ipykernel<7.0.0,>=6.26.0->fmeval==0.4.0) (1.6.7)\n",
      "Requirement already satisfied: jupyter-client>=6.1.12 in /home/sagemaker-user/.conda/envs/mlflow-2.10.2/lib/python3.10/site-packages (from ipykernel<7.0.0,>=6.26.0->fmeval==0.4.0) (8.6.1)\n",
      "Requirement already satisfied: jupyter-core!=5.0.*,>=4.12 in /home/sagemaker-user/.conda/envs/mlflow-2.10.2/lib/python3.10/site-packages (from ipykernel<7.0.0,>=6.26.0->fmeval==0.4.0) (5.7.2)\n",
      "Requirement already satisfied: matplotlib-inline>=0.1 in /home/sagemaker-user/.conda/envs/mlflow-2.10.2/lib/python3.10/site-packages (from ipykernel<7.0.0,>=6.26.0->fmeval==0.4.0) (0.1.6)\n",
      "Requirement already satisfied: nest-asyncio in /home/sagemaker-user/.conda/envs/mlflow-2.10.2/lib/python3.10/site-packages (from ipykernel<7.0.0,>=6.26.0->fmeval==0.4.0) (1.6.0)\n",
      "Requirement already satisfied: psutil in /home/sagemaker-user/.conda/envs/mlflow-2.10.2/lib/python3.10/site-packages (from ipykernel<7.0.0,>=6.26.0->fmeval==0.4.0) (5.9.8)\n",
      "Requirement already satisfied: pyzmq>=24 in /home/sagemaker-user/.conda/envs/mlflow-2.10.2/lib/python3.10/site-packages (from ipykernel<7.0.0,>=6.26.0->fmeval==0.4.0) (25.1.2)\n",
      "Requirement already satisfied: tornado>=6.1 in /home/sagemaker-user/.conda/envs/mlflow-2.10.2/lib/python3.10/site-packages (from ipykernel<7.0.0,>=6.26.0->fmeval==0.4.0) (6.4)\n",
      "Requirement already satisfied: traitlets>=5.4.0 in /home/sagemaker-user/.conda/envs/mlflow-2.10.2/lib/python3.10/site-packages (from ipykernel<7.0.0,>=6.26.0->fmeval==0.4.0) (5.14.2)\n",
      "Requirement already satisfied: decorator in /home/sagemaker-user/.conda/envs/mlflow-2.10.2/lib/python3.10/site-packages (from IPython->fmeval==0.4.0) (5.1.1)\n",
      "Requirement already satisfied: jedi>=0.16 in /home/sagemaker-user/.conda/envs/mlflow-2.10.2/lib/python3.10/site-packages (from IPython->fmeval==0.4.0) (0.19.1)\n",
      "Requirement already satisfied: prompt-toolkit<3.1.0,>=3.0.41 in /home/sagemaker-user/.conda/envs/mlflow-2.10.2/lib/python3.10/site-packages (from IPython->fmeval==0.4.0) (3.0.42)\n",
      "Requirement already satisfied: pygments>=2.4.0 in /home/sagemaker-user/.conda/envs/mlflow-2.10.2/lib/python3.10/site-packages (from IPython->fmeval==0.4.0) (2.17.2)\n",
      "Requirement already satisfied: stack-data in /home/sagemaker-user/.conda/envs/mlflow-2.10.2/lib/python3.10/site-packages (from IPython->fmeval==0.4.0) (0.6.2)\n",
      "Requirement already satisfied: exceptiongroup in /home/sagemaker-user/.conda/envs/mlflow-2.10.2/lib/python3.10/site-packages (from IPython->fmeval==0.4.0) (1.2.0)\n",
      "Requirement already satisfied: pexpect>4.3 in /home/sagemaker-user/.conda/envs/mlflow-2.10.2/lib/python3.10/site-packages (from IPython->fmeval==0.4.0) (4.9.0)\n",
      "Requirement already satisfied: rapidfuzz<4,>=3 in /home/sagemaker-user/.conda/envs/mlflow-2.10.2/lib/python3.10/site-packages (from jiwer<4.0.0,>=3.0.3->fmeval==0.4.0) (3.8.1)\n",
      "Requirement already satisfied: contourpy>=1.0.1 in /home/sagemaker-user/.conda/envs/mlflow-2.10.2/lib/python3.10/site-packages (from matplotlib<4.0.0,>=3.8.0->fmeval==0.4.0) (1.2.0)\n",
      "Requirement already satisfied: cycler>=0.10 in /home/sagemaker-user/.conda/envs/mlflow-2.10.2/lib/python3.10/site-packages (from matplotlib<4.0.0,>=3.8.0->fmeval==0.4.0) (0.12.1)\n",
      "Requirement already satisfied: fonttools>=4.22.0 in /home/sagemaker-user/.conda/envs/mlflow-2.10.2/lib/python3.10/site-packages (from matplotlib<4.0.0,>=3.8.0->fmeval==0.4.0) (4.50.0)\n",
      "Requirement already satisfied: kiwisolver>=1.3.1 in /home/sagemaker-user/.conda/envs/mlflow-2.10.2/lib/python3.10/site-packages (from matplotlib<4.0.0,>=3.8.0->fmeval==0.4.0) (1.4.5)\n",
      "Requirement already satisfied: pillow>=8 in /home/sagemaker-user/.conda/envs/mlflow-2.10.2/lib/python3.10/site-packages (from matplotlib<4.0.0,>=3.8.0->fmeval==0.4.0) (10.2.0)\n",
      "Requirement already satisfied: pyparsing>=2.3.1 in /home/sagemaker-user/.conda/envs/mlflow-2.10.2/lib/python3.10/site-packages (from matplotlib<4.0.0,>=3.8.0->fmeval==0.4.0) (3.1.2)\n",
      "Requirement already satisfied: typing-extensions>=4.1.0 in /home/sagemaker-user/.conda/envs/mlflow-2.10.2/lib/python3.10/site-packages (from mypy-boto3-bedrock<2.0.0,>=1.33.2->fmeval==0.4.0) (4.10.0)\n",
      "Requirement already satisfied: joblib in /home/sagemaker-user/.conda/envs/mlflow-2.10.2/lib/python3.10/site-packages (from nltk<4.0.0,>=3.8.1->fmeval==0.4.0) (1.3.2)\n",
      "Requirement already satisfied: regex>=2021.8.3 in /home/sagemaker-user/.conda/envs/mlflow-2.10.2/lib/python3.10/site-packages (from nltk<4.0.0,>=3.8.1->fmeval==0.4.0) (2023.12.25)\n",
      "Requirement already satisfied: absl-py in /home/sagemaker-user/.conda/envs/mlflow-2.10.2/lib/python3.10/site-packages (from rouge-score<0.2.0,>=0.1.2->fmeval==0.4.0) (2.1.0)\n",
      "Requirement already satisfied: six>=1.14.0 in /home/sagemaker-user/.conda/envs/mlflow-2.10.2/lib/python3.10/site-packages (from rouge-score<0.2.0,>=0.1.2->fmeval==0.4.0) (1.16.0)\n",
      "Requirement already satisfied: boto3<2.0,>=1.33.3 in /home/sagemaker-user/.conda/envs/mlflow-2.10.2/lib/python3.10/site-packages (from sagemaker<3.0.0,>=2.199.0->fmeval==0.4.0) (1.34.69)\n",
      "Requirement already satisfied: cloudpickle==2.2.1 in /home/sagemaker-user/.conda/envs/mlflow-2.10.2/lib/python3.10/site-packages (from sagemaker<3.0.0,>=2.199.0->fmeval==0.4.0) (2.2.1)\n",
      "Requirement already satisfied: google-pasta in /home/sagemaker-user/.conda/envs/mlflow-2.10.2/lib/python3.10/site-packages (from sagemaker<3.0.0,>=2.199.0->fmeval==0.4.0) (0.2.0)\n",
      "Requirement already satisfied: smdebug-rulesconfig==1.0.1 in /home/sagemaker-user/.conda/envs/mlflow-2.10.2/lib/python3.10/site-packages (from sagemaker<3.0.0,>=2.199.0->fmeval==0.4.0) (1.0.1)\n",
      "Requirement already satisfied: importlib-metadata<7.0,>=1.4.0 in /home/sagemaker-user/.conda/envs/mlflow-2.10.2/lib/python3.10/site-packages (from sagemaker<3.0.0,>=2.199.0->fmeval==0.4.0) (6.11.0)\n",
      "Requirement already satisfied: pathos in /home/sagemaker-user/.conda/envs/mlflow-2.10.2/lib/python3.10/site-packages (from sagemaker<3.0.0,>=2.199.0->fmeval==0.4.0) (0.3.2)\n",
      "Requirement already satisfied: schema in /home/sagemaker-user/.conda/envs/mlflow-2.10.2/lib/python3.10/site-packages (from sagemaker<3.0.0,>=2.199.0->fmeval==0.4.0) (0.7.5)\n",
      "Requirement already satisfied: platformdirs in /home/sagemaker-user/.conda/envs/mlflow-2.10.2/lib/python3.10/site-packages (from sagemaker<3.0.0,>=2.199.0->fmeval==0.4.0) (4.2.0)\n",
      "Requirement already satisfied: tblib<3,>=1.7.0 in /home/sagemaker-user/.conda/envs/mlflow-2.10.2/lib/python3.10/site-packages (from sagemaker<3.0.0,>=2.199.0->fmeval==0.4.0) (2.0.0)\n",
      "Requirement already satisfied: docker in /home/sagemaker-user/.conda/envs/mlflow-2.10.2/lib/python3.10/site-packages (from sagemaker<3.0.0,>=2.199.0->fmeval==0.4.0) (7.0.0)\n",
      "Requirement already satisfied: scipy>=1.6.0 in /home/sagemaker-user/.conda/envs/mlflow-2.10.2/lib/python3.10/site-packages (from scikit-learn<2.0.0,>=1.3.1->fmeval==0.4.0) (1.12.0)\n",
      "Requirement already satisfied: threadpoolctl>=2.0.0 in /home/sagemaker-user/.conda/envs/mlflow-2.10.2/lib/python3.10/site-packages (from scikit-learn<2.0.0,>=1.3.1->fmeval==0.4.0) (3.4.0)\n",
      "Requirement already satisfied: nbformat>=5.0.4 in /home/sagemaker-user/.conda/envs/mlflow-2.10.2/lib/python3.10/site-packages (from testbook<0.5.0,>=0.4.2->fmeval==0.4.0) (5.10.4)\n",
      "Requirement already satisfied: nbclient>=0.4.0 in /home/sagemaker-user/.conda/envs/mlflow-2.10.2/lib/python3.10/site-packages (from testbook<0.5.0,>=0.4.2->fmeval==0.4.0) (0.10.0)\n",
      "Requirement already satisfied: sympy in /home/sagemaker-user/.conda/envs/mlflow-2.10.2/lib/python3.10/site-packages (from torch!=2.0.1,!=2.1.0,>=2.0.0->fmeval==0.4.0) (1.12)\n",
      "Requirement already satisfied: networkx in /home/sagemaker-user/.conda/envs/mlflow-2.10.2/lib/python3.10/site-packages (from torch!=2.0.1,!=2.1.0,>=2.0.0->fmeval==0.4.0) (3.2.1)\n",
      "Requirement already satisfied: jinja2 in /home/sagemaker-user/.conda/envs/mlflow-2.10.2/lib/python3.10/site-packages (from torch!=2.0.1,!=2.1.0,>=2.0.0->fmeval==0.4.0) (3.1.3)\n",
      "Requirement already satisfied: nvidia-cuda-nvrtc-cu12==12.1.105 in /home/sagemaker-user/.conda/envs/mlflow-2.10.2/lib/python3.10/site-packages (from torch!=2.0.1,!=2.1.0,>=2.0.0->fmeval==0.4.0) (12.1.105)\n",
      "Requirement already satisfied: nvidia-cuda-runtime-cu12==12.1.105 in /home/sagemaker-user/.conda/envs/mlflow-2.10.2/lib/python3.10/site-packages (from torch!=2.0.1,!=2.1.0,>=2.0.0->fmeval==0.4.0) (12.1.105)\n",
      "Requirement already satisfied: nvidia-cuda-cupti-cu12==12.1.105 in /home/sagemaker-user/.conda/envs/mlflow-2.10.2/lib/python3.10/site-packages (from torch!=2.0.1,!=2.1.0,>=2.0.0->fmeval==0.4.0) (12.1.105)\n",
      "Requirement already satisfied: nvidia-cudnn-cu12==8.9.2.26 in /home/sagemaker-user/.conda/envs/mlflow-2.10.2/lib/python3.10/site-packages (from torch!=2.0.1,!=2.1.0,>=2.0.0->fmeval==0.4.0) (8.9.2.26)\n",
      "Requirement already satisfied: nvidia-cublas-cu12==12.1.3.1 in /home/sagemaker-user/.conda/envs/mlflow-2.10.2/lib/python3.10/site-packages (from torch!=2.0.1,!=2.1.0,>=2.0.0->fmeval==0.4.0) (12.1.3.1)\n",
      "Requirement already satisfied: nvidia-cufft-cu12==11.0.2.54 in /home/sagemaker-user/.conda/envs/mlflow-2.10.2/lib/python3.10/site-packages (from torch!=2.0.1,!=2.1.0,>=2.0.0->fmeval==0.4.0) (11.0.2.54)\n",
      "Requirement already satisfied: nvidia-curand-cu12==10.3.2.106 in /home/sagemaker-user/.conda/envs/mlflow-2.10.2/lib/python3.10/site-packages (from torch!=2.0.1,!=2.1.0,>=2.0.0->fmeval==0.4.0) (10.3.2.106)\n",
      "Requirement already satisfied: nvidia-cusolver-cu12==11.4.5.107 in /home/sagemaker-user/.conda/envs/mlflow-2.10.2/lib/python3.10/site-packages (from torch!=2.0.1,!=2.1.0,>=2.0.0->fmeval==0.4.0) (11.4.5.107)\n",
      "Requirement already satisfied: nvidia-cusparse-cu12==12.1.0.106 in /home/sagemaker-user/.conda/envs/mlflow-2.10.2/lib/python3.10/site-packages (from torch!=2.0.1,!=2.1.0,>=2.0.0->fmeval==0.4.0) (12.1.0.106)\n",
      "Requirement already satisfied: nvidia-nccl-cu12==2.19.3 in /home/sagemaker-user/.conda/envs/mlflow-2.10.2/lib/python3.10/site-packages (from torch!=2.0.1,!=2.1.0,>=2.0.0->fmeval==0.4.0) (2.19.3)\n",
      "Requirement already satisfied: nvidia-nvtx-cu12==12.1.105 in /home/sagemaker-user/.conda/envs/mlflow-2.10.2/lib/python3.10/site-packages (from torch!=2.0.1,!=2.1.0,>=2.0.0->fmeval==0.4.0) (12.1.105)\n",
      "Requirement already satisfied: triton==2.2.0 in /home/sagemaker-user/.conda/envs/mlflow-2.10.2/lib/python3.10/site-packages (from torch!=2.0.1,!=2.1.0,>=2.0.0->fmeval==0.4.0) (2.2.0)\n",
      "Requirement already satisfied: nvidia-nvjitlink-cu12 in /home/sagemaker-user/.conda/envs/mlflow-2.10.2/lib/python3.10/site-packages (from nvidia-cusolver-cu12==11.4.5.107->torch!=2.0.1,!=2.1.0,>=2.0.0->fmeval==0.4.0) (12.4.99)\n",
      "Requirement already satisfied: tokenizers<0.19,>=0.14 in /home/sagemaker-user/.conda/envs/mlflow-2.10.2/lib/python3.10/site-packages (from transformers<5.0.0,>=4.36.0->fmeval==0.4.0) (0.15.2)\n",
      "Requirement already satisfied: safetensors>=0.4.1 in /home/sagemaker-user/.conda/envs/mlflow-2.10.2/lib/python3.10/site-packages (from transformers<5.0.0,>=4.36.0->fmeval==0.4.0) (0.4.2)\n",
      "Requirement already satisfied: botocore<1.35.0,>=1.34.69 in /home/sagemaker-user/.conda/envs/mlflow-2.10.2/lib/python3.10/site-packages (from boto3<2.0,>=1.33.3->sagemaker<3.0.0,>=2.199.0->fmeval==0.4.0) (1.34.69)\n",
      "Requirement already satisfied: jmespath<2.0.0,>=0.7.1 in /home/sagemaker-user/.conda/envs/mlflow-2.10.2/lib/python3.10/site-packages (from boto3<2.0,>=1.33.3->sagemaker<3.0.0,>=2.199.0->fmeval==0.4.0) (1.0.1)\n",
      "Requirement already satisfied: s3transfer<0.11.0,>=0.10.0 in /home/sagemaker-user/.conda/envs/mlflow-2.10.2/lib/python3.10/site-packages (from boto3<2.0,>=1.33.3->sagemaker<3.0.0,>=2.199.0->fmeval==0.4.0) (0.10.1)\n",
      "Requirement already satisfied: pyarrow-hotfix in /home/sagemaker-user/.conda/envs/mlflow-2.10.2/lib/python3.10/site-packages (from datasets>=2.0.0->evaluate<0.5.0,>=0.4.0->fmeval==0.4.0) (0.6)\n",
      "Requirement already satisfied: zipp>=0.5 in /home/sagemaker-user/.conda/envs/mlflow-2.10.2/lib/python3.10/site-packages (from importlib-metadata<7.0,>=1.4.0->sagemaker<3.0.0,>=2.199.0->fmeval==0.4.0) (3.17.0)\n",
      "Requirement already satisfied: parso<0.9.0,>=0.8.3 in /home/sagemaker-user/.conda/envs/mlflow-2.10.2/lib/python3.10/site-packages (from jedi>=0.16->IPython->fmeval==0.4.0) (0.8.3)\n",
      "Requirement already satisfied: fastjsonschema>=2.15 in /home/sagemaker-user/.conda/envs/mlflow-2.10.2/lib/python3.10/site-packages (from nbformat>=5.0.4->testbook<0.5.0,>=0.4.2->fmeval==0.4.0) (2.19.1)\n",
      "Requirement already satisfied: jsonschema-specifications>=2023.03.6 in /home/sagemaker-user/.conda/envs/mlflow-2.10.2/lib/python3.10/site-packages (from jsonschema->ray==2.9.1->fmeval==0.4.0) (2023.12.1)\n",
      "Requirement already satisfied: referencing>=0.28.4 in /home/sagemaker-user/.conda/envs/mlflow-2.10.2/lib/python3.10/site-packages (from jsonschema->ray==2.9.1->fmeval==0.4.0) (0.34.0)\n",
      "Requirement already satisfied: rpds-py>=0.7.1 in /home/sagemaker-user/.conda/envs/mlflow-2.10.2/lib/python3.10/site-packages (from jsonschema->ray==2.9.1->fmeval==0.4.0) (0.18.0)\n",
      "Requirement already satisfied: ptyprocess>=0.5 in /home/sagemaker-user/.conda/envs/mlflow-2.10.2/lib/python3.10/site-packages (from pexpect>4.3->IPython->fmeval==0.4.0) (0.7.0)\n",
      "Requirement already satisfied: wcwidth in /home/sagemaker-user/.conda/envs/mlflow-2.10.2/lib/python3.10/site-packages (from prompt-toolkit<3.1.0,>=3.0.41->IPython->fmeval==0.4.0) (0.2.13)\n",
      "Requirement already satisfied: charset-normalizer<4,>=2 in /home/sagemaker-user/.conda/envs/mlflow-2.10.2/lib/python3.10/site-packages (from requests->ray==2.9.1->fmeval==0.4.0) (3.3.2)\n",
      "Requirement already satisfied: idna<4,>=2.5 in /home/sagemaker-user/.conda/envs/mlflow-2.10.2/lib/python3.10/site-packages (from requests->ray==2.9.1->fmeval==0.4.0) (3.6)\n",
      "Requirement already satisfied: certifi>=2017.4.17 in /home/sagemaker-user/.conda/envs/mlflow-2.10.2/lib/python3.10/site-packages (from requests->ray==2.9.1->fmeval==0.4.0) (2024.2.2)\n",
      "Requirement already satisfied: MarkupSafe>=2.0 in /home/sagemaker-user/.conda/envs/mlflow-2.10.2/lib/python3.10/site-packages (from jinja2->torch!=2.0.1,!=2.1.0,>=2.0.0->fmeval==0.4.0) (2.1.5)\n",
      "Requirement already satisfied: ppft>=1.7.6.8 in /home/sagemaker-user/.conda/envs/mlflow-2.10.2/lib/python3.10/site-packages (from pathos->sagemaker<3.0.0,>=2.199.0->fmeval==0.4.0) (1.7.6.8)\n",
      "Requirement already satisfied: pox>=0.3.4 in /home/sagemaker-user/.conda/envs/mlflow-2.10.2/lib/python3.10/site-packages (from pathos->sagemaker<3.0.0,>=2.199.0->fmeval==0.4.0) (0.3.4)\n",
      "Requirement already satisfied: contextlib2>=0.5.5 in /home/sagemaker-user/.conda/envs/mlflow-2.10.2/lib/python3.10/site-packages (from schema->sagemaker<3.0.0,>=2.199.0->fmeval==0.4.0) (21.6.0)\n",
      "Requirement already satisfied: executing>=1.2.0 in /home/sagemaker-user/.conda/envs/mlflow-2.10.2/lib/python3.10/site-packages (from stack-data->IPython->fmeval==0.4.0) (2.0.1)\n",
      "Requirement already satisfied: asttokens>=2.1.0 in /home/sagemaker-user/.conda/envs/mlflow-2.10.2/lib/python3.10/site-packages (from stack-data->IPython->fmeval==0.4.0) (2.4.1)\n",
      "Requirement already satisfied: pure-eval in /home/sagemaker-user/.conda/envs/mlflow-2.10.2/lib/python3.10/site-packages (from stack-data->IPython->fmeval==0.4.0) (0.2.2)\n",
      "Requirement already satisfied: mpmath>=0.19 in /home/sagemaker-user/.conda/envs/mlflow-2.10.2/lib/python3.10/site-packages (from sympy->torch!=2.0.1,!=2.1.0,>=2.0.0->fmeval==0.4.0) (1.3.0)\n",
      "Requirement already satisfied: sagemaker==2.208 in /home/sagemaker-user/.conda/envs/mlflow-2.10.2/lib/python3.10/site-packages (2.208.0)\n",
      "Requirement already satisfied: attrs<24,>=23.1.0 in /home/sagemaker-user/.conda/envs/mlflow-2.10.2/lib/python3.10/site-packages (from sagemaker==2.208) (23.2.0)\n",
      "Requirement already satisfied: boto3<2.0,>=1.33.3 in /home/sagemaker-user/.conda/envs/mlflow-2.10.2/lib/python3.10/site-packages (from sagemaker==2.208) (1.34.69)\n",
      "Requirement already satisfied: cloudpickle==2.2.1 in /home/sagemaker-user/.conda/envs/mlflow-2.10.2/lib/python3.10/site-packages (from sagemaker==2.208) (2.2.1)\n",
      "Requirement already satisfied: google-pasta in /home/sagemaker-user/.conda/envs/mlflow-2.10.2/lib/python3.10/site-packages (from sagemaker==2.208) (0.2.0)\n",
      "Requirement already satisfied: numpy<2.0,>=1.9.0 in /home/sagemaker-user/.conda/envs/mlflow-2.10.2/lib/python3.10/site-packages (from sagemaker==2.208) (1.26.4)\n",
      "Requirement already satisfied: protobuf<5.0,>=3.12 in /home/sagemaker-user/.conda/envs/mlflow-2.10.2/lib/python3.10/site-packages (from sagemaker==2.208) (4.25.3)\n",
      "Requirement already satisfied: smdebug-rulesconfig==1.0.1 in /home/sagemaker-user/.conda/envs/mlflow-2.10.2/lib/python3.10/site-packages (from sagemaker==2.208) (1.0.1)\n",
      "Requirement already satisfied: importlib-metadata<7.0,>=1.4.0 in /home/sagemaker-user/.conda/envs/mlflow-2.10.2/lib/python3.10/site-packages (from sagemaker==2.208) (6.11.0)\n",
      "Requirement already satisfied: packaging>=20.0 in /home/sagemaker-user/.conda/envs/mlflow-2.10.2/lib/python3.10/site-packages (from sagemaker==2.208) (23.2)\n",
      "Requirement already satisfied: pandas in /home/sagemaker-user/.conda/envs/mlflow-2.10.2/lib/python3.10/site-packages (from sagemaker==2.208) (2.1.4)\n",
      "Requirement already satisfied: pathos in /home/sagemaker-user/.conda/envs/mlflow-2.10.2/lib/python3.10/site-packages (from sagemaker==2.208) (0.3.2)\n",
      "Requirement already satisfied: schema in /home/sagemaker-user/.conda/envs/mlflow-2.10.2/lib/python3.10/site-packages (from sagemaker==2.208) (0.7.5)\n",
      "Requirement already satisfied: PyYAML~=6.0 in /home/sagemaker-user/.conda/envs/mlflow-2.10.2/lib/python3.10/site-packages (from sagemaker==2.208) (6.0.1)\n",
      "Requirement already satisfied: jsonschema in /home/sagemaker-user/.conda/envs/mlflow-2.10.2/lib/python3.10/site-packages (from sagemaker==2.208) (4.21.1)\n",
      "Requirement already satisfied: platformdirs in /home/sagemaker-user/.conda/envs/mlflow-2.10.2/lib/python3.10/site-packages (from sagemaker==2.208) (4.2.0)\n",
      "Requirement already satisfied: tblib<3,>=1.7.0 in /home/sagemaker-user/.conda/envs/mlflow-2.10.2/lib/python3.10/site-packages (from sagemaker==2.208) (2.0.0)\n",
      "Requirement already satisfied: urllib3<3.0.0,>=1.26.8 in /home/sagemaker-user/.conda/envs/mlflow-2.10.2/lib/python3.10/site-packages (from sagemaker==2.208) (1.26.18)\n",
      "Requirement already satisfied: requests in /home/sagemaker-user/.conda/envs/mlflow-2.10.2/lib/python3.10/site-packages (from sagemaker==2.208) (2.31.0)\n",
      "Requirement already satisfied: docker in /home/sagemaker-user/.conda/envs/mlflow-2.10.2/lib/python3.10/site-packages (from sagemaker==2.208) (7.0.0)\n",
      "Requirement already satisfied: tqdm in /home/sagemaker-user/.conda/envs/mlflow-2.10.2/lib/python3.10/site-packages (from sagemaker==2.208) (4.66.2)\n",
      "Requirement already satisfied: psutil in /home/sagemaker-user/.conda/envs/mlflow-2.10.2/lib/python3.10/site-packages (from sagemaker==2.208) (5.9.8)\n",
      "Requirement already satisfied: botocore<1.35.0,>=1.34.69 in /home/sagemaker-user/.conda/envs/mlflow-2.10.2/lib/python3.10/site-packages (from boto3<2.0,>=1.33.3->sagemaker==2.208) (1.34.69)\n",
      "Requirement already satisfied: jmespath<2.0.0,>=0.7.1 in /home/sagemaker-user/.conda/envs/mlflow-2.10.2/lib/python3.10/site-packages (from boto3<2.0,>=1.33.3->sagemaker==2.208) (1.0.1)\n",
      "Requirement already satisfied: s3transfer<0.11.0,>=0.10.0 in /home/sagemaker-user/.conda/envs/mlflow-2.10.2/lib/python3.10/site-packages (from boto3<2.0,>=1.33.3->sagemaker==2.208) (0.10.1)\n",
      "Requirement already satisfied: zipp>=0.5 in /home/sagemaker-user/.conda/envs/mlflow-2.10.2/lib/python3.10/site-packages (from importlib-metadata<7.0,>=1.4.0->sagemaker==2.208) (3.17.0)\n",
      "Requirement already satisfied: charset-normalizer<4,>=2 in /home/sagemaker-user/.conda/envs/mlflow-2.10.2/lib/python3.10/site-packages (from requests->sagemaker==2.208) (3.3.2)\n",
      "Requirement already satisfied: idna<4,>=2.5 in /home/sagemaker-user/.conda/envs/mlflow-2.10.2/lib/python3.10/site-packages (from requests->sagemaker==2.208) (3.6)\n",
      "Requirement already satisfied: certifi>=2017.4.17 in /home/sagemaker-user/.conda/envs/mlflow-2.10.2/lib/python3.10/site-packages (from requests->sagemaker==2.208) (2024.2.2)\n",
      "Requirement already satisfied: six in /home/sagemaker-user/.conda/envs/mlflow-2.10.2/lib/python3.10/site-packages (from google-pasta->sagemaker==2.208) (1.16.0)\n",
      "Requirement already satisfied: jsonschema-specifications>=2023.03.6 in /home/sagemaker-user/.conda/envs/mlflow-2.10.2/lib/python3.10/site-packages (from jsonschema->sagemaker==2.208) (2023.12.1)\n",
      "Requirement already satisfied: referencing>=0.28.4 in /home/sagemaker-user/.conda/envs/mlflow-2.10.2/lib/python3.10/site-packages (from jsonschema->sagemaker==2.208) (0.34.0)\n",
      "Requirement already satisfied: rpds-py>=0.7.1 in /home/sagemaker-user/.conda/envs/mlflow-2.10.2/lib/python3.10/site-packages (from jsonschema->sagemaker==2.208) (0.18.0)\n",
      "Requirement already satisfied: python-dateutil>=2.8.2 in /home/sagemaker-user/.conda/envs/mlflow-2.10.2/lib/python3.10/site-packages (from pandas->sagemaker==2.208) (2.9.0)\n",
      "Requirement already satisfied: pytz>=2020.1 in /home/sagemaker-user/.conda/envs/mlflow-2.10.2/lib/python3.10/site-packages (from pandas->sagemaker==2.208) (2023.4)\n",
      "Requirement already satisfied: tzdata>=2022.1 in /home/sagemaker-user/.conda/envs/mlflow-2.10.2/lib/python3.10/site-packages (from pandas->sagemaker==2.208) (2024.1)\n",
      "Requirement already satisfied: ppft>=1.7.6.8 in /home/sagemaker-user/.conda/envs/mlflow-2.10.2/lib/python3.10/site-packages (from pathos->sagemaker==2.208) (1.7.6.8)\n",
      "Requirement already satisfied: dill>=0.3.8 in /home/sagemaker-user/.conda/envs/mlflow-2.10.2/lib/python3.10/site-packages (from pathos->sagemaker==2.208) (0.3.8)\n",
      "Requirement already satisfied: pox>=0.3.4 in /home/sagemaker-user/.conda/envs/mlflow-2.10.2/lib/python3.10/site-packages (from pathos->sagemaker==2.208) (0.3.4)\n",
      "Requirement already satisfied: multiprocess>=0.70.16 in /home/sagemaker-user/.conda/envs/mlflow-2.10.2/lib/python3.10/site-packages (from pathos->sagemaker==2.208) (0.70.16)\n",
      "Requirement already satisfied: contextlib2>=0.5.5 in /home/sagemaker-user/.conda/envs/mlflow-2.10.2/lib/python3.10/site-packages (from schema->sagemaker==2.208) (21.6.0)\n"
     ]
    }
   ],
   "source": [
    "!pip3 install fmeval==1.0.0"
   ]
  },
  {
   "cell_type": "code",
   "execution_count": 30,
   "id": "76487ff0709f4921",
   "metadata": {
    "collapsed": false,
    "tags": []
   },
   "outputs": [],
   "source": [
    "import sagemaker\n",
    "from sagemaker.workflow.pipeline import Pipeline\n",
    "from sagemaker.workflow.function_step import step\n",
    "from steps.deploy_llama7b import deploy_llama7b\n",
    "from steps.finetune_llama7b import finetune_llama7b\n",
    "from steps.deploy_finetuned_llama7b import deploy_finetuned_llama7b\n",
    "from steps.selection import selection\n",
    "from steps.preprocess import preprocess\n",
    "from steps.evaluation import evaluation\n",
    "from steps.register import register\n",
    "from steps.cleanup import cleanup\n",
    "from steps.utils import create_training_job_name\n",
    "import os\n",
    "\n",
    "os.environ[\"SAGEMAKER_USER_CONFIG_OVERRIDE\"] = os.getcwd()"
   ]
  },
  {
   "cell_type": "markdown",
   "id": "4b4d5f58-65e2-4d01-8303-8a2d420e09bf",
   "metadata": {},
   "source": [
    "### Evaluation dataset preparation - preprocess step\n",
    "We save data paths of the evaluation dataset in *evaluation_data_path* and the path for the pipeline outputs in *output_data_path*.  \n",
    "We then configure **preprocess** our first pipeline step. This step will take care of any data preprocessing that must be done\n",
    "on the evaluation dataset. The output data path after processing is contained in *preprocess_step_ret*.  \n",
    "Remember the *pipeline_name* as it will be used also in SageMaker Studio to identify our pipeline.  \n",
    "Also mark down the path of the S3 bucket used as output for later consultation.\n",
    "\n",
    "For running this example we will use a sub sample taken from [SCIQ](https://huggingface.co/datasets/sciq) dataset"
   ]
  },
  {
   "cell_type": "code",
   "execution_count": 31,
   "id": "4538466bfbdc3e26",
   "metadata": {
    "collapsed": false,
    "tags": []
   },
   "outputs": [
    {
     "name": "stdout",
     "output_type": "stream",
     "text": [
      "The pipeline name is genai-for-builders-fmops-pipeline\n",
      "Output S3 bucket: s3://sagemaker-eu-west-1-944771376927/datasets/sciq/output_genai-for-builders-fmops-pipeline\n"
     ]
    }
   ],
   "source": [
    "pipeline_name = \"genai-for-builders-fmops-pipeline\"\n",
    "\n",
    "default_bucket = sagemaker.Session().default_bucket()\n",
    "main_data_path = f\"s3://{default_bucket}\"\n",
    "evaluation_data_path= main_data_path + \"/datasets/sciq/evaluation/automatic/dataset_evaluation.jsonl\"\n",
    "output_data_path = (main_data_path + \"/datasets/sciq/output_\" + pipeline_name)\n",
    "\n",
    "# You can add your own evaluation dataset code into this step\n",
    "preprocess_step_ret = step(preprocess, name=\"preprocess\")(evaluation_data_path, output_data_path)\n",
    "\n",
    "print(\"The pipeline name is \"+pipeline_name)\n",
    "# Mark the name of this bucket for reviewing the artifacts generated by this pipeline at the end of the execution\n",
    "print(\"Output S3 bucket: \"+output_data_path)"
   ]
  },
  {
   "cell_type": "markdown",
   "id": "6bd50b41df5a91de",
   "metadata": {},
   "source": [
    "### Setup models\n",
    "We are now going to add different models into pipeline. Each model will have an optional **finetune** step, a **deploy** step and finally an **evaluation** step.\n",
    "Before starting the setup we instantiate a couple of supporting array. \n",
    "*model_list* will contain the list of models defined as a dictionary of parameters.  \n",
    "*evaluation_results_ret_list* will contain the result of the evaluation generated by the **evaluation** step."
   ]
  },
  {
   "cell_type": "code",
   "execution_count": 32,
   "id": "d814fa1c33fb23f9",
   "metadata": {
    "collapsed": false
   },
   "outputs": [],
   "source": [
    "model_list = []\n",
    "evaluation_results_ret_list = []"
   ]
  },
  {
   "cell_type": "markdown",
   "id": "fbaf64feaf794296",
   "metadata": {
    "collapsed": false
   },
   "source": [
    "### Setup first model: LLama-2-7b from SageMaker Jumpstart\n",
    "For the first model we are using LLama-2-7b available in Amazon SageMaker Jumpstart.\n",
    "We collect all the required parameters into a dictionary and we add it to *model_list* for later use.  \n",
    "We will use one *ml.g5.2xlarge* instance for inference."
   ]
  },
  {
   "cell_type": "code",
   "execution_count": 33,
   "id": "c0838a5d8ab07589",
   "metadata": {
    "collapsed": false,
    "tags": []
   },
   "outputs": [],
   "source": [
    "# Setup required model parameters\n",
    "model_1 = {\"model_id\": \"meta-textgeneration-llama-2-7b\",\n",
    "           \"model_version\": \"3.*\",\n",
    "           \"model_name\": \"llama-2-7b\",\n",
    "           \"endpoint_name\": \"genai-for-builders-fmops-meta-textgeneration-llama-2-7b\",\n",
    "           \"instance_type\": \"ml.g5.2xlarge\",\n",
    "           \"num_instances\": 1}\n",
    "\n",
    "# Save the information of the model in the model_list array for later use\n",
    "model_list.append(model_1)"
   ]
  },
  {
   "cell_type": "markdown",
   "id": "4a7ec385385fae3",
   "metadata": {},
   "source": [
    "We then configure **deploy** and **evaluation** data step. Note that **evaluation** step is dependent on both **preprocess** and **deploy** steps because is using the ret values as step inputs."
   ]
  },
  {
   "cell_type": "code",
   "execution_count": 34,
   "id": "d1f73ce22a54ef8f",
   "metadata": {
    "collapsed": false,
    "is_executing": true,
    "tags": []
   },
   "outputs": [],
   "source": [
    "deploy_llama7b_ret = step(deploy_llama7b, name=\"deploy_llama7b\")(model_1)\n",
    "\n",
    "# Evaluation step is using the output from preprocess (the S3 location of the evaluation dataset file) \n",
    "# and the output of the deploy step (the endpoint name)\n",
    "evaluate_llama7b_ret = step(evaluation,\n",
    "                    name=\"evaluate_llama7b\",\n",
    "                    keep_alive_period_in_seconds=1200\n",
    "                    )(model_1,\n",
    "                      preprocess_step_ret,\n",
    "                      deploy_llama7b_ret)\n",
    "\n",
    "# We save the evaluation output details in the evaluation_results_ret_list array for later use\n",
    "evaluation_results_ret_list.append(evaluate_llama7b_ret)"
   ]
  },
  {
   "cell_type": "markdown",
   "id": "5ff5ba2f26142490",
   "metadata": {},
   "source": [
    "### Setup second model: LLama-2-7b from SageMaker Jumpstart to be instruction finetuned\n",
    "The second model in this example is a LLama-2-7b from SageMaker Jumpstart that we are going to finetune with an instruction dataset.  \n",
    "For this model we are going to set parameters required for finetuning job such as:\n",
    "- *finetune_instance_type*: the instance type that will be used to finetune the model\n",
    "- *epoch*: number of finetune epochs\n",
    "- *max_input_length*: maximum input sequence length\n",
    "- *per_device_train_batch_size*: batch size per device\n",
    "- *instruction_tuned*: set to True will force the model to be instruction tuned\n",
    "- *training_data_path*: the S3 data path containing the training dataset\n",
    "\n",
    "We also setup the training job name manually to track it down during the pipeline execution."
   ]
  },
  {
   "cell_type": "code",
   "execution_count": 35,
   "id": "464f2b32af0481d0",
   "metadata": {
    "collapsed": false,
    "tags": []
   },
   "outputs": [],
   "source": [
    "# Setup required model parameters\n",
    "model_2 = {\n",
    "    \"model_id\": \"meta-textgeneration-llama-2-7b\",\n",
    "    \"model_version\": \"3.*\",\n",
    "    \"model_name\": \"llama-2-7b-instruction-tuned\",\n",
    "    \"endpoint_name\": \"genai-for-builders-fmops-meta-llama-2-7b-instr-finetuned\",\n",
    "    \"finetune_instance_type\": \"ml.g5.12xlarge\",\n",
    "    \"finetune_num_instances\": 1,\n",
    "    \"instance_type\": \"ml.g5.2xlarge\",\n",
    "    \"num_instances\": 1,\n",
    "    \"epoch\": 1,\n",
    "    \"max_input_length\": 512,\n",
    "    \"per_device_train_batch_size\": 4,\n",
    "    \"instruction_tuned\": \"True\",\n",
    "    \"chat_dataset\": \"False\",\n",
    "    \"training_data_path\": f\"s3://{default_bucket}/datasets/sciq/fine_tuning/instruction_fine_tuning\",\n",
    "    \"is_finetuned_model\": True\n",
    "}\n",
    "model_2[\"training_job_name\"] = create_training_job_name(model_2[\"model_id\"])\n",
    "\n",
    "# Save the information of the model in the model_list array for later use\n",
    "model_list.append(model_2)"
   ]
  },
  {
   "cell_type": "markdown",
   "id": "54b715608d4b4ad1",
   "metadata": {},
   "source": [
    "We are now going to create the pipeline steps for the second model. For model 2 we add a **finetune** step before the **deploy** and **evaluation** steps.  \n",
    "As before we are saving the evaluation results into *evaluation_results_ret_list* array."
   ]
  },
  {
   "cell_type": "code",
   "execution_count": 36,
   "id": "c7fa484035f7f5a4",
   "metadata": {
    "collapsed": false,
    "tags": []
   },
   "outputs": [],
   "source": [
    "finetune_ret = step(finetune_llama7b, name=\"finetune_llama7b_instruction\")(model_2)\n",
    "\n",
    "# Deploy step is using the output from the finetune step (the training job name)\n",
    "deploy_finetuned_llama7b_ret = step(deploy_finetuned_llama7b, \n",
    "                                    name=\"deploy_finetuned_llama7b_instruction\")(model_2, finetune_ret)\n",
    "\n",
    "# Evaluation step is using the output from preprocess (the S3 location of the evaluation dataset file) \n",
    "# and the output of the deploy step (the endpoint name)\n",
    "evaluate_finetuned_llama7b_instruction_ret = step(evaluation,\n",
    "                    name=\"evaluate_finetuned_llama7b_instr\",\n",
    "                    keep_alive_period_in_seconds=1200,\n",
    "                    )(model_2,\n",
    "                      preprocess_step_ret,\n",
    "                      deploy_finetuned_llama7b_ret)\n",
    "\n",
    "# We save the information of the model in the model_list array for later use\n",
    "evaluation_results_ret_list.append(evaluate_finetuned_llama7b_instruction_ret)"
   ]
  },
  {
   "cell_type": "markdown",
   "id": "5425f135245e0944",
   "metadata": {
    "collapsed": false
   },
   "source": [
    "### Setup third model: LLama-2-7b-chat from SageMaker Jumpstart to be domain finetuned\n",
    "The third model in this example is a LLama-2-7b-chat from SageMaker Jumpstart that we are going to finetune\n",
    "with a domain dataset.  \n",
    "For this model we are going to set parameters required for finetuning job such as:\n",
    "- *finetune_instance_type*: the instance type that will be used to finetune the model\n",
    "- *epoch*: number of finetune epochs\n",
    "- *max_input_length*: maximum input sequence length\n",
    "- *instruction_tuned*: set to True will force the model to be instruction tuned\n",
    "- *training_data_path*: the S3 data path containing the training dataset\n",
    "- *per_device_train_batch_size*: batch size per device"
   ]
  },
  {
   "cell_type": "code",
   "execution_count": 37,
   "id": "ca692e551ee74f31",
   "metadata": {
    "collapsed": false
   },
   "outputs": [],
   "source": [
    "# We setup required model parameters\n",
    "model_3 = {\n",
    "    \"model_id\": \"meta-textgeneration-llama-2-7b-f\",\n",
    "    \"model_version\": \"3.*\",\n",
    "    \"model_name\": \"llama-2-7b-chat-domain-tuned\",\n",
    "    \"endpoint_name\": \"genai-for-builders-fmops-meta-llama-2-7b-chat-dom-finetuned\",\n",
    "    \"finetune_instance_type\": \"ml.g5.12xlarge\",\n",
    "    \"finetune_num_instances\": 1,\n",
    "    \"instance_type\": \"ml.g5.2xlarge\",\n",
    "    \"num_instances\": 1,\n",
    "    \"epoch\": 5,\n",
    "    \"max_input_length\": 512,\n",
    "    \"per_device_train_batch_size\": 4,\n",
    "    \"instruction_tuned\": \"False\",\n",
    "    \"chat_dataset\": \"False\",\n",
    "    \"training_data_path\": f\"s3://{default_bucket}/datasets/sciq/fine_tuning/domain_adaptation_fine_tuning\",\n",
    "    \"is_finetuned_model\": True\n",
    "}\n",
    "model_3[\"training_job_name\"] = create_training_job_name(model_3[\"model_id\"])\n",
    "\n",
    "# We save the information of the model in the model_list array for later use\n",
    "model_list.append(model_3)"
   ]
  },
  {
   "cell_type": "markdown",
   "id": "18801dd08ba069f7",
   "metadata": {
    "collapsed": false
   },
   "source": [
    "We are now going to create the pipeline steps for model 3 like we did for model 2."
   ]
  },
  {
   "cell_type": "code",
   "execution_count": 38,
   "id": "336a4b0cf9ab3f0f",
   "metadata": {
    "collapsed": false
   },
   "outputs": [],
   "source": [
    "domain_finetune_ret = step(finetune_llama7b, name=\"finetune_llama7b_domain\")(model_3)\n",
    "\n",
    "# Deploy step is using the output from the finetune step (the training job name)\n",
    "deploy_finetuned_llama7b_dom_ret = step(deploy_finetuned_llama7b, \n",
    "                                    name=\"deploy_finetuned_llama7b_domain\")(model_3, domain_finetune_ret)\n",
    "\n",
    "# Evaluation step is using the output from preprocess (the S3 location of the evaluation dataset file) \n",
    "# and the output of the deploy step (the endpoint name)\n",
    "evaluate_finetuned_llama7b_domain_ret = step(evaluation,\n",
    "                    name=\"evaluate_finetuned_llama7b_dom\",\n",
    "                    keep_alive_period_in_seconds=1200,\n",
    "                    )(model_3,\n",
    "                      preprocess_step_ret,\n",
    "                      deploy_finetuned_llama7b_dom_ret)\n",
    "\n",
    "# We save the information of the model in the model_list array for later use\n",
    "evaluation_results_ret_list.append(evaluate_finetuned_llama7b_domain_ret)"
   ]
  },
  {
   "cell_type": "markdown",
   "id": "48f23d56614aea50",
   "metadata": {
    "collapsed": false
   },
   "source": [
    "### Select best model and register it in SageMaker Model Registry\n",
    "Now it's time to select best model. To do so we create a pipeline step dedicated to the best model **selection**.\n",
    "The selection is using the output of all the models' evaluation.\n",
    "The output of the **selection** step is the best model name. We will use the best model name in the **register** step.  \n",
    "The **register** step will also need a package group and description name."
   ]
  },
  {
   "cell_type": "code",
   "execution_count": 39,
   "id": "3b05c18a5295ce0a",
   "metadata": {
    "collapsed": false
   },
   "outputs": [],
   "source": [
    "# Evaluation step is using the output from the evaluation steps of all the models\n",
    "selection_ret = step(selection, name=\"best_model_selection\")(*evaluation_results_ret_list)\n",
    "\n",
    "# Set a package group name and description\n",
    "model_package_group_name = \"GenAIForBuilderFMOpsEvaluationPipeline\"\n",
    "model_package_group_description = \"GenAI For Builder FMOps Evaluation Pipeline Model Registry\"\n",
    "\n",
    "# We will register the best model in the model register. The best model name is contained in the return object of the selection step\n",
    "register_ret = step(register, name=\"best_model_register\")(model_list,\n",
    "                                                          output_data_path,\n",
    "                                                          model_package_group_name,\n",
    "                                                          model_package_group_description,\n",
    "                                                          selection_ret,\n",
    "                                                          *evaluation_results_ret_list)"
   ]
  },
  {
   "cell_type": "markdown",
   "id": "478f53e262aafb7c",
   "metadata": {},
   "source": [
    "### Cleanup\n",
    "The last pipeline step is dedicated to cleanup all the resource that we are going to instantiate with the pipeline.\n",
    "For each model we create a **cleanup** step to be executed in parallel. All **cleanup** steps will fan-out after **register** step as they are dependent on its output."
   ]
  },
  {
   "cell_type": "code",
   "execution_count": 40,
   "id": "71735d24ab99ad89",
   "metadata": {
    "collapsed": false,
    "tags": []
   },
   "outputs": [],
   "source": [
    "# We need to create a cleanup step for each model. We collect the return objects to add them later in the pipeline creation function\n",
    "cleanup_ret_list = []\n",
    "\n",
    "for model in model_list:\n",
    "    # We append register_ret to connect the register and cleanup steps together\n",
    "    cleanup_ret = step(cleanup, name=\"cleanup_\"+model[\"model_name\"])(model[\"endpoint_name\"], register_ret)\n",
    "    cleanup_ret_list.append(cleanup_ret)"
   ]
  },
  {
   "cell_type": "markdown",
   "id": "9ce0babb-70c2-4b2b-bde8-f0986109fde6",
   "metadata": {},
   "source": [
    "### Creating and launching the pipeline\n",
    "We are finally ready to create and launch the pipeline but before doing that we will need to create a requirements.txt file.\n",
    "As a best practice we are reading the current sagemaker library version that we are using to create the pipeline and set it as a requirement into the requirement file.\n",
    "Keeping the same sagemaker version in the creation and running phase will allow us to avoid any deserialization issues."
   ]
  },
  {
   "cell_type": "code",
   "execution_count": 41,
   "id": "8c682ddc-f4fc-4ef4-8081-d753032f2888",
   "metadata": {
    "tags": []
   },
   "outputs": [],
   "source": [
    "if os.path.exists(\"requirements.txt\"):\n",
    "    os.remove(\"requirements.txt\")\n",
    "\n",
    "with open('requirements.txt', 'w') as req_file:\n",
    "    req_file.write(\"fmeval==0.4.0\\n\")\n",
    "    req_file.write(\"sagemaker==\" + str(sagemaker.__version__) + \"\\n\")"
   ]
  },
  {
   "cell_type": "markdown",
   "id": "a5b5abfcc508e191",
   "metadata": {},
   "source": [
    "In the last cell of this notebook we are creating the pipeline and serializing it to S3. \n",
    "Don't forget to attach the execution role with sufficient permission and the return results from the last steps of our pipeline.\n",
    "We are now ready to start the pipeline execution!"
   ]
  },
  {
   "cell_type": "code",
   "execution_count": 42,
   "id": "e8f091649f823362",
   "metadata": {
    "collapsed": false
   },
   "outputs": [
    {
     "name": "stdout",
     "output_type": "stream",
     "text": [
      "sagemaker.config INFO - Applied value from config key = SageMaker.PythonSDK.Modules.RemoteFunction.Dependencies\n",
      "sagemaker.config INFO - Applied value from config key = SageMaker.PythonSDK.Modules.RemoteFunction.IncludeLocalWorkDir\n",
      "sagemaker.config INFO - Applied value from config key = SageMaker.PythonSDK.Modules.RemoteFunction.CustomFileFilter.IgnoreNamePatterns\n",
      "sagemaker.config INFO - Applied value from config key = SageMaker.PythonSDK.Modules.RemoteFunction.InstanceType\n"
     ]
    },
    {
     "name": "stderr",
     "output_type": "stream",
     "text": [
      "2024-04-09 15:03:52,863 sagemaker.remote_function INFO     Uploading serialized function code to s3://sagemaker-eu-west-1-944771376927/genai-for-builders-fmops-pipeline/cleanup_llama-2-7b/2024-04-09-15-03-50-930/function\n",
      "2024-04-09 15:03:52,938 sagemaker.remote_function INFO     Uploading serialized function arguments to s3://sagemaker-eu-west-1-944771376927/genai-for-builders-fmops-pipeline/cleanup_llama-2-7b/2024-04-09-15-03-50-930/arguments\n",
      "2024-04-09 15:03:53,134 sagemaker.remote_function INFO     Copied dependencies file at './requirements.txt' to '/tmp/tmps30_iybk/requirements.txt'\n",
      "2024-04-09 15:03:53,160 sagemaker.remote_function INFO     Successfully uploaded dependencies and pre execution scripts to 's3://sagemaker-eu-west-1-944771376927/genai-for-builders-fmops-pipeline/cleanup_llama-2-7b/2024-04-09-15-03-50-930/pre_exec_script_and_dependencies'\n",
      "2024-04-09 15:03:53,177 sagemaker.remote_function INFO     Copied user workspace to '/tmp/tmpiegq0cwy/temp_workspace/sagemaker_remote_function_workspace'\n",
      "2024-04-09 15:03:53,180 sagemaker.remote_function INFO     Successfully created workdir archive at '/tmp/tmpiegq0cwy/workspace.zip'\n",
      "2024-04-09 15:03:53,216 sagemaker.remote_function INFO     Successfully uploaded workdir to 's3://sagemaker-eu-west-1-944771376927/genai-for-builders-fmops-pipeline/sm_rf_user_ws/2024-04-09-15-03-50-930/workspace.zip'\n",
      "WARNING:sagemaker.workflow.utilities:Popping out 'TrainingJobName' from the pipeline definition by default since it will be overridden at pipeline execution time. Please utilize the PipelineDefinitionConfig to persist this field in the pipeline definition if desired.\n"
     ]
    },
    {
     "name": "stdout",
     "output_type": "stream",
     "text": [
      "sagemaker.config INFO - Applied value from config key = SageMaker.PythonSDK.Modules.RemoteFunction.Dependencies\n",
      "sagemaker.config INFO - Applied value from config key = SageMaker.PythonSDK.Modules.RemoteFunction.IncludeLocalWorkDir\n",
      "sagemaker.config INFO - Applied value from config key = SageMaker.PythonSDK.Modules.RemoteFunction.CustomFileFilter.IgnoreNamePatterns\n",
      "sagemaker.config INFO - Applied value from config key = SageMaker.PythonSDK.Modules.RemoteFunction.InstanceType\n"
     ]
    },
    {
     "name": "stderr",
     "output_type": "stream",
     "text": [
      "2024-04-09 15:03:54,914 sagemaker.remote_function INFO     Uploading serialized function code to s3://sagemaker-eu-west-1-944771376927/genai-for-builders-fmops-pipeline/cleanup_llama-2-7b-instruction-tuned/2024-04-09-15-03-50-930/function\n",
      "2024-04-09 15:03:54,982 sagemaker.remote_function INFO     Uploading serialized function arguments to s3://sagemaker-eu-west-1-944771376927/genai-for-builders-fmops-pipeline/cleanup_llama-2-7b-instruction-tuned/2024-04-09-15-03-50-930/arguments\n",
      "2024-04-09 15:03:55,046 sagemaker.remote_function INFO     Copied dependencies file at './requirements.txt' to '/tmp/tmprtdvcfnp/requirements.txt'\n",
      "2024-04-09 15:03:55,069 sagemaker.remote_function INFO     Successfully uploaded dependencies and pre execution scripts to 's3://sagemaker-eu-west-1-944771376927/genai-for-builders-fmops-pipeline/cleanup_llama-2-7b-instruction-tuned/2024-04-09-15-03-50-930/pre_exec_script_and_dependencies'\n",
      "WARNING:sagemaker.workflow.utilities:Popping out 'TrainingJobName' from the pipeline definition by default since it will be overridden at pipeline execution time. Please utilize the PipelineDefinitionConfig to persist this field in the pipeline definition if desired.\n"
     ]
    },
    {
     "name": "stdout",
     "output_type": "stream",
     "text": [
      "sagemaker.config INFO - Applied value from config key = SageMaker.PythonSDK.Modules.RemoteFunction.Dependencies\n",
      "sagemaker.config INFO - Applied value from config key = SageMaker.PythonSDK.Modules.RemoteFunction.IncludeLocalWorkDir\n",
      "sagemaker.config INFO - Applied value from config key = SageMaker.PythonSDK.Modules.RemoteFunction.CustomFileFilter.IgnoreNamePatterns\n",
      "sagemaker.config INFO - Applied value from config key = SageMaker.PythonSDK.Modules.RemoteFunction.InstanceType\n"
     ]
    },
    {
     "name": "stderr",
     "output_type": "stream",
     "text": [
      "2024-04-09 15:03:56,755 sagemaker.remote_function INFO     Uploading serialized function code to s3://sagemaker-eu-west-1-944771376927/genai-for-builders-fmops-pipeline/cleanup_llama-2-7b-chat-domain-tuned/2024-04-09-15-03-50-930/function\n",
      "2024-04-09 15:03:56,828 sagemaker.remote_function INFO     Uploading serialized function arguments to s3://sagemaker-eu-west-1-944771376927/genai-for-builders-fmops-pipeline/cleanup_llama-2-7b-chat-domain-tuned/2024-04-09-15-03-50-930/arguments\n",
      "2024-04-09 15:03:56,893 sagemaker.remote_function INFO     Copied dependencies file at './requirements.txt' to '/tmp/tmpo840kyw2/requirements.txt'\n",
      "2024-04-09 15:03:56,918 sagemaker.remote_function INFO     Successfully uploaded dependencies and pre execution scripts to 's3://sagemaker-eu-west-1-944771376927/genai-for-builders-fmops-pipeline/cleanup_llama-2-7b-chat-domain-tuned/2024-04-09-15-03-50-930/pre_exec_script_and_dependencies'\n",
      "WARNING:sagemaker.workflow.utilities:Popping out 'TrainingJobName' from the pipeline definition by default since it will be overridden at pipeline execution time. Please utilize the PipelineDefinitionConfig to persist this field in the pipeline definition if desired.\n"
     ]
    },
    {
     "name": "stdout",
     "output_type": "stream",
     "text": [
      "sagemaker.config INFO - Applied value from config key = SageMaker.PythonSDK.Modules.RemoteFunction.Dependencies\n",
      "sagemaker.config INFO - Applied value from config key = SageMaker.PythonSDK.Modules.RemoteFunction.IncludeLocalWorkDir\n",
      "sagemaker.config INFO - Applied value from config key = SageMaker.PythonSDK.Modules.RemoteFunction.CustomFileFilter.IgnoreNamePatterns\n",
      "sagemaker.config INFO - Applied value from config key = SageMaker.PythonSDK.Modules.RemoteFunction.InstanceType\n"
     ]
    },
    {
     "name": "stderr",
     "output_type": "stream",
     "text": [
      "2024-04-09 15:03:58,627 sagemaker.remote_function INFO     Uploading serialized function code to s3://sagemaker-eu-west-1-944771376927/genai-for-builders-fmops-pipeline/best_model_register/2024-04-09-15-03-50-930/function\n",
      "2024-04-09 15:03:58,687 sagemaker.remote_function INFO     Uploading serialized function arguments to s3://sagemaker-eu-west-1-944771376927/genai-for-builders-fmops-pipeline/best_model_register/2024-04-09-15-03-50-930/arguments\n",
      "2024-04-09 15:03:58,761 sagemaker.remote_function INFO     Copied dependencies file at './requirements.txt' to '/tmp/tmpgf4jrgzu/requirements.txt'\n",
      "2024-04-09 15:03:58,787 sagemaker.remote_function INFO     Successfully uploaded dependencies and pre execution scripts to 's3://sagemaker-eu-west-1-944771376927/genai-for-builders-fmops-pipeline/best_model_register/2024-04-09-15-03-50-930/pre_exec_script_and_dependencies'\n",
      "WARNING:sagemaker.workflow.utilities:Popping out 'TrainingJobName' from the pipeline definition by default since it will be overridden at pipeline execution time. Please utilize the PipelineDefinitionConfig to persist this field in the pipeline definition if desired.\n"
     ]
    },
    {
     "name": "stdout",
     "output_type": "stream",
     "text": [
      "sagemaker.config INFO - Applied value from config key = SageMaker.PythonSDK.Modules.RemoteFunction.Dependencies\n",
      "sagemaker.config INFO - Applied value from config key = SageMaker.PythonSDK.Modules.RemoteFunction.IncludeLocalWorkDir\n",
      "sagemaker.config INFO - Applied value from config key = SageMaker.PythonSDK.Modules.RemoteFunction.CustomFileFilter.IgnoreNamePatterns\n",
      "sagemaker.config INFO - Applied value from config key = SageMaker.PythonSDK.Modules.RemoteFunction.InstanceType\n"
     ]
    },
    {
     "name": "stderr",
     "output_type": "stream",
     "text": [
      "2024-04-09 15:04:00,514 sagemaker.remote_function INFO     Uploading serialized function code to s3://sagemaker-eu-west-1-944771376927/genai-for-builders-fmops-pipeline/best_model_selection/2024-04-09-15-03-50-930/function\n",
      "2024-04-09 15:04:00,569 sagemaker.remote_function INFO     Uploading serialized function arguments to s3://sagemaker-eu-west-1-944771376927/genai-for-builders-fmops-pipeline/best_model_selection/2024-04-09-15-03-50-930/arguments\n",
      "2024-04-09 15:04:00,653 sagemaker.remote_function INFO     Copied dependencies file at './requirements.txt' to '/tmp/tmpspmvhy60/requirements.txt'\n",
      "2024-04-09 15:04:00,680 sagemaker.remote_function INFO     Successfully uploaded dependencies and pre execution scripts to 's3://sagemaker-eu-west-1-944771376927/genai-for-builders-fmops-pipeline/best_model_selection/2024-04-09-15-03-50-930/pre_exec_script_and_dependencies'\n",
      "WARNING:sagemaker.workflow.utilities:Popping out 'TrainingJobName' from the pipeline definition by default since it will be overridden at pipeline execution time. Please utilize the PipelineDefinitionConfig to persist this field in the pipeline definition if desired.\n"
     ]
    },
    {
     "name": "stdout",
     "output_type": "stream",
     "text": [
      "sagemaker.config INFO - Applied value from config key = SageMaker.PythonSDK.Modules.RemoteFunction.Dependencies\n",
      "sagemaker.config INFO - Applied value from config key = SageMaker.PythonSDK.Modules.RemoteFunction.IncludeLocalWorkDir\n",
      "sagemaker.config INFO - Applied value from config key = SageMaker.PythonSDK.Modules.RemoteFunction.CustomFileFilter.IgnoreNamePatterns\n",
      "sagemaker.config INFO - Applied value from config key = SageMaker.PythonSDK.Modules.RemoteFunction.InstanceType\n"
     ]
    },
    {
     "name": "stderr",
     "output_type": "stream",
     "text": [
      "2024-04-09 15:04:02,411 sagemaker.remote_function INFO     Uploading serialized function code to s3://sagemaker-eu-west-1-944771376927/genai-for-builders-fmops-pipeline/evaluate_llama7b/2024-04-09-15-03-50-930/function\n",
      "2024-04-09 15:04:02,472 sagemaker.remote_function INFO     Uploading serialized function arguments to s3://sagemaker-eu-west-1-944771376927/genai-for-builders-fmops-pipeline/evaluate_llama7b/2024-04-09-15-03-50-930/arguments\n",
      "2024-04-09 15:04:02,552 sagemaker.remote_function INFO     Copied dependencies file at './requirements.txt' to '/tmp/tmpa7dsv3_2/requirements.txt'\n",
      "2024-04-09 15:04:02,579 sagemaker.remote_function INFO     Successfully uploaded dependencies and pre execution scripts to 's3://sagemaker-eu-west-1-944771376927/genai-for-builders-fmops-pipeline/evaluate_llama7b/2024-04-09-15-03-50-930/pre_exec_script_and_dependencies'\n",
      "WARNING:sagemaker.workflow.utilities:Popping out 'TrainingJobName' from the pipeline definition by default since it will be overridden at pipeline execution time. Please utilize the PipelineDefinitionConfig to persist this field in the pipeline definition if desired.\n"
     ]
    },
    {
     "name": "stdout",
     "output_type": "stream",
     "text": [
      "sagemaker.config INFO - Applied value from config key = SageMaker.PythonSDK.Modules.RemoteFunction.Dependencies\n",
      "sagemaker.config INFO - Applied value from config key = SageMaker.PythonSDK.Modules.RemoteFunction.IncludeLocalWorkDir\n",
      "sagemaker.config INFO - Applied value from config key = SageMaker.PythonSDK.Modules.RemoteFunction.CustomFileFilter.IgnoreNamePatterns\n",
      "sagemaker.config INFO - Applied value from config key = SageMaker.PythonSDK.Modules.RemoteFunction.InstanceType\n"
     ]
    },
    {
     "name": "stderr",
     "output_type": "stream",
     "text": [
      "2024-04-09 15:04:04,303 sagemaker.remote_function INFO     Uploading serialized function code to s3://sagemaker-eu-west-1-944771376927/genai-for-builders-fmops-pipeline/evaluate_finetuned_llama7b_instr/2024-04-09-15-03-50-930/function\n",
      "2024-04-09 15:04:04,357 sagemaker.remote_function INFO     Uploading serialized function arguments to s3://sagemaker-eu-west-1-944771376927/genai-for-builders-fmops-pipeline/evaluate_finetuned_llama7b_instr/2024-04-09-15-03-50-930/arguments\n",
      "2024-04-09 15:04:04,440 sagemaker.remote_function INFO     Copied dependencies file at './requirements.txt' to '/tmp/tmph7odcvv8/requirements.txt'\n",
      "2024-04-09 15:04:04,468 sagemaker.remote_function INFO     Successfully uploaded dependencies and pre execution scripts to 's3://sagemaker-eu-west-1-944771376927/genai-for-builders-fmops-pipeline/evaluate_finetuned_llama7b_instr/2024-04-09-15-03-50-930/pre_exec_script_and_dependencies'\n",
      "WARNING:sagemaker.workflow.utilities:Popping out 'TrainingJobName' from the pipeline definition by default since it will be overridden at pipeline execution time. Please utilize the PipelineDefinitionConfig to persist this field in the pipeline definition if desired.\n"
     ]
    },
    {
     "name": "stdout",
     "output_type": "stream",
     "text": [
      "sagemaker.config INFO - Applied value from config key = SageMaker.PythonSDK.Modules.RemoteFunction.Dependencies\n",
      "sagemaker.config INFO - Applied value from config key = SageMaker.PythonSDK.Modules.RemoteFunction.IncludeLocalWorkDir\n",
      "sagemaker.config INFO - Applied value from config key = SageMaker.PythonSDK.Modules.RemoteFunction.CustomFileFilter.IgnoreNamePatterns\n",
      "sagemaker.config INFO - Applied value from config key = SageMaker.PythonSDK.Modules.RemoteFunction.InstanceType\n"
     ]
    },
    {
     "name": "stderr",
     "output_type": "stream",
     "text": [
      "2024-04-09 15:04:06,197 sagemaker.remote_function INFO     Uploading serialized function code to s3://sagemaker-eu-west-1-944771376927/genai-for-builders-fmops-pipeline/evaluate_finetuned_llama7b_dom/2024-04-09-15-03-50-930/function\n",
      "2024-04-09 15:04:06,255 sagemaker.remote_function INFO     Uploading serialized function arguments to s3://sagemaker-eu-west-1-944771376927/genai-for-builders-fmops-pipeline/evaluate_finetuned_llama7b_dom/2024-04-09-15-03-50-930/arguments\n",
      "2024-04-09 15:04:06,315 sagemaker.remote_function INFO     Copied dependencies file at './requirements.txt' to '/tmp/tmpl8vesho1/requirements.txt'\n",
      "2024-04-09 15:04:06,340 sagemaker.remote_function INFO     Successfully uploaded dependencies and pre execution scripts to 's3://sagemaker-eu-west-1-944771376927/genai-for-builders-fmops-pipeline/evaluate_finetuned_llama7b_dom/2024-04-09-15-03-50-930/pre_exec_script_and_dependencies'\n",
      "WARNING:sagemaker.workflow.utilities:Popping out 'TrainingJobName' from the pipeline definition by default since it will be overridden at pipeline execution time. Please utilize the PipelineDefinitionConfig to persist this field in the pipeline definition if desired.\n"
     ]
    },
    {
     "name": "stdout",
     "output_type": "stream",
     "text": [
      "sagemaker.config INFO - Applied value from config key = SageMaker.PythonSDK.Modules.RemoteFunction.Dependencies\n",
      "sagemaker.config INFO - Applied value from config key = SageMaker.PythonSDK.Modules.RemoteFunction.IncludeLocalWorkDir\n",
      "sagemaker.config INFO - Applied value from config key = SageMaker.PythonSDK.Modules.RemoteFunction.CustomFileFilter.IgnoreNamePatterns\n",
      "sagemaker.config INFO - Applied value from config key = SageMaker.PythonSDK.Modules.RemoteFunction.InstanceType\n"
     ]
    },
    {
     "name": "stderr",
     "output_type": "stream",
     "text": [
      "2024-04-09 15:04:08,053 sagemaker.remote_function INFO     Uploading serialized function code to s3://sagemaker-eu-west-1-944771376927/genai-for-builders-fmops-pipeline/preprocess/2024-04-09-15-03-50-930/function\n",
      "2024-04-09 15:04:08,114 sagemaker.remote_function INFO     Uploading serialized function arguments to s3://sagemaker-eu-west-1-944771376927/genai-for-builders-fmops-pipeline/preprocess/2024-04-09-15-03-50-930/arguments\n",
      "2024-04-09 15:04:08,182 sagemaker.remote_function INFO     Copied dependencies file at './requirements.txt' to '/tmp/tmp0hcpmxsb/requirements.txt'\n",
      "2024-04-09 15:04:08,214 sagemaker.remote_function INFO     Successfully uploaded dependencies and pre execution scripts to 's3://sagemaker-eu-west-1-944771376927/genai-for-builders-fmops-pipeline/preprocess/2024-04-09-15-03-50-930/pre_exec_script_and_dependencies'\n",
      "WARNING:sagemaker.workflow.utilities:Popping out 'TrainingJobName' from the pipeline definition by default since it will be overridden at pipeline execution time. Please utilize the PipelineDefinitionConfig to persist this field in the pipeline definition if desired.\n"
     ]
    },
    {
     "name": "stdout",
     "output_type": "stream",
     "text": [
      "sagemaker.config INFO - Applied value from config key = SageMaker.PythonSDK.Modules.RemoteFunction.Dependencies\n",
      "sagemaker.config INFO - Applied value from config key = SageMaker.PythonSDK.Modules.RemoteFunction.IncludeLocalWorkDir\n",
      "sagemaker.config INFO - Applied value from config key = SageMaker.PythonSDK.Modules.RemoteFunction.CustomFileFilter.IgnoreNamePatterns\n",
      "sagemaker.config INFO - Applied value from config key = SageMaker.PythonSDK.Modules.RemoteFunction.InstanceType\n"
     ]
    },
    {
     "name": "stderr",
     "output_type": "stream",
     "text": [
      "2024-04-09 15:04:09,940 sagemaker.remote_function INFO     Uploading serialized function code to s3://sagemaker-eu-west-1-944771376927/genai-for-builders-fmops-pipeline/deploy_llama7b/2024-04-09-15-03-50-930/function\n",
      "2024-04-09 15:04:09,996 sagemaker.remote_function INFO     Uploading serialized function arguments to s3://sagemaker-eu-west-1-944771376927/genai-for-builders-fmops-pipeline/deploy_llama7b/2024-04-09-15-03-50-930/arguments\n",
      "2024-04-09 15:04:10,060 sagemaker.remote_function INFO     Copied dependencies file at './requirements.txt' to '/tmp/tmpepvmo7bx/requirements.txt'\n",
      "2024-04-09 15:04:10,085 sagemaker.remote_function INFO     Successfully uploaded dependencies and pre execution scripts to 's3://sagemaker-eu-west-1-944771376927/genai-for-builders-fmops-pipeline/deploy_llama7b/2024-04-09-15-03-50-930/pre_exec_script_and_dependencies'\n",
      "WARNING:sagemaker.workflow.utilities:Popping out 'TrainingJobName' from the pipeline definition by default since it will be overridden at pipeline execution time. Please utilize the PipelineDefinitionConfig to persist this field in the pipeline definition if desired.\n"
     ]
    },
    {
     "name": "stdout",
     "output_type": "stream",
     "text": [
      "sagemaker.config INFO - Applied value from config key = SageMaker.PythonSDK.Modules.RemoteFunction.Dependencies\n",
      "sagemaker.config INFO - Applied value from config key = SageMaker.PythonSDK.Modules.RemoteFunction.IncludeLocalWorkDir\n",
      "sagemaker.config INFO - Applied value from config key = SageMaker.PythonSDK.Modules.RemoteFunction.CustomFileFilter.IgnoreNamePatterns\n",
      "sagemaker.config INFO - Applied value from config key = SageMaker.PythonSDK.Modules.RemoteFunction.InstanceType\n"
     ]
    },
    {
     "name": "stderr",
     "output_type": "stream",
     "text": [
      "2024-04-09 15:04:11,808 sagemaker.remote_function INFO     Uploading serialized function code to s3://sagemaker-eu-west-1-944771376927/genai-for-builders-fmops-pipeline/deploy_finetuned_llama7b_instruction/2024-04-09-15-03-50-930/function\n",
      "2024-04-09 15:04:11,865 sagemaker.remote_function INFO     Uploading serialized function arguments to s3://sagemaker-eu-west-1-944771376927/genai-for-builders-fmops-pipeline/deploy_finetuned_llama7b_instruction/2024-04-09-15-03-50-930/arguments\n",
      "2024-04-09 15:04:11,931 sagemaker.remote_function INFO     Copied dependencies file at './requirements.txt' to '/tmp/tmps5c2gxxr/requirements.txt'\n",
      "2024-04-09 15:04:11,954 sagemaker.remote_function INFO     Successfully uploaded dependencies and pre execution scripts to 's3://sagemaker-eu-west-1-944771376927/genai-for-builders-fmops-pipeline/deploy_finetuned_llama7b_instruction/2024-04-09-15-03-50-930/pre_exec_script_and_dependencies'\n",
      "WARNING:sagemaker.workflow.utilities:Popping out 'TrainingJobName' from the pipeline definition by default since it will be overridden at pipeline execution time. Please utilize the PipelineDefinitionConfig to persist this field in the pipeline definition if desired.\n"
     ]
    },
    {
     "name": "stdout",
     "output_type": "stream",
     "text": [
      "sagemaker.config INFO - Applied value from config key = SageMaker.PythonSDK.Modules.RemoteFunction.Dependencies\n",
      "sagemaker.config INFO - Applied value from config key = SageMaker.PythonSDK.Modules.RemoteFunction.IncludeLocalWorkDir\n",
      "sagemaker.config INFO - Applied value from config key = SageMaker.PythonSDK.Modules.RemoteFunction.CustomFileFilter.IgnoreNamePatterns\n",
      "sagemaker.config INFO - Applied value from config key = SageMaker.PythonSDK.Modules.RemoteFunction.InstanceType\n"
     ]
    },
    {
     "name": "stderr",
     "output_type": "stream",
     "text": [
      "2024-04-09 15:04:13,688 sagemaker.remote_function INFO     Uploading serialized function code to s3://sagemaker-eu-west-1-944771376927/genai-for-builders-fmops-pipeline/deploy_finetuned_llama7b_domain/2024-04-09-15-03-50-930/function\n",
      "2024-04-09 15:04:13,753 sagemaker.remote_function INFO     Uploading serialized function arguments to s3://sagemaker-eu-west-1-944771376927/genai-for-builders-fmops-pipeline/deploy_finetuned_llama7b_domain/2024-04-09-15-03-50-930/arguments\n",
      "2024-04-09 15:04:13,815 sagemaker.remote_function INFO     Copied dependencies file at './requirements.txt' to '/tmp/tmpxf68fqj5/requirements.txt'\n",
      "2024-04-09 15:04:13,844 sagemaker.remote_function INFO     Successfully uploaded dependencies and pre execution scripts to 's3://sagemaker-eu-west-1-944771376927/genai-for-builders-fmops-pipeline/deploy_finetuned_llama7b_domain/2024-04-09-15-03-50-930/pre_exec_script_and_dependencies'\n",
      "WARNING:sagemaker.workflow.utilities:Popping out 'TrainingJobName' from the pipeline definition by default since it will be overridden at pipeline execution time. Please utilize the PipelineDefinitionConfig to persist this field in the pipeline definition if desired.\n"
     ]
    },
    {
     "name": "stdout",
     "output_type": "stream",
     "text": [
      "sagemaker.config INFO - Applied value from config key = SageMaker.PythonSDK.Modules.RemoteFunction.Dependencies\n",
      "sagemaker.config INFO - Applied value from config key = SageMaker.PythonSDK.Modules.RemoteFunction.IncludeLocalWorkDir\n",
      "sagemaker.config INFO - Applied value from config key = SageMaker.PythonSDK.Modules.RemoteFunction.CustomFileFilter.IgnoreNamePatterns\n",
      "sagemaker.config INFO - Applied value from config key = SageMaker.PythonSDK.Modules.RemoteFunction.InstanceType\n"
     ]
    },
    {
     "name": "stderr",
     "output_type": "stream",
     "text": [
      "2024-04-09 15:04:15,597 sagemaker.remote_function INFO     Uploading serialized function code to s3://sagemaker-eu-west-1-944771376927/genai-for-builders-fmops-pipeline/finetune_llama7b_instruction/2024-04-09-15-03-50-930/function\n",
      "2024-04-09 15:04:15,661 sagemaker.remote_function INFO     Uploading serialized function arguments to s3://sagemaker-eu-west-1-944771376927/genai-for-builders-fmops-pipeline/finetune_llama7b_instruction/2024-04-09-15-03-50-930/arguments\n",
      "2024-04-09 15:04:15,726 sagemaker.remote_function INFO     Copied dependencies file at './requirements.txt' to '/tmp/tmp9gy42u2j/requirements.txt'\n",
      "2024-04-09 15:04:15,755 sagemaker.remote_function INFO     Successfully uploaded dependencies and pre execution scripts to 's3://sagemaker-eu-west-1-944771376927/genai-for-builders-fmops-pipeline/finetune_llama7b_instruction/2024-04-09-15-03-50-930/pre_exec_script_and_dependencies'\n",
      "WARNING:sagemaker.workflow.utilities:Popping out 'TrainingJobName' from the pipeline definition by default since it will be overridden at pipeline execution time. Please utilize the PipelineDefinitionConfig to persist this field in the pipeline definition if desired.\n"
     ]
    },
    {
     "name": "stdout",
     "output_type": "stream",
     "text": [
      "sagemaker.config INFO - Applied value from config key = SageMaker.PythonSDK.Modules.RemoteFunction.Dependencies\n",
      "sagemaker.config INFO - Applied value from config key = SageMaker.PythonSDK.Modules.RemoteFunction.IncludeLocalWorkDir\n",
      "sagemaker.config INFO - Applied value from config key = SageMaker.PythonSDK.Modules.RemoteFunction.CustomFileFilter.IgnoreNamePatterns\n",
      "sagemaker.config INFO - Applied value from config key = SageMaker.PythonSDK.Modules.RemoteFunction.InstanceType\n"
     ]
    },
    {
     "name": "stderr",
     "output_type": "stream",
     "text": [
      "2024-04-09 15:04:17,457 sagemaker.remote_function INFO     Uploading serialized function code to s3://sagemaker-eu-west-1-944771376927/genai-for-builders-fmops-pipeline/finetune_llama7b_domain/2024-04-09-15-03-50-930/function\n",
      "2024-04-09 15:04:17,520 sagemaker.remote_function INFO     Uploading serialized function arguments to s3://sagemaker-eu-west-1-944771376927/genai-for-builders-fmops-pipeline/finetune_llama7b_domain/2024-04-09-15-03-50-930/arguments\n",
      "2024-04-09 15:04:17,591 sagemaker.remote_function INFO     Copied dependencies file at './requirements.txt' to '/tmp/tmpn5ay89qz/requirements.txt'\n",
      "2024-04-09 15:04:17,619 sagemaker.remote_function INFO     Successfully uploaded dependencies and pre execution scripts to 's3://sagemaker-eu-west-1-944771376927/genai-for-builders-fmops-pipeline/finetune_llama7b_domain/2024-04-09-15-03-50-930/pre_exec_script_and_dependencies'\n",
      "WARNING:sagemaker.workflow.utilities:Popping out 'TrainingJobName' from the pipeline definition by default since it will be overridden at pipeline execution time. Please utilize the PipelineDefinitionConfig to persist this field in the pipeline definition if desired.\n",
      "2024-04-09 15:04:18,084 sagemaker.remote_function INFO     Uploading serialized function code to s3://sagemaker-eu-west-1-944771376927/genai-for-builders-fmops-pipeline/cleanup_llama-2-7b/2024-04-09-15-04-18-084/function\n",
      "2024-04-09 15:04:18,143 sagemaker.remote_function INFO     Uploading serialized function arguments to s3://sagemaker-eu-west-1-944771376927/genai-for-builders-fmops-pipeline/cleanup_llama-2-7b/2024-04-09-15-04-18-084/arguments\n",
      "2024-04-09 15:04:18,340 sagemaker.remote_function INFO     Copied dependencies file at './requirements.txt' to '/tmp/tmpbmvh3x06/requirements.txt'\n",
      "2024-04-09 15:04:18,370 sagemaker.remote_function INFO     Successfully uploaded dependencies and pre execution scripts to 's3://sagemaker-eu-west-1-944771376927/genai-for-builders-fmops-pipeline/cleanup_llama-2-7b/2024-04-09-15-04-18-084/pre_exec_script_and_dependencies'\n",
      "2024-04-09 15:04:18,385 sagemaker.remote_function INFO     Copied user workspace to '/tmp/tmpen0vru7e/temp_workspace/sagemaker_remote_function_workspace'\n",
      "2024-04-09 15:04:18,388 sagemaker.remote_function INFO     Successfully created workdir archive at '/tmp/tmpen0vru7e/workspace.zip'\n",
      "2024-04-09 15:04:18,419 sagemaker.remote_function INFO     Successfully uploaded workdir to 's3://sagemaker-eu-west-1-944771376927/genai-for-builders-fmops-pipeline/sm_rf_user_ws/2024-04-09-15-04-18-084/workspace.zip'\n",
      "WARNING:sagemaker.workflow.utilities:Popping out 'TrainingJobName' from the pipeline definition by default since it will be overridden at pipeline execution time. Please utilize the PipelineDefinitionConfig to persist this field in the pipeline definition if desired.\n",
      "2024-04-09 15:04:18,422 sagemaker.remote_function INFO     Uploading serialized function code to s3://sagemaker-eu-west-1-944771376927/genai-for-builders-fmops-pipeline/cleanup_llama-2-7b-instruction-tuned/2024-04-09-15-04-18-084/function\n",
      "2024-04-09 15:04:18,496 sagemaker.remote_function INFO     Uploading serialized function arguments to s3://sagemaker-eu-west-1-944771376927/genai-for-builders-fmops-pipeline/cleanup_llama-2-7b-instruction-tuned/2024-04-09-15-04-18-084/arguments\n",
      "2024-04-09 15:04:18,557 sagemaker.remote_function INFO     Copied dependencies file at './requirements.txt' to '/tmp/tmpwoqqv57g/requirements.txt'\n",
      "2024-04-09 15:04:18,583 sagemaker.remote_function INFO     Successfully uploaded dependencies and pre execution scripts to 's3://sagemaker-eu-west-1-944771376927/genai-for-builders-fmops-pipeline/cleanup_llama-2-7b-instruction-tuned/2024-04-09-15-04-18-084/pre_exec_script_and_dependencies'\n",
      "WARNING:sagemaker.workflow.utilities:Popping out 'TrainingJobName' from the pipeline definition by default since it will be overridden at pipeline execution time. Please utilize the PipelineDefinitionConfig to persist this field in the pipeline definition if desired.\n",
      "2024-04-09 15:04:18,585 sagemaker.remote_function INFO     Uploading serialized function code to s3://sagemaker-eu-west-1-944771376927/genai-for-builders-fmops-pipeline/cleanup_llama-2-7b-chat-domain-tuned/2024-04-09-15-04-18-084/function\n",
      "2024-04-09 15:04:18,639 sagemaker.remote_function INFO     Uploading serialized function arguments to s3://sagemaker-eu-west-1-944771376927/genai-for-builders-fmops-pipeline/cleanup_llama-2-7b-chat-domain-tuned/2024-04-09-15-04-18-084/arguments\n",
      "2024-04-09 15:04:18,700 sagemaker.remote_function INFO     Copied dependencies file at './requirements.txt' to '/tmp/tmp1feej6zg/requirements.txt'\n",
      "2024-04-09 15:04:18,728 sagemaker.remote_function INFO     Successfully uploaded dependencies and pre execution scripts to 's3://sagemaker-eu-west-1-944771376927/genai-for-builders-fmops-pipeline/cleanup_llama-2-7b-chat-domain-tuned/2024-04-09-15-04-18-084/pre_exec_script_and_dependencies'\n",
      "WARNING:sagemaker.workflow.utilities:Popping out 'TrainingJobName' from the pipeline definition by default since it will be overridden at pipeline execution time. Please utilize the PipelineDefinitionConfig to persist this field in the pipeline definition if desired.\n",
      "2024-04-09 15:04:18,730 sagemaker.remote_function INFO     Uploading serialized function code to s3://sagemaker-eu-west-1-944771376927/genai-for-builders-fmops-pipeline/best_model_register/2024-04-09-15-04-18-084/function\n",
      "2024-04-09 15:04:18,785 sagemaker.remote_function INFO     Uploading serialized function arguments to s3://sagemaker-eu-west-1-944771376927/genai-for-builders-fmops-pipeline/best_model_register/2024-04-09-15-04-18-084/arguments\n",
      "2024-04-09 15:04:18,848 sagemaker.remote_function INFO     Copied dependencies file at './requirements.txt' to '/tmp/tmphqcef7ex/requirements.txt'\n",
      "2024-04-09 15:04:18,880 sagemaker.remote_function INFO     Successfully uploaded dependencies and pre execution scripts to 's3://sagemaker-eu-west-1-944771376927/genai-for-builders-fmops-pipeline/best_model_register/2024-04-09-15-04-18-084/pre_exec_script_and_dependencies'\n",
      "WARNING:sagemaker.workflow.utilities:Popping out 'TrainingJobName' from the pipeline definition by default since it will be overridden at pipeline execution time. Please utilize the PipelineDefinitionConfig to persist this field in the pipeline definition if desired.\n",
      "2024-04-09 15:04:18,883 sagemaker.remote_function INFO     Uploading serialized function code to s3://sagemaker-eu-west-1-944771376927/genai-for-builders-fmops-pipeline/best_model_selection/2024-04-09-15-04-18-084/function\n",
      "2024-04-09 15:04:18,979 sagemaker.remote_function INFO     Uploading serialized function arguments to s3://sagemaker-eu-west-1-944771376927/genai-for-builders-fmops-pipeline/best_model_selection/2024-04-09-15-04-18-084/arguments\n",
      "2024-04-09 15:04:19,064 sagemaker.remote_function INFO     Copied dependencies file at './requirements.txt' to '/tmp/tmpggqqr0ih/requirements.txt'\n",
      "2024-04-09 15:04:19,089 sagemaker.remote_function INFO     Successfully uploaded dependencies and pre execution scripts to 's3://sagemaker-eu-west-1-944771376927/genai-for-builders-fmops-pipeline/best_model_selection/2024-04-09-15-04-18-084/pre_exec_script_and_dependencies'\n",
      "WARNING:sagemaker.workflow.utilities:Popping out 'TrainingJobName' from the pipeline definition by default since it will be overridden at pipeline execution time. Please utilize the PipelineDefinitionConfig to persist this field in the pipeline definition if desired.\n",
      "2024-04-09 15:04:19,092 sagemaker.remote_function INFO     Uploading serialized function code to s3://sagemaker-eu-west-1-944771376927/genai-for-builders-fmops-pipeline/evaluate_llama7b/2024-04-09-15-04-18-084/function\n",
      "2024-04-09 15:04:19,150 sagemaker.remote_function INFO     Uploading serialized function arguments to s3://sagemaker-eu-west-1-944771376927/genai-for-builders-fmops-pipeline/evaluate_llama7b/2024-04-09-15-04-18-084/arguments\n",
      "2024-04-09 15:04:19,218 sagemaker.remote_function INFO     Copied dependencies file at './requirements.txt' to '/tmp/tmpvs221gfs/requirements.txt'\n",
      "2024-04-09 15:04:19,242 sagemaker.remote_function INFO     Successfully uploaded dependencies and pre execution scripts to 's3://sagemaker-eu-west-1-944771376927/genai-for-builders-fmops-pipeline/evaluate_llama7b/2024-04-09-15-04-18-084/pre_exec_script_and_dependencies'\n",
      "WARNING:sagemaker.workflow.utilities:Popping out 'TrainingJobName' from the pipeline definition by default since it will be overridden at pipeline execution time. Please utilize the PipelineDefinitionConfig to persist this field in the pipeline definition if desired.\n",
      "2024-04-09 15:04:19,245 sagemaker.remote_function INFO     Uploading serialized function code to s3://sagemaker-eu-west-1-944771376927/genai-for-builders-fmops-pipeline/evaluate_finetuned_llama7b_instr/2024-04-09-15-04-18-084/function\n",
      "2024-04-09 15:04:19,295 sagemaker.remote_function INFO     Uploading serialized function arguments to s3://sagemaker-eu-west-1-944771376927/genai-for-builders-fmops-pipeline/evaluate_finetuned_llama7b_instr/2024-04-09-15-04-18-084/arguments\n",
      "2024-04-09 15:04:19,356 sagemaker.remote_function INFO     Copied dependencies file at './requirements.txt' to '/tmp/tmppojvp0ki/requirements.txt'\n",
      "2024-04-09 15:04:19,398 sagemaker.remote_function INFO     Successfully uploaded dependencies and pre execution scripts to 's3://sagemaker-eu-west-1-944771376927/genai-for-builders-fmops-pipeline/evaluate_finetuned_llama7b_instr/2024-04-09-15-04-18-084/pre_exec_script_and_dependencies'\n",
      "WARNING:sagemaker.workflow.utilities:Popping out 'TrainingJobName' from the pipeline definition by default since it will be overridden at pipeline execution time. Please utilize the PipelineDefinitionConfig to persist this field in the pipeline definition if desired.\n",
      "2024-04-09 15:04:19,401 sagemaker.remote_function INFO     Uploading serialized function code to s3://sagemaker-eu-west-1-944771376927/genai-for-builders-fmops-pipeline/evaluate_finetuned_llama7b_dom/2024-04-09-15-04-18-084/function\n",
      "2024-04-09 15:04:19,470 sagemaker.remote_function INFO     Uploading serialized function arguments to s3://sagemaker-eu-west-1-944771376927/genai-for-builders-fmops-pipeline/evaluate_finetuned_llama7b_dom/2024-04-09-15-04-18-084/arguments\n",
      "2024-04-09 15:04:19,532 sagemaker.remote_function INFO     Copied dependencies file at './requirements.txt' to '/tmp/tmp5nic564r/requirements.txt'\n",
      "2024-04-09 15:04:19,558 sagemaker.remote_function INFO     Successfully uploaded dependencies and pre execution scripts to 's3://sagemaker-eu-west-1-944771376927/genai-for-builders-fmops-pipeline/evaluate_finetuned_llama7b_dom/2024-04-09-15-04-18-084/pre_exec_script_and_dependencies'\n",
      "WARNING:sagemaker.workflow.utilities:Popping out 'TrainingJobName' from the pipeline definition by default since it will be overridden at pipeline execution time. Please utilize the PipelineDefinitionConfig to persist this field in the pipeline definition if desired.\n",
      "2024-04-09 15:04:19,561 sagemaker.remote_function INFO     Uploading serialized function code to s3://sagemaker-eu-west-1-944771376927/genai-for-builders-fmops-pipeline/preprocess/2024-04-09-15-04-18-084/function\n",
      "2024-04-09 15:04:19,615 sagemaker.remote_function INFO     Uploading serialized function arguments to s3://sagemaker-eu-west-1-944771376927/genai-for-builders-fmops-pipeline/preprocess/2024-04-09-15-04-18-084/arguments\n",
      "2024-04-09 15:04:19,702 sagemaker.remote_function INFO     Copied dependencies file at './requirements.txt' to '/tmp/tmpmuqs9_6c/requirements.txt'\n",
      "2024-04-09 15:04:19,728 sagemaker.remote_function INFO     Successfully uploaded dependencies and pre execution scripts to 's3://sagemaker-eu-west-1-944771376927/genai-for-builders-fmops-pipeline/preprocess/2024-04-09-15-04-18-084/pre_exec_script_and_dependencies'\n",
      "WARNING:sagemaker.workflow.utilities:Popping out 'TrainingJobName' from the pipeline definition by default since it will be overridden at pipeline execution time. Please utilize the PipelineDefinitionConfig to persist this field in the pipeline definition if desired.\n",
      "2024-04-09 15:04:19,730 sagemaker.remote_function INFO     Uploading serialized function code to s3://sagemaker-eu-west-1-944771376927/genai-for-builders-fmops-pipeline/deploy_llama7b/2024-04-09-15-04-18-084/function\n",
      "2024-04-09 15:04:19,795 sagemaker.remote_function INFO     Uploading serialized function arguments to s3://sagemaker-eu-west-1-944771376927/genai-for-builders-fmops-pipeline/deploy_llama7b/2024-04-09-15-04-18-084/arguments\n",
      "2024-04-09 15:04:19,851 sagemaker.remote_function INFO     Copied dependencies file at './requirements.txt' to '/tmp/tmpb_ao5v7d/requirements.txt'\n",
      "2024-04-09 15:04:19,875 sagemaker.remote_function INFO     Successfully uploaded dependencies and pre execution scripts to 's3://sagemaker-eu-west-1-944771376927/genai-for-builders-fmops-pipeline/deploy_llama7b/2024-04-09-15-04-18-084/pre_exec_script_and_dependencies'\n",
      "WARNING:sagemaker.workflow.utilities:Popping out 'TrainingJobName' from the pipeline definition by default since it will be overridden at pipeline execution time. Please utilize the PipelineDefinitionConfig to persist this field in the pipeline definition if desired.\n",
      "2024-04-09 15:04:19,878 sagemaker.remote_function INFO     Uploading serialized function code to s3://sagemaker-eu-west-1-944771376927/genai-for-builders-fmops-pipeline/deploy_finetuned_llama7b_instruction/2024-04-09-15-04-18-084/function\n",
      "2024-04-09 15:04:19,936 sagemaker.remote_function INFO     Uploading serialized function arguments to s3://sagemaker-eu-west-1-944771376927/genai-for-builders-fmops-pipeline/deploy_finetuned_llama7b_instruction/2024-04-09-15-04-18-084/arguments\n",
      "2024-04-09 15:04:19,997 sagemaker.remote_function INFO     Copied dependencies file at './requirements.txt' to '/tmp/tmpgmnj3o8x/requirements.txt'\n",
      "2024-04-09 15:04:20,023 sagemaker.remote_function INFO     Successfully uploaded dependencies and pre execution scripts to 's3://sagemaker-eu-west-1-944771376927/genai-for-builders-fmops-pipeline/deploy_finetuned_llama7b_instruction/2024-04-09-15-04-18-084/pre_exec_script_and_dependencies'\n",
      "WARNING:sagemaker.workflow.utilities:Popping out 'TrainingJobName' from the pipeline definition by default since it will be overridden at pipeline execution time. Please utilize the PipelineDefinitionConfig to persist this field in the pipeline definition if desired.\n",
      "2024-04-09 15:04:20,026 sagemaker.remote_function INFO     Uploading serialized function code to s3://sagemaker-eu-west-1-944771376927/genai-for-builders-fmops-pipeline/deploy_finetuned_llama7b_domain/2024-04-09-15-04-18-084/function\n",
      "2024-04-09 15:04:20,090 sagemaker.remote_function INFO     Uploading serialized function arguments to s3://sagemaker-eu-west-1-944771376927/genai-for-builders-fmops-pipeline/deploy_finetuned_llama7b_domain/2024-04-09-15-04-18-084/arguments\n",
      "2024-04-09 15:04:20,149 sagemaker.remote_function INFO     Copied dependencies file at './requirements.txt' to '/tmp/tmpop3xl57b/requirements.txt'\n",
      "2024-04-09 15:04:20,173 sagemaker.remote_function INFO     Successfully uploaded dependencies and pre execution scripts to 's3://sagemaker-eu-west-1-944771376927/genai-for-builders-fmops-pipeline/deploy_finetuned_llama7b_domain/2024-04-09-15-04-18-084/pre_exec_script_and_dependencies'\n",
      "WARNING:sagemaker.workflow.utilities:Popping out 'TrainingJobName' from the pipeline definition by default since it will be overridden at pipeline execution time. Please utilize the PipelineDefinitionConfig to persist this field in the pipeline definition if desired.\n",
      "2024-04-09 15:04:20,176 sagemaker.remote_function INFO     Uploading serialized function code to s3://sagemaker-eu-west-1-944771376927/genai-for-builders-fmops-pipeline/finetune_llama7b_instruction/2024-04-09-15-04-18-084/function\n",
      "2024-04-09 15:04:20,236 sagemaker.remote_function INFO     Uploading serialized function arguments to s3://sagemaker-eu-west-1-944771376927/genai-for-builders-fmops-pipeline/finetune_llama7b_instruction/2024-04-09-15-04-18-084/arguments\n",
      "2024-04-09 15:04:20,306 sagemaker.remote_function INFO     Copied dependencies file at './requirements.txt' to '/tmp/tmpmbkk6zdl/requirements.txt'\n",
      "2024-04-09 15:04:20,332 sagemaker.remote_function INFO     Successfully uploaded dependencies and pre execution scripts to 's3://sagemaker-eu-west-1-944771376927/genai-for-builders-fmops-pipeline/finetune_llama7b_instruction/2024-04-09-15-04-18-084/pre_exec_script_and_dependencies'\n",
      "WARNING:sagemaker.workflow.utilities:Popping out 'TrainingJobName' from the pipeline definition by default since it will be overridden at pipeline execution time. Please utilize the PipelineDefinitionConfig to persist this field in the pipeline definition if desired.\n",
      "2024-04-09 15:04:20,335 sagemaker.remote_function INFO     Uploading serialized function code to s3://sagemaker-eu-west-1-944771376927/genai-for-builders-fmops-pipeline/finetune_llama7b_domain/2024-04-09-15-04-18-084/function\n",
      "2024-04-09 15:04:20,392 sagemaker.remote_function INFO     Uploading serialized function arguments to s3://sagemaker-eu-west-1-944771376927/genai-for-builders-fmops-pipeline/finetune_llama7b_domain/2024-04-09-15-04-18-084/arguments\n",
      "2024-04-09 15:04:20,460 sagemaker.remote_function INFO     Copied dependencies file at './requirements.txt' to '/tmp/tmpgkeicku4/requirements.txt'\n",
      "2024-04-09 15:04:20,484 sagemaker.remote_function INFO     Successfully uploaded dependencies and pre execution scripts to 's3://sagemaker-eu-west-1-944771376927/genai-for-builders-fmops-pipeline/finetune_llama7b_domain/2024-04-09-15-04-18-084/pre_exec_script_and_dependencies'\n",
      "WARNING:sagemaker.workflow.utilities:Popping out 'TrainingJobName' from the pipeline definition by default since it will be overridden at pipeline execution time. Please utilize the PipelineDefinitionConfig to persist this field in the pipeline definition if desired.\n"
     ]
    },
    {
     "data": {
      "text/plain": [
       "_PipelineExecution(arn='arn:aws:sagemaker:eu-west-1:944771376927:pipeline/genai-for-builders-fmops-pipeline/execution/yuajbabma35v', sagemaker_session=<sagemaker.session.Session object at 0x7f626f87b910>)"
      ]
     },
     "execution_count": 42,
     "metadata": {},
     "output_type": "execute_result"
    }
   ],
   "source": [
    "from sagemaker import get_execution_role\n",
    "role = get_execution_role()\n",
    "\n",
    "pipeline = Pipeline(name=pipeline_name, steps=cleanup_ret_list)\n",
    "pipeline.upsert(role)\n",
    "pipeline.start()"
   ]
  }
 ],
 "metadata": {
  "availableInstances": [
   {
    "_defaultOrder": 0,
    "_isFastLaunch": true,
    "category": "General purpose",
    "gpuNum": 0,
    "hideHardwareSpecs": false,
    "memoryGiB": 4,
    "name": "ml.t3.medium",
    "vcpuNum": 2
   },
   {
    "_defaultOrder": 1,
    "_isFastLaunch": false,
    "category": "General purpose",
    "gpuNum": 0,
    "hideHardwareSpecs": false,
    "memoryGiB": 8,
    "name": "ml.t3.large",
    "vcpuNum": 2
   },
   {
    "_defaultOrder": 2,
    "_isFastLaunch": false,
    "category": "General purpose",
    "gpuNum": 0,
    "hideHardwareSpecs": false,
    "memoryGiB": 16,
    "name": "ml.t3.xlarge",
    "vcpuNum": 4
   },
   {
    "_defaultOrder": 3,
    "_isFastLaunch": false,
    "category": "General purpose",
    "gpuNum": 0,
    "hideHardwareSpecs": false,
    "memoryGiB": 32,
    "name": "ml.t3.2xlarge",
    "vcpuNum": 8
   },
   {
    "_defaultOrder": 4,
    "_isFastLaunch": true,
    "category": "General purpose",
    "gpuNum": 0,
    "hideHardwareSpecs": false,
    "memoryGiB": 8,
    "name": "ml.m5.large",
    "vcpuNum": 2
   },
   {
    "_defaultOrder": 5,
    "_isFastLaunch": false,
    "category": "General purpose",
    "gpuNum": 0,
    "hideHardwareSpecs": false,
    "memoryGiB": 16,
    "name": "ml.m5.xlarge",
    "vcpuNum": 4
   },
   {
    "_defaultOrder": 6,
    "_isFastLaunch": false,
    "category": "General purpose",
    "gpuNum": 0,
    "hideHardwareSpecs": false,
    "memoryGiB": 32,
    "name": "ml.m5.2xlarge",
    "vcpuNum": 8
   },
   {
    "_defaultOrder": 7,
    "_isFastLaunch": false,
    "category": "General purpose",
    "gpuNum": 0,
    "hideHardwareSpecs": false,
    "memoryGiB": 64,
    "name": "ml.m5.4xlarge",
    "vcpuNum": 16
   },
   {
    "_defaultOrder": 8,
    "_isFastLaunch": false,
    "category": "General purpose",
    "gpuNum": 0,
    "hideHardwareSpecs": false,
    "memoryGiB": 128,
    "name": "ml.m5.8xlarge",
    "vcpuNum": 32
   },
   {
    "_defaultOrder": 9,
    "_isFastLaunch": false,
    "category": "General purpose",
    "gpuNum": 0,
    "hideHardwareSpecs": false,
    "memoryGiB": 192,
    "name": "ml.m5.12xlarge",
    "vcpuNum": 48
   },
   {
    "_defaultOrder": 10,
    "_isFastLaunch": false,
    "category": "General purpose",
    "gpuNum": 0,
    "hideHardwareSpecs": false,
    "memoryGiB": 256,
    "name": "ml.m5.16xlarge",
    "vcpuNum": 64
   },
   {
    "_defaultOrder": 11,
    "_isFastLaunch": false,
    "category": "General purpose",
    "gpuNum": 0,
    "hideHardwareSpecs": false,
    "memoryGiB": 384,
    "name": "ml.m5.24xlarge",
    "vcpuNum": 96
   },
   {
    "_defaultOrder": 12,
    "_isFastLaunch": false,
    "category": "General purpose",
    "gpuNum": 0,
    "hideHardwareSpecs": false,
    "memoryGiB": 8,
    "name": "ml.m5d.large",
    "vcpuNum": 2
   },
   {
    "_defaultOrder": 13,
    "_isFastLaunch": false,
    "category": "General purpose",
    "gpuNum": 0,
    "hideHardwareSpecs": false,
    "memoryGiB": 16,
    "name": "ml.m5d.xlarge",
    "vcpuNum": 4
   },
   {
    "_defaultOrder": 14,
    "_isFastLaunch": false,
    "category": "General purpose",
    "gpuNum": 0,
    "hideHardwareSpecs": false,
    "memoryGiB": 32,
    "name": "ml.m5d.2xlarge",
    "vcpuNum": 8
   },
   {
    "_defaultOrder": 15,
    "_isFastLaunch": false,
    "category": "General purpose",
    "gpuNum": 0,
    "hideHardwareSpecs": false,
    "memoryGiB": 64,
    "name": "ml.m5d.4xlarge",
    "vcpuNum": 16
   },
   {
    "_defaultOrder": 16,
    "_isFastLaunch": false,
    "category": "General purpose",
    "gpuNum": 0,
    "hideHardwareSpecs": false,
    "memoryGiB": 128,
    "name": "ml.m5d.8xlarge",
    "vcpuNum": 32
   },
   {
    "_defaultOrder": 17,
    "_isFastLaunch": false,
    "category": "General purpose",
    "gpuNum": 0,
    "hideHardwareSpecs": false,
    "memoryGiB": 192,
    "name": "ml.m5d.12xlarge",
    "vcpuNum": 48
   },
   {
    "_defaultOrder": 18,
    "_isFastLaunch": false,
    "category": "General purpose",
    "gpuNum": 0,
    "hideHardwareSpecs": false,
    "memoryGiB": 256,
    "name": "ml.m5d.16xlarge",
    "vcpuNum": 64
   },
   {
    "_defaultOrder": 19,
    "_isFastLaunch": false,
    "category": "General purpose",
    "gpuNum": 0,
    "hideHardwareSpecs": false,
    "memoryGiB": 384,
    "name": "ml.m5d.24xlarge",
    "vcpuNum": 96
   },
   {
    "_defaultOrder": 20,
    "_isFastLaunch": false,
    "category": "General purpose",
    "gpuNum": 0,
    "hideHardwareSpecs": true,
    "memoryGiB": 0,
    "name": "ml.geospatial.interactive",
    "supportedImageNames": [
     "sagemaker-geospatial-v1-0"
    ],
    "vcpuNum": 0
   },
   {
    "_defaultOrder": 21,
    "_isFastLaunch": true,
    "category": "Compute optimized",
    "gpuNum": 0,
    "hideHardwareSpecs": false,
    "memoryGiB": 4,
    "name": "ml.c5.large",
    "vcpuNum": 2
   },
   {
    "_defaultOrder": 22,
    "_isFastLaunch": false,
    "category": "Compute optimized",
    "gpuNum": 0,
    "hideHardwareSpecs": false,
    "memoryGiB": 8,
    "name": "ml.c5.xlarge",
    "vcpuNum": 4
   },
   {
    "_defaultOrder": 23,
    "_isFastLaunch": false,
    "category": "Compute optimized",
    "gpuNum": 0,
    "hideHardwareSpecs": false,
    "memoryGiB": 16,
    "name": "ml.c5.2xlarge",
    "vcpuNum": 8
   },
   {
    "_defaultOrder": 24,
    "_isFastLaunch": false,
    "category": "Compute optimized",
    "gpuNum": 0,
    "hideHardwareSpecs": false,
    "memoryGiB": 32,
    "name": "ml.c5.4xlarge",
    "vcpuNum": 16
   },
   {
    "_defaultOrder": 25,
    "_isFastLaunch": false,
    "category": "Compute optimized",
    "gpuNum": 0,
    "hideHardwareSpecs": false,
    "memoryGiB": 72,
    "name": "ml.c5.9xlarge",
    "vcpuNum": 36
   },
   {
    "_defaultOrder": 26,
    "_isFastLaunch": false,
    "category": "Compute optimized",
    "gpuNum": 0,
    "hideHardwareSpecs": false,
    "memoryGiB": 96,
    "name": "ml.c5.12xlarge",
    "vcpuNum": 48
   },
   {
    "_defaultOrder": 27,
    "_isFastLaunch": false,
    "category": "Compute optimized",
    "gpuNum": 0,
    "hideHardwareSpecs": false,
    "memoryGiB": 144,
    "name": "ml.c5.18xlarge",
    "vcpuNum": 72
   },
   {
    "_defaultOrder": 28,
    "_isFastLaunch": false,
    "category": "Compute optimized",
    "gpuNum": 0,
    "hideHardwareSpecs": false,
    "memoryGiB": 192,
    "name": "ml.c5.24xlarge",
    "vcpuNum": 96
   },
   {
    "_defaultOrder": 29,
    "_isFastLaunch": true,
    "category": "Accelerated computing",
    "gpuNum": 1,
    "hideHardwareSpecs": false,
    "memoryGiB": 16,
    "name": "ml.g4dn.xlarge",
    "vcpuNum": 4
   },
   {
    "_defaultOrder": 30,
    "_isFastLaunch": false,
    "category": "Accelerated computing",
    "gpuNum": 1,
    "hideHardwareSpecs": false,
    "memoryGiB": 32,
    "name": "ml.g4dn.2xlarge",
    "vcpuNum": 8
   },
   {
    "_defaultOrder": 31,
    "_isFastLaunch": false,
    "category": "Accelerated computing",
    "gpuNum": 1,
    "hideHardwareSpecs": false,
    "memoryGiB": 64,
    "name": "ml.g4dn.4xlarge",
    "vcpuNum": 16
   },
   {
    "_defaultOrder": 32,
    "_isFastLaunch": false,
    "category": "Accelerated computing",
    "gpuNum": 1,
    "hideHardwareSpecs": false,
    "memoryGiB": 128,
    "name": "ml.g4dn.8xlarge",
    "vcpuNum": 32
   },
   {
    "_defaultOrder": 33,
    "_isFastLaunch": false,
    "category": "Accelerated computing",
    "gpuNum": 4,
    "hideHardwareSpecs": false,
    "memoryGiB": 192,
    "name": "ml.g4dn.12xlarge",
    "vcpuNum": 48
   },
   {
    "_defaultOrder": 34,
    "_isFastLaunch": false,
    "category": "Accelerated computing",
    "gpuNum": 1,
    "hideHardwareSpecs": false,
    "memoryGiB": 256,
    "name": "ml.g4dn.16xlarge",
    "vcpuNum": 64
   },
   {
    "_defaultOrder": 35,
    "_isFastLaunch": false,
    "category": "Accelerated computing",
    "gpuNum": 1,
    "hideHardwareSpecs": false,
    "memoryGiB": 61,
    "name": "ml.p3.2xlarge",
    "vcpuNum": 8
   },
   {
    "_defaultOrder": 36,
    "_isFastLaunch": false,
    "category": "Accelerated computing",
    "gpuNum": 4,
    "hideHardwareSpecs": false,
    "memoryGiB": 244,
    "name": "ml.p3.8xlarge",
    "vcpuNum": 32
   },
   {
    "_defaultOrder": 37,
    "_isFastLaunch": false,
    "category": "Accelerated computing",
    "gpuNum": 8,
    "hideHardwareSpecs": false,
    "memoryGiB": 488,
    "name": "ml.p3.16xlarge",
    "vcpuNum": 64
   },
   {
    "_defaultOrder": 38,
    "_isFastLaunch": false,
    "category": "Accelerated computing",
    "gpuNum": 8,
    "hideHardwareSpecs": false,
    "memoryGiB": 768,
    "name": "ml.p3dn.24xlarge",
    "vcpuNum": 96
   },
   {
    "_defaultOrder": 39,
    "_isFastLaunch": false,
    "category": "Memory Optimized",
    "gpuNum": 0,
    "hideHardwareSpecs": false,
    "memoryGiB": 16,
    "name": "ml.r5.large",
    "vcpuNum": 2
   },
   {
    "_defaultOrder": 40,
    "_isFastLaunch": false,
    "category": "Memory Optimized",
    "gpuNum": 0,
    "hideHardwareSpecs": false,
    "memoryGiB": 32,
    "name": "ml.r5.xlarge",
    "vcpuNum": 4
   },
   {
    "_defaultOrder": 41,
    "_isFastLaunch": false,
    "category": "Memory Optimized",
    "gpuNum": 0,
    "hideHardwareSpecs": false,
    "memoryGiB": 64,
    "name": "ml.r5.2xlarge",
    "vcpuNum": 8
   },
   {
    "_defaultOrder": 42,
    "_isFastLaunch": false,
    "category": "Memory Optimized",
    "gpuNum": 0,
    "hideHardwareSpecs": false,
    "memoryGiB": 128,
    "name": "ml.r5.4xlarge",
    "vcpuNum": 16
   },
   {
    "_defaultOrder": 43,
    "_isFastLaunch": false,
    "category": "Memory Optimized",
    "gpuNum": 0,
    "hideHardwareSpecs": false,
    "memoryGiB": 256,
    "name": "ml.r5.8xlarge",
    "vcpuNum": 32
   },
   {
    "_defaultOrder": 44,
    "_isFastLaunch": false,
    "category": "Memory Optimized",
    "gpuNum": 0,
    "hideHardwareSpecs": false,
    "memoryGiB": 384,
    "name": "ml.r5.12xlarge",
    "vcpuNum": 48
   },
   {
    "_defaultOrder": 45,
    "_isFastLaunch": false,
    "category": "Memory Optimized",
    "gpuNum": 0,
    "hideHardwareSpecs": false,
    "memoryGiB": 512,
    "name": "ml.r5.16xlarge",
    "vcpuNum": 64
   },
   {
    "_defaultOrder": 46,
    "_isFastLaunch": false,
    "category": "Memory Optimized",
    "gpuNum": 0,
    "hideHardwareSpecs": false,
    "memoryGiB": 768,
    "name": "ml.r5.24xlarge",
    "vcpuNum": 96
   },
   {
    "_defaultOrder": 47,
    "_isFastLaunch": false,
    "category": "Accelerated computing",
    "gpuNum": 1,
    "hideHardwareSpecs": false,
    "memoryGiB": 16,
    "name": "ml.g5.xlarge",
    "vcpuNum": 4
   },
   {
    "_defaultOrder": 48,
    "_isFastLaunch": false,
    "category": "Accelerated computing",
    "gpuNum": 1,
    "hideHardwareSpecs": false,
    "memoryGiB": 32,
    "name": "ml.g5.2xlarge",
    "vcpuNum": 8
   },
   {
    "_defaultOrder": 49,
    "_isFastLaunch": false,
    "category": "Accelerated computing",
    "gpuNum": 1,
    "hideHardwareSpecs": false,
    "memoryGiB": 64,
    "name": "ml.g5.4xlarge",
    "vcpuNum": 16
   },
   {
    "_defaultOrder": 50,
    "_isFastLaunch": false,
    "category": "Accelerated computing",
    "gpuNum": 1,
    "hideHardwareSpecs": false,
    "memoryGiB": 128,
    "name": "ml.g5.8xlarge",
    "vcpuNum": 32
   },
   {
    "_defaultOrder": 51,
    "_isFastLaunch": false,
    "category": "Accelerated computing",
    "gpuNum": 1,
    "hideHardwareSpecs": false,
    "memoryGiB": 256,
    "name": "ml.g5.16xlarge",
    "vcpuNum": 64
   },
   {
    "_defaultOrder": 52,
    "_isFastLaunch": false,
    "category": "Accelerated computing",
    "gpuNum": 4,
    "hideHardwareSpecs": false,
    "memoryGiB": 192,
    "name": "ml.g5.12xlarge",
    "vcpuNum": 48
   },
   {
    "_defaultOrder": 53,
    "_isFastLaunch": false,
    "category": "Accelerated computing",
    "gpuNum": 4,
    "hideHardwareSpecs": false,
    "memoryGiB": 384,
    "name": "ml.g5.24xlarge",
    "vcpuNum": 96
   },
   {
    "_defaultOrder": 54,
    "_isFastLaunch": false,
    "category": "Accelerated computing",
    "gpuNum": 8,
    "hideHardwareSpecs": false,
    "memoryGiB": 768,
    "name": "ml.g5.48xlarge",
    "vcpuNum": 192
   },
   {
    "_defaultOrder": 55,
    "_isFastLaunch": false,
    "category": "Accelerated computing",
    "gpuNum": 8,
    "hideHardwareSpecs": false,
    "memoryGiB": 1152,
    "name": "ml.p4d.24xlarge",
    "vcpuNum": 96
   },
   {
    "_defaultOrder": 56,
    "_isFastLaunch": false,
    "category": "Accelerated computing",
    "gpuNum": 8,
    "hideHardwareSpecs": false,
    "memoryGiB": 1152,
    "name": "ml.p4de.24xlarge",
    "vcpuNum": 96
   },
   {
    "_defaultOrder": 57,
    "_isFastLaunch": false,
    "category": "Accelerated computing",
    "gpuNum": 0,
    "hideHardwareSpecs": false,
    "memoryGiB": 32,
    "name": "ml.trn1.2xlarge",
    "vcpuNum": 8
   },
   {
    "_defaultOrder": 58,
    "_isFastLaunch": false,
    "category": "Accelerated computing",
    "gpuNum": 0,
    "hideHardwareSpecs": false,
    "memoryGiB": 512,
    "name": "ml.trn1.32xlarge",
    "vcpuNum": 128
   },
   {
    "_defaultOrder": 59,
    "_isFastLaunch": false,
    "category": "Accelerated computing",
    "gpuNum": 0,
    "hideHardwareSpecs": false,
    "memoryGiB": 512,
    "name": "ml.trn1n.32xlarge",
    "vcpuNum": 128
   }
  ],
  "instance_type": "ml.t3.medium",
  "kernelspec": {
   "display_name": "Python 3 (ipykernel)",
   "language": "python",
   "name": "python3"
  },
  "language_info": {
   "codemirror_mode": {
    "name": "ipython",
    "version": 3
   },
   "file_extension": ".py",
   "mimetype": "text/x-python",
   "name": "python",
   "nbconvert_exporter": "python",
   "pygments_lexer": "ipython3",
   "version": "3.10.13"
  }
 },
 "nbformat": 4,
 "nbformat_minor": 5
}
