{
 "cells": [
  {
   "cell_type": "markdown",
   "id": "1bd4cbe6-a20b-457f-a019-aae403938c0c",
   "metadata": {
    "tags": []
   },
   "source": [
    "# Journey 5: Orchestrate with MLOps\n",
    "This journey is about automating Journey 1-4 with MLOps and corresponds to JTBD of MLOps orchestration in Pillar 2. Thus, we automate multi-model evaluation, fine-tuning, selection, versioning/registration, and deployment.\n",
    "This notebook is using different Amazon SageMaker components:\n",
    "\n",
    "### SageMaker Pipelines\n",
    "\n",
    "[SageMaker Pipelines](https://aws.amazon.com/sagemaker/pipelines/) is a purpose-built workflow orchestration service to automate all phases of machine learning (ML) from data pre-processing to model monitoring. With an intuitive UI and Python SDK you can manage repeatable end-to-end ML pipelines at scale. The native integration with multiple AWS services allows you to customize the ML lifecycle based on your MLOps requirements.\n",
    "SageMaker Model Registry\n",
    "\n",
    "### Amazon SageMaker Model Registry \n",
    "\n",
    "[Amazon SageMaker Model Registry](https://docs.aws.amazon.com/sagemaker/latest/dg/model-registry.html) is a purpose-built metadata store to manage the entire lifecycle of ML models from training to inference. Whether you prefer to store your model artifacts (model framework files, container image) in AWS (Amazon ECR) or outside of AWS in any third party Docker repository, you can now track them all in Amazon SageMaker Model Registry. You also have the flexibility to register a model without read/write permissions to the associated container image. If you want to track an ML model in a private repository, set the optional ‘SkipModelValidation’ parameter to ‘All’ at the time of registration. Later you can also deploy these models for inference in Amazon SageMaker.\n",
    "\n",
    "### Amazon SageMaker Clarify\n",
    "\n",
    "[Amazon SageMaker Clarify](https://aws.amazon.com/sagemaker/clarify/) provides purpose-built tools to gain greater insights into your ML models and data, based on metrics such as accuracy, robustness, toxicity, and bias to improve model quality and support responsible AI initiative. With the rise of generative AI, data scientists and ML engineers can leverage publicly available foundation models (FMs) to accelerate speed-to-market. To remove the heavy lifting of evaluating and selecting the right FM for your use case, Amazon SageMaker Clarify supports FM evaluation to help you quickly evaluate, compare, and select the best FM for your use case based on a variety of criteria across different tasks within minutes. It allows you to adopt FMs faster and with confidence.\n",
    "To perform evaluation we are using the open source library [FMEval](https://github.com/aws/fmeval) that empowers SageMaker Clarify FM model evaluation.\n",
    "\n",
    "## FM evaluation at scale\n",
    "This example is build following the best practices explained in the blog post [Operationalize LLM Evaluation at Scale using Amazon SageMaker Clarify and MLOps services](https://aws.amazon.com/blogs/machine-learning/operationalize-llm-evaluation-at-scale-using-amazon-sagemaker-clarify-and-mlops-services/). \n",
    "\n",
    "\n"
   ]
  },
  {
   "cell_type": "markdown",
   "id": "342165dc-1709-456a-ad8f-ec7a5a6e2c05",
   "metadata": {
    "tags": []
   },
   "source": [
    "### Install dependencies and import required libraries"
   ]
  },
  {
   "cell_type": "code",
   "execution_count": 1,
   "id": "971e8e6ca28a3752",
   "metadata": {
    "collapsed": false,
    "jupyter": {
     "outputs_hidden": false
    },
    "tags": []
   },
   "outputs": [],
   "source": [
    "#!pip3 install fmeval==0.3.0 --upgrade-strategy only-if-needed --force-reinstall"
   ]
  },
  {
   "cell_type": "code",
   "execution_count": 2,
   "id": "76487ff0709f4921",
   "metadata": {
    "collapsed": false,
    "jupyter": {
     "outputs_hidden": false
    },
    "tags": []
   },
   "outputs": [
    {
     "name": "stdout",
     "output_type": "stream",
     "text": [
      "sagemaker.config INFO - Not applying SDK defaults from location: /etc/xdg/sagemaker/config.yaml\n",
      "sagemaker.config INFO - Not applying SDK defaults from location: /root/.config/sagemaker/config.yaml\n"
     ]
    },
    {
     "name": "stderr",
     "output_type": "stream",
     "text": [
      "2024-01-19 09:59:24,771\tINFO util.py:159 -- Outdated packages:\n",
      "  ipywidgets==7.6.5 found, needs ipywidgets>=8\n",
      "Run `pip install -U ipywidgets`, then restart the notebook server for rich notebook output.\n",
      "2024-01-19 09:59:24,917\tINFO util.py:159 -- Outdated packages:\n",
      "  ipywidgets==7.6.5 found, needs ipywidgets>=8\n",
      "Run `pip install -U ipywidgets`, then restart the notebook server for rich notebook output.\n",
      "INFO:datasets:PyTorch version 2.1.2 available.\n"
     ]
    }
   ],
   "source": [
    "import sagemaker\n",
    "from sagemaker.workflow.pipeline import Pipeline\n",
    "from sagemaker.workflow.function_step import step\n",
    "from steps.deploy_llama7b import deploy_llama7b\n",
    "from steps.finetune_llama7b import finetune_llama7b\n",
    "from steps.deploy_finetuned_llama7b import deploy_finetuned_llama7b\n",
    "from steps.selection import selection\n",
    "from steps.preprocess import preprocess\n",
    "from steps.evaluation import evaluation\n",
    "from steps.register import register\n",
    "from steps.cleanup import cleanup\n",
    "import os"
   ]
  },
  {
   "cell_type": "markdown",
   "id": "4b4d5f58-65e2-4d01-8303-8a2d420e09bf",
   "metadata": {},
   "source": [
    "### Setup source folders and create pipeline preprocess step"
   ]
  },
  {
   "cell_type": "code",
   "execution_count": 4,
   "id": "4538466bfbdc3e26",
   "metadata": {
    "collapsed": false,
    "jupyter": {
     "outputs_hidden": false
    },
    "tags": []
   },
   "outputs": [
    {
     "name": "stdout",
     "output_type": "stream",
     "text": [
      "sagemaker.config INFO - Fetched defaults config from location: /root/Journey5\n"
     ]
    }
   ],
   "source": [
    "os.environ[\"SAGEMAKER_USER_CONFIG_OVERRIDE\"] = os.getcwd()\n",
    "\n",
    "pipeline_name = \"genai-for-builders-fmops-pipeline\"\n",
    "default_bucket = sagemaker.Session().default_bucket()\n",
    "main_data_path = f\"s3://{default_bucket}/llm-evaluation-at-scale-example\"\n",
    "evaluation_data_path= main_data_path + \"/evaluation_dataset_trivia.jsonl\"\n",
    "output_data_path = (main_data_path + \"/output_\" + pipeline_name)\n",
    "\n",
    "# You can add your own evaluation dataset code into this step\n",
    "preprocess_step_ret = step(preprocess, name=\"preprocess\")(evaluation_data_path, output_data_path)\n",
    "\n",
    "evaluation_results_ret_list = []\n",
    "model_list = []"
   ]
  },
  {
   "cell_type": "markdown",
   "id": "6bd50b41df5a91de",
   "metadata": {},
   "source": [
    "### Setup first model: LLama-2-7b from SageMaker Jumpstart"
   ]
  },
  {
   "cell_type": "code",
   "execution_count": 5,
   "id": "c0838a5d8ab07589",
   "metadata": {
    "collapsed": false,
    "jupyter": {
     "outputs_hidden": false
    },
    "tags": []
   },
   "outputs": [],
   "source": [
    "# We setup required model parameters\n",
    "model_1 = {\"model_id\": \"meta-textgeneration-llama-2-7b\",\n",
    "           \"model_version\": \"*\",\n",
    "           \"model_name\": \"llama-2-7b\",\n",
    "           \"endpoint_name\": \"genai-for-builders-fmops-meta-textgeneration-llama-2-7b\",\n",
    "           \"instance_type\": \"ml.g5.2xlarge\",\n",
    "           \"num_instances\": 1}\n",
    "\n",
    "# We save the information of the model in the model_list array for later use\n",
    "model_list.append(model_1)"
   ]
  },
  {
   "cell_type": "markdown",
   "id": "4a7ec385385fae3",
   "metadata": {},
   "source": [
    "### Configure deploy and evaluation pipeline step for the first model"
   ]
  },
  {
   "cell_type": "code",
   "execution_count": 6,
   "id": "d1f73ce22a54ef8f",
   "metadata": {
    "collapsed": false,
    "jupyter": {
     "outputs_hidden": false
    },
    "tags": []
   },
   "outputs": [],
   "source": [
    "deploy_llama7b_ret = step(deploy_llama7b, name=\"deploy_llama7b\")(model_1[\"model_id\"],\n",
    "                                                                 model_1[\"model_version\"],\n",
    "                                                                 model_1[\"endpoint_name\"],\n",
    "                                                                 model_1[\"instance_type\"],\n",
    "                                                                 model_1[\"num_instances\"])\n",
    "\n",
    "# Evaluation step is using the output from preprocess (the S3 location of the evaluation dataset file) \n",
    "# and the output of the deploy step (the endpoint name)\n",
    "evaluate_llama7b_ret = step(evaluation,\n",
    "                    name=\"evaluate_llama7b\",\n",
    "                    keep_alive_period_in_seconds=1200\n",
    "                    )(model_1[\"model_id\"],\n",
    "                      model_1[\"model_version\"],\n",
    "                      model_1[\"model_name\"],\n",
    "                      preprocess_step_ret,\n",
    "                      deploy_llama7b_ret)\n",
    "\n",
    "# We save the evaluation output details in the evaluation_results_ret_list array for later use\n",
    "evaluation_results_ret_list.append(evaluate_llama7b_ret)"
   ]
  },
  {
   "cell_type": "markdown",
   "id": "5ff5ba2f26142490",
   "metadata": {},
   "source": [
    "### Setup second model: LLama-2-7b from SageMaker Jumpstart, instruction finetuned"
   ]
  },
  {
   "cell_type": "code",
   "execution_count": 7,
   "id": "464f2b32af0481d0",
   "metadata": {
    "collapsed": false,
    "jupyter": {
     "outputs_hidden": false
    },
    "tags": []
   },
   "outputs": [],
   "source": [
    "# We setup required model parameters\n",
    "model_2 = {\n",
    "    \"model_id\": \"meta-textgeneration-llama-2-7b\",\n",
    "    \"model_version\": \"3.0.0\",\n",
    "    \"model_name\": \"llama-2-7b-instruction-tuned\",\n",
    "    \"endpoint_name\": \"genai-for-builders-fmops-meta-instr-llama-2-7b-finetuned\",\n",
    "    \"finetune_instance_type\": \"ml.g5.12xlarge\",\n",
    "    \"finetune_num_instances\": 1,\n",
    "    \"instance_type\": \"ml.g5.2xlarge\",\n",
    "    \"num_instances\": 1,\n",
    "    \"epoch\": 1,\n",
    "    \"max_input_length\": 512,\n",
    "    \"instruction_tuned\": \"True\",\n",
    "    \"chat_dataset\": \"False\",\n",
    "    \"training_data_path\": f\"s3://{default_bucket}/llm-evaluation-at-scale-example/train_dataset\",\n",
    "    \"is_finetuned_model\": True\n",
    "}\n",
    "\n",
    "# We save the information of the model in the model_list array for later use\n",
    "model_list.append(model_2)"
   ]
  },
  {
   "cell_type": "markdown",
   "id": "54b715608d4b4ad1",
   "metadata": {},
   "source": [
    "### Configure finetune, deploy and evaluation pipeline step for the second model"
   ]
  },
  {
   "cell_type": "code",
   "execution_count": 8,
   "id": "c7fa484035f7f5a4",
   "metadata": {
    "collapsed": false,
    "jupyter": {
     "outputs_hidden": false
    },
    "tags": []
   },
   "outputs": [],
   "source": [
    "finetune_ret = step(finetune_llama7b, name=\"finetune_llama7b_instruction\")(model_2[\"model_id\"],\n",
    "                                                                           model_2[\"model_version\"],\n",
    "                                                                           model_2[\"endpoint_name\"],\n",
    "                                                                           model_2[\"finetune_instance_type\"],\n",
    "                                                                           model_2[\"finetune_num_instances\"],\n",
    "                                                                           model_2[\"epoch\"],\n",
    "                                                                           model_2[\"max_input_length\"],\n",
    "                                                                           model_2[\"instruction_tuned\"],\n",
    "                                                                           model_2[\"chat_dataset\"],\n",
    "                                                                           model_2[\"training_data_path\"])\n",
    "\n",
    "# Deploy step is using the output from the finetune step (the training job name)\n",
    "deploy_finetuned_llama7b_ret = step(deploy_finetuned_llama7b, \n",
    "                                    name=\"deploy_finetuned_llama7b_instruction\")(finetune_ret,\n",
    "                                                                                 model_2[\"model_id\"],\n",
    "                                                                                 model_2[\"endpoint_name\"],\n",
    "                                                                                 model_2[\"instance_type\"],\n",
    "                                                                                 model_2[\"num_instances\"])\n",
    "\n",
    "# Evaluation step is using the output from preprocess (the S3 location of the evaluation dataset file) \n",
    "# and the output of the deploy step (the endpoint name)\n",
    "evaluate_finetuned_llama7b_instruction_ret = step(evaluation,\n",
    "                    name=\"evaluate_finetuned_llama7b_instr\",\n",
    "                    keep_alive_period_in_seconds=1200,\n",
    "                    )(model_2[\"model_id\"],\n",
    "                      model_2[\"model_version\"],\n",
    "                      model_2[\"model_name\"],\n",
    "                      preprocess_step_ret,\n",
    "                      deploy_finetuned_llama7b_ret)\n",
    "\n",
    "# We save the information of the model in the model_list array for later use\n",
    "evaluation_results_ret_list.append(evaluate_finetuned_llama7b_instruction_ret)"
   ]
  },
  {
   "cell_type": "markdown",
   "id": "24ff96f6c53e166d",
   "metadata": {},
   "source": [
    "### Configure selection and model register step"
   ]
  },
  {
   "cell_type": "code",
   "execution_count": 9,
   "id": "3b05c18a5295ce0a",
   "metadata": {
    "collapsed": false,
    "jupyter": {
     "outputs_hidden": false
    },
    "tags": []
   },
   "outputs": [],
   "source": [
    "# Evaluation step is using the output from the evaluation steps of all the models\n",
    "selection_ret = step(selection, name=\"best_model_selection\")(*evaluation_results_ret_list)\n",
    "\n",
    "model_package_group_name = \"GenAIForBuilderFMOpsEvaluationPipeline\"\n",
    "model_package_group_description = \"GenAI For Builder FMOps Evaluation Pipeline Model Registry\"\n",
    "\n",
    "# We will register the best model in the model register. The best model name is contained in the return object of the selection step\n",
    "register_ret = step(register, name=\"best_model_register\")(model_list,\n",
    "                                                          output_data_path,\n",
    "                                                          model_package_group_name,\n",
    "                                                          model_package_group_description,\n",
    "                                                          selection_ret,\n",
    "                                                          *evaluation_results_ret_list)"
   ]
  },
  {
   "cell_type": "markdown",
   "id": "478f53e262aafb7c",
   "metadata": {},
   "source": [
    "### Cleanup Step"
   ]
  },
  {
   "cell_type": "code",
   "execution_count": 10,
   "id": "71735d24ab99ad89",
   "metadata": {
    "collapsed": false,
    "jupyter": {
     "outputs_hidden": false
    },
    "tags": []
   },
   "outputs": [],
   "source": [
    "# We need to create a cleanup step for each model. We collect the return objects to add them later in the pipeline creation function\n",
    "cleanup_ret_list = []\n",
    "\n",
    "for model in model_list:\n",
    "    # We append register_ret to connect the register and cleanup steps together\n",
    "    cleanup_ret = step(cleanup, name=\"cleanup_\"+model[\"model_name\"])(model[\"endpoint_name\"], register_ret)\n",
    "    cleanup_ret_list.append(cleanup_ret)"
   ]
  },
  {
   "cell_type": "markdown",
   "id": "9ce0babb-70c2-4b2b-bde8-f0986109fde6",
   "metadata": {},
   "source": [
    "### Create requirements.txt\n",
    "Note: Keeping sagemaker version aligned between the notebook and the container which will run the pipeline steps will help deal with any serialization/deserialization incompatibility issues"
   ]
  },
  {
   "cell_type": "code",
   "execution_count": 11,
   "id": "c396ac3b-58fd-47cb-9076-ca9bbd2cdf32",
   "metadata": {
    "tags": []
   },
   "outputs": [],
   "source": [
    "%%capture sagemaker_version\n",
    "!pip show sagemaker | grep Version: | cut -d' ' -f2"
   ]
  },
  {
   "cell_type": "code",
   "execution_count": 12,
   "id": "8c682ddc-f4fc-4ef4-8081-d753032f2888",
   "metadata": {
    "tags": []
   },
   "outputs": [],
   "source": [
    "if os.path.exists(\"requirements.txt\"):\n",
    "    os.remove(\"requirements.txt\")\n",
    "\n",
    "with open('requirements.txt', 'w') as req_file:\n",
    "    req_file.write(\"fmeval==0.3.0\\n\")\n",
    "    req_file.write(\"sagemaker==\"+str(sagemaker_version)+\"\\n\")\n",
    "    "
   ]
  },
  {
   "cell_type": "markdown",
   "id": "a5b5abfcc508e191",
   "metadata": {},
   "source": [
    "### Create and launch the pipeline"
   ]
  },
  {
   "cell_type": "code",
   "execution_count": 13,
   "id": "e8f091649f823362",
   "metadata": {
    "collapsed": false,
    "jupyter": {
     "outputs_hidden": false
    },
    "tags": []
   },
   "outputs": [
    {
     "name": "stdout",
     "output_type": "stream",
     "text": [
      "sagemaker.config INFO - Applied value from config key = SageMaker.PythonSDK.Modules.RemoteFunction.Dependencies\n",
      "sagemaker.config INFO - Applied value from config key = SageMaker.PythonSDK.Modules.RemoteFunction.IncludeLocalWorkDir\n",
      "sagemaker.config INFO - Applied value from config key = SageMaker.PythonSDK.Modules.RemoteFunction.CustomFileFilter.IgnoreNamePatterns\n",
      "sagemaker.config INFO - Applied value from config key = SageMaker.PythonSDK.Modules.RemoteFunction.InstanceType\n"
     ]
    },
    {
     "name": "stderr",
     "output_type": "stream",
     "text": [
      "2024-01-19 09:59:37,402 sagemaker.remote_function INFO     Uploading serialized function code to s3://sagemaker-us-east-1-221095015993/genai-for-builders-fmops-pipeline/cleanup_llama-2-7b/2024-01-19-09-59-35-380/function\n",
      "2024-01-19 09:59:37,489 sagemaker.remote_function INFO     Uploading serialized function arguments to s3://sagemaker-us-east-1-221095015993/genai-for-builders-fmops-pipeline/cleanup_llama-2-7b/2024-01-19-09-59-35-380/arguments\n",
      "2024-01-19 09:59:37,759 sagemaker.remote_function INFO     Copied dependencies file at './requirements.txt' to '/tmp/tmpslxhkcgw/requirements.txt'\n",
      "2024-01-19 09:59:37,786 sagemaker.remote_function INFO     Successfully uploaded dependencies and pre execution scripts to 's3://sagemaker-us-east-1-221095015993/genai-for-builders-fmops-pipeline/cleanup_llama-2-7b/2024-01-19-09-59-35-380/pre_exec_script_and_dependencies'\n",
      "2024-01-19 09:59:37,875 sagemaker.remote_function INFO     Copied user workspace to '/tmp/tmpfbx1ws0_/temp_workspace/sagemaker_remote_function_workspace'\n",
      "2024-01-19 09:59:37,880 sagemaker.remote_function INFO     Successfully created workdir archive at '/tmp/tmpfbx1ws0_/workspace.zip'\n",
      "2024-01-19 09:59:37,949 sagemaker.remote_function INFO     Successfully uploaded workdir to 's3://sagemaker-us-east-1-221095015993/genai-for-builders-fmops-pipeline/sm_rf_user_ws/2024-01-19-09-59-35-380/workspace.zip'\n",
      "WARNING:sagemaker.workflow.utilities:Popping out 'TrainingJobName' from the pipeline definition by default since it will be overridden at pipeline execution time. Please utilize the PipelineDefinitionConfig to persist this field in the pipeline definition if desired.\n"
     ]
    },
    {
     "name": "stdout",
     "output_type": "stream",
     "text": [
      "sagemaker.config INFO - Applied value from config key = SageMaker.PythonSDK.Modules.RemoteFunction.Dependencies\n",
      "sagemaker.config INFO - Applied value from config key = SageMaker.PythonSDK.Modules.RemoteFunction.IncludeLocalWorkDir\n",
      "sagemaker.config INFO - Applied value from config key = SageMaker.PythonSDK.Modules.RemoteFunction.CustomFileFilter.IgnoreNamePatterns\n",
      "sagemaker.config INFO - Applied value from config key = SageMaker.PythonSDK.Modules.RemoteFunction.InstanceType\n"
     ]
    },
    {
     "name": "stderr",
     "output_type": "stream",
     "text": [
      "2024-01-19 09:59:40,153 sagemaker.remote_function INFO     Uploading serialized function code to s3://sagemaker-us-east-1-221095015993/genai-for-builders-fmops-pipeline/cleanup_llama-2-7b-instruction-tuned/2024-01-19-09-59-35-380/function\n",
      "2024-01-19 09:59:40,233 sagemaker.remote_function INFO     Uploading serialized function arguments to s3://sagemaker-us-east-1-221095015993/genai-for-builders-fmops-pipeline/cleanup_llama-2-7b-instruction-tuned/2024-01-19-09-59-35-380/arguments\n",
      "2024-01-19 09:59:40,316 sagemaker.remote_function INFO     Copied dependencies file at './requirements.txt' to '/tmp/tmpdexjfbqf/requirements.txt'\n",
      "2024-01-19 09:59:40,341 sagemaker.remote_function INFO     Successfully uploaded dependencies and pre execution scripts to 's3://sagemaker-us-east-1-221095015993/genai-for-builders-fmops-pipeline/cleanup_llama-2-7b-instruction-tuned/2024-01-19-09-59-35-380/pre_exec_script_and_dependencies'\n",
      "WARNING:sagemaker.workflow.utilities:Popping out 'TrainingJobName' from the pipeline definition by default since it will be overridden at pipeline execution time. Please utilize the PipelineDefinitionConfig to persist this field in the pipeline definition if desired.\n"
     ]
    },
    {
     "name": "stdout",
     "output_type": "stream",
     "text": [
      "sagemaker.config INFO - Applied value from config key = SageMaker.PythonSDK.Modules.RemoteFunction.Dependencies\n",
      "sagemaker.config INFO - Applied value from config key = SageMaker.PythonSDK.Modules.RemoteFunction.IncludeLocalWorkDir\n",
      "sagemaker.config INFO - Applied value from config key = SageMaker.PythonSDK.Modules.RemoteFunction.CustomFileFilter.IgnoreNamePatterns\n",
      "sagemaker.config INFO - Applied value from config key = SageMaker.PythonSDK.Modules.RemoteFunction.InstanceType\n"
     ]
    },
    {
     "name": "stderr",
     "output_type": "stream",
     "text": [
      "2024-01-19 09:59:42,302 sagemaker.remote_function INFO     Uploading serialized function code to s3://sagemaker-us-east-1-221095015993/genai-for-builders-fmops-pipeline/best_model_register/2024-01-19-09-59-35-380/function\n",
      "2024-01-19 09:59:42,362 sagemaker.remote_function INFO     Uploading serialized function arguments to s3://sagemaker-us-east-1-221095015993/genai-for-builders-fmops-pipeline/best_model_register/2024-01-19-09-59-35-380/arguments\n",
      "2024-01-19 09:59:42,443 sagemaker.remote_function INFO     Copied dependencies file at './requirements.txt' to '/tmp/tmpwhd7qea3/requirements.txt'\n",
      "2024-01-19 09:59:42,471 sagemaker.remote_function INFO     Successfully uploaded dependencies and pre execution scripts to 's3://sagemaker-us-east-1-221095015993/genai-for-builders-fmops-pipeline/best_model_register/2024-01-19-09-59-35-380/pre_exec_script_and_dependencies'\n",
      "WARNING:sagemaker.workflow.utilities:Popping out 'TrainingJobName' from the pipeline definition by default since it will be overridden at pipeline execution time. Please utilize the PipelineDefinitionConfig to persist this field in the pipeline definition if desired.\n"
     ]
    },
    {
     "name": "stdout",
     "output_type": "stream",
     "text": [
      "sagemaker.config INFO - Applied value from config key = SageMaker.PythonSDK.Modules.RemoteFunction.Dependencies\n",
      "sagemaker.config INFO - Applied value from config key = SageMaker.PythonSDK.Modules.RemoteFunction.IncludeLocalWorkDir\n",
      "sagemaker.config INFO - Applied value from config key = SageMaker.PythonSDK.Modules.RemoteFunction.CustomFileFilter.IgnoreNamePatterns\n",
      "sagemaker.config INFO - Applied value from config key = SageMaker.PythonSDK.Modules.RemoteFunction.InstanceType\n"
     ]
    },
    {
     "name": "stderr",
     "output_type": "stream",
     "text": [
      "2024-01-19 09:59:44,547 sagemaker.remote_function INFO     Uploading serialized function code to s3://sagemaker-us-east-1-221095015993/genai-for-builders-fmops-pipeline/best_model_selection/2024-01-19-09-59-35-380/function\n",
      "2024-01-19 09:59:44,622 sagemaker.remote_function INFO     Uploading serialized function arguments to s3://sagemaker-us-east-1-221095015993/genai-for-builders-fmops-pipeline/best_model_selection/2024-01-19-09-59-35-380/arguments\n",
      "2024-01-19 09:59:44,695 sagemaker.remote_function INFO     Copied dependencies file at './requirements.txt' to '/tmp/tmp5_32k4i0/requirements.txt'\n",
      "2024-01-19 09:59:44,722 sagemaker.remote_function INFO     Successfully uploaded dependencies and pre execution scripts to 's3://sagemaker-us-east-1-221095015993/genai-for-builders-fmops-pipeline/best_model_selection/2024-01-19-09-59-35-380/pre_exec_script_and_dependencies'\n",
      "WARNING:sagemaker.workflow.utilities:Popping out 'TrainingJobName' from the pipeline definition by default since it will be overridden at pipeline execution time. Please utilize the PipelineDefinitionConfig to persist this field in the pipeline definition if desired.\n"
     ]
    },
    {
     "name": "stdout",
     "output_type": "stream",
     "text": [
      "sagemaker.config INFO - Applied value from config key = SageMaker.PythonSDK.Modules.RemoteFunction.Dependencies\n",
      "sagemaker.config INFO - Applied value from config key = SageMaker.PythonSDK.Modules.RemoteFunction.IncludeLocalWorkDir\n",
      "sagemaker.config INFO - Applied value from config key = SageMaker.PythonSDK.Modules.RemoteFunction.CustomFileFilter.IgnoreNamePatterns\n",
      "sagemaker.config INFO - Applied value from config key = SageMaker.PythonSDK.Modules.RemoteFunction.InstanceType\n"
     ]
    },
    {
     "name": "stderr",
     "output_type": "stream",
     "text": [
      "2024-01-19 09:59:46,483 sagemaker.remote_function INFO     Uploading serialized function code to s3://sagemaker-us-east-1-221095015993/genai-for-builders-fmops-pipeline/evaluate_llama7b/2024-01-19-09-59-35-380/function\n",
      "2024-01-19 09:59:46,552 sagemaker.remote_function INFO     Uploading serialized function arguments to s3://sagemaker-us-east-1-221095015993/genai-for-builders-fmops-pipeline/evaluate_llama7b/2024-01-19-09-59-35-380/arguments\n",
      "2024-01-19 09:59:46,628 sagemaker.remote_function INFO     Copied dependencies file at './requirements.txt' to '/tmp/tmp3dz_2m2c/requirements.txt'\n",
      "2024-01-19 09:59:46,656 sagemaker.remote_function INFO     Successfully uploaded dependencies and pre execution scripts to 's3://sagemaker-us-east-1-221095015993/genai-for-builders-fmops-pipeline/evaluate_llama7b/2024-01-19-09-59-35-380/pre_exec_script_and_dependencies'\n",
      "WARNING:sagemaker.workflow.utilities:Popping out 'TrainingJobName' from the pipeline definition by default since it will be overridden at pipeline execution time. Please utilize the PipelineDefinitionConfig to persist this field in the pipeline definition if desired.\n"
     ]
    },
    {
     "name": "stdout",
     "output_type": "stream",
     "text": [
      "sagemaker.config INFO - Applied value from config key = SageMaker.PythonSDK.Modules.RemoteFunction.Dependencies\n",
      "sagemaker.config INFO - Applied value from config key = SageMaker.PythonSDK.Modules.RemoteFunction.IncludeLocalWorkDir\n",
      "sagemaker.config INFO - Applied value from config key = SageMaker.PythonSDK.Modules.RemoteFunction.CustomFileFilter.IgnoreNamePatterns\n",
      "sagemaker.config INFO - Applied value from config key = SageMaker.PythonSDK.Modules.RemoteFunction.InstanceType\n"
     ]
    },
    {
     "name": "stderr",
     "output_type": "stream",
     "text": [
      "2024-01-19 09:59:48,437 sagemaker.remote_function INFO     Uploading serialized function code to s3://sagemaker-us-east-1-221095015993/genai-for-builders-fmops-pipeline/evaluate_finetuned_llama7b_instr/2024-01-19-09-59-35-380/function\n",
      "2024-01-19 09:59:48,492 sagemaker.remote_function INFO     Uploading serialized function arguments to s3://sagemaker-us-east-1-221095015993/genai-for-builders-fmops-pipeline/evaluate_finetuned_llama7b_instr/2024-01-19-09-59-35-380/arguments\n",
      "2024-01-19 09:59:48,569 sagemaker.remote_function INFO     Copied dependencies file at './requirements.txt' to '/tmp/tmp8gpignuh/requirements.txt'\n",
      "2024-01-19 09:59:48,592 sagemaker.remote_function INFO     Successfully uploaded dependencies and pre execution scripts to 's3://sagemaker-us-east-1-221095015993/genai-for-builders-fmops-pipeline/evaluate_finetuned_llama7b_instr/2024-01-19-09-59-35-380/pre_exec_script_and_dependencies'\n",
      "WARNING:sagemaker.workflow.utilities:Popping out 'TrainingJobName' from the pipeline definition by default since it will be overridden at pipeline execution time. Please utilize the PipelineDefinitionConfig to persist this field in the pipeline definition if desired.\n"
     ]
    },
    {
     "name": "stdout",
     "output_type": "stream",
     "text": [
      "sagemaker.config INFO - Applied value from config key = SageMaker.PythonSDK.Modules.RemoteFunction.Dependencies\n",
      "sagemaker.config INFO - Applied value from config key = SageMaker.PythonSDK.Modules.RemoteFunction.IncludeLocalWorkDir\n",
      "sagemaker.config INFO - Applied value from config key = SageMaker.PythonSDK.Modules.RemoteFunction.CustomFileFilter.IgnoreNamePatterns\n",
      "sagemaker.config INFO - Applied value from config key = SageMaker.PythonSDK.Modules.RemoteFunction.InstanceType\n"
     ]
    },
    {
     "name": "stderr",
     "output_type": "stream",
     "text": [
      "2024-01-19 09:59:50,354 sagemaker.remote_function INFO     Uploading serialized function code to s3://sagemaker-us-east-1-221095015993/genai-for-builders-fmops-pipeline/preprocess/2024-01-19-09-59-35-380/function\n",
      "2024-01-19 09:59:50,410 sagemaker.remote_function INFO     Uploading serialized function arguments to s3://sagemaker-us-east-1-221095015993/genai-for-builders-fmops-pipeline/preprocess/2024-01-19-09-59-35-380/arguments\n",
      "2024-01-19 09:59:50,532 sagemaker.remote_function INFO     Copied dependencies file at './requirements.txt' to '/tmp/tmph6u55314/requirements.txt'\n",
      "2024-01-19 09:59:50,564 sagemaker.remote_function INFO     Successfully uploaded dependencies and pre execution scripts to 's3://sagemaker-us-east-1-221095015993/genai-for-builders-fmops-pipeline/preprocess/2024-01-19-09-59-35-380/pre_exec_script_and_dependencies'\n",
      "WARNING:sagemaker.workflow.utilities:Popping out 'TrainingJobName' from the pipeline definition by default since it will be overridden at pipeline execution time. Please utilize the PipelineDefinitionConfig to persist this field in the pipeline definition if desired.\n"
     ]
    },
    {
     "name": "stdout",
     "output_type": "stream",
     "text": [
      "sagemaker.config INFO - Applied value from config key = SageMaker.PythonSDK.Modules.RemoteFunction.Dependencies\n",
      "sagemaker.config INFO - Applied value from config key = SageMaker.PythonSDK.Modules.RemoteFunction.IncludeLocalWorkDir\n",
      "sagemaker.config INFO - Applied value from config key = SageMaker.PythonSDK.Modules.RemoteFunction.CustomFileFilter.IgnoreNamePatterns\n",
      "sagemaker.config INFO - Applied value from config key = SageMaker.PythonSDK.Modules.RemoteFunction.InstanceType\n"
     ]
    },
    {
     "name": "stderr",
     "output_type": "stream",
     "text": [
      "2024-01-19 09:59:52,428 sagemaker.remote_function INFO     Uploading serialized function code to s3://sagemaker-us-east-1-221095015993/genai-for-builders-fmops-pipeline/deploy_llama7b/2024-01-19-09-59-35-380/function\n",
      "2024-01-19 09:59:52,498 sagemaker.remote_function INFO     Uploading serialized function arguments to s3://sagemaker-us-east-1-221095015993/genai-for-builders-fmops-pipeline/deploy_llama7b/2024-01-19-09-59-35-380/arguments\n",
      "2024-01-19 09:59:52,580 sagemaker.remote_function INFO     Copied dependencies file at './requirements.txt' to '/tmp/tmpysxcjby4/requirements.txt'\n",
      "2024-01-19 09:59:52,607 sagemaker.remote_function INFO     Successfully uploaded dependencies and pre execution scripts to 's3://sagemaker-us-east-1-221095015993/genai-for-builders-fmops-pipeline/deploy_llama7b/2024-01-19-09-59-35-380/pre_exec_script_and_dependencies'\n",
      "WARNING:sagemaker.workflow.utilities:Popping out 'TrainingJobName' from the pipeline definition by default since it will be overridden at pipeline execution time. Please utilize the PipelineDefinitionConfig to persist this field in the pipeline definition if desired.\n"
     ]
    },
    {
     "name": "stdout",
     "output_type": "stream",
     "text": [
      "sagemaker.config INFO - Applied value from config key = SageMaker.PythonSDK.Modules.RemoteFunction.Dependencies\n",
      "sagemaker.config INFO - Applied value from config key = SageMaker.PythonSDK.Modules.RemoteFunction.IncludeLocalWorkDir\n",
      "sagemaker.config INFO - Applied value from config key = SageMaker.PythonSDK.Modules.RemoteFunction.CustomFileFilter.IgnoreNamePatterns\n",
      "sagemaker.config INFO - Applied value from config key = SageMaker.PythonSDK.Modules.RemoteFunction.InstanceType\n"
     ]
    },
    {
     "name": "stderr",
     "output_type": "stream",
     "text": [
      "2024-01-19 09:59:54,494 sagemaker.remote_function INFO     Uploading serialized function code to s3://sagemaker-us-east-1-221095015993/genai-for-builders-fmops-pipeline/deploy_finetuned_llama7b_instruction/2024-01-19-09-59-35-380/function\n",
      "2024-01-19 09:59:54,566 sagemaker.remote_function INFO     Uploading serialized function arguments to s3://sagemaker-us-east-1-221095015993/genai-for-builders-fmops-pipeline/deploy_finetuned_llama7b_instruction/2024-01-19-09-59-35-380/arguments\n",
      "2024-01-19 09:59:54,673 sagemaker.remote_function INFO     Copied dependencies file at './requirements.txt' to '/tmp/tmprxf2uv0z/requirements.txt'\n",
      "2024-01-19 09:59:54,703 sagemaker.remote_function INFO     Successfully uploaded dependencies and pre execution scripts to 's3://sagemaker-us-east-1-221095015993/genai-for-builders-fmops-pipeline/deploy_finetuned_llama7b_instruction/2024-01-19-09-59-35-380/pre_exec_script_and_dependencies'\n",
      "WARNING:sagemaker.workflow.utilities:Popping out 'TrainingJobName' from the pipeline definition by default since it will be overridden at pipeline execution time. Please utilize the PipelineDefinitionConfig to persist this field in the pipeline definition if desired.\n"
     ]
    },
    {
     "name": "stdout",
     "output_type": "stream",
     "text": [
      "sagemaker.config INFO - Applied value from config key = SageMaker.PythonSDK.Modules.RemoteFunction.Dependencies\n",
      "sagemaker.config INFO - Applied value from config key = SageMaker.PythonSDK.Modules.RemoteFunction.IncludeLocalWorkDir\n",
      "sagemaker.config INFO - Applied value from config key = SageMaker.PythonSDK.Modules.RemoteFunction.CustomFileFilter.IgnoreNamePatterns\n",
      "sagemaker.config INFO - Applied value from config key = SageMaker.PythonSDK.Modules.RemoteFunction.InstanceType\n"
     ]
    },
    {
     "name": "stderr",
     "output_type": "stream",
     "text": [
      "2024-01-19 09:59:56,551 sagemaker.remote_function INFO     Uploading serialized function code to s3://sagemaker-us-east-1-221095015993/genai-for-builders-fmops-pipeline/finetune_llama7b_instruction/2024-01-19-09-59-35-380/function\n",
      "2024-01-19 09:59:56,649 sagemaker.remote_function INFO     Uploading serialized function arguments to s3://sagemaker-us-east-1-221095015993/genai-for-builders-fmops-pipeline/finetune_llama7b_instruction/2024-01-19-09-59-35-380/arguments\n",
      "2024-01-19 09:59:56,756 sagemaker.remote_function INFO     Copied dependencies file at './requirements.txt' to '/tmp/tmph1e8g8cu/requirements.txt'\n",
      "2024-01-19 09:59:56,785 sagemaker.remote_function INFO     Successfully uploaded dependencies and pre execution scripts to 's3://sagemaker-us-east-1-221095015993/genai-for-builders-fmops-pipeline/finetune_llama7b_instruction/2024-01-19-09-59-35-380/pre_exec_script_and_dependencies'\n",
      "WARNING:sagemaker.workflow.utilities:Popping out 'TrainingJobName' from the pipeline definition by default since it will be overridden at pipeline execution time. Please utilize the PipelineDefinitionConfig to persist this field in the pipeline definition if desired.\n",
      "2024-01-19 09:59:57,230 sagemaker.remote_function INFO     Uploading serialized function code to s3://sagemaker-us-east-1-221095015993/genai-for-builders-fmops-pipeline/cleanup_llama-2-7b/2024-01-19-09-59-57-230/function\n",
      "2024-01-19 09:59:57,319 sagemaker.remote_function INFO     Uploading serialized function arguments to s3://sagemaker-us-east-1-221095015993/genai-for-builders-fmops-pipeline/cleanup_llama-2-7b/2024-01-19-09-59-57-230/arguments\n",
      "2024-01-19 09:59:57,555 sagemaker.remote_function INFO     Copied dependencies file at './requirements.txt' to '/tmp/tmpzs7q1d1u/requirements.txt'\n",
      "2024-01-19 09:59:57,589 sagemaker.remote_function INFO     Successfully uploaded dependencies and pre execution scripts to 's3://sagemaker-us-east-1-221095015993/genai-for-builders-fmops-pipeline/cleanup_llama-2-7b/2024-01-19-09-59-57-230/pre_exec_script_and_dependencies'\n",
      "2024-01-19 09:59:57,648 sagemaker.remote_function INFO     Copied user workspace to '/tmp/tmpv8cbwyay/temp_workspace/sagemaker_remote_function_workspace'\n",
      "2024-01-19 09:59:57,654 sagemaker.remote_function INFO     Successfully created workdir archive at '/tmp/tmpv8cbwyay/workspace.zip'\n",
      "2024-01-19 09:59:57,705 sagemaker.remote_function INFO     Successfully uploaded workdir to 's3://sagemaker-us-east-1-221095015993/genai-for-builders-fmops-pipeline/sm_rf_user_ws/2024-01-19-09-59-57-230/workspace.zip'\n",
      "WARNING:sagemaker.workflow.utilities:Popping out 'TrainingJobName' from the pipeline definition by default since it will be overridden at pipeline execution time. Please utilize the PipelineDefinitionConfig to persist this field in the pipeline definition if desired.\n",
      "2024-01-19 09:59:57,710 sagemaker.remote_function INFO     Uploading serialized function code to s3://sagemaker-us-east-1-221095015993/genai-for-builders-fmops-pipeline/cleanup_llama-2-7b-instruction-tuned/2024-01-19-09-59-57-230/function\n",
      "2024-01-19 09:59:57,792 sagemaker.remote_function INFO     Uploading serialized function arguments to s3://sagemaker-us-east-1-221095015993/genai-for-builders-fmops-pipeline/cleanup_llama-2-7b-instruction-tuned/2024-01-19-09-59-57-230/arguments\n",
      "2024-01-19 09:59:57,908 sagemaker.remote_function INFO     Copied dependencies file at './requirements.txt' to '/tmp/tmpk9hjwvst/requirements.txt'\n",
      "2024-01-19 09:59:57,937 sagemaker.remote_function INFO     Successfully uploaded dependencies and pre execution scripts to 's3://sagemaker-us-east-1-221095015993/genai-for-builders-fmops-pipeline/cleanup_llama-2-7b-instruction-tuned/2024-01-19-09-59-57-230/pre_exec_script_and_dependencies'\n",
      "WARNING:sagemaker.workflow.utilities:Popping out 'TrainingJobName' from the pipeline definition by default since it will be overridden at pipeline execution time. Please utilize the PipelineDefinitionConfig to persist this field in the pipeline definition if desired.\n",
      "2024-01-19 09:59:57,940 sagemaker.remote_function INFO     Uploading serialized function code to s3://sagemaker-us-east-1-221095015993/genai-for-builders-fmops-pipeline/best_model_register/2024-01-19-09-59-57-230/function\n",
      "2024-01-19 09:59:57,999 sagemaker.remote_function INFO     Uploading serialized function arguments to s3://sagemaker-us-east-1-221095015993/genai-for-builders-fmops-pipeline/best_model_register/2024-01-19-09-59-57-230/arguments\n",
      "2024-01-19 09:59:58,109 sagemaker.remote_function INFO     Copied dependencies file at './requirements.txt' to '/tmp/tmp06b1n9dx/requirements.txt'\n",
      "2024-01-19 09:59:58,142 sagemaker.remote_function INFO     Successfully uploaded dependencies and pre execution scripts to 's3://sagemaker-us-east-1-221095015993/genai-for-builders-fmops-pipeline/best_model_register/2024-01-19-09-59-57-230/pre_exec_script_and_dependencies'\n",
      "WARNING:sagemaker.workflow.utilities:Popping out 'TrainingJobName' from the pipeline definition by default since it will be overridden at pipeline execution time. Please utilize the PipelineDefinitionConfig to persist this field in the pipeline definition if desired.\n",
      "2024-01-19 09:59:58,146 sagemaker.remote_function INFO     Uploading serialized function code to s3://sagemaker-us-east-1-221095015993/genai-for-builders-fmops-pipeline/best_model_selection/2024-01-19-09-59-57-230/function\n",
      "2024-01-19 09:59:58,203 sagemaker.remote_function INFO     Uploading serialized function arguments to s3://sagemaker-us-east-1-221095015993/genai-for-builders-fmops-pipeline/best_model_selection/2024-01-19-09-59-57-230/arguments\n",
      "2024-01-19 09:59:58,313 sagemaker.remote_function INFO     Copied dependencies file at './requirements.txt' to '/tmp/tmpodh9bosd/requirements.txt'\n",
      "2024-01-19 09:59:58,338 sagemaker.remote_function INFO     Successfully uploaded dependencies and pre execution scripts to 's3://sagemaker-us-east-1-221095015993/genai-for-builders-fmops-pipeline/best_model_selection/2024-01-19-09-59-57-230/pre_exec_script_and_dependencies'\n",
      "WARNING:sagemaker.workflow.utilities:Popping out 'TrainingJobName' from the pipeline definition by default since it will be overridden at pipeline execution time. Please utilize the PipelineDefinitionConfig to persist this field in the pipeline definition if desired.\n",
      "2024-01-19 09:59:58,343 sagemaker.remote_function INFO     Uploading serialized function code to s3://sagemaker-us-east-1-221095015993/genai-for-builders-fmops-pipeline/evaluate_llama7b/2024-01-19-09-59-57-230/function\n",
      "2024-01-19 09:59:58,414 sagemaker.remote_function INFO     Uploading serialized function arguments to s3://sagemaker-us-east-1-221095015993/genai-for-builders-fmops-pipeline/evaluate_llama7b/2024-01-19-09-59-57-230/arguments\n",
      "2024-01-19 09:59:58,522 sagemaker.remote_function INFO     Copied dependencies file at './requirements.txt' to '/tmp/tmp701nwwl6/requirements.txt'\n",
      "2024-01-19 09:59:58,553 sagemaker.remote_function INFO     Successfully uploaded dependencies and pre execution scripts to 's3://sagemaker-us-east-1-221095015993/genai-for-builders-fmops-pipeline/evaluate_llama7b/2024-01-19-09-59-57-230/pre_exec_script_and_dependencies'\n",
      "WARNING:sagemaker.workflow.utilities:Popping out 'TrainingJobName' from the pipeline definition by default since it will be overridden at pipeline execution time. Please utilize the PipelineDefinitionConfig to persist this field in the pipeline definition if desired.\n",
      "2024-01-19 09:59:58,560 sagemaker.remote_function INFO     Uploading serialized function code to s3://sagemaker-us-east-1-221095015993/genai-for-builders-fmops-pipeline/evaluate_finetuned_llama7b_instr/2024-01-19-09-59-57-230/function\n",
      "2024-01-19 09:59:58,620 sagemaker.remote_function INFO     Uploading serialized function arguments to s3://sagemaker-us-east-1-221095015993/genai-for-builders-fmops-pipeline/evaluate_finetuned_llama7b_instr/2024-01-19-09-59-57-230/arguments\n",
      "2024-01-19 09:59:58,701 sagemaker.remote_function INFO     Copied dependencies file at './requirements.txt' to '/tmp/tmpqc8tdhmj/requirements.txt'\n",
      "2024-01-19 09:59:58,727 sagemaker.remote_function INFO     Successfully uploaded dependencies and pre execution scripts to 's3://sagemaker-us-east-1-221095015993/genai-for-builders-fmops-pipeline/evaluate_finetuned_llama7b_instr/2024-01-19-09-59-57-230/pre_exec_script_and_dependencies'\n",
      "WARNING:sagemaker.workflow.utilities:Popping out 'TrainingJobName' from the pipeline definition by default since it will be overridden at pipeline execution time. Please utilize the PipelineDefinitionConfig to persist this field in the pipeline definition if desired.\n",
      "2024-01-19 09:59:58,731 sagemaker.remote_function INFO     Uploading serialized function code to s3://sagemaker-us-east-1-221095015993/genai-for-builders-fmops-pipeline/preprocess/2024-01-19-09-59-57-230/function\n",
      "2024-01-19 09:59:58,791 sagemaker.remote_function INFO     Uploading serialized function arguments to s3://sagemaker-us-east-1-221095015993/genai-for-builders-fmops-pipeline/preprocess/2024-01-19-09-59-57-230/arguments\n",
      "2024-01-19 09:59:58,914 sagemaker.remote_function INFO     Copied dependencies file at './requirements.txt' to '/tmp/tmp4vft4z2y/requirements.txt'\n",
      "2024-01-19 09:59:58,940 sagemaker.remote_function INFO     Successfully uploaded dependencies and pre execution scripts to 's3://sagemaker-us-east-1-221095015993/genai-for-builders-fmops-pipeline/preprocess/2024-01-19-09-59-57-230/pre_exec_script_and_dependencies'\n",
      "WARNING:sagemaker.workflow.utilities:Popping out 'TrainingJobName' from the pipeline definition by default since it will be overridden at pipeline execution time. Please utilize the PipelineDefinitionConfig to persist this field in the pipeline definition if desired.\n",
      "2024-01-19 09:59:58,944 sagemaker.remote_function INFO     Uploading serialized function code to s3://sagemaker-us-east-1-221095015993/genai-for-builders-fmops-pipeline/deploy_llama7b/2024-01-19-09-59-57-230/function\n",
      "2024-01-19 09:59:59,027 sagemaker.remote_function INFO     Uploading serialized function arguments to s3://sagemaker-us-east-1-221095015993/genai-for-builders-fmops-pipeline/deploy_llama7b/2024-01-19-09-59-57-230/arguments\n",
      "2024-01-19 09:59:59,120 sagemaker.remote_function INFO     Copied dependencies file at './requirements.txt' to '/tmp/tmpwgel09oq/requirements.txt'\n",
      "2024-01-19 09:59:59,152 sagemaker.remote_function INFO     Successfully uploaded dependencies and pre execution scripts to 's3://sagemaker-us-east-1-221095015993/genai-for-builders-fmops-pipeline/deploy_llama7b/2024-01-19-09-59-57-230/pre_exec_script_and_dependencies'\n",
      "WARNING:sagemaker.workflow.utilities:Popping out 'TrainingJobName' from the pipeline definition by default since it will be overridden at pipeline execution time. Please utilize the PipelineDefinitionConfig to persist this field in the pipeline definition if desired.\n",
      "2024-01-19 09:59:59,160 sagemaker.remote_function INFO     Uploading serialized function code to s3://sagemaker-us-east-1-221095015993/genai-for-builders-fmops-pipeline/deploy_finetuned_llama7b_instruction/2024-01-19-09-59-57-230/function\n",
      "2024-01-19 09:59:59,263 sagemaker.remote_function INFO     Uploading serialized function arguments to s3://sagemaker-us-east-1-221095015993/genai-for-builders-fmops-pipeline/deploy_finetuned_llama7b_instruction/2024-01-19-09-59-57-230/arguments\n",
      "2024-01-19 09:59:59,363 sagemaker.remote_function INFO     Copied dependencies file at './requirements.txt' to '/tmp/tmp95o6ega2/requirements.txt'\n",
      "2024-01-19 09:59:59,390 sagemaker.remote_function INFO     Successfully uploaded dependencies and pre execution scripts to 's3://sagemaker-us-east-1-221095015993/genai-for-builders-fmops-pipeline/deploy_finetuned_llama7b_instruction/2024-01-19-09-59-57-230/pre_exec_script_and_dependencies'\n",
      "WARNING:sagemaker.workflow.utilities:Popping out 'TrainingJobName' from the pipeline definition by default since it will be overridden at pipeline execution time. Please utilize the PipelineDefinitionConfig to persist this field in the pipeline definition if desired.\n",
      "2024-01-19 09:59:59,393 sagemaker.remote_function INFO     Uploading serialized function code to s3://sagemaker-us-east-1-221095015993/genai-for-builders-fmops-pipeline/finetune_llama7b_instruction/2024-01-19-09-59-57-230/function\n",
      "2024-01-19 09:59:59,464 sagemaker.remote_function INFO     Uploading serialized function arguments to s3://sagemaker-us-east-1-221095015993/genai-for-builders-fmops-pipeline/finetune_llama7b_instruction/2024-01-19-09-59-57-230/arguments\n",
      "2024-01-19 09:59:59,563 sagemaker.remote_function INFO     Copied dependencies file at './requirements.txt' to '/tmp/tmp8tzzz4lz/requirements.txt'\n",
      "2024-01-19 09:59:59,590 sagemaker.remote_function INFO     Successfully uploaded dependencies and pre execution scripts to 's3://sagemaker-us-east-1-221095015993/genai-for-builders-fmops-pipeline/finetune_llama7b_instruction/2024-01-19-09-59-57-230/pre_exec_script_and_dependencies'\n",
      "WARNING:sagemaker.workflow.utilities:Popping out 'TrainingJobName' from the pipeline definition by default since it will be overridden at pipeline execution time. Please utilize the PipelineDefinitionConfig to persist this field in the pipeline definition if desired.\n"
     ]
    },
    {
     "data": {
      "text/plain": [
       "_PipelineExecution(arn='arn:aws:sagemaker:us-east-1:221095015993:pipeline/genai-for-builders-fmops-pipeline/execution/o6vyqonudi0i', sagemaker_session=<sagemaker.session.Session object at 0x7ff6523c8460>)"
      ]
     },
     "execution_count": 13,
     "metadata": {},
     "output_type": "execute_result"
    }
   ],
   "source": [
    "from sagemaker import get_execution_role\n",
    "role = get_execution_role()\n",
    "\n",
    "pipeline = Pipeline(name=pipeline_name, steps=cleanup_ret_list)\n",
    "pipeline.upsert(role)\n",
    "pipeline.start()"
   ]
  },
  {
   "cell_type": "code",
   "execution_count": null,
   "id": "0c0cfb52-6e56-4452-adab-21f572efa432",
   "metadata": {},
   "outputs": [],
   "source": []
  }
 ],
 "metadata": {
  "availableInstances": [
   {
    "_defaultOrder": 0,
    "_isFastLaunch": true,
    "category": "General purpose",
    "gpuNum": 0,
    "hideHardwareSpecs": false,
    "memoryGiB": 4,
    "name": "ml.t3.medium",
    "vcpuNum": 2
   },
   {
    "_defaultOrder": 1,
    "_isFastLaunch": false,
    "category": "General purpose",
    "gpuNum": 0,
    "hideHardwareSpecs": false,
    "memoryGiB": 8,
    "name": "ml.t3.large",
    "vcpuNum": 2
   },
   {
    "_defaultOrder": 2,
    "_isFastLaunch": false,
    "category": "General purpose",
    "gpuNum": 0,
    "hideHardwareSpecs": false,
    "memoryGiB": 16,
    "name": "ml.t3.xlarge",
    "vcpuNum": 4
   },
   {
    "_defaultOrder": 3,
    "_isFastLaunch": false,
    "category": "General purpose",
    "gpuNum": 0,
    "hideHardwareSpecs": false,
    "memoryGiB": 32,
    "name": "ml.t3.2xlarge",
    "vcpuNum": 8
   },
   {
    "_defaultOrder": 4,
    "_isFastLaunch": true,
    "category": "General purpose",
    "gpuNum": 0,
    "hideHardwareSpecs": false,
    "memoryGiB": 8,
    "name": "ml.m5.large",
    "vcpuNum": 2
   },
   {
    "_defaultOrder": 5,
    "_isFastLaunch": false,
    "category": "General purpose",
    "gpuNum": 0,
    "hideHardwareSpecs": false,
    "memoryGiB": 16,
    "name": "ml.m5.xlarge",
    "vcpuNum": 4
   },
   {
    "_defaultOrder": 6,
    "_isFastLaunch": false,
    "category": "General purpose",
    "gpuNum": 0,
    "hideHardwareSpecs": false,
    "memoryGiB": 32,
    "name": "ml.m5.2xlarge",
    "vcpuNum": 8
   },
   {
    "_defaultOrder": 7,
    "_isFastLaunch": false,
    "category": "General purpose",
    "gpuNum": 0,
    "hideHardwareSpecs": false,
    "memoryGiB": 64,
    "name": "ml.m5.4xlarge",
    "vcpuNum": 16
   },
   {
    "_defaultOrder": 8,
    "_isFastLaunch": false,
    "category": "General purpose",
    "gpuNum": 0,
    "hideHardwareSpecs": false,
    "memoryGiB": 128,
    "name": "ml.m5.8xlarge",
    "vcpuNum": 32
   },
   {
    "_defaultOrder": 9,
    "_isFastLaunch": false,
    "category": "General purpose",
    "gpuNum": 0,
    "hideHardwareSpecs": false,
    "memoryGiB": 192,
    "name": "ml.m5.12xlarge",
    "vcpuNum": 48
   },
   {
    "_defaultOrder": 10,
    "_isFastLaunch": false,
    "category": "General purpose",
    "gpuNum": 0,
    "hideHardwareSpecs": false,
    "memoryGiB": 256,
    "name": "ml.m5.16xlarge",
    "vcpuNum": 64
   },
   {
    "_defaultOrder": 11,
    "_isFastLaunch": false,
    "category": "General purpose",
    "gpuNum": 0,
    "hideHardwareSpecs": false,
    "memoryGiB": 384,
    "name": "ml.m5.24xlarge",
    "vcpuNum": 96
   },
   {
    "_defaultOrder": 12,
    "_isFastLaunch": false,
    "category": "General purpose",
    "gpuNum": 0,
    "hideHardwareSpecs": false,
    "memoryGiB": 8,
    "name": "ml.m5d.large",
    "vcpuNum": 2
   },
   {
    "_defaultOrder": 13,
    "_isFastLaunch": false,
    "category": "General purpose",
    "gpuNum": 0,
    "hideHardwareSpecs": false,
    "memoryGiB": 16,
    "name": "ml.m5d.xlarge",
    "vcpuNum": 4
   },
   {
    "_defaultOrder": 14,
    "_isFastLaunch": false,
    "category": "General purpose",
    "gpuNum": 0,
    "hideHardwareSpecs": false,
    "memoryGiB": 32,
    "name": "ml.m5d.2xlarge",
    "vcpuNum": 8
   },
   {
    "_defaultOrder": 15,
    "_isFastLaunch": false,
    "category": "General purpose",
    "gpuNum": 0,
    "hideHardwareSpecs": false,
    "memoryGiB": 64,
    "name": "ml.m5d.4xlarge",
    "vcpuNum": 16
   },
   {
    "_defaultOrder": 16,
    "_isFastLaunch": false,
    "category": "General purpose",
    "gpuNum": 0,
    "hideHardwareSpecs": false,
    "memoryGiB": 128,
    "name": "ml.m5d.8xlarge",
    "vcpuNum": 32
   },
   {
    "_defaultOrder": 17,
    "_isFastLaunch": false,
    "category": "General purpose",
    "gpuNum": 0,
    "hideHardwareSpecs": false,
    "memoryGiB": 192,
    "name": "ml.m5d.12xlarge",
    "vcpuNum": 48
   },
   {
    "_defaultOrder": 18,
    "_isFastLaunch": false,
    "category": "General purpose",
    "gpuNum": 0,
    "hideHardwareSpecs": false,
    "memoryGiB": 256,
    "name": "ml.m5d.16xlarge",
    "vcpuNum": 64
   },
   {
    "_defaultOrder": 19,
    "_isFastLaunch": false,
    "category": "General purpose",
    "gpuNum": 0,
    "hideHardwareSpecs": false,
    "memoryGiB": 384,
    "name": "ml.m5d.24xlarge",
    "vcpuNum": 96
   },
   {
    "_defaultOrder": 20,
    "_isFastLaunch": false,
    "category": "General purpose",
    "gpuNum": 0,
    "hideHardwareSpecs": true,
    "memoryGiB": 0,
    "name": "ml.geospatial.interactive",
    "supportedImageNames": [
     "sagemaker-geospatial-v1-0"
    ],
    "vcpuNum": 0
   },
   {
    "_defaultOrder": 21,
    "_isFastLaunch": true,
    "category": "Compute optimized",
    "gpuNum": 0,
    "hideHardwareSpecs": false,
    "memoryGiB": 4,
    "name": "ml.c5.large",
    "vcpuNum": 2
   },
   {
    "_defaultOrder": 22,
    "_isFastLaunch": false,
    "category": "Compute optimized",
    "gpuNum": 0,
    "hideHardwareSpecs": false,
    "memoryGiB": 8,
    "name": "ml.c5.xlarge",
    "vcpuNum": 4
   },
   {
    "_defaultOrder": 23,
    "_isFastLaunch": false,
    "category": "Compute optimized",
    "gpuNum": 0,
    "hideHardwareSpecs": false,
    "memoryGiB": 16,
    "name": "ml.c5.2xlarge",
    "vcpuNum": 8
   },
   {
    "_defaultOrder": 24,
    "_isFastLaunch": false,
    "category": "Compute optimized",
    "gpuNum": 0,
    "hideHardwareSpecs": false,
    "memoryGiB": 32,
    "name": "ml.c5.4xlarge",
    "vcpuNum": 16
   },
   {
    "_defaultOrder": 25,
    "_isFastLaunch": false,
    "category": "Compute optimized",
    "gpuNum": 0,
    "hideHardwareSpecs": false,
    "memoryGiB": 72,
    "name": "ml.c5.9xlarge",
    "vcpuNum": 36
   },
   {
    "_defaultOrder": 26,
    "_isFastLaunch": false,
    "category": "Compute optimized",
    "gpuNum": 0,
    "hideHardwareSpecs": false,
    "memoryGiB": 96,
    "name": "ml.c5.12xlarge",
    "vcpuNum": 48
   },
   {
    "_defaultOrder": 27,
    "_isFastLaunch": false,
    "category": "Compute optimized",
    "gpuNum": 0,
    "hideHardwareSpecs": false,
    "memoryGiB": 144,
    "name": "ml.c5.18xlarge",
    "vcpuNum": 72
   },
   {
    "_defaultOrder": 28,
    "_isFastLaunch": false,
    "category": "Compute optimized",
    "gpuNum": 0,
    "hideHardwareSpecs": false,
    "memoryGiB": 192,
    "name": "ml.c5.24xlarge",
    "vcpuNum": 96
   },
   {
    "_defaultOrder": 29,
    "_isFastLaunch": true,
    "category": "Accelerated computing",
    "gpuNum": 1,
    "hideHardwareSpecs": false,
    "memoryGiB": 16,
    "name": "ml.g4dn.xlarge",
    "vcpuNum": 4
   },
   {
    "_defaultOrder": 30,
    "_isFastLaunch": false,
    "category": "Accelerated computing",
    "gpuNum": 1,
    "hideHardwareSpecs": false,
    "memoryGiB": 32,
    "name": "ml.g4dn.2xlarge",
    "vcpuNum": 8
   },
   {
    "_defaultOrder": 31,
    "_isFastLaunch": false,
    "category": "Accelerated computing",
    "gpuNum": 1,
    "hideHardwareSpecs": false,
    "memoryGiB": 64,
    "name": "ml.g4dn.4xlarge",
    "vcpuNum": 16
   },
   {
    "_defaultOrder": 32,
    "_isFastLaunch": false,
    "category": "Accelerated computing",
    "gpuNum": 1,
    "hideHardwareSpecs": false,
    "memoryGiB": 128,
    "name": "ml.g4dn.8xlarge",
    "vcpuNum": 32
   },
   {
    "_defaultOrder": 33,
    "_isFastLaunch": false,
    "category": "Accelerated computing",
    "gpuNum": 4,
    "hideHardwareSpecs": false,
    "memoryGiB": 192,
    "name": "ml.g4dn.12xlarge",
    "vcpuNum": 48
   },
   {
    "_defaultOrder": 34,
    "_isFastLaunch": false,
    "category": "Accelerated computing",
    "gpuNum": 1,
    "hideHardwareSpecs": false,
    "memoryGiB": 256,
    "name": "ml.g4dn.16xlarge",
    "vcpuNum": 64
   },
   {
    "_defaultOrder": 35,
    "_isFastLaunch": false,
    "category": "Accelerated computing",
    "gpuNum": 1,
    "hideHardwareSpecs": false,
    "memoryGiB": 61,
    "name": "ml.p3.2xlarge",
    "vcpuNum": 8
   },
   {
    "_defaultOrder": 36,
    "_isFastLaunch": false,
    "category": "Accelerated computing",
    "gpuNum": 4,
    "hideHardwareSpecs": false,
    "memoryGiB": 244,
    "name": "ml.p3.8xlarge",
    "vcpuNum": 32
   },
   {
    "_defaultOrder": 37,
    "_isFastLaunch": false,
    "category": "Accelerated computing",
    "gpuNum": 8,
    "hideHardwareSpecs": false,
    "memoryGiB": 488,
    "name": "ml.p3.16xlarge",
    "vcpuNum": 64
   },
   {
    "_defaultOrder": 38,
    "_isFastLaunch": false,
    "category": "Accelerated computing",
    "gpuNum": 8,
    "hideHardwareSpecs": false,
    "memoryGiB": 768,
    "name": "ml.p3dn.24xlarge",
    "vcpuNum": 96
   },
   {
    "_defaultOrder": 39,
    "_isFastLaunch": false,
    "category": "Memory Optimized",
    "gpuNum": 0,
    "hideHardwareSpecs": false,
    "memoryGiB": 16,
    "name": "ml.r5.large",
    "vcpuNum": 2
   },
   {
    "_defaultOrder": 40,
    "_isFastLaunch": false,
    "category": "Memory Optimized",
    "gpuNum": 0,
    "hideHardwareSpecs": false,
    "memoryGiB": 32,
    "name": "ml.r5.xlarge",
    "vcpuNum": 4
   },
   {
    "_defaultOrder": 41,
    "_isFastLaunch": false,
    "category": "Memory Optimized",
    "gpuNum": 0,
    "hideHardwareSpecs": false,
    "memoryGiB": 64,
    "name": "ml.r5.2xlarge",
    "vcpuNum": 8
   },
   {
    "_defaultOrder": 42,
    "_isFastLaunch": false,
    "category": "Memory Optimized",
    "gpuNum": 0,
    "hideHardwareSpecs": false,
    "memoryGiB": 128,
    "name": "ml.r5.4xlarge",
    "vcpuNum": 16
   },
   {
    "_defaultOrder": 43,
    "_isFastLaunch": false,
    "category": "Memory Optimized",
    "gpuNum": 0,
    "hideHardwareSpecs": false,
    "memoryGiB": 256,
    "name": "ml.r5.8xlarge",
    "vcpuNum": 32
   },
   {
    "_defaultOrder": 44,
    "_isFastLaunch": false,
    "category": "Memory Optimized",
    "gpuNum": 0,
    "hideHardwareSpecs": false,
    "memoryGiB": 384,
    "name": "ml.r5.12xlarge",
    "vcpuNum": 48
   },
   {
    "_defaultOrder": 45,
    "_isFastLaunch": false,
    "category": "Memory Optimized",
    "gpuNum": 0,
    "hideHardwareSpecs": false,
    "memoryGiB": 512,
    "name": "ml.r5.16xlarge",
    "vcpuNum": 64
   },
   {
    "_defaultOrder": 46,
    "_isFastLaunch": false,
    "category": "Memory Optimized",
    "gpuNum": 0,
    "hideHardwareSpecs": false,
    "memoryGiB": 768,
    "name": "ml.r5.24xlarge",
    "vcpuNum": 96
   },
   {
    "_defaultOrder": 47,
    "_isFastLaunch": false,
    "category": "Accelerated computing",
    "gpuNum": 1,
    "hideHardwareSpecs": false,
    "memoryGiB": 16,
    "name": "ml.g5.xlarge",
    "vcpuNum": 4
   },
   {
    "_defaultOrder": 48,
    "_isFastLaunch": false,
    "category": "Accelerated computing",
    "gpuNum": 1,
    "hideHardwareSpecs": false,
    "memoryGiB": 32,
    "name": "ml.g5.2xlarge",
    "vcpuNum": 8
   },
   {
    "_defaultOrder": 49,
    "_isFastLaunch": false,
    "category": "Accelerated computing",
    "gpuNum": 1,
    "hideHardwareSpecs": false,
    "memoryGiB": 64,
    "name": "ml.g5.4xlarge",
    "vcpuNum": 16
   },
   {
    "_defaultOrder": 50,
    "_isFastLaunch": false,
    "category": "Accelerated computing",
    "gpuNum": 1,
    "hideHardwareSpecs": false,
    "memoryGiB": 128,
    "name": "ml.g5.8xlarge",
    "vcpuNum": 32
   },
   {
    "_defaultOrder": 51,
    "_isFastLaunch": false,
    "category": "Accelerated computing",
    "gpuNum": 1,
    "hideHardwareSpecs": false,
    "memoryGiB": 256,
    "name": "ml.g5.16xlarge",
    "vcpuNum": 64
   },
   {
    "_defaultOrder": 52,
    "_isFastLaunch": false,
    "category": "Accelerated computing",
    "gpuNum": 4,
    "hideHardwareSpecs": false,
    "memoryGiB": 192,
    "name": "ml.g5.12xlarge",
    "vcpuNum": 48
   },
   {
    "_defaultOrder": 53,
    "_isFastLaunch": false,
    "category": "Accelerated computing",
    "gpuNum": 4,
    "hideHardwareSpecs": false,
    "memoryGiB": 384,
    "name": "ml.g5.24xlarge",
    "vcpuNum": 96
   },
   {
    "_defaultOrder": 54,
    "_isFastLaunch": false,
    "category": "Accelerated computing",
    "gpuNum": 8,
    "hideHardwareSpecs": false,
    "memoryGiB": 768,
    "name": "ml.g5.48xlarge",
    "vcpuNum": 192
   },
   {
    "_defaultOrder": 55,
    "_isFastLaunch": false,
    "category": "Accelerated computing",
    "gpuNum": 8,
    "hideHardwareSpecs": false,
    "memoryGiB": 1152,
    "name": "ml.p4d.24xlarge",
    "vcpuNum": 96
   },
   {
    "_defaultOrder": 56,
    "_isFastLaunch": false,
    "category": "Accelerated computing",
    "gpuNum": 8,
    "hideHardwareSpecs": false,
    "memoryGiB": 1152,
    "name": "ml.p4de.24xlarge",
    "vcpuNum": 96
   },
   {
    "_defaultOrder": 57,
    "_isFastLaunch": false,
    "category": "Accelerated computing",
    "gpuNum": 0,
    "hideHardwareSpecs": false,
    "memoryGiB": 32,
    "name": "ml.trn1.2xlarge",
    "vcpuNum": 8
   },
   {
    "_defaultOrder": 58,
    "_isFastLaunch": false,
    "category": "Accelerated computing",
    "gpuNum": 0,
    "hideHardwareSpecs": false,
    "memoryGiB": 512,
    "name": "ml.trn1.32xlarge",
    "vcpuNum": 128
   },
   {
    "_defaultOrder": 59,
    "_isFastLaunch": false,
    "category": "Accelerated computing",
    "gpuNum": 0,
    "hideHardwareSpecs": false,
    "memoryGiB": 512,
    "name": "ml.trn1n.32xlarge",
    "vcpuNum": 128
   }
  ],
  "instance_type": "ml.t3.medium",
  "kernelspec": {
   "display_name": "Python 3 (Data Science 3.0)",
   "language": "python",
   "name": "python3__SAGEMAKER_INTERNAL__arn:aws:sagemaker:us-east-1:081325390199:image/sagemaker-data-science-310-v1"
  },
  "language_info": {
   "codemirror_mode": {
    "name": "ipython",
    "version": 3
   },
   "file_extension": ".py",
   "mimetype": "text/x-python",
   "name": "python",
   "nbconvert_exporter": "python",
   "pygments_lexer": "ipython3",
   "version": "3.10.6"
  }
 },
 "nbformat": 4,
 "nbformat_minor": 5
}
